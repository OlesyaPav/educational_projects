{
 "cells": [
  {
   "cell_type": "markdown",
   "metadata": {},
   "source": [
    "# Определение стоимости автомобилей"
   ]
  },
  {
   "cell_type": "markdown",
   "metadata": {},
   "source": [
    "Сервис по продаже автомобилей с пробегом «Не бит, не крашен» разрабатывает приложение для привлечения новых клиентов. В нём можно быстро узнать рыночную стоимость своего автомобиля. В вашем распоряжении исторические данные: технические характеристики, комплектации и цены автомобилей. Вам нужно построить модель для определения стоимости. \n",
    "\n",
    "Заказчику важны:\n",
    "\n",
    "- качество предсказания;\n",
    "- скорость предсказания;\n",
    "- время обучения."
   ]
  },
  {
   "cell_type": "markdown",
   "metadata": {},
   "source": [
    "## Описание проекта.\n",
    "\n",
    "### Цель - разработать модель для определения рыночной стоимости автомобиля, отвечающую критериям заказчика.\n",
    "\n",
    "### Задачи: \n",
    "1. Загрузить данные.\n",
    "2. Изучить, заполнить пропущенные значения, обработать аномалии в столбцах. оставить только информативные признаки.\n",
    "3. Подготовить выборки для обучения моделей.\n",
    "4. Обучить модели: LightGBM, LinearRegression, - с разными гиперпараметрами.\n",
    "5. Проанализировать время обучения, время предсказания и качество моделей.\n",
    "6. Выбрать лучшую модель, проверить её качество на тестовой выборке.\n",
    "\n",
    "### Описание данных:\n",
    "Признаки: \n",
    "- DateCrawled — дата скачивания анкеты из базы\n",
    "- VehicleType — тип автомобильного кузова\n",
    "- RegistrationYear — год регистрации автомобиля\n",
    "- Gearbox — тип коробки передач\n",
    "- Power — мощность (л. с.)\n",
    "- Model — модель автомобиля\n",
    "- Kilometer — пробег (км)\n",
    "- RegistrationMonth — месяц регистрации автомобиля\n",
    "- FuelType — тип топлива\n",
    "- Brand — марка автомобиля\n",
    "- Repaired — была машина в ремонте или нет\n",
    "- DateCreated — дата создания анкеты\n",
    "- NumberOfPictures — количество фотографий автомобиля\n",
    "- PostalCode — почтовый индекс владельца анкеты (пользователя)\n",
    "- LastSeen — дата последней активности пользователя.\n",
    "\n",
    "Целевой признак:\n",
    "- Price — цена (евро)"
   ]
  },
  {
   "cell_type": "markdown",
   "metadata": {},
   "source": [
    "## Загрузка данных"
   ]
  },
  {
   "cell_type": "code",
   "execution_count": 1,
   "metadata": {},
   "outputs": [
    {
     "name": "stdout",
     "output_type": "stream",
     "text": [
      "Found existing installation: scikit-learn 1.5.2\n",
      "Uninstalling scikit-learn-1.5.2:\n",
      "  Successfully uninstalled scikit-learn-1.5.2\n",
      "Collecting scikit-learn==1.5.2\n",
      "  Using cached scikit_learn-1.5.2-cp39-cp39-manylinux_2_17_x86_64.manylinux2014_x86_64.whl (13.4 MB)\n",
      "Requirement already satisfied: numpy>=1.19.5 in /opt/conda/lib/python3.9/site-packages (from scikit-learn==1.5.2) (1.21.1)\n",
      "Requirement already satisfied: joblib>=1.2.0 in /opt/conda/lib/python3.9/site-packages (from scikit-learn==1.5.2) (1.4.2)\n",
      "Requirement already satisfied: threadpoolctl>=3.1.0 in /opt/conda/lib/python3.9/site-packages (from scikit-learn==1.5.2) (3.1.0)\n",
      "Requirement already satisfied: scipy>=1.6.0 in /opt/conda/lib/python3.9/site-packages (from scikit-learn==1.5.2) (1.9.1)\n",
      "Installing collected packages: scikit-learn\n",
      "Successfully installed scikit-learn-1.5.2\n"
     ]
    }
   ],
   "source": [
    "#pip install --upgrade scikit-learn -q\n",
    "!pip uninstall -y scikit-learn\n",
    "!pip install scikit-learn==1.5.2"
   ]
  },
  {
   "cell_type": "code",
   "execution_count": 2,
   "metadata": {
    "scrolled": true
   },
   "outputs": [
    {
     "name": "stdout",
     "output_type": "stream",
     "text": [
      "Note: you may need to restart the kernel to use updated packages.\n"
     ]
    }
   ],
   "source": [
    "pip install category_encoders -q\n"
   ]
  },
  {
   "cell_type": "code",
   "execution_count": 3,
   "metadata": {},
   "outputs": [
    {
     "name": "stdout",
     "output_type": "stream",
     "text": [
      "Note: you may need to restart the kernel to use updated packages.\n"
     ]
    }
   ],
   "source": [
    "pip install lightgbm -q"
   ]
  },
  {
   "cell_type": "code",
   "execution_count": 4,
   "metadata": {},
   "outputs": [],
   "source": [
    "# Загрeзка библиотек\n",
    "import pandas as pd\n",
    "import re\n",
    "import matplotlib.pyplot as plt\n",
    "from sklearn.linear_model import LinearRegression, Ridge\n",
    "from sklearn.preprocessing import StandardScaler\n",
    "from sklearn.model_selection import GridSearchCV\n",
    "from sklearn.model_selection import train_test_split\n",
    "import time\n",
    "from sklearn.model_selection import KFold\n",
    "from category_encoders import TargetEncoder\n",
    "from sklearn.pipeline import Pipeline\n",
    "from sklearn.compose import ColumnTransformer\n",
    "\n",
    "from sklearn.preprocessing import OneHotEncoder, OrdinalEncoder, StandardScaler, MinMaxScaler\n",
    "from sklearn.impute import SimpleImputer\n",
    "import numpy as np\n",
    "import pandas as pd\n",
    "from sklearn.tree import DecisionTreeRegressor\n",
    "from sklearn.metrics import root_mean_squared_error\n",
    "import lightgbm as lgb\n",
    "from sklearn.model_selection import cross_val_score"
   ]
  },
  {
   "cell_type": "code",
   "execution_count": 5,
   "metadata": {},
   "outputs": [],
   "source": [
    "start_1 = time.time()"
   ]
  },
  {
   "cell_type": "code",
   "execution_count": 6,
   "metadata": {},
   "outputs": [],
   "source": [
    "RANDOM_STATE = 1234"
   ]
  },
  {
   "cell_type": "code",
   "execution_count": 7,
   "metadata": {},
   "outputs": [],
   "source": [
    "data = pd.read_csv('/datasets/autos.csv')"
   ]
  },
  {
   "cell_type": "code",
   "execution_count": 8,
   "metadata": {},
   "outputs": [
    {
     "data": {
      "text/html": [
       "<div>\n",
       "<style scoped>\n",
       "    .dataframe tbody tr th:only-of-type {\n",
       "        vertical-align: middle;\n",
       "    }\n",
       "\n",
       "    .dataframe tbody tr th {\n",
       "        vertical-align: top;\n",
       "    }\n",
       "\n",
       "    .dataframe thead th {\n",
       "        text-align: right;\n",
       "    }\n",
       "</style>\n",
       "<table border=\"1\" class=\"dataframe\">\n",
       "  <thead>\n",
       "    <tr style=\"text-align: right;\">\n",
       "      <th></th>\n",
       "      <th>DateCrawled</th>\n",
       "      <th>Price</th>\n",
       "      <th>VehicleType</th>\n",
       "      <th>RegistrationYear</th>\n",
       "      <th>Gearbox</th>\n",
       "      <th>Power</th>\n",
       "      <th>Model</th>\n",
       "      <th>Kilometer</th>\n",
       "      <th>RegistrationMonth</th>\n",
       "      <th>FuelType</th>\n",
       "      <th>Brand</th>\n",
       "      <th>Repaired</th>\n",
       "      <th>DateCreated</th>\n",
       "      <th>NumberOfPictures</th>\n",
       "      <th>PostalCode</th>\n",
       "      <th>LastSeen</th>\n",
       "    </tr>\n",
       "  </thead>\n",
       "  <tbody>\n",
       "    <tr>\n",
       "      <th>213879</th>\n",
       "      <td>2016-04-04 10:56:55</td>\n",
       "      <td>550</td>\n",
       "      <td>sedan</td>\n",
       "      <td>1996</td>\n",
       "      <td>manual</td>\n",
       "      <td>71</td>\n",
       "      <td>astra</td>\n",
       "      <td>150000</td>\n",
       "      <td>5</td>\n",
       "      <td>petrol</td>\n",
       "      <td>opel</td>\n",
       "      <td>no</td>\n",
       "      <td>2016-04-04 00:00:00</td>\n",
       "      <td>0</td>\n",
       "      <td>47139</td>\n",
       "      <td>2016-04-04 11:46:54</td>\n",
       "    </tr>\n",
       "    <tr>\n",
       "      <th>96616</th>\n",
       "      <td>2016-03-11 22:50:10</td>\n",
       "      <td>2200</td>\n",
       "      <td>small</td>\n",
       "      <td>2004</td>\n",
       "      <td>manual</td>\n",
       "      <td>65</td>\n",
       "      <td>yaris</td>\n",
       "      <td>90000</td>\n",
       "      <td>3</td>\n",
       "      <td>petrol</td>\n",
       "      <td>toyota</td>\n",
       "      <td>no</td>\n",
       "      <td>2016-03-11 00:00:00</td>\n",
       "      <td>0</td>\n",
       "      <td>21035</td>\n",
       "      <td>2016-03-30 09:16:26</td>\n",
       "    </tr>\n",
       "    <tr>\n",
       "      <th>228605</th>\n",
       "      <td>2016-04-03 15:38:51</td>\n",
       "      <td>2600</td>\n",
       "      <td>wagon</td>\n",
       "      <td>2003</td>\n",
       "      <td>manual</td>\n",
       "      <td>116</td>\n",
       "      <td>3er</td>\n",
       "      <td>150000</td>\n",
       "      <td>1</td>\n",
       "      <td>gasoline</td>\n",
       "      <td>bmw</td>\n",
       "      <td>yes</td>\n",
       "      <td>2016-04-03 00:00:00</td>\n",
       "      <td>0</td>\n",
       "      <td>51399</td>\n",
       "      <td>2016-04-03 15:38:51</td>\n",
       "    </tr>\n",
       "    <tr>\n",
       "      <th>186451</th>\n",
       "      <td>2016-03-12 22:36:18</td>\n",
       "      <td>9250</td>\n",
       "      <td>wagon</td>\n",
       "      <td>2006</td>\n",
       "      <td>manual</td>\n",
       "      <td>116</td>\n",
       "      <td>a3</td>\n",
       "      <td>90000</td>\n",
       "      <td>11</td>\n",
       "      <td>petrol</td>\n",
       "      <td>audi</td>\n",
       "      <td>no</td>\n",
       "      <td>2016-03-12 00:00:00</td>\n",
       "      <td>0</td>\n",
       "      <td>21684</td>\n",
       "      <td>2016-03-19 11:44:54</td>\n",
       "    </tr>\n",
       "    <tr>\n",
       "      <th>97670</th>\n",
       "      <td>2016-03-05 15:47:49</td>\n",
       "      <td>400</td>\n",
       "      <td>sedan</td>\n",
       "      <td>1998</td>\n",
       "      <td>manual</td>\n",
       "      <td>75</td>\n",
       "      <td>lancer</td>\n",
       "      <td>150000</td>\n",
       "      <td>6</td>\n",
       "      <td>petrol</td>\n",
       "      <td>mitsubishi</td>\n",
       "      <td>no</td>\n",
       "      <td>2016-03-05 00:00:00</td>\n",
       "      <td>0</td>\n",
       "      <td>15859</td>\n",
       "      <td>2016-03-31 01:15:20</td>\n",
       "    </tr>\n",
       "    <tr>\n",
       "      <th>222716</th>\n",
       "      <td>2016-03-11 21:51:30</td>\n",
       "      <td>2250</td>\n",
       "      <td>wagon</td>\n",
       "      <td>2002</td>\n",
       "      <td>auto</td>\n",
       "      <td>150</td>\n",
       "      <td>3er</td>\n",
       "      <td>150000</td>\n",
       "      <td>1</td>\n",
       "      <td>gasoline</td>\n",
       "      <td>bmw</td>\n",
       "      <td>no</td>\n",
       "      <td>2016-03-11 00:00:00</td>\n",
       "      <td>0</td>\n",
       "      <td>85283</td>\n",
       "      <td>2016-03-16 14:15:31</td>\n",
       "    </tr>\n",
       "    <tr>\n",
       "      <th>177012</th>\n",
       "      <td>2016-03-12 10:38:23</td>\n",
       "      <td>15990</td>\n",
       "      <td>wagon</td>\n",
       "      <td>2009</td>\n",
       "      <td>manual</td>\n",
       "      <td>163</td>\n",
       "      <td>v70</td>\n",
       "      <td>80000</td>\n",
       "      <td>4</td>\n",
       "      <td>gasoline</td>\n",
       "      <td>volvo</td>\n",
       "      <td>no</td>\n",
       "      <td>2016-03-12 00:00:00</td>\n",
       "      <td>0</td>\n",
       "      <td>25899</td>\n",
       "      <td>2016-03-20 14:49:51</td>\n",
       "    </tr>\n",
       "    <tr>\n",
       "      <th>140809</th>\n",
       "      <td>2016-03-22 00:52:27</td>\n",
       "      <td>1500</td>\n",
       "      <td>wagon</td>\n",
       "      <td>2004</td>\n",
       "      <td>manual</td>\n",
       "      <td>0</td>\n",
       "      <td>rio</td>\n",
       "      <td>100000</td>\n",
       "      <td>12</td>\n",
       "      <td>petrol</td>\n",
       "      <td>kia</td>\n",
       "      <td>NaN</td>\n",
       "      <td>2016-03-21 00:00:00</td>\n",
       "      <td>0</td>\n",
       "      <td>16225</td>\n",
       "      <td>2016-03-22 06:49:04</td>\n",
       "    </tr>\n",
       "  </tbody>\n",
       "</table>\n",
       "</div>"
      ],
      "text/plain": [
       "                DateCrawled  Price VehicleType  RegistrationYear Gearbox  \\\n",
       "213879  2016-04-04 10:56:55    550       sedan              1996  manual   \n",
       "96616   2016-03-11 22:50:10   2200       small              2004  manual   \n",
       "228605  2016-04-03 15:38:51   2600       wagon              2003  manual   \n",
       "186451  2016-03-12 22:36:18   9250       wagon              2006  manual   \n",
       "97670   2016-03-05 15:47:49    400       sedan              1998  manual   \n",
       "222716  2016-03-11 21:51:30   2250       wagon              2002    auto   \n",
       "177012  2016-03-12 10:38:23  15990       wagon              2009  manual   \n",
       "140809  2016-03-22 00:52:27   1500       wagon              2004  manual   \n",
       "\n",
       "        Power   Model  Kilometer  RegistrationMonth  FuelType       Brand  \\\n",
       "213879     71   astra     150000                  5    petrol        opel   \n",
       "96616      65   yaris      90000                  3    petrol      toyota   \n",
       "228605    116     3er     150000                  1  gasoline         bmw   \n",
       "186451    116      a3      90000                 11    petrol        audi   \n",
       "97670      75  lancer     150000                  6    petrol  mitsubishi   \n",
       "222716    150     3er     150000                  1  gasoline         bmw   \n",
       "177012    163     v70      80000                  4  gasoline       volvo   \n",
       "140809      0     rio     100000                 12    petrol         kia   \n",
       "\n",
       "       Repaired          DateCreated  NumberOfPictures  PostalCode  \\\n",
       "213879       no  2016-04-04 00:00:00                 0       47139   \n",
       "96616        no  2016-03-11 00:00:00                 0       21035   \n",
       "228605      yes  2016-04-03 00:00:00                 0       51399   \n",
       "186451       no  2016-03-12 00:00:00                 0       21684   \n",
       "97670        no  2016-03-05 00:00:00                 0       15859   \n",
       "222716       no  2016-03-11 00:00:00                 0       85283   \n",
       "177012       no  2016-03-12 00:00:00                 0       25899   \n",
       "140809      NaN  2016-03-21 00:00:00                 0       16225   \n",
       "\n",
       "                   LastSeen  \n",
       "213879  2016-04-04 11:46:54  \n",
       "96616   2016-03-30 09:16:26  \n",
       "228605  2016-04-03 15:38:51  \n",
       "186451  2016-03-19 11:44:54  \n",
       "97670   2016-03-31 01:15:20  \n",
       "222716  2016-03-16 14:15:31  \n",
       "177012  2016-03-20 14:49:51  \n",
       "140809  2016-03-22 06:49:04  "
      ]
     },
     "execution_count": 8,
     "metadata": {},
     "output_type": "execute_result"
    }
   ],
   "source": [
    "data.sample(8) #для более продуктивного знакомства с файлом, выведем 8 случайных строк."
   ]
  },
  {
   "cell_type": "markdown",
   "metadata": {},
   "source": [
    "Названия столбцов не соответствуют правилам. Многие важные столбцы содержат пропуски: VehicleType, Gearbox, Model, FuelType, Repaired."
   ]
  },
  {
   "cell_type": "code",
   "execution_count": 9,
   "metadata": {
    "scrolled": true
   },
   "outputs": [
    {
     "name": "stdout",
     "output_type": "stream",
     "text": [
      "<class 'pandas.core.frame.DataFrame'>\n",
      "RangeIndex: 354369 entries, 0 to 354368\n",
      "Data columns (total 16 columns):\n",
      " #   Column             Non-Null Count   Dtype \n",
      "---  ------             --------------   ----- \n",
      " 0   DateCrawled        354369 non-null  object\n",
      " 1   Price              354369 non-null  int64 \n",
      " 2   VehicleType        316879 non-null  object\n",
      " 3   RegistrationYear   354369 non-null  int64 \n",
      " 4   Gearbox            334536 non-null  object\n",
      " 5   Power              354369 non-null  int64 \n",
      " 6   Model              334664 non-null  object\n",
      " 7   Kilometer          354369 non-null  int64 \n",
      " 8   RegistrationMonth  354369 non-null  int64 \n",
      " 9   FuelType           321474 non-null  object\n",
      " 10  Brand              354369 non-null  object\n",
      " 11  Repaired           283215 non-null  object\n",
      " 12  DateCreated        354369 non-null  object\n",
      " 13  NumberOfPictures   354369 non-null  int64 \n",
      " 14  PostalCode         354369 non-null  int64 \n",
      " 15  LastSeen           354369 non-null  object\n",
      "dtypes: int64(7), object(9)\n",
      "memory usage: 43.3+ MB\n"
     ]
    }
   ],
   "source": [
    "data.info()"
   ]
  },
  {
   "cell_type": "markdown",
   "metadata": {},
   "source": [
    "**Вывод:** В таблице более 354 тыс. строк и 16 столбцов. Хорошо, что нет пропусков в целевой переменной. Столбцы VehicleType, Gearbox, Model, FuelType, Repaired содержат пропуски, некоторые из них примерно 10%. А это важные столбцы. Типы данных: целочисленные и текстовые."
   ]
  },
  {
   "cell_type": "markdown",
   "metadata": {},
   "source": [
    "### Предобработка"
   ]
  },
  {
   "cell_type": "markdown",
   "metadata": {},
   "source": [
    "Исправление названий столбцов из \"верблюжьего\" формата в \"змеинный\".\n"
   ]
  },
  {
   "cell_type": "code",
   "execution_count": 10,
   "metadata": {},
   "outputs": [
    {
     "name": "stdout",
     "output_type": "stream",
     "text": [
      "Index(['date_crawled', 'price', 'vehicle_type', 'registration_year', 'gearbox',\n",
      "       'power', 'model', 'kilometer', 'registration_month', 'fuel_type',\n",
      "       'brand', 'repaired', 'date_created', 'number_of_pictures',\n",
      "       'postal_code', 'last_seen'],\n",
      "      dtype='object')\n"
     ]
    }
   ],
   "source": [
    "def camel_to_snake(name):\n",
    "    name = re.sub('(.)([A-Z][a-z]+)', r'\\1_\\2', name)  \n",
    "    name = re.sub('([a-z0-9])([A-Z])', r'\\1_\\2', name)  \n",
    "    return name.lower()\n",
    "\n",
    "data.columns = [camel_to_snake(col) for col in data.columns]\n",
    "\n",
    "print(data.columns)"
   ]
  },
  {
   "cell_type": "code",
   "execution_count": 11,
   "metadata": {},
   "outputs": [],
   "source": [
    "def prep(df): #создадим функцию для предобработки данных\n",
    "    print(df.info())\n",
    "    print(\"Количество строк таблицы до удаления дубликатов: \", df.shape[0])\n",
    "    df = df.drop_duplicates().reset_index(drop=True)\n",
    "    print(\"Размер таблицы после удаления дубликатов: \", df.shape)\n",
    "    print (\"Количество дубликатов после их удаления: \", df.duplicated().sum())\n",
    "    print('Уникальные значения в столбцах:')\n",
    "    i=0\n",
    "    for i in df.columns:\n",
    "        try:\n",
    "            print(f\"  В столбце  {i}  такие уникальные значения:\")\n",
    "            print(df[i].sort_values().unique())\n",
    "        except:\n",
    "            print ('Похоже, ошибка в типе данных в столбце', i)\n",
    "        print()    \n",
    "    j=0\n",
    "    for j in df.columns:\n",
    "        print (f\"Доля пропусков в столбце {j} - {round(df[j].isna().sum()*100/df.shape[0],2)} %\")\n",
    "      \n",
    "    return df.sample(5)"
   ]
  },
  {
   "cell_type": "code",
   "execution_count": 12,
   "metadata": {},
   "outputs": [
    {
     "name": "stdout",
     "output_type": "stream",
     "text": [
      "<class 'pandas.core.frame.DataFrame'>\n",
      "RangeIndex: 354369 entries, 0 to 354368\n",
      "Data columns (total 16 columns):\n",
      " #   Column              Non-Null Count   Dtype \n",
      "---  ------              --------------   ----- \n",
      " 0   date_crawled        354369 non-null  object\n",
      " 1   price               354369 non-null  int64 \n",
      " 2   vehicle_type        316879 non-null  object\n",
      " 3   registration_year   354369 non-null  int64 \n",
      " 4   gearbox             334536 non-null  object\n",
      " 5   power               354369 non-null  int64 \n",
      " 6   model               334664 non-null  object\n",
      " 7   kilometer           354369 non-null  int64 \n",
      " 8   registration_month  354369 non-null  int64 \n",
      " 9   fuel_type           321474 non-null  object\n",
      " 10  brand               354369 non-null  object\n",
      " 11  repaired            283215 non-null  object\n",
      " 12  date_created        354369 non-null  object\n",
      " 13  number_of_pictures  354369 non-null  int64 \n",
      " 14  postal_code         354369 non-null  int64 \n",
      " 15  last_seen           354369 non-null  object\n",
      "dtypes: int64(7), object(9)\n",
      "memory usage: 43.3+ MB\n",
      "None\n",
      "Количество строк таблицы до удаления дубликатов:  354369\n",
      "Размер таблицы после удаления дубликатов:  (354365, 16)\n",
      "Количество дубликатов после их удаления:  0\n",
      "Уникальные значения в столбцах:\n",
      "  В столбце  date_crawled  такие уникальные значения:\n",
      "['2016-03-05 14:06:22' '2016-03-05 14:06:23' '2016-03-05 14:06:24' ...\n",
      " '2016-04-07 14:36:55' '2016-04-07 14:36:56' '2016-04-07 14:36:58']\n",
      "\n",
      "  В столбце  price  такие уникальные значения:\n",
      "[    0     1     2 ... 19998 19999 20000]\n",
      "\n",
      "  В столбце  vehicle_type  такие уникальные значения:\n",
      "['bus' 'convertible' 'coupe' 'other' 'sedan' 'small' 'suv' 'wagon' nan]\n",
      "\n",
      "  В столбце  registration_year  такие уникальные значения:\n",
      "[1000 1001 1039 1111 1200 1234 1253 1255 1300 1400 1500 1600 1602 1688\n",
      " 1800 1910 1915 1919 1920 1923 1925 1927 1928 1929 1930 1931 1932 1933\n",
      " 1934 1935 1936 1937 1938 1940 1941 1942 1943 1944 1945 1946 1947 1948\n",
      " 1949 1950 1951 1952 1953 1954 1955 1956 1957 1958 1959 1960 1961 1962\n",
      " 1963 1964 1965 1966 1967 1968 1969 1970 1971 1972 1973 1974 1975 1976\n",
      " 1977 1978 1979 1980 1981 1982 1983 1984 1985 1986 1987 1988 1989 1990\n",
      " 1991 1992 1993 1994 1995 1996 1997 1998 1999 2000 2001 2002 2003 2004\n",
      " 2005 2006 2007 2008 2009 2010 2011 2012 2013 2014 2015 2016 2017 2018\n",
      " 2019 2066 2200 2222 2290 2500 2800 2900 3000 3200 3500 3700 3800 4000\n",
      " 4100 4500 4800 5000 5300 5555 5600 5900 5911 6000 6500 7000 7100 7500\n",
      " 7800 8000 8200 8455 8500 8888 9000 9229 9450 9996 9999]\n",
      "\n",
      "  В столбце  gearbox  такие уникальные значения:\n",
      "['auto' 'manual' nan]\n",
      "\n",
      "  В столбце  power  такие уникальные значения:\n",
      "[    0     1     2     3     4     5     6     7     8     9    10    11\n",
      "    12    13    14    15    16    17    18    19    20    21    22    23\n",
      "    24    25    26    27    28    29    30    31    32    33    34    35\n",
      "    36    37    38    39    40    41    42    43    44    45    46    47\n",
      "    48    49    50    51    52    53    54    55    56    57    58    59\n",
      "    60    61    62    63    64    65    66    67    68    69    70    71\n",
      "    72    73    74    75    76    77    78    79    80    81    82    83\n",
      "    84    85    86    87    88    89    90    91    92    93    94    95\n",
      "    96    97    98    99   100   101   102   103   104   105   106   107\n",
      "   108   109   110   111   112   113   114   115   116   117   118   119\n",
      "   120   121   122   123   124   125   126   127   128   129   130   131\n",
      "   132   133   134   135   136   137   138   139   140   141   142   143\n",
      "   144   145   146   147   148   149   150   151   152   153   154   155\n",
      "   156   157   158   159   160   161   162   163   164   165   166   167\n",
      "   168   169   170   171   172   173   174   175   176   177   178   179\n",
      "   180   181   182   183   184   185   186   187   188   189   190   191\n",
      "   192   193   194   195   196   197   198   199   200   201   202   203\n",
      "   204   205   206   207   208   209   210   211   212   213   214   215\n",
      "   216   217   218   219   220   221   222   223   224   225   226   227\n",
      "   228   229   230   231   232   233   234   235   236   237   238   239\n",
      "   240   241   242   243   244   245   246   247   248   249   250   251\n",
      "   252   253   254   255   256   257   258   259   260   261   262   264\n",
      "   265   266   267   268   269   270   271   272   273   274   275   276\n",
      "   277   278   279   280   281   282   283   284   285   286   287   288\n",
      "   289   290   292   293   294   295   296   297   298   299   300   301\n",
      "   303   304   305   306   307   308   309   310   311   313   314   315\n",
      "   316   317   318   320   321   322   323   324   325   326   327   328\n",
      "   329   330   331   332   333   334   335   336   337   338   339   340\n",
      "   341   343   344   345   346   347   348   349   350   351   352   353\n",
      "   354   355   356   357   358   360   361   362   363   364   365   367\n",
      "   368   370   371   374   375   376   377   379   380   381   382   385\n",
      "   386   387   388   390   392   394   396   398   399   400   401   402\n",
      "   405   408   409   411   416   420   421   425   426   428   430   431\n",
      "   435   440   442   445   449   450   454   457   459   460   475   476\n",
      "   485   487   489   490   500   504   505   507   508   510   514   515\n",
      "   517   519   520   521   525   530   540   541   544   550   551   553\n",
      "   560   572   574   579   580   584   585   599   600   601   602   603\n",
      "   604   606   607   610   612   620   640   645   650   651   671   678\n",
      "   682   685   696   700   702   703   732   743   750   751   754   771\n",
      "   776   800   805   808   850   851   871   900   901   902   903   907\n",
      "   909   923   950   952   953   960   998   999  1000  1001  1002  1003\n",
      "  1004  1005  1011  1012  1016  1017  1021  1024  1054  1055  1056  1062\n",
      "  1079  1082  1090  1100  1102  1103  1105  1111  1115  1120  1149  1151\n",
      "  1158  1160  1162  1164  1199  1200  1202  1221  1223  1230  1239  1240\n",
      "  1241  1250  1252  1256  1275  1288  1299  1300  1312  1317  1324  1339\n",
      "  1351  1360  1362  1363  1367  1390  1394  1398  1399  1400  1401  1403\n",
      "  1405  1416  1432  1433  1436  1500  1501  1502  1503  1506  1521  1548\n",
      "  1595  1596  1597  1598  1600  1625  1631  1653  1659  1689  1700  1701\n",
      "  1703  1704  1707  1753  1771  1779  1780  1781  1783  1793  1796  1799\n",
      "  1800  1801  1870  1895  1896  1900  1910  1920  1922  1933  1937  1968\n",
      "  1986  1988  1992  1993  1995  1998  1999  2000  2004  2005  2007  2009\n",
      "  2016  2017  2018  2172  2200  2201  2331  2340  2389  2402  2461  2598\n",
      "  2729  2789  2792  2799  3000  3199  3454  3500  3750  4400  4507  4700\n",
      "  5000  5411  5420  5575  5809  5815  5867  6006  6010  6011  6012  6018\n",
      "  6045  6062  6226  6512  6920  7508  7511  7512  7515  7518  7529  7544\n",
      "  8011  8259  8404  8500  9000  9007  9010  9011  9012  9013  9710 10000\n",
      " 10110 10218 10311 10317 10520 10522 10710 10910 10912 11011 11025 11111\n",
      " 11509 11530 11635 12012 12510 12512 12684 13616 13636 14009 15001 15016\n",
      " 15017 15020 15033 16011 16051 16311 16312 17011 17019 17410 17700 17932\n",
      " 19208 19211 19312 20000]\n",
      "\n",
      "  В столбце  model  такие уникальные значения:\n",
      "['100' '145' '147' '156' '159' '1_reihe' '1er' '200' '2_reihe' '300c'\n",
      " '3_reihe' '3er' '4_reihe' '500' '5_reihe' '5er' '601' '6_reihe' '6er'\n",
      " '7er' '80' '850' '90' '900' '9000' '911' 'a1' 'a2' 'a3' 'a4' 'a5' 'a6'\n",
      " 'a8' 'a_klasse' 'accord' 'agila' 'alhambra' 'almera' 'altea' 'amarok'\n",
      " 'antara' 'arosa' 'astra' 'auris' 'avensis' 'aveo' 'aygo' 'b_klasse'\n",
      " 'b_max' 'beetle' 'berlingo' 'bora' 'boxster' 'bravo' 'c1' 'c2' 'c3' 'c4'\n",
      " 'c5' 'c_klasse' 'c_max' 'c_reihe' 'caddy' 'calibra' 'captiva' 'carisma'\n",
      " 'carnival' 'cayenne' 'cc' 'ceed' 'charade' 'cherokee' 'citigo' 'civic'\n",
      " 'cl' 'clio' 'clk' 'clubman' 'colt' 'combo' 'cooper' 'cordoba' 'corolla'\n",
      " 'corsa' 'cr_reihe' 'croma' 'crossfire' 'cuore' 'cx_reihe' 'defender'\n",
      " 'delta' 'discovery' 'doblo' 'ducato' 'duster' 'e_klasse' 'elefantino'\n",
      " 'eos' 'escort' 'espace' 'exeo' 'fabia' 'fiesta' 'focus' 'forester'\n",
      " 'forfour' 'fortwo' 'fox' 'freelander' 'fusion' 'g_klasse' 'galant'\n",
      " 'galaxy' 'getz' 'gl' 'glk' 'golf' 'grand' 'i3' 'i_reihe' 'ibiza'\n",
      " 'impreza' 'insignia' 'jazz' 'jetta' 'jimny' 'juke' 'justy' 'ka' 'kadett'\n",
      " 'kaefer' 'kalina' 'kalos' 'kangoo' 'kappa' 'kuga' 'laguna' 'lancer'\n",
      " 'lanos' 'legacy' 'leon' 'lodgy' 'logan' 'lupo' 'lybra' 'm_klasse'\n",
      " 'm_reihe' 'materia' 'matiz' 'megane' 'meriva' 'micra' 'mii' 'modus'\n",
      " 'mondeo' 'move' 'musa' 'mustang' 'mx_reihe' 'navara' 'niva' 'note'\n",
      " 'nubira' 'octavia' 'omega' 'one' 'other' 'outlander' 'pajero' 'panda'\n",
      " 'passat' 'phaeton' 'picanto' 'polo' 'primera' 'ptcruiser' 'punto' 'q3'\n",
      " 'q5' 'q7' 'qashqai' 'r19' 'range_rover' 'range_rover_evoque'\n",
      " 'range_rover_sport' 'rangerover' 'rav' 'rio' 'roadster' 'roomster'\n",
      " 'rx_reihe' 's60' 's_klasse' 's_max' 's_type' 'samara' 'sandero' 'santa'\n",
      " 'scenic' 'scirocco' 'seicento' 'serie_1' 'serie_2' 'serie_3' 'sharan'\n",
      " 'signum' 'sirion' 'sl' 'slk' 'sorento' 'spark' 'spider' 'sportage'\n",
      " 'sprinter' 'stilo' 'superb' 'swift' 'terios' 'tigra' 'tiguan' 'toledo'\n",
      " 'touareg' 'touran' 'transit' 'transporter' 'tt' 'tucson' 'twingo' 'up'\n",
      " 'v40' 'v50' 'v60' 'v70' 'v_klasse' 'vectra' 'verso' 'viano' 'vito'\n",
      " 'vivaro' 'voyager' 'wrangler' 'x_reihe' 'x_trail' 'x_type' 'xc_reihe'\n",
      " 'yaris' 'yeti' 'ypsilon' 'z_reihe' 'zafira' nan]\n",
      "\n",
      "  В столбце  kilometer  такие уникальные значения:\n",
      "[  5000  10000  20000  30000  40000  50000  60000  70000  80000  90000\n",
      " 100000 125000 150000]\n",
      "\n",
      "  В столбце  registration_month  такие уникальные значения:\n",
      "[ 0  1  2  3  4  5  6  7  8  9 10 11 12]\n",
      "\n",
      "  В столбце  fuel_type  такие уникальные значения:\n",
      "['cng' 'electric' 'gasoline' 'hybrid' 'lpg' 'other' 'petrol' nan]\n",
      "\n",
      "  В столбце  brand  такие уникальные значения:\n",
      "['alfa_romeo' 'audi' 'bmw' 'chevrolet' 'chrysler' 'citroen' 'dacia'\n",
      " 'daewoo' 'daihatsu' 'fiat' 'ford' 'honda' 'hyundai' 'jaguar' 'jeep' 'kia'\n",
      " 'lada' 'lancia' 'land_rover' 'mazda' 'mercedes_benz' 'mini' 'mitsubishi'\n",
      " 'nissan' 'opel' 'peugeot' 'porsche' 'renault' 'rover' 'saab' 'seat'\n",
      " 'skoda' 'smart' 'sonstige_autos' 'subaru' 'suzuki' 'toyota' 'trabant'\n",
      " 'volkswagen' 'volvo']\n",
      "\n",
      "  В столбце  repaired  такие уникальные значения:\n",
      "['no' 'yes' nan]\n",
      "\n",
      "  В столбце  date_created  такие уникальные значения:\n",
      "['2014-03-10 00:00:00' '2015-03-20 00:00:00' '2015-06-18 00:00:00'\n",
      " '2015-08-07 00:00:00' '2015-08-10 00:00:00' '2015-09-04 00:00:00'\n",
      " '2015-09-09 00:00:00' '2015-11-02 00:00:00' '2015-11-08 00:00:00'\n",
      " '2015-11-10 00:00:00' '2015-11-12 00:00:00' '2015-11-17 00:00:00'\n",
      " '2015-11-23 00:00:00' '2015-11-24 00:00:00' '2015-12-05 00:00:00'\n",
      " '2015-12-06 00:00:00' '2015-12-17 00:00:00' '2015-12-27 00:00:00'\n",
      " '2015-12-30 00:00:00' '2016-01-02 00:00:00' '2016-01-03 00:00:00'\n",
      " '2016-01-06 00:00:00' '2016-01-07 00:00:00' '2016-01-08 00:00:00'\n",
      " '2016-01-10 00:00:00' '2016-01-13 00:00:00' '2016-01-15 00:00:00'\n",
      " '2016-01-16 00:00:00' '2016-01-17 00:00:00' '2016-01-18 00:00:00'\n",
      " '2016-01-19 00:00:00' '2016-01-20 00:00:00' '2016-01-22 00:00:00'\n",
      " '2016-01-23 00:00:00' '2016-01-24 00:00:00' '2016-01-25 00:00:00'\n",
      " '2016-01-26 00:00:00' '2016-01-27 00:00:00' '2016-01-28 00:00:00'\n",
      " '2016-01-29 00:00:00' '2016-01-30 00:00:00' '2016-01-31 00:00:00'\n",
      " '2016-02-01 00:00:00' '2016-02-02 00:00:00' '2016-02-03 00:00:00'\n",
      " '2016-02-04 00:00:00' '2016-02-05 00:00:00' '2016-02-06 00:00:00'\n",
      " '2016-02-07 00:00:00' '2016-02-08 00:00:00' '2016-02-09 00:00:00'\n",
      " '2016-02-10 00:00:00' '2016-02-11 00:00:00' '2016-02-12 00:00:00'\n",
      " '2016-02-13 00:00:00' '2016-02-14 00:00:00' '2016-02-15 00:00:00'\n",
      " '2016-02-16 00:00:00' '2016-02-17 00:00:00' '2016-02-18 00:00:00'\n",
      " '2016-02-19 00:00:00' '2016-02-20 00:00:00' '2016-02-21 00:00:00'\n",
      " '2016-02-22 00:00:00' '2016-02-23 00:00:00' '2016-02-24 00:00:00'\n",
      " '2016-02-25 00:00:00' '2016-02-26 00:00:00' '2016-02-27 00:00:00'\n",
      " '2016-02-28 00:00:00' '2016-02-29 00:00:00' '2016-03-01 00:00:00'\n",
      " '2016-03-02 00:00:00' '2016-03-03 00:00:00' '2016-03-04 00:00:00'\n",
      " '2016-03-05 00:00:00' '2016-03-06 00:00:00' '2016-03-07 00:00:00'\n",
      " '2016-03-08 00:00:00' '2016-03-09 00:00:00' '2016-03-10 00:00:00'\n",
      " '2016-03-11 00:00:00' '2016-03-12 00:00:00' '2016-03-13 00:00:00'\n",
      " '2016-03-14 00:00:00' '2016-03-15 00:00:00' '2016-03-16 00:00:00'\n",
      " '2016-03-17 00:00:00' '2016-03-18 00:00:00' '2016-03-19 00:00:00'\n",
      " '2016-03-20 00:00:00' '2016-03-21 00:00:00' '2016-03-22 00:00:00'\n",
      " '2016-03-23 00:00:00' '2016-03-24 00:00:00' '2016-03-25 00:00:00'\n",
      " '2016-03-26 00:00:00' '2016-03-27 00:00:00' '2016-03-28 00:00:00'\n",
      " '2016-03-29 00:00:00' '2016-03-30 00:00:00' '2016-03-31 00:00:00'\n",
      " '2016-04-01 00:00:00' '2016-04-02 00:00:00' '2016-04-03 00:00:00'\n",
      " '2016-04-04 00:00:00' '2016-04-05 00:00:00' '2016-04-06 00:00:00'\n",
      " '2016-04-07 00:00:00']\n",
      "\n",
      "  В столбце  number_of_pictures  такие уникальные значения:\n",
      "[0]\n",
      "\n",
      "  В столбце  postal_code  такие уникальные значения:\n",
      "[ 1067  1068  1069 ... 99994 99996 99998]\n",
      "\n",
      "  В столбце  last_seen  такие уникальные значения:\n",
      "['2016-03-05 14:15:08' '2016-03-05 14:15:16' '2016-03-05 14:15:39' ...\n",
      " '2016-04-07 14:58:49' '2016-04-07 14:58:50' '2016-04-07 14:58:51']\n",
      "\n",
      "Доля пропусков в столбце date_crawled - 0.0 %\n",
      "Доля пропусков в столбце price - 0.0 %\n",
      "Доля пропусков в столбце vehicle_type - 10.58 %\n",
      "Доля пропусков в столбце registration_year - 0.0 %\n",
      "Доля пропусков в столбце gearbox - 5.6 %\n",
      "Доля пропусков в столбце power - 0.0 %\n",
      "Доля пропусков в столбце model - 5.56 %\n",
      "Доля пропусков в столбце kilometer - 0.0 %\n",
      "Доля пропусков в столбце registration_month - 0.0 %\n",
      "Доля пропусков в столбце fuel_type - 9.28 %\n",
      "Доля пропусков в столбце brand - 0.0 %\n",
      "Доля пропусков в столбце repaired - 20.08 %\n",
      "Доля пропусков в столбце date_created - 0.0 %\n",
      "Доля пропусков в столбце number_of_pictures - 0.0 %\n",
      "Доля пропусков в столбце postal_code - 0.0 %\n",
      "Доля пропусков в столбце last_seen - 0.0 %\n"
     ]
    },
    {
     "data": {
      "text/html": [
       "<div>\n",
       "<style scoped>\n",
       "    .dataframe tbody tr th:only-of-type {\n",
       "        vertical-align: middle;\n",
       "    }\n",
       "\n",
       "    .dataframe tbody tr th {\n",
       "        vertical-align: top;\n",
       "    }\n",
       "\n",
       "    .dataframe thead th {\n",
       "        text-align: right;\n",
       "    }\n",
       "</style>\n",
       "<table border=\"1\" class=\"dataframe\">\n",
       "  <thead>\n",
       "    <tr style=\"text-align: right;\">\n",
       "      <th></th>\n",
       "      <th>date_crawled</th>\n",
       "      <th>price</th>\n",
       "      <th>vehicle_type</th>\n",
       "      <th>registration_year</th>\n",
       "      <th>gearbox</th>\n",
       "      <th>power</th>\n",
       "      <th>model</th>\n",
       "      <th>kilometer</th>\n",
       "      <th>registration_month</th>\n",
       "      <th>fuel_type</th>\n",
       "      <th>brand</th>\n",
       "      <th>repaired</th>\n",
       "      <th>date_created</th>\n",
       "      <th>number_of_pictures</th>\n",
       "      <th>postal_code</th>\n",
       "      <th>last_seen</th>\n",
       "    </tr>\n",
       "  </thead>\n",
       "  <tbody>\n",
       "    <tr>\n",
       "      <th>130125</th>\n",
       "      <td>2016-03-25 14:42:34</td>\n",
       "      <td>9000</td>\n",
       "      <td>wagon</td>\n",
       "      <td>2008</td>\n",
       "      <td>manual</td>\n",
       "      <td>105</td>\n",
       "      <td>transporter</td>\n",
       "      <td>150000</td>\n",
       "      <td>5</td>\n",
       "      <td>gasoline</td>\n",
       "      <td>volkswagen</td>\n",
       "      <td>no</td>\n",
       "      <td>2016-03-25 00:00:00</td>\n",
       "      <td>0</td>\n",
       "      <td>97486</td>\n",
       "      <td>2016-03-25 14:42:34</td>\n",
       "    </tr>\n",
       "    <tr>\n",
       "      <th>249970</th>\n",
       "      <td>2016-03-16 18:54:29</td>\n",
       "      <td>16700</td>\n",
       "      <td>sedan</td>\n",
       "      <td>2008</td>\n",
       "      <td>auto</td>\n",
       "      <td>435</td>\n",
       "      <td>a6</td>\n",
       "      <td>150000</td>\n",
       "      <td>4</td>\n",
       "      <td>petrol</td>\n",
       "      <td>audi</td>\n",
       "      <td>NaN</td>\n",
       "      <td>2016-03-16 00:00:00</td>\n",
       "      <td>0</td>\n",
       "      <td>65933</td>\n",
       "      <td>2016-03-17 16:38:42</td>\n",
       "    </tr>\n",
       "    <tr>\n",
       "      <th>226647</th>\n",
       "      <td>2016-03-10 12:47:28</td>\n",
       "      <td>899</td>\n",
       "      <td>small</td>\n",
       "      <td>2003</td>\n",
       "      <td>manual</td>\n",
       "      <td>73</td>\n",
       "      <td>c3</td>\n",
       "      <td>150000</td>\n",
       "      <td>5</td>\n",
       "      <td>petrol</td>\n",
       "      <td>citroen</td>\n",
       "      <td>no</td>\n",
       "      <td>2016-03-10 00:00:00</td>\n",
       "      <td>0</td>\n",
       "      <td>70376</td>\n",
       "      <td>2016-03-12 01:46:37</td>\n",
       "    </tr>\n",
       "    <tr>\n",
       "      <th>23169</th>\n",
       "      <td>2016-03-19 13:49:11</td>\n",
       "      <td>1450</td>\n",
       "      <td>small</td>\n",
       "      <td>2003</td>\n",
       "      <td>manual</td>\n",
       "      <td>75</td>\n",
       "      <td>corsa</td>\n",
       "      <td>150000</td>\n",
       "      <td>1</td>\n",
       "      <td>petrol</td>\n",
       "      <td>opel</td>\n",
       "      <td>yes</td>\n",
       "      <td>2016-03-19 00:00:00</td>\n",
       "      <td>0</td>\n",
       "      <td>13407</td>\n",
       "      <td>2016-03-21 18:18:48</td>\n",
       "    </tr>\n",
       "    <tr>\n",
       "      <th>344629</th>\n",
       "      <td>2016-03-16 15:54:27</td>\n",
       "      <td>2500</td>\n",
       "      <td>NaN</td>\n",
       "      <td>2018</td>\n",
       "      <td>manual</td>\n",
       "      <td>116</td>\n",
       "      <td>a3</td>\n",
       "      <td>150000</td>\n",
       "      <td>6</td>\n",
       "      <td>petrol</td>\n",
       "      <td>audi</td>\n",
       "      <td>no</td>\n",
       "      <td>2016-03-16 00:00:00</td>\n",
       "      <td>0</td>\n",
       "      <td>65933</td>\n",
       "      <td>2016-04-03 21:16:28</td>\n",
       "    </tr>\n",
       "  </tbody>\n",
       "</table>\n",
       "</div>"
      ],
      "text/plain": [
       "               date_crawled  price vehicle_type  registration_year gearbox  \\\n",
       "130125  2016-03-25 14:42:34   9000        wagon               2008  manual   \n",
       "249970  2016-03-16 18:54:29  16700        sedan               2008    auto   \n",
       "226647  2016-03-10 12:47:28    899        small               2003  manual   \n",
       "23169   2016-03-19 13:49:11   1450        small               2003  manual   \n",
       "344629  2016-03-16 15:54:27   2500          NaN               2018  manual   \n",
       "\n",
       "        power        model  kilometer  registration_month fuel_type  \\\n",
       "130125    105  transporter     150000                   5  gasoline   \n",
       "249970    435           a6     150000                   4    petrol   \n",
       "226647     73           c3     150000                   5    petrol   \n",
       "23169      75        corsa     150000                   1    petrol   \n",
       "344629    116           a3     150000                   6    petrol   \n",
       "\n",
       "             brand repaired         date_created  number_of_pictures  \\\n",
       "130125  volkswagen       no  2016-03-25 00:00:00                   0   \n",
       "249970        audi      NaN  2016-03-16 00:00:00                   0   \n",
       "226647     citroen       no  2016-03-10 00:00:00                   0   \n",
       "23169         opel      yes  2016-03-19 00:00:00                   0   \n",
       "344629        audi       no  2016-03-16 00:00:00                   0   \n",
       "\n",
       "        postal_code            last_seen  \n",
       "130125        97486  2016-03-25 14:42:34  \n",
       "249970        65933  2016-03-17 16:38:42  \n",
       "226647        70376  2016-03-12 01:46:37  \n",
       "23169         13407  2016-03-21 18:18:48  \n",
       "344629        65933  2016-04-03 21:16:28  "
      ]
     },
     "execution_count": 12,
     "metadata": {},
     "output_type": "execute_result"
    }
   ],
   "source": [
    "prep(data)"
   ]
  },
  {
   "cell_type": "markdown",
   "metadata": {},
   "source": [
    "Столбец \"Год регистрации автомобиля\" содержит аномальные значения: 1000, 1001, 1039..., 9996, 9999. Трудно сказать, что имели ввиду респонденты, заполняя данные таким образом, но их нельзя использовать для обучения модели. Предлагаю строки с этими данными удалить. \n",
    "\n",
    "Мощность автомобиля также содержит аномальные значения, слишком большие и слишком маленькие. После исследовательского анализа удалим аномалии.\n",
    "\n",
    "Моделей машин слишком много. Предлагается взять k самых крупных по количеству, остальные заменить на \"другая\". Также удалим строки с незаполненными моделями машин.\n",
    "\n",
    "Столбцы date_crawled, registration_month, date_created, postal_code, last_seen неинформативны, их можно не брать в выборку.\n",
    "\n",
    "Столбцы vehicle_type, fuel_type, gearbox содержат большое количество пропусков. Их можно заполнить самым популярным значением по группе моделей. \n",
    "\n",
    "Пропуски в столбце model ничем не заполнить. Предлагается их удалить.\n",
    "\n",
    "Пропуски  в столбце repaired предлагается заполнить \"yes\", т.к. автомобиль без ремонта - редкость."
   ]
  },
  {
   "cell_type": "markdown",
   "metadata": {},
   "source": [
    "#### Год_регистрации (registration_year)"
   ]
  },
  {
   "cell_type": "code",
   "execution_count": 13,
   "metadata": {
    "scrolled": true
   },
   "outputs": [
    {
     "data": {
      "text/plain": [
       "354198"
      ]
     },
     "execution_count": 13,
     "metadata": {},
     "output_type": "execute_result"
    }
   ],
   "source": [
    "# Удаление строк с аномальными значениями Года регистрации\n",
    "data_1 = data.query('1910 <= registration_year <= 2025')\n",
    "data_1.shape[0]"
   ]
  },
  {
   "cell_type": "markdown",
   "metadata": {},
   "source": [
    "Таблица почти ничего не потеряла после удаления аномалий в столбце \"Год регистрации автомобиля\": было 354 365, стало 354 198 строк. Зато теперь указаны автомобили с 1910 по 2025 годы выпуска."
   ]
  },
  {
   "cell_type": "markdown",
   "metadata": {},
   "source": [
    "#### Модель автомобиля (model)"
   ]
  },
  {
   "cell_type": "code",
   "execution_count": 14,
   "metadata": {},
   "outputs": [
    {
     "data": {
      "text/html": [
       "<div>\n",
       "<style scoped>\n",
       "    .dataframe tbody tr th:only-of-type {\n",
       "        vertical-align: middle;\n",
       "    }\n",
       "\n",
       "    .dataframe tbody tr th {\n",
       "        vertical-align: top;\n",
       "    }\n",
       "\n",
       "    .dataframe thead th {\n",
       "        text-align: right;\n",
       "    }\n",
       "</style>\n",
       "<table border=\"1\" class=\"dataframe\">\n",
       "  <thead>\n",
       "    <tr style=\"text-align: right;\">\n",
       "      <th></th>\n",
       "      <th>date_crawled</th>\n",
       "    </tr>\n",
       "    <tr>\n",
       "      <th>model</th>\n",
       "      <th></th>\n",
       "    </tr>\n",
       "  </thead>\n",
       "  <tbody>\n",
       "    <tr>\n",
       "      <th>golf</th>\n",
       "      <td>29218</td>\n",
       "    </tr>\n",
       "    <tr>\n",
       "      <th>other</th>\n",
       "      <td>24403</td>\n",
       "    </tr>\n",
       "    <tr>\n",
       "      <th>3er</th>\n",
       "      <td>19756</td>\n",
       "    </tr>\n",
       "    <tr>\n",
       "      <th>polo</th>\n",
       "      <td>13063</td>\n",
       "    </tr>\n",
       "    <tr>\n",
       "      <th>corsa</th>\n",
       "      <td>12564</td>\n",
       "    </tr>\n",
       "    <tr>\n",
       "      <th>...</th>\n",
       "      <td>...</td>\n",
       "    </tr>\n",
       "    <tr>\n",
       "      <th>serie_2</th>\n",
       "      <td>8</td>\n",
       "    </tr>\n",
       "    <tr>\n",
       "      <th>serie_3</th>\n",
       "      <td>4</td>\n",
       "    </tr>\n",
       "    <tr>\n",
       "      <th>rangerover</th>\n",
       "      <td>4</td>\n",
       "    </tr>\n",
       "    <tr>\n",
       "      <th>range_rover_evoque</th>\n",
       "      <td>2</td>\n",
       "    </tr>\n",
       "    <tr>\n",
       "      <th>serie_1</th>\n",
       "      <td>2</td>\n",
       "    </tr>\n",
       "  </tbody>\n",
       "</table>\n",
       "<p>250 rows × 1 columns</p>\n",
       "</div>"
      ],
      "text/plain": [
       "                    date_crawled\n",
       "model                           \n",
       "golf                       29218\n",
       "other                      24403\n",
       "3er                        19756\n",
       "polo                       13063\n",
       "corsa                      12564\n",
       "...                          ...\n",
       "serie_2                        8\n",
       "serie_3                        4\n",
       "rangerover                     4\n",
       "range_rover_evoque             2\n",
       "serie_1                        2\n",
       "\n",
       "[250 rows x 1 columns]"
      ]
     },
     "execution_count": 14,
     "metadata": {},
     "output_type": "execute_result"
    }
   ],
   "source": [
    "d = data_1.pivot_table(index = 'model', values=['date_crawled'],aggfunc = 'count')\n",
    "e = d.sort_values(by = 'date_crawled', ascending = False)\n",
    "e"
   ]
  },
  {
   "cell_type": "markdown",
   "metadata": {},
   "source": [
    "250 различных моделей автомобилей. Возьмем самые крупные 100 моделей, остальные заменим на other. Но обратим внимание, что в таблице уже есть 24 тыс. моделей \"другие\"."
   ]
  },
  {
   "cell_type": "code",
   "execution_count": 15,
   "metadata": {
    "scrolled": false
   },
   "outputs": [
    {
     "name": "stdout",
     "output_type": "stream",
     "text": [
      "\n",
      "Размер выборки с 240 самыми многочисленными моделями  из 354198 -  334494\n",
      "После замены в тренировочных данных категорий столо 240\n",
      "Среди названий моделей 12.0 процентов относится к модели other\n"
     ]
    },
    {
     "name": "stderr",
     "output_type": "stream",
     "text": [
      "/opt/conda/lib/python3.9/site-packages/pandas/core/indexing.py:1597: SettingWithCopyWarning: \n",
      "A value is trying to be set on a copy of a slice from a DataFrame.\n",
      "Try using .loc[row_indexer,col_indexer] = value instead\n",
      "\n",
      "See the caveats in the documentation: https://pandas.pydata.org/pandas-docs/stable/user_guide/indexing.html#returning-a-view-versus-a-copy\n",
      "  self.obj[key] = value\n",
      "/opt/conda/lib/python3.9/site-packages/pandas/core/indexing.py:1676: SettingWithCopyWarning: \n",
      "A value is trying to be set on a copy of a slice from a DataFrame.\n",
      "Try using .loc[row_indexer,col_indexer] = value instead\n",
      "\n",
      "See the caveats in the documentation: https://pandas.pydata.org/pandas-docs/stable/user_guide/indexing.html#returning-a-view-versus-a-copy\n",
      "  self._setitem_single_column(ilocs[0], value, pi)\n"
     ]
    }
   ],
   "source": [
    "k=240 #Оставляем k названий моделей, остальные заменим на other\n",
    "f = e.index[:k]   \n",
    "\n",
    "g = data_1.query('model in @f')\n",
    "print()\n",
    "print(f'Размер выборки с {k} самыми многочисленными моделями  из {data_1.shape[0]} - ', g.shape[0])\n",
    "sr = data_1.loc[:,'model'].apply(lambda x: x if x in f else 'other')\n",
    "data_1.loc[:,'model_other'] = sr #заменяем малочисленные категории на outher\n",
    "print('После замены в тренировочных данных категорий столо', data_1['model_other'].nunique())\n",
    "k_1 = data_1.query('model_other == \"other\"').shape[0]*100 /data_1.shape[0]\n",
    "print(f'Среди названий моделей {round(k_1,0)} процентов относится к модели other')\n"
   ]
  },
  {
   "cell_type": "markdown",
   "metadata": {},
   "source": [
    "Итак, в важном столбце Модель малочисленные модели и пропуски заменили значением other. "
   ]
  },
  {
   "cell_type": "markdown",
   "metadata": {},
   "source": [
    "#### Удаление неважных столбцов"
   ]
  },
  {
   "cell_type": "code",
   "execution_count": 16,
   "metadata": {},
   "outputs": [],
   "source": [
    "data_1 = data_1.drop(\n",
    "    ['model', 'date_crawled', 'registration_month', 'date_created', 'postal_code', 'last_seen', 'number_of_pictures']\n",
    "                     , axis=1)"
   ]
  },
  {
   "cell_type": "code",
   "execution_count": 17,
   "metadata": {},
   "outputs": [
    {
     "name": "stdout",
     "output_type": "stream",
     "text": [
      "<class 'pandas.core.frame.DataFrame'>\n",
      "Int64Index: 354198 entries, 0 to 354368\n",
      "Data columns (total 10 columns):\n",
      " #   Column             Non-Null Count   Dtype \n",
      "---  ------             --------------   ----- \n",
      " 0   price              354198 non-null  int64 \n",
      " 1   vehicle_type       316879 non-null  object\n",
      " 2   registration_year  354198 non-null  int64 \n",
      " 3   gearbox            334503 non-null  object\n",
      " 4   power              354198 non-null  int64 \n",
      " 5   kilometer          354198 non-null  int64 \n",
      " 6   fuel_type          321431 non-null  object\n",
      " 7   brand              354198 non-null  object\n",
      " 8   repaired           283191 non-null  object\n",
      " 9   model_other        354198 non-null  object\n",
      "dtypes: int64(4), object(6)\n",
      "memory usage: 29.7+ MB\n"
     ]
    }
   ],
   "source": [
    "data_1.info()"
   ]
  },
  {
   "cell_type": "markdown",
   "metadata": {},
   "source": [
    "Итак, осталось 10 столбцов."
   ]
  },
  {
   "cell_type": "markdown",
   "metadata": {},
   "source": [
    "#### Тип кузова, тип топлива, тип коробки передач (vehicle_type, fuel_type, gearbox)"
   ]
  },
  {
   "cell_type": "code",
   "execution_count": 18,
   "metadata": {
    "scrolled": true
   },
   "outputs": [
    {
     "name": "stdout",
     "output_type": "stream",
     "text": [
      "<class 'pandas.core.frame.DataFrame'>\n",
      "Int64Index: 354198 entries, 0 to 354368\n",
      "Data columns (total 10 columns):\n",
      " #   Column             Non-Null Count   Dtype \n",
      "---  ------             --------------   ----- \n",
      " 0   price              354198 non-null  int64 \n",
      " 1   vehicle_type       354198 non-null  object\n",
      " 2   registration_year  354198 non-null  int64 \n",
      " 3   gearbox            354198 non-null  object\n",
      " 4   power              354198 non-null  int64 \n",
      " 5   kilometer          354198 non-null  int64 \n",
      " 6   fuel_type          354198 non-null  object\n",
      " 7   brand              354198 non-null  object\n",
      " 8   repaired           283191 non-null  object\n",
      " 9   model_other        354198 non-null  object\n",
      "dtypes: int64(4), object(6)\n",
      "memory usage: 29.7+ MB\n"
     ]
    }
   ],
   "source": [
    "categorical_columns = ['vehicle_type', 'fuel_type', 'gearbox'] \n",
    "group_column = 'model_other'\n",
    "#заполним пропуски в указанных столбцах самыми популярными значениями по группам моделей автомобилей.\n",
    "for col in categorical_columns: \n",
    "    data_1[col] = data_1.groupby(group_column)[col].transform(\n",
    "        lambda x: x.fillna(x.mode()[0]) if not x.mode().empty else x\n",
    "    )\n",
    "    \n",
    "data_1.info()  "
   ]
  },
  {
   "cell_type": "markdown",
   "metadata": {},
   "source": [
    "Итак,  vehicle_type, fuel_type, gearbox заполнены самыми популярными значениями в зависимости от группы моделей автомобиля. Теперь 9 из 10 столбцов не содержат пропусков."
   ]
  },
  {
   "cell_type": "markdown",
   "metadata": {},
   "source": [
    "#### Контроль"
   ]
  },
  {
   "cell_type": "code",
   "execution_count": 19,
   "metadata": {},
   "outputs": [],
   "source": [
    "def prep_1(df): #создадим функцию для предобработки данных\n",
    "    print(df.info())\n",
    "    #print(\"Количество строк таблицы до удаления дубликатов: \", df.shape[0])\n",
    "    #df = df.drop_duplicates().reset_index(drop=True)\n",
    "    #print(\"Размер таблицы после удаления дубликатов: \", df.shape)\n",
    "    print (\"Количество дубликатов:\", df.duplicated().sum())\n",
    "    print('Уникальные значения в столбцах:')\n",
    "    i=0\n",
    "    for i in df.columns:\n",
    "        try:\n",
    "            print(f\"  В столбце  {i}  такие уникальные значения:\")\n",
    "            print(df[i].sort_values().unique())\n",
    "        except:\n",
    "            print ('Похоже, ошибка в типе данных в столбце', i)\n",
    "        print()    \n",
    "    j=0\n",
    "    for j in df.columns:\n",
    "        print (f\"Доля пропусков в столбце {j} - {round(df[j].isna().sum()*100/df.shape[0],2)} %\")\n",
    "      \n",
    "    return df.sample(5)"
   ]
  },
  {
   "cell_type": "code",
   "execution_count": 20,
   "metadata": {},
   "outputs": [
    {
     "name": "stdout",
     "output_type": "stream",
     "text": [
      "<class 'pandas.core.frame.DataFrame'>\n",
      "Int64Index: 354198 entries, 0 to 354368\n",
      "Data columns (total 10 columns):\n",
      " #   Column             Non-Null Count   Dtype \n",
      "---  ------             --------------   ----- \n",
      " 0   price              354198 non-null  int64 \n",
      " 1   vehicle_type       354198 non-null  object\n",
      " 2   registration_year  354198 non-null  int64 \n",
      " 3   gearbox            354198 non-null  object\n",
      " 4   power              354198 non-null  int64 \n",
      " 5   kilometer          354198 non-null  int64 \n",
      " 6   fuel_type          354198 non-null  object\n",
      " 7   brand              354198 non-null  object\n",
      " 8   repaired           283191 non-null  object\n",
      " 9   model_other        354198 non-null  object\n",
      "dtypes: int64(4), object(6)\n",
      "memory usage: 29.7+ MB\n",
      "None\n",
      "Количество дубликатов: 49200\n",
      "Уникальные значения в столбцах:\n",
      "  В столбце  price  такие уникальные значения:\n",
      "[    0     1     2 ... 19998 19999 20000]\n",
      "\n",
      "  В столбце  vehicle_type  такие уникальные значения:\n",
      "['bus' 'convertible' 'coupe' 'other' 'sedan' 'small' 'suv' 'wagon']\n",
      "\n",
      "  В столбце  registration_year  такие уникальные значения:\n",
      "[1910 1915 1919 1920 1923 1925 1927 1928 1929 1930 1931 1932 1933 1934\n",
      " 1935 1936 1937 1938 1940 1941 1942 1943 1944 1945 1946 1947 1948 1949\n",
      " 1950 1951 1952 1953 1954 1955 1956 1957 1958 1959 1960 1961 1962 1963\n",
      " 1964 1965 1966 1967 1968 1969 1970 1971 1972 1973 1974 1975 1976 1977\n",
      " 1978 1979 1980 1981 1982 1983 1984 1985 1986 1987 1988 1989 1990 1991\n",
      " 1992 1993 1994 1995 1996 1997 1998 1999 2000 2001 2002 2003 2004 2005\n",
      " 2006 2007 2008 2009 2010 2011 2012 2013 2014 2015 2016 2017 2018 2019]\n",
      "\n",
      "  В столбце  gearbox  такие уникальные значения:\n",
      "['auto' 'manual']\n",
      "\n",
      "  В столбце  power  такие уникальные значения:\n",
      "[    0     1     2     3     4     5     6     7     8     9    10    11\n",
      "    12    13    14    15    16    17    18    19    20    21    22    23\n",
      "    24    25    26    27    28    29    30    31    32    33    34    35\n",
      "    36    37    38    39    40    41    42    43    44    45    46    47\n",
      "    48    49    50    51    52    53    54    55    56    57    58    59\n",
      "    60    61    62    63    64    65    66    67    68    69    70    71\n",
      "    72    73    74    75    76    77    78    79    80    81    82    83\n",
      "    84    85    86    87    88    89    90    91    92    93    94    95\n",
      "    96    97    98    99   100   101   102   103   104   105   106   107\n",
      "   108   109   110   111   112   113   114   115   116   117   118   119\n",
      "   120   121   122   123   124   125   126   127   128   129   130   131\n",
      "   132   133   134   135   136   137   138   139   140   141   142   143\n",
      "   144   145   146   147   148   149   150   151   152   153   154   155\n",
      "   156   157   158   159   160   161   162   163   164   165   166   167\n",
      "   168   169   170   171   172   173   174   175   176   177   178   179\n",
      "   180   181   182   183   184   185   186   187   188   189   190   191\n",
      "   192   193   194   195   196   197   198   199   200   201   202   203\n",
      "   204   205   206   207   208   209   210   211   212   213   214   215\n",
      "   216   217   218   219   220   221   222   223   224   225   226   227\n",
      "   228   229   230   231   232   233   234   235   236   237   238   239\n",
      "   240   241   242   243   244   245   246   247   248   249   250   251\n",
      "   252   253   254   255   256   257   258   259   260   261   262   264\n",
      "   265   266   267   268   269   270   271   272   273   274   275   276\n",
      "   277   278   279   280   281   282   283   284   285   286   287   288\n",
      "   289   290   292   293   294   295   296   297   298   299   300   301\n",
      "   303   304   305   306   307   308   309   310   311   313   314   315\n",
      "   316   317   318   320   321   322   323   324   325   326   327   328\n",
      "   329   330   331   332   333   334   335   336   337   338   339   340\n",
      "   341   343   344   345   346   347   348   349   350   351   352   353\n",
      "   354   355   356   357   358   360   361   362   363   364   365   367\n",
      "   368   370   371   374   375   376   377   379   380   381   382   385\n",
      "   386   387   388   390   392   394   396   398   399   400   401   402\n",
      "   405   408   409   411   416   420   421   425   426   428   430   431\n",
      "   435   440   442   445   449   450   454   457   459   460   475   476\n",
      "   485   487   489   490   500   504   505   507   508   510   514   515\n",
      "   517   519   520   521   525   530   540   541   544   550   551   553\n",
      "   560   572   574   579   580   584   585   599   600   601   602   603\n",
      "   604   606   607   610   612   620   640   645   650   651   671   678\n",
      "   682   685   696   700   702   703   732   743   750   751   754   771\n",
      "   776   800   805   808   850   851   871   900   901   902   903   907\n",
      "   909   923   950   952   953   960   998   999  1000  1001  1002  1003\n",
      "  1004  1005  1011  1012  1016  1017  1021  1024  1054  1055  1056  1062\n",
      "  1079  1082  1090  1100  1102  1103  1105  1111  1115  1120  1149  1151\n",
      "  1158  1160  1162  1164  1199  1200  1202  1221  1223  1230  1239  1240\n",
      "  1241  1250  1252  1256  1275  1288  1299  1300  1312  1317  1324  1339\n",
      "  1351  1360  1362  1363  1367  1390  1394  1398  1399  1400  1401  1403\n",
      "  1405  1416  1432  1433  1436  1500  1501  1502  1503  1506  1521  1548\n",
      "  1595  1596  1597  1598  1600  1625  1631  1653  1659  1689  1700  1701\n",
      "  1703  1704  1707  1753  1771  1779  1780  1781  1783  1793  1796  1799\n",
      "  1800  1801  1870  1895  1896  1900  1910  1920  1922  1933  1937  1968\n",
      "  1986  1988  1992  1993  1995  1998  1999  2000  2004  2005  2007  2009\n",
      "  2016  2017  2018  2172  2200  2201  2331  2340  2389  2402  2461  2598\n",
      "  2729  2789  2792  2799  3199  3454  3500  3750  4400  4507  4700  5000\n",
      "  5411  5420  5575  5809  5815  5867  6006  6010  6011  6012  6018  6045\n",
      "  6062  6226  6512  6920  7508  7511  7512  7515  7518  7529  7544  8011\n",
      "  8259  8404  8500  9000  9007  9010  9011  9012  9013  9710 10000 10110\n",
      " 10218 10311 10317 10520 10522 10710 10910 10912 11011 11025 11111 11509\n",
      " 11530 11635 12012 12510 12512 12684 13616 13636 14009 15001 15016 15017\n",
      " 15020 15033 16011 16051 16311 16312 17011 17019 17410 17700 17932 19208\n",
      " 19211 19312 20000]\n",
      "\n",
      "  В столбце  kilometer  такие уникальные значения:\n",
      "[  5000  10000  20000  30000  40000  50000  60000  70000  80000  90000\n",
      " 100000 125000 150000]\n",
      "\n",
      "  В столбце  fuel_type  такие уникальные значения:\n",
      "['cng' 'electric' 'gasoline' 'hybrid' 'lpg' 'other' 'petrol']\n",
      "\n",
      "  В столбце  brand  такие уникальные значения:\n",
      "['alfa_romeo' 'audi' 'bmw' 'chevrolet' 'chrysler' 'citroen' 'dacia'\n",
      " 'daewoo' 'daihatsu' 'fiat' 'ford' 'honda' 'hyundai' 'jaguar' 'jeep' 'kia'\n",
      " 'lada' 'lancia' 'land_rover' 'mazda' 'mercedes_benz' 'mini' 'mitsubishi'\n",
      " 'nissan' 'opel' 'peugeot' 'porsche' 'renault' 'rover' 'saab' 'seat'\n",
      " 'skoda' 'smart' 'sonstige_autos' 'subaru' 'suzuki' 'toyota' 'trabant'\n",
      " 'volkswagen' 'volvo']\n",
      "\n",
      "  В столбце  repaired  такие уникальные значения:\n",
      "['no' 'yes' nan]\n",
      "\n",
      "  В столбце  model_other  такие уникальные значения:\n",
      "['100' '145' '147' '156' '159' '1_reihe' '1er' '200' '2_reihe' '300c'\n",
      " '3_reihe' '3er' '4_reihe' '500' '5_reihe' '5er' '601' '6_reihe' '6er'\n",
      " '7er' '80' '850' '90' '900' '9000' '911' 'a1' 'a2' 'a3' 'a4' 'a5' 'a6'\n",
      " 'a8' 'a_klasse' 'accord' 'agila' 'alhambra' 'almera' 'altea' 'amarok'\n",
      " 'antara' 'arosa' 'astra' 'auris' 'avensis' 'aveo' 'aygo' 'b_klasse'\n",
      " 'b_max' 'beetle' 'berlingo' 'bora' 'boxster' 'bravo' 'c1' 'c2' 'c3' 'c4'\n",
      " 'c5' 'c_klasse' 'c_max' 'c_reihe' 'caddy' 'calibra' 'captiva' 'carisma'\n",
      " 'carnival' 'cayenne' 'cc' 'ceed' 'charade' 'cherokee' 'citigo' 'civic'\n",
      " 'cl' 'clio' 'clk' 'clubman' 'colt' 'combo' 'cooper' 'cordoba' 'corolla'\n",
      " 'corsa' 'cr_reihe' 'croma' 'crossfire' 'cuore' 'cx_reihe' 'defender'\n",
      " 'delta' 'discovery' 'doblo' 'ducato' 'duster' 'e_klasse' 'eos' 'escort'\n",
      " 'espace' 'exeo' 'fabia' 'fiesta' 'focus' 'forester' 'forfour' 'fortwo'\n",
      " 'fox' 'freelander' 'fusion' 'g_klasse' 'galant' 'galaxy' 'getz' 'glk'\n",
      " 'golf' 'grand' 'i_reihe' 'ibiza' 'impreza' 'insignia' 'jazz' 'jetta'\n",
      " 'jimny' 'juke' 'justy' 'ka' 'kadett' 'kaefer' 'kalos' 'kangoo' 'kappa'\n",
      " 'kuga' 'laguna' 'lancer' 'lanos' 'legacy' 'leon' 'lodgy' 'logan' 'lupo'\n",
      " 'lybra' 'm_klasse' 'm_reihe' 'materia' 'matiz' 'megane' 'meriva' 'micra'\n",
      " 'mii' 'modus' 'mondeo' 'move' 'musa' 'mustang' 'mx_reihe' 'navara' 'niva'\n",
      " 'note' 'nubira' 'octavia' 'omega' 'one' 'other' 'outlander' 'pajero'\n",
      " 'panda' 'passat' 'phaeton' 'picanto' 'polo' 'primera' 'ptcruiser' 'punto'\n",
      " 'q3' 'q5' 'q7' 'qashqai' 'r19' 'range_rover' 'range_rover_sport' 'rav'\n",
      " 'rio' 'roadster' 'roomster' 'rx_reihe' 's60' 's_klasse' 's_max' 's_type'\n",
      " 'sandero' 'santa' 'scenic' 'scirocco' 'seicento' 'sharan' 'signum'\n",
      " 'sirion' 'sl' 'slk' 'sorento' 'spark' 'spider' 'sportage' 'sprinter'\n",
      " 'stilo' 'superb' 'swift' 'terios' 'tigra' 'tiguan' 'toledo' 'touareg'\n",
      " 'touran' 'transit' 'transporter' 'tt' 'tucson' 'twingo' 'up' 'v40' 'v50'\n",
      " 'v60' 'v70' 'v_klasse' 'vectra' 'verso' 'viano' 'vito' 'vivaro' 'voyager'\n",
      " 'wrangler' 'x_reihe' 'x_trail' 'x_type' 'xc_reihe' 'yaris' 'yeti'\n",
      " 'ypsilon' 'z_reihe' 'zafira']\n",
      "\n",
      "Доля пропусков в столбце price - 0.0 %\n",
      "Доля пропусков в столбце vehicle_type - 0.0 %\n",
      "Доля пропусков в столбце registration_year - 0.0 %\n",
      "Доля пропусков в столбце gearbox - 0.0 %\n",
      "Доля пропусков в столбце power - 0.0 %\n",
      "Доля пропусков в столбце kilometer - 0.0 %\n",
      "Доля пропусков в столбце fuel_type - 0.0 %\n",
      "Доля пропусков в столбце brand - 0.0 %\n",
      "Доля пропусков в столбце repaired - 20.05 %\n",
      "Доля пропусков в столбце model_other - 0.0 %\n"
     ]
    },
    {
     "data": {
      "text/html": [
       "<div>\n",
       "<style scoped>\n",
       "    .dataframe tbody tr th:only-of-type {\n",
       "        vertical-align: middle;\n",
       "    }\n",
       "\n",
       "    .dataframe tbody tr th {\n",
       "        vertical-align: top;\n",
       "    }\n",
       "\n",
       "    .dataframe thead th {\n",
       "        text-align: right;\n",
       "    }\n",
       "</style>\n",
       "<table border=\"1\" class=\"dataframe\">\n",
       "  <thead>\n",
       "    <tr style=\"text-align: right;\">\n",
       "      <th></th>\n",
       "      <th>price</th>\n",
       "      <th>vehicle_type</th>\n",
       "      <th>registration_year</th>\n",
       "      <th>gearbox</th>\n",
       "      <th>power</th>\n",
       "      <th>kilometer</th>\n",
       "      <th>fuel_type</th>\n",
       "      <th>brand</th>\n",
       "      <th>repaired</th>\n",
       "      <th>model_other</th>\n",
       "    </tr>\n",
       "  </thead>\n",
       "  <tbody>\n",
       "    <tr>\n",
       "      <th>341276</th>\n",
       "      <td>2800</td>\n",
       "      <td>sedan</td>\n",
       "      <td>2000</td>\n",
       "      <td>manual</td>\n",
       "      <td>118</td>\n",
       "      <td>150000</td>\n",
       "      <td>petrol</td>\n",
       "      <td>bmw</td>\n",
       "      <td>no</td>\n",
       "      <td>3er</td>\n",
       "    </tr>\n",
       "    <tr>\n",
       "      <th>250685</th>\n",
       "      <td>270</td>\n",
       "      <td>sedan</td>\n",
       "      <td>2016</td>\n",
       "      <td>manual</td>\n",
       "      <td>58</td>\n",
       "      <td>150000</td>\n",
       "      <td>petrol</td>\n",
       "      <td>opel</td>\n",
       "      <td>yes</td>\n",
       "      <td>other</td>\n",
       "    </tr>\n",
       "    <tr>\n",
       "      <th>79840</th>\n",
       "      <td>1100</td>\n",
       "      <td>bus</td>\n",
       "      <td>2001</td>\n",
       "      <td>manual</td>\n",
       "      <td>129</td>\n",
       "      <td>150000</td>\n",
       "      <td>gasoline</td>\n",
       "      <td>kia</td>\n",
       "      <td>no</td>\n",
       "      <td>carnival</td>\n",
       "    </tr>\n",
       "    <tr>\n",
       "      <th>280461</th>\n",
       "      <td>6100</td>\n",
       "      <td>small</td>\n",
       "      <td>2010</td>\n",
       "      <td>manual</td>\n",
       "      <td>82</td>\n",
       "      <td>70000</td>\n",
       "      <td>petrol</td>\n",
       "      <td>ford</td>\n",
       "      <td>NaN</td>\n",
       "      <td>fiesta</td>\n",
       "    </tr>\n",
       "    <tr>\n",
       "      <th>278804</th>\n",
       "      <td>1200</td>\n",
       "      <td>sedan</td>\n",
       "      <td>1999</td>\n",
       "      <td>manual</td>\n",
       "      <td>58</td>\n",
       "      <td>100000</td>\n",
       "      <td>petrol</td>\n",
       "      <td>renault</td>\n",
       "      <td>no</td>\n",
       "      <td>clio</td>\n",
       "    </tr>\n",
       "  </tbody>\n",
       "</table>\n",
       "</div>"
      ],
      "text/plain": [
       "        price vehicle_type  registration_year gearbox  power  kilometer  \\\n",
       "341276   2800        sedan               2000  manual    118     150000   \n",
       "250685    270        sedan               2016  manual     58     150000   \n",
       "79840    1100          bus               2001  manual    129     150000   \n",
       "280461   6100        small               2010  manual     82      70000   \n",
       "278804   1200        sedan               1999  manual     58     100000   \n",
       "\n",
       "       fuel_type    brand repaired model_other  \n",
       "341276    petrol      bmw       no         3er  \n",
       "250685    petrol     opel      yes       other  \n",
       "79840   gasoline      kia       no    carnival  \n",
       "280461    petrol     ford      NaN      fiesta  \n",
       "278804    petrol  renault       no        clio  "
      ]
     },
     "execution_count": 20,
     "metadata": {},
     "output_type": "execute_result"
    }
   ],
   "source": [
    "prep_1(data_1)"
   ]
  },
  {
   "cell_type": "markdown",
   "metadata": {},
   "source": [
    "*ВЫВОД:* Итак, удалили дубликаты, неинформативные столбцы, заполнили пропуски. \n",
    "\n",
    "Удалены строки с некорректным годом выпуска автомобилей: меньше 1910 и больше 2025.\n",
    "\n",
    "в важном столбце Модель малочисленные модели и пропуски заменили значением other.\n",
    "\n",
    "В новой таблице также есть много дубликатов, но их удалаять не требуется, т.к. совпадение автмобилей по 10 признакам возможно. Остался один столбец, с пропусками repaired. О заполнении пропусков решим после исследовательского анализа."
   ]
  },
  {
   "cell_type": "markdown",
   "metadata": {},
   "source": [
    "### Исследовательский анализ (частичный)"
   ]
  },
  {
   "cell_type": "code",
   "execution_count": 21,
   "metadata": {},
   "outputs": [],
   "source": [
    "def categ (column, quantity, name): #функция для анализа категориальных столбцов\n",
    "    plt.figure(figsize=(22, 18))\n",
    "    v1 = data_1[column].value_counts().head(quantity)\n",
    "\n",
    "\n",
    "    lb1 = v1.index\n",
    "    #lb2 = v2.index\n",
    "\n",
    "    fig, ax = plt.subplots(figsize=(10, 5))\n",
    "\n",
    "    ax.pie(v1, labels=lb1, autopct='%1.1f%%')\n",
    "    ax.set_title(name)\n",
    "\n",
    "    return"
   ]
  },
  {
   "cell_type": "code",
   "execution_count": 22,
   "metadata": {},
   "outputs": [],
   "source": [
    "def numbers(df, column, x_title,y_title): #функция для анализа числовых столбцов\n",
    "    plt.figure(figsize=(16, 12))\n",
    "\n",
    "    plt.subplot(2,2,1)\n",
    "    df[column].hist(bins=15)\n",
    "    plt.ylabel(y_title)\n",
    "    plt.xlabel(x_title)\n",
    "    plt.title('Распределение тренировочных данных')\n",
    "\n",
    "    \n",
    "    try:\n",
    "        plt.subplot(2,2,3)\n",
    "        df.boxplot(column, color = 'green')\n",
    "        plt.ylabel(x_title)\n",
    "        plt.title('Ящик с усами тренировоных данных')\n",
    "\n",
    "    except:\n",
    "        print('Ящик с усами не построить')\n",
    "    plt.show()\n",
    "    \n",
    "    print('Статистика тренировочных данных')\n",
    "    print(df[column].describe())#datetime_is_numeric=True))\n",
    "\n",
    "    return;"
   ]
  },
  {
   "cell_type": "markdown",
   "metadata": {},
   "source": [
    "#### Мощность (power)"
   ]
  },
  {
   "cell_type": "code",
   "execution_count": 23,
   "metadata": {},
   "outputs": [
    {
     "data": {
      "image/png": "[encoded data removed]",
      "text/plain": [
       "<Figure size 1152x864 with 2 Axes>"
      ]
     },
     "metadata": {
      "needs_background": "light"
     },
     "output_type": "display_data"
    },
    {
     "name": "stdout",
     "output_type": "stream",
     "text": [
      "Статистика тренировочных данных\n",
      "count    354198.000000\n",
      "mean        110.078242\n",
      "std         189.536766\n",
      "min           0.000000\n",
      "25%          69.000000\n",
      "50%         105.000000\n",
      "75%         143.000000\n",
      "max       20000.000000\n",
      "Name: power, dtype: float64\n"
     ]
    }
   ],
   "source": [
    "numbers(data_1, 'power', \"лошадинных сил\", 'количество')"
   ]
  },
  {
   "cell_type": "code",
   "execution_count": 24,
   "metadata": {},
   "outputs": [
    {
     "data": {
      "image/png": "[encoded data removed]",
      "text/plain": [
       "<Figure size 432x288 with 1 Axes>"
      ]
     },
     "metadata": {
      "needs_background": "light"
     },
     "output_type": "display_data"
    }
   ],
   "source": [
    "data_1['power'].hist(bins=15, range=(0,1000));\n",
    "plt.ylabel('количество')\n",
    "plt.xlabel(\"лошадинных сил\")\n",
    "plt.title('Распределение мощности от 0 до 1000 лошадинных сил');"
   ]
  },
  {
   "cell_type": "code",
   "execution_count": 25,
   "metadata": {
    "scrolled": true
   },
   "outputs": [
    {
     "data": {
      "image/png": "[encoded data removed]",
      "text/plain": [
       "<Figure size 432x288 with 1 Axes>"
      ]
     },
     "metadata": {
      "needs_background": "light"
     },
     "output_type": "display_data"
    }
   ],
   "source": [
    "data_1['power'].hist(bins=15, range=(0,50))\n",
    "plt.ylabel('количество')\n",
    "plt.xlabel(\"лошадинных сил\")\n",
    "plt.title('Распределение мощности от 0 до 50 лошадинных сил');"
   ]
  },
  {
   "cell_type": "markdown",
   "metadata": {},
   "source": [
    "Столбец Мощность содержит большое количество выбросов. Рассмотрев ближе график, видим, что 40 тысяч строк (более 10 %) содержат мощность 0, т.е. не заполнена. Заполним мощность таких автомобилей медианным значением по группе моделей."
   ]
  },
  {
   "cell_type": "code",
   "execution_count": 26,
   "metadata": {},
   "outputs": [],
   "source": [
    "for p in data_1['model_other'].unique(): #Определим среднюю мощность моделей авто\n",
    "    cp = data_1.loc[(data_1['model_other'] == p), 'power'].median()\n",
    "    if cp == 0:\n",
    "        print(f'Мощность {p} равна 0')\n",
    " "
   ]
  },
  {
   "cell_type": "code",
   "execution_count": 27,
   "metadata": {},
   "outputs": [],
   "source": [
    "for p in data_1['model_other'].unique(): #Определим медианную мощность моделей авто  в зависимости от модели\n",
    "    cp = data_1.loc[(data_1['model_other'] == p), 'power'].median()\n",
    "    data_1.loc[(data_1['model_other'] == p) & (data_1['power'] == 0),'power'] = cp"
   ]
  },
  {
   "cell_type": "code",
   "execution_count": 28,
   "metadata": {
    "scrolled": true
   },
   "outputs": [
    {
     "data": {
      "image/png": "[encoded data removed]",
      "text/plain": [
       "<Figure size 432x288 with 1 Axes>"
      ]
     },
     "metadata": {
      "needs_background": "light"
     },
     "output_type": "display_data"
    }
   ],
   "source": [
    "data_1['power'].hist(bins=15, range=(0,50))\n",
    "plt.ylabel('количество')\n",
    "plt.xlabel(\"лошадинных сил\")\n",
    "plt.title('Распределение мощности от 0 до 50 лошадинных сил после замены нулевых значений медианными значениями');"
   ]
  },
  {
   "cell_type": "code",
   "execution_count": 29,
   "metadata": {
    "scrolled": true
   },
   "outputs": [
    {
     "data": {
      "text/plain": [
       "count    354198.000000\n",
       "mean        121.700806\n",
       "std         185.926034\n",
       "min           1.000000\n",
       "25%          75.000000\n",
       "50%         109.000000\n",
       "75%         143.000000\n",
       "max       20000.000000\n",
       "Name: power, dtype: float64"
      ]
     },
     "execution_count": 29,
     "metadata": {},
     "output_type": "execute_result"
    }
   ],
   "source": [
    "data_1['power'].describe()"
   ]
  },
  {
   "cell_type": "markdown",
   "metadata": {},
   "source": [
    "Итак, больше автомобилей с нулевой мощностью нет, их мощность заменена на медианное значение в завиcимости от модели"
   ]
  },
  {
   "cell_type": "markdown",
   "metadata": {},
   "source": [
    "#### Наличие ремонта (repaired)"
   ]
  },
  {
   "cell_type": "code",
   "execution_count": 30,
   "metadata": {},
   "outputs": [
    {
     "data": {
      "text/plain": [
       "no     247146\n",
       "yes     36045\n",
       "Name: repaired, dtype: int64"
      ]
     },
     "execution_count": 30,
     "metadata": {},
     "output_type": "execute_result"
    }
   ],
   "source": [
    "data_1['repaired'].fillna('yes')\n",
    "data_1['repaired'].value_counts()"
   ]
  },
  {
   "cell_type": "code",
   "execution_count": 31,
   "metadata": {
    "scrolled": true
   },
   "outputs": [
    {
     "data": {
      "text/plain": [
       "<Figure size 1584x1296 with 0 Axes>"
      ]
     },
     "metadata": {},
     "output_type": "display_data"
    },
    {
     "data": {
      "image/png": "[encoded data removed]",
      "text/plain": [
       "<Figure size 720x360 with 1 Axes>"
      ]
     },
     "metadata": {},
     "output_type": "display_data"
    }
   ],
   "source": [
    "categ(\"repaired\", 3, 'Обзор категорий наличия ремонта')"
   ]
  },
  {
   "cell_type": "markdown",
   "metadata": {},
   "source": [
    "Налицо дисбаланс данных. Вспомним, что в этом столбце 20% пропусков, которые придется оставить."
   ]
  },
  {
   "cell_type": "markdown",
   "metadata": {},
   "source": [
    "#### Модели и тип коробки передач"
   ]
  },
  {
   "cell_type": "code",
   "execution_count": 32,
   "metadata": {
    "scrolled": true
   },
   "outputs": [
    {
     "data": {
      "text/plain": [
       "<Figure size 1584x1296 with 0 Axes>"
      ]
     },
     "metadata": {},
     "output_type": "display_data"
    },
    {
     "data": {
      "image/png": "[encoded data removed]",
      "text/plain": [
       "<Figure size 720x360 with 1 Axes>"
      ]
     },
     "metadata": {},
     "output_type": "display_data"
    }
   ],
   "source": [
    "categ('model_other', 240, 'Обзор категорий модели автомобиля')"
   ]
  },
  {
   "cell_type": "markdown",
   "metadata": {},
   "source": [
    "\"Другие\" - самая большая категория."
   ]
  },
  {
   "cell_type": "code",
   "execution_count": 33,
   "metadata": {
    "scrolled": true
   },
   "outputs": [
    {
     "data": {
      "text/plain": [
       "<Figure size 1584x1296 with 0 Axes>"
      ]
     },
     "metadata": {},
     "output_type": "display_data"
    },
    {
     "data": {
      "image/png": "[encoded data removed]",
      "text/plain": [
       "<Figure size 720x360 with 1 Axes>"
      ]
     },
     "metadata": {},
     "output_type": "display_data"
    }
   ],
   "source": [
    "categ('gearbox', 20, 'Обзор категорий коробки передач автомобиля')"
   ]
  },
  {
   "cell_type": "markdown",
   "metadata": {},
   "source": [
    "*ВЫВОД:* получили таблицу, где 354198 строк и 10 столбцов. Есть выбросы, дисбаланс, пропуски, большая часть автомобилей с неопределенной категорией."
   ]
  },
  {
   "cell_type": "code",
   "execution_count": 34,
   "metadata": {},
   "outputs": [
    {
     "data": {
      "text/plain": [
       "50929"
      ]
     },
     "execution_count": 34,
     "metadata": {},
     "output_type": "execute_result"
    }
   ],
   "source": [
    "# КОД РЕВЬЮЕРА\n",
    "data_1.duplicated().sum()"
   ]
  },
  {
   "cell_type": "markdown",
   "metadata": {},
   "source": [
    "#### Контроль дубликатов"
   ]
  },
  {
   "cell_type": "markdown",
   "metadata": {},
   "source": [
    "После предобработки и прочих манипуляций с таблицей необходимо проверить дубликаты и удалить их."
   ]
  },
  {
   "cell_type": "code",
   "execution_count": 35,
   "metadata": {},
   "outputs": [
    {
     "name": "stdout",
     "output_type": "stream",
     "text": [
      "Количество строк таблицы до удаления дубликатов:  354198\n",
      "Размер таблицы после удаления дубликатов:  (303269, 10)\n"
     ]
    }
   ],
   "source": [
    "print(\"Количество строк таблицы до удаления дубликатов: \", data_1.shape[0])\n",
    "data_1 = data_1.drop_duplicates().reset_index(drop=True)\n",
    "print(\"Размер таблицы после удаления дубликатов: \", data_1.shape)"
   ]
  },
  {
   "cell_type": "markdown",
   "metadata": {},
   "source": [
    "## Обучение моделей"
   ]
  },
  {
   "cell_type": "markdown",
   "metadata": {},
   "source": [
    "### Модель DecisionTreeRegressor"
   ]
  },
  {
   "cell_type": "markdown",
   "metadata": {},
   "source": [
    "Подготовим обучающую валидационную и тестовую выборки. Отделим целевой признак от входных."
   ]
  },
  {
   "cell_type": "markdown",
   "metadata": {},
   "source": [
    "#### Подготовка признаков"
   ]
  },
  {
   "cell_type": "code",
   "execution_count": 36,
   "metadata": {},
   "outputs": [],
   "source": [
    "\n",
    "features_train, features_test, target_train, target_test = train_test_split(\n",
    "    data_1.drop('price', axis=1), data_1.price, test_size=0.25, random_state=1234)\n"
   ]
  },
  {
   "cell_type": "code",
   "execution_count": 37,
   "metadata": {},
   "outputs": [
    {
     "name": "stdout",
     "output_type": "stream",
     "text": [
      "(227451, 9)\n",
      "(75818, 9)\n",
      "(227451,)\n",
      "(75818,)\n"
     ]
    }
   ],
   "source": [
    "print(features_train.shape)\n",
    "print(features_test.shape)\n",
    "print(target_train.shape)\n",
    "print(target_test.shape)\n"
   ]
  },
  {
   "cell_type": "code",
   "execution_count": 38,
   "metadata": {},
   "outputs": [
    {
     "name": "stdout",
     "output_type": "stream",
     "text": [
      "<class 'pandas.core.frame.DataFrame'>\n",
      "Int64Index: 227451 entries, 39253 to 165158\n",
      "Data columns (total 9 columns):\n",
      " #   Column             Non-Null Count   Dtype  \n",
      "---  ------             --------------   -----  \n",
      " 0   vehicle_type       227451 non-null  object \n",
      " 1   registration_year  227451 non-null  int64  \n",
      " 2   gearbox            227451 non-null  object \n",
      " 3   power              227451 non-null  float64\n",
      " 4   kilometer          227451 non-null  int64  \n",
      " 5   fuel_type          227451 non-null  object \n",
      " 6   brand              227451 non-null  object \n",
      " 7   repaired           180828 non-null  object \n",
      " 8   model_other        227451 non-null  object \n",
      "dtypes: float64(1), int64(2), object(6)\n",
      "memory usage: 17.4+ MB\n"
     ]
    }
   ],
   "source": [
    "features_train.info()"
   ]
  },
  {
   "cell_type": "code",
   "execution_count": 39,
   "metadata": {},
   "outputs": [],
   "source": [
    "num_columns = ['registration_year', 'power', 'kilometer'] \n",
    "ohe_columns = ['vehicle_type', 'gearbox', 'fuel_type','repaired']\n",
    "many_category_columns =['model_other', 'brand']"
   ]
  },
  {
   "cell_type": "markdown",
   "metadata": {},
   "source": [
    "#### Подготовка признаков, перебор гиперпараметров, обучение в пайплайне."
   ]
  },
  {
   "cell_type": "code",
   "execution_count": 40,
   "metadata": {},
   "outputs": [
    {
     "name": "stdout",
     "output_type": "stream",
     "text": [
      "Лучшие параметры модели -  Pipeline(steps=[('preprocessor',\n",
      "                 ColumnTransformer(remainder='passthrough',\n",
      "                                   transformers=[('ohe',\n",
      "                                                  Pipeline(steps=[('simpleImputer_ohe',\n",
      "                                                                   SimpleImputer(strategy='most_frequent')),\n",
      "                                                                  ('ohe',\n",
      "                                                                   OneHotEncoder(drop='first',\n",
      "                                                                                 handle_unknown='ignore',\n",
      "                                                                                 sparse_output=False))]),\n",
      "                                                  ['vehicle_type', 'gearbox',\n",
      "                                                   'fuel_type', 'repaired']),\n",
      "                                                 ('target',\n",
      "                                                  TargetEncoder(smoothing=1.0),\n",
      "                                                  ['model_other', 'brand']),\n",
      "                                                 ('num', StandardScaler(),\n",
      "                                                  ['registration_year', 'power',\n",
      "                                                   'kilometer'])])),\n",
      "                ('models',\n",
      "                 DecisionTreeRegressor(max_depth=10, random_state=1234))])\n",
      "RMSE этой модели на тренировочных данных -  2154.0\n",
      "Время обучения модели на оптимальном наборе данных - 1.1611599445343017\n",
      "Время предсказания модели -  0.10559372901916504\n",
      "Время работы пайплайна 55.548147678375244\n"
     ]
    }
   ],
   "source": [
    "start = time.time()\n",
    "ohe_pipe = Pipeline(\n",
    "    [('simpleImputer_ohe', SimpleImputer(missing_values=np.nan, strategy='most_frequent')),\n",
    "     ('ohe', OneHotEncoder(drop='first', handle_unknown='ignore', sparse_output=False))\n",
    "    ]\n",
    "    )\n",
    "#ord_pipe = Pipeline(\n",
    "#    [('simpleImputer_before_ord', SimpleImputer(missing_values=np.nan, strategy='most_frequent')),\n",
    "#     ('ord',  OrdinalEncoder(handle_unknown='use_encoded_value', unknown_value=np.nan\n",
    "#            )\n",
    "#        ),\n",
    "#     ('simpleImputer_after_ord', SimpleImputer(missing_values=np.nan, strategy='most_frequent'))\n",
    "#    ]\n",
    "#)\n",
    "data_preprocessor = ColumnTransformer( \n",
    "    [('ohe', ohe_pipe, ohe_columns),\n",
    "     ('target', TargetEncoder(smoothing=1.0), many_category_columns),\n",
    "     ('num', StandardScaler(), num_columns)\n",
    "    ], \n",
    "    remainder='passthrough'\n",
    ").set_output(transform=\"pandas\")\n",
    "\n",
    "#Добавляю полный пайплайн\n",
    "pipe_final = Pipeline([\n",
    "    ('preprocessor', data_preprocessor),\n",
    "    ('models', DecisionTreeRegressor(random_state=RANDOM_STATE))\n",
    "])\n",
    "\n",
    "parameters = {\n",
    "    'models__max_depth': range(1, 11)\n",
    "#    'models__max_features': range(2, 9)    \n",
    "}\n",
    "\n",
    "gs = GridSearchCV(\n",
    "    pipe_final,\n",
    "    param_grid=parameters,\n",
    "    scoring='neg_root_mean_squared_error',\n",
    "    cv=5,\n",
    "    n_jobs=-1,\n",
    ")\n",
    "\n",
    "gs.fit(features_train, target_train) \n",
    "\n",
    "print('Лучшие параметры модели - ', gs.best_estimator_)\n",
    "\n",
    "print('RMSE этой модели на тренировочных данных - ', -round(gs.best_score_,0))\n",
    "\n",
    "print('Время обучения модели на оптимальном наборе данных -',gs.cv_results_['mean_fit_time'][gs.best_index_])\n",
    "\n",
    "y_pred = gs.predict(features_train)\n",
    "\n",
    "print('Время предсказания модели - ', gs.cv_results_['mean_score_time'][gs.best_index_])\n",
    "\n",
    "print('Время работы пайплайна',time.time() - start)"
   ]
  },
  {
   "cell_type": "markdown",
   "metadata": {},
   "source": [
    "*ВЫВОД:* Модель DecisionTreeRegressor(max_depth=10, random_state=1234) обучилась за 1 с. Предсказала за 0,1 с. Метрика RMSE на тренировочных данных 2154."
   ]
  },
  {
   "cell_type": "markdown",
   "metadata": {},
   "source": [
    "### Модель LightGBM"
   ]
  },
  {
   "cell_type": "markdown",
   "metadata": {},
   "source": [
    "#### Подготовка признаков"
   ]
  },
  {
   "cell_type": "code",
   "execution_count": 47,
   "metadata": {},
   "outputs": [
    {
     "name": "stdout",
     "output_type": "stream",
     "text": [
      "<class 'pandas.core.frame.DataFrame'>\n",
      "Int64Index: 227451 entries, 39253 to 165158\n",
      "Data columns (total 9 columns):\n",
      " #   Column             Non-Null Count   Dtype  \n",
      "---  ------             --------------   -----  \n",
      " 0   vehicle_type       227451 non-null  object \n",
      " 1   registration_year  227451 non-null  int64  \n",
      " 2   gearbox            227451 non-null  object \n",
      " 3   power              227451 non-null  float64\n",
      " 4   kilometer          227451 non-null  int64  \n",
      " 5   fuel_type          227451 non-null  object \n",
      " 6   brand              227451 non-null  object \n",
      " 7   repaired           180828 non-null  object \n",
      " 8   model_other        227451 non-null  object \n",
      "dtypes: float64(1), int64(2), object(6)\n",
      "memory usage: 17.4+ MB\n"
     ]
    }
   ],
   "source": [
    "features_train.info()"
   ]
  },
  {
   "cell_type": "code",
   "execution_count": 48,
   "metadata": {},
   "outputs": [
    {
     "name": "stdout",
     "output_type": "stream",
     "text": [
      "<class 'pandas.core.frame.DataFrame'>\n",
      "RangeIndex: 303269 entries, 0 to 303268\n",
      "Data columns (total 10 columns):\n",
      " #   Column             Non-Null Count   Dtype   \n",
      "---  ------             --------------   -----   \n",
      " 0   price              303269 non-null  int64   \n",
      " 1   vehicle_type       303269 non-null  category\n",
      " 2   registration_year  303269 non-null  int64   \n",
      " 3   gearbox            303269 non-null  category\n",
      " 4   power              303269 non-null  float64 \n",
      " 5   kilometer          303269 non-null  int64   \n",
      " 6   fuel_type          303269 non-null  category\n",
      " 7   brand              303269 non-null  category\n",
      " 8   repaired           241165 non-null  category\n",
      " 9   model_other        303269 non-null  category\n",
      "dtypes: category(6), float64(1), int64(3)\n",
      "memory usage: 11.3 MB\n"
     ]
    }
   ],
   "source": [
    "categorical_features =['vehicle_type', 'gearbox', 'fuel_type', 'brand', 'repaired', 'model_other']\n",
    "for col in categorical_features:\n",
    "    data_1[col] = data_1[col].astype('category')\n",
    "    \n",
    "data_1.info()    "
   ]
  },
  {
   "cell_type": "code",
   "execution_count": 49,
   "metadata": {},
   "outputs": [],
   "source": [
    "X_train, X_test, y_train, y_test = train_test_split(\n",
    "    data_1.drop('price', axis=1), data_1.price, test_size=0.25, random_state=RANDOM_STATE)"
   ]
  },
  {
   "cell_type": "code",
   "execution_count": 50,
   "metadata": {},
   "outputs": [],
   "source": [
    "train_data = lgb.Dataset(X_train, label=y_train)\n",
    "                      "
   ]
  },
  {
   "cell_type": "markdown",
   "metadata": {},
   "source": [
    "#### Обучение"
   ]
  },
  {
   "cell_type": "code",
   "execution_count": 51,
   "metadata": {},
   "outputs": [
    {
     "name": "stderr",
     "output_type": "stream",
     "text": [
      "/opt/conda/lib/python3.9/site-packages/lightgbm/basic.py:1487: UserWarning: categorical_feature keyword has been found in `params` and will be ignored.\n",
      "Please use categorical_feature argument of the Dataset constructor to pass this parameter.\n",
      "  _log_warning(f'{key} keyword has been found in `params` and will be ignored.\\n'\n",
      "/opt/conda/lib/python3.9/site-packages/lightgbm/basic.py:1513: UserWarning: categorical_feature in param dict is overridden.\n",
      "  _log_warning(f'{cat_alias} in param dict is overridden.')\n"
     ]
    },
    {
     "name": "stdout",
     "output_type": "stream",
     "text": [
      "[LightGBM] [Warning] categorical_feature is set=vehicle_type,gearbox,fuel_type,brand,repaired,model_other, categorical_column=0,2,5,6,7,8 will be ignored. Current value: categorical_feature=vehicle_type,gearbox,fuel_type,brand,repaired,model_other\n",
      "[LightGBM] [Warning] Auto-choosing row-wise multi-threading, the overhead of testing was 0.088822 seconds.\n",
      "You can set `force_row_wise=true` to remove the overhead.\n",
      "And if memory is not enough, you can set `force_col_wise=true`.\n",
      "[LightGBM] [Info] Total Bins 655\n",
      "[LightGBM] [Info] Number of data points in the train set: 227451, number of used features: 9\n",
      "[LightGBM] [Info] Start training from score 4547.069184\n",
      "\n",
      "Время обучения модели LightGBM 5.930392265319824\n"
     ]
    }
   ],
   "source": [
    "start = time.time()\n",
    "\n",
    "params = {\n",
    "    \"objective\": \"regression\",\n",
    "    \"metric\": \"rmse\",\n",
    "    \"learning_rate\":0.1,\n",
    "    \"num_leaves\":40,\n",
    "    \"categorical_feature\": categorical_features\n",
    "}\n",
    "model = lgb.train(params, train_data)\n",
    "print()\n",
    "print('Время обучения модели LightGBM',time.time() - start)"
   ]
  },
  {
   "cell_type": "code",
   "execution_count": 52,
   "metadata": {},
   "outputs": [
    {
     "name": "stdout",
     "output_type": "stream",
     "text": [
      "Время предсказания модели LightGBM 2.6063027381896973\n",
      "RMSE этой модели на тренировочных данных: 1763\n"
     ]
    }
   ],
   "source": [
    "start = time.time()\n",
    "y_pred = model.predict(X_train)\n",
    "print('Время предсказания модели LightGBM',time.time() - start)\n",
    "\n",
    "\n",
    "rmse = root_mean_squared_error(y_train, y_pred)\n",
    "#result = cross_val_score(model, X_train, y_train, cv=5, scoring='neg_root_mean_squared_error').mean()\n",
    "\n",
    "print(f\"RMSE этой модели на тренировочных данных: {rmse:.0f}\")"
   ]
  },
  {
   "cell_type": "markdown",
   "metadata": {},
   "source": [
    "Итак, время обучения модели LightGBM 6 секунды. Предсказала за 3 с. Метрика RMSE на тренировочных данных 1763."
   ]
  },
  {
   "cell_type": "markdown",
   "metadata": {},
   "source": [
    "## Анализ моделей"
   ]
  },
  {
   "cell_type": "markdown",
   "metadata": {},
   "source": [
    "Несмотря на бОльшее время обучения и предсказания, модель LightGBM точнее предсказывает цену автомобиля, чем DecisionTreeRegressor. Проверим ее качество на тестовых данных."
   ]
  },
  {
   "cell_type": "code",
   "execution_count": 53,
   "metadata": {},
   "outputs": [
    {
     "name": "stdout",
     "output_type": "stream",
     "text": [
      "Время предсказания модели LightGBM 0.8921358585357666\n",
      "RMSE этой модели на тренировочных данных: 1831\n"
     ]
    }
   ],
   "source": [
    "start = time.time()\n",
    "y_pred = model.predict(X_test)\n",
    "print('Время предсказания модели LightGBM',time.time() - start)\n",
    "\n",
    "\n",
    "rmse = root_mean_squared_error(y_test, y_pred)\n",
    "print(f\"RMSE этой модели на тренировочных данных: {rmse:.0f}\")"
   ]
  },
  {
   "cell_type": "markdown",
   "metadata": {},
   "source": [
    "Время предсказания на тестовой выборке составило 1 с, качество предсказания также хорошее: RMSE = 1859."
   ]
  },
  {
   "cell_type": "markdown",
   "metadata": {},
   "source": [
    "**ВЫВОД:** *Найдена качественная модель предсказания рыночной стоимости автомобиля. Это LightGBM (\"learning_rate\":0.1, \"num_leaves\":40). Она обучается за 6 с, предсказывает за 3 с. RMSE  модели 1831.*"
   ]
  },
  {
   "cell_type": "code",
   "execution_count": 54,
   "metadata": {},
   "outputs": [
    {
     "name": "stdout",
     "output_type": "stream",
     "text": [
      "Время выполнения кода 95.82582640647888\n"
     ]
    }
   ],
   "source": [
    "print('Время выполнения кода',time.time() - start_1)"
   ]
  },
  {
   "cell_type": "markdown",
   "metadata": {},
   "source": [
    "## Чек-лист проверки"
   ]
  },
  {
   "cell_type": "markdown",
   "metadata": {},
   "source": [
    "Поставьте 'x' в выполненных пунктах. Далее нажмите Shift+Enter."
   ]
  },
  {
   "cell_type": "markdown",
   "metadata": {},
   "source": [
    "- [x]  Jupyter Notebook открыт\n",
    "- [ ]  Весь код выполняется без ошибок\n",
    "- [ ]  Ячейки с кодом расположены в порядке исполнения\n",
    "- [ ]  Выполнена загрузка и подготовка данных\n",
    "- [ ]  Выполнено обучение моделей\n",
    "- [ ]  Есть анализ скорости работы и качества моделей"
   ]
  },
  {
   "cell_type": "code",
   "execution_count": null,
   "metadata": {},
   "outputs": [],
   "source": []
  }
 ],
 "metadata": {
  "ExecuteTimeLog": [
   {
    "duration": 404,
    "start_time": "2025-04-07T07:04:50.931Z"
   },
   {
    "duration": 1147,
    "start_time": "2025-04-07T07:05:49.008Z"
   },
   {
    "duration": 806,
    "start_time": "2025-04-07T07:06:09.209Z"
   },
   {
    "duration": 22,
    "start_time": "2025-04-07T07:06:40.310Z"
   },
   {
    "duration": 20,
    "start_time": "2025-04-07T07:17:08.296Z"
   },
   {
    "duration": 133,
    "start_time": "2025-04-07T07:18:06.729Z"
   },
   {
    "duration": 130,
    "start_time": "2025-04-07T07:18:10.913Z"
   },
   {
    "duration": 79,
    "start_time": "2025-04-07T07:23:52.162Z"
   },
   {
    "duration": 4,
    "start_time": "2025-04-07T07:26:16.667Z"
   },
   {
    "duration": 4434,
    "start_time": "2025-04-07T07:26:40.987Z"
   },
   {
    "duration": 5,
    "start_time": "2025-04-07T07:27:04.241Z"
   },
   {
    "duration": 4293,
    "start_time": "2025-04-07T07:27:04.818Z"
   },
   {
    "duration": 2,
    "start_time": "2025-04-07T07:52:57.499Z"
   },
   {
    "duration": 63,
    "start_time": "2025-04-07T07:53:19.056Z"
   },
   {
    "duration": 3,
    "start_time": "2025-04-07T07:53:22.233Z"
   },
   {
    "duration": 6,
    "start_time": "2025-04-07T08:01:07.683Z"
   },
   {
    "duration": 10,
    "start_time": "2025-04-07T08:01:15.188Z"
   },
   {
    "duration": 3,
    "start_time": "2025-04-07T08:01:24.390Z"
   },
   {
    "duration": 796,
    "start_time": "2025-04-07T08:01:24.394Z"
   },
   {
    "duration": 21,
    "start_time": "2025-04-07T08:01:25.192Z"
   },
   {
    "duration": 148,
    "start_time": "2025-04-07T08:01:25.215Z"
   },
   {
    "duration": 87,
    "start_time": "2025-04-07T08:01:25.365Z"
   },
   {
    "duration": 0,
    "start_time": "2025-04-07T08:01:25.454Z"
   },
   {
    "duration": 3,
    "start_time": "2025-04-07T08:01:33.025Z"
   },
   {
    "duration": 4,
    "start_time": "2025-04-07T08:01:34.689Z"
   },
   {
    "duration": 4,
    "start_time": "2025-04-07T08:02:42.745Z"
   },
   {
    "duration": 4073,
    "start_time": "2025-04-07T08:02:43.327Z"
   },
   {
    "duration": 9,
    "start_time": "2025-04-07T08:12:16.758Z"
   },
   {
    "duration": 33,
    "start_time": "2025-04-07T08:12:28.893Z"
   },
   {
    "duration": 56,
    "start_time": "2025-04-07T08:12:45.521Z"
   },
   {
    "duration": 5,
    "start_time": "2025-04-07T08:29:20.863Z"
   },
   {
    "duration": 4402,
    "start_time": "2025-04-07T08:29:22.289Z"
   },
   {
    "duration": 4,
    "start_time": "2025-04-07T09:39:13.653Z"
   },
   {
    "duration": 9,
    "start_time": "2025-04-07T09:40:45.506Z"
   },
   {
    "duration": 356,
    "start_time": "2025-04-07T09:41:06.648Z"
   },
   {
    "duration": 521,
    "start_time": "2025-04-07T09:41:12.265Z"
   },
   {
    "duration": 4,
    "start_time": "2025-04-07T09:41:43.400Z"
   },
   {
    "duration": 501,
    "start_time": "2025-04-07T09:41:44.895Z"
   },
   {
    "duration": 401,
    "start_time": "2025-04-07T09:46:04.831Z"
   },
   {
    "duration": 128,
    "start_time": "2025-04-07T09:46:17.639Z"
   },
   {
    "duration": 142,
    "start_time": "2025-04-07T09:50:18.575Z"
   },
   {
    "duration": 930,
    "start_time": "2025-04-08T07:02:07.109Z"
   },
   {
    "duration": 976,
    "start_time": "2025-04-08T07:02:08.042Z"
   },
   {
    "duration": 29,
    "start_time": "2025-04-08T07:02:09.020Z"
   },
   {
    "duration": 150,
    "start_time": "2025-04-08T07:02:09.062Z"
   },
   {
    "duration": 21,
    "start_time": "2025-04-08T07:02:09.214Z"
   },
   {
    "duration": 10,
    "start_time": "2025-04-08T07:02:09.237Z"
   },
   {
    "duration": 5329,
    "start_time": "2025-04-08T07:02:09.249Z"
   },
   {
    "duration": 60,
    "start_time": "2025-04-08T07:02:14.579Z"
   },
   {
    "duration": 21,
    "start_time": "2025-04-08T07:02:14.641Z"
   },
   {
    "duration": 710,
    "start_time": "2025-04-08T07:02:14.665Z"
   },
   {
    "duration": 175,
    "start_time": "2025-04-08T07:02:15.377Z"
   },
   {
    "duration": 171,
    "start_time": "2025-04-08T07:02:15.554Z"
   },
   {
    "duration": 3,
    "start_time": "2025-04-08T07:02:15.726Z"
   },
   {
    "duration": 4,
    "start_time": "2025-04-08T07:04:57.316Z"
   },
   {
    "duration": 3,
    "start_time": "2025-04-08T07:05:09.620Z"
   },
   {
    "duration": 4,
    "start_time": "2025-04-08T07:05:19.084Z"
   },
   {
    "duration": 4,
    "start_time": "2025-04-08T07:05:29.098Z"
   },
   {
    "duration": 141,
    "start_time": "2025-04-08T07:05:38.163Z"
   },
   {
    "duration": 4775,
    "start_time": "2025-04-08T07:07:46.086Z"
   },
   {
    "duration": 4975,
    "start_time": "2025-04-08T07:09:48.867Z"
   },
   {
    "duration": 5073,
    "start_time": "2025-04-08T07:09:57.802Z"
   },
   {
    "duration": 5093,
    "start_time": "2025-04-08T07:10:48.218Z"
   },
   {
    "duration": 71,
    "start_time": "2025-04-08T07:14:40.914Z"
   },
   {
    "duration": 63,
    "start_time": "2025-04-08T07:14:59.274Z"
   },
   {
    "duration": 74,
    "start_time": "2025-04-08T07:15:42.776Z"
   },
   {
    "duration": 9,
    "start_time": "2025-04-08T07:19:01.875Z"
   },
   {
    "duration": 30,
    "start_time": "2025-04-08T07:19:21.250Z"
   },
   {
    "duration": 31,
    "start_time": "2025-04-08T07:19:35.313Z"
   },
   {
    "duration": 77,
    "start_time": "2025-04-08T07:19:56.145Z"
   },
   {
    "duration": 10388,
    "start_time": "2025-04-08T07:22:00.782Z"
   },
   {
    "duration": 151,
    "start_time": "2025-04-08T07:23:15.890Z"
   },
   {
    "duration": 147,
    "start_time": "2025-04-08T07:23:17.938Z"
   },
   {
    "duration": 154,
    "start_time": "2025-04-08T07:23:38.825Z"
   },
   {
    "duration": 87,
    "start_time": "2025-04-08T07:24:37.408Z"
   },
   {
    "duration": 10697,
    "start_time": "2025-04-08T07:24:52.095Z"
   },
   {
    "duration": 143,
    "start_time": "2025-04-08T07:30:00.200Z"
   },
   {
    "duration": 24,
    "start_time": "2025-04-08T07:31:26.956Z"
   },
   {
    "duration": 3,
    "start_time": "2025-04-08T07:38:44.897Z"
   },
   {
    "duration": 934,
    "start_time": "2025-04-08T07:38:44.902Z"
   },
   {
    "duration": 33,
    "start_time": "2025-04-08T07:38:45.838Z"
   },
   {
    "duration": 227,
    "start_time": "2025-04-08T07:38:45.874Z"
   },
   {
    "duration": 6,
    "start_time": "2025-04-08T07:38:46.102Z"
   },
   {
    "duration": 88,
    "start_time": "2025-04-08T07:38:46.109Z"
   },
   {
    "duration": 5279,
    "start_time": "2025-04-08T07:38:46.199Z"
   },
   {
    "duration": 41,
    "start_time": "2025-04-08T07:38:51.480Z"
   },
   {
    "duration": 1232,
    "start_time": "2025-04-08T07:38:54.734Z"
   },
   {
    "duration": 42,
    "start_time": "2025-04-08T07:39:03.870Z"
   },
   {
    "duration": 40,
    "start_time": "2025-04-08T07:42:57.760Z"
   },
   {
    "duration": 40,
    "start_time": "2025-04-08T07:57:04.965Z"
   },
   {
    "duration": 9,
    "start_time": "2025-04-08T08:02:39.931Z"
   },
   {
    "duration": 65,
    "start_time": "2025-04-08T08:02:44.098Z"
   },
   {
    "duration": 71,
    "start_time": "2025-04-08T08:02:56.937Z"
   },
   {
    "duration": 79,
    "start_time": "2025-04-08T08:03:10.377Z"
   },
   {
    "duration": 66,
    "start_time": "2025-04-08T08:03:35.156Z"
   },
   {
    "duration": 76,
    "start_time": "2025-04-08T08:03:42.640Z"
   },
   {
    "duration": 70,
    "start_time": "2025-04-08T08:04:01.969Z"
   },
   {
    "duration": 67,
    "start_time": "2025-04-08T08:04:52.878Z"
   },
   {
    "duration": 75,
    "start_time": "2025-04-08T08:06:57.322Z"
   },
   {
    "duration": 76,
    "start_time": "2025-04-08T08:07:23.809Z"
   },
   {
    "duration": 68,
    "start_time": "2025-04-08T08:07:38.145Z"
   },
   {
    "duration": 74,
    "start_time": "2025-04-08T08:07:46.497Z"
   },
   {
    "duration": 3,
    "start_time": "2025-04-08T08:08:27.910Z"
   },
   {
    "duration": 986,
    "start_time": "2025-04-08T08:08:27.915Z"
   },
   {
    "duration": 22,
    "start_time": "2025-04-08T08:08:28.902Z"
   },
   {
    "duration": 165,
    "start_time": "2025-04-08T08:08:28.926Z"
   },
   {
    "duration": 4,
    "start_time": "2025-04-08T08:08:29.093Z"
   },
   {
    "duration": 43,
    "start_time": "2025-04-08T08:08:29.099Z"
   },
   {
    "duration": 5345,
    "start_time": "2025-04-08T08:08:29.143Z"
   },
   {
    "duration": 75,
    "start_time": "2025-04-08T08:08:34.490Z"
   },
   {
    "duration": 75,
    "start_time": "2025-04-08T08:08:34.567Z"
   },
   {
    "duration": 96,
    "start_time": "2025-04-08T08:08:34.644Z"
   },
   {
    "duration": 1503,
    "start_time": "2025-04-08T08:09:58.485Z"
   },
   {
    "duration": 1623,
    "start_time": "2025-04-08T08:10:27.100Z"
   },
   {
    "duration": 69,
    "start_time": "2025-04-08T08:11:04.131Z"
   },
   {
    "duration": 115,
    "start_time": "2025-04-08T08:11:22.615Z"
   },
   {
    "duration": 138,
    "start_time": "2025-04-08T08:14:35.236Z"
   },
   {
    "duration": 131,
    "start_time": "2025-04-08T08:15:01.955Z"
   },
   {
    "duration": 150,
    "start_time": "2025-04-08T08:17:34.657Z"
   },
   {
    "duration": 132,
    "start_time": "2025-04-08T08:21:03.242Z"
   },
   {
    "duration": 134,
    "start_time": "2025-04-08T08:21:24.503Z"
   },
   {
    "duration": 134,
    "start_time": "2025-04-08T08:21:35.681Z"
   },
   {
    "duration": 151,
    "start_time": "2025-04-08T08:22:23.814Z"
   },
   {
    "duration": 11,
    "start_time": "2025-04-08T08:26:05.095Z"
   },
   {
    "duration": 736,
    "start_time": "2025-04-08T08:26:15.035Z"
   },
   {
    "duration": 1038,
    "start_time": "2025-04-08T08:26:15.773Z"
   },
   {
    "duration": 28,
    "start_time": "2025-04-08T08:26:16.813Z"
   },
   {
    "duration": 172,
    "start_time": "2025-04-08T08:26:16.843Z"
   },
   {
    "duration": 91,
    "start_time": "2025-04-08T08:26:17.017Z"
   },
   {
    "duration": 0,
    "start_time": "2025-04-08T08:26:17.110Z"
   },
   {
    "duration": 0,
    "start_time": "2025-04-08T08:26:17.111Z"
   },
   {
    "duration": 0,
    "start_time": "2025-04-08T08:26:17.112Z"
   },
   {
    "duration": 0,
    "start_time": "2025-04-08T08:26:17.113Z"
   },
   {
    "duration": 0,
    "start_time": "2025-04-08T08:26:17.115Z"
   },
   {
    "duration": 0,
    "start_time": "2025-04-08T08:26:17.116Z"
   },
   {
    "duration": 0,
    "start_time": "2025-04-08T08:26:17.117Z"
   },
   {
    "duration": 0,
    "start_time": "2025-04-08T08:26:17.119Z"
   },
   {
    "duration": 0,
    "start_time": "2025-04-08T08:26:17.120Z"
   },
   {
    "duration": 0,
    "start_time": "2025-04-08T08:26:17.121Z"
   },
   {
    "duration": 0,
    "start_time": "2025-04-08T08:26:17.123Z"
   },
   {
    "duration": 0,
    "start_time": "2025-04-08T08:26:17.124Z"
   },
   {
    "duration": 0,
    "start_time": "2025-04-08T08:26:17.125Z"
   },
   {
    "duration": 0,
    "start_time": "2025-04-08T08:26:17.127Z"
   },
   {
    "duration": 955,
    "start_time": "2025-04-08T08:26:35.090Z"
   },
   {
    "duration": 25,
    "start_time": "2025-04-08T08:26:36.843Z"
   },
   {
    "duration": 152,
    "start_time": "2025-04-08T08:26:43.706Z"
   },
   {
    "duration": 5,
    "start_time": "2025-04-08T08:26:54.987Z"
   },
   {
    "duration": 6,
    "start_time": "2025-04-08T08:27:00.022Z"
   },
   {
    "duration": 5,
    "start_time": "2025-04-08T08:27:04.806Z"
   },
   {
    "duration": 5534,
    "start_time": "2025-04-08T08:27:04.813Z"
   },
   {
    "duration": 64,
    "start_time": "2025-04-08T08:27:10.350Z"
   },
   {
    "duration": 50,
    "start_time": "2025-04-08T08:27:10.416Z"
   },
   {
    "duration": 157,
    "start_time": "2025-04-08T08:27:10.468Z"
   },
   {
    "duration": 0,
    "start_time": "2025-04-08T08:27:10.626Z"
   },
   {
    "duration": 0,
    "start_time": "2025-04-08T08:27:10.627Z"
   },
   {
    "duration": 0,
    "start_time": "2025-04-08T08:27:10.629Z"
   },
   {
    "duration": 0,
    "start_time": "2025-04-08T08:27:10.630Z"
   },
   {
    "duration": 0,
    "start_time": "2025-04-08T08:27:10.631Z"
   },
   {
    "duration": 1,
    "start_time": "2025-04-08T08:27:10.632Z"
   },
   {
    "duration": 0,
    "start_time": "2025-04-08T08:27:10.634Z"
   },
   {
    "duration": 0,
    "start_time": "2025-04-08T08:27:10.635Z"
   },
   {
    "duration": 0,
    "start_time": "2025-04-08T08:27:10.636Z"
   },
   {
    "duration": 292,
    "start_time": "2025-04-08T08:27:29.938Z"
   },
   {
    "duration": 154,
    "start_time": "2025-04-08T08:28:56.294Z"
   },
   {
    "duration": 73,
    "start_time": "2025-04-08T08:29:00.702Z"
   },
   {
    "duration": 215,
    "start_time": "2025-04-08T08:29:03.876Z"
   },
   {
    "duration": 279,
    "start_time": "2025-04-08T08:29:31.445Z"
   },
   {
    "duration": 28,
    "start_time": "2025-04-08T08:32:40.487Z"
   },
   {
    "duration": 102,
    "start_time": "2025-04-08T08:33:33.709Z"
   },
   {
    "duration": 30,
    "start_time": "2025-04-08T08:41:21.488Z"
   },
   {
    "duration": 22,
    "start_time": "2025-04-08T08:41:38.891Z"
   },
   {
    "duration": 3,
    "start_time": "2025-04-08T08:42:31.241Z"
   },
   {
    "duration": 917,
    "start_time": "2025-04-08T08:42:31.246Z"
   },
   {
    "duration": 23,
    "start_time": "2025-04-08T08:42:32.165Z"
   },
   {
    "duration": 170,
    "start_time": "2025-04-08T08:42:32.190Z"
   },
   {
    "duration": 87,
    "start_time": "2025-04-08T08:42:32.362Z"
   },
   {
    "duration": 58,
    "start_time": "2025-04-08T08:42:32.451Z"
   },
   {
    "duration": 5336,
    "start_time": "2025-04-08T08:42:32.511Z"
   },
   {
    "duration": 47,
    "start_time": "2025-04-08T08:42:37.848Z"
   },
   {
    "duration": 86,
    "start_time": "2025-04-08T08:42:37.897Z"
   },
   {
    "duration": 256,
    "start_time": "2025-04-08T08:42:37.985Z"
   },
   {
    "duration": 154,
    "start_time": "2025-04-08T08:42:38.243Z"
   },
   {
    "duration": 52,
    "start_time": "2025-04-08T08:42:56.545Z"
   },
   {
    "duration": 245,
    "start_time": "2025-04-08T08:43:25.187Z"
   },
   {
    "duration": 30,
    "start_time": "2025-04-08T08:43:26.188Z"
   },
   {
    "duration": 64,
    "start_time": "2025-04-08T08:43:30.203Z"
   },
   {
    "duration": 262,
    "start_time": "2025-04-08T08:43:38.699Z"
   },
   {
    "duration": 29,
    "start_time": "2025-04-08T08:43:39.691Z"
   },
   {
    "duration": 55,
    "start_time": "2025-04-08T08:43:42.043Z"
   },
   {
    "duration": 29,
    "start_time": "2025-04-08T08:44:36.513Z"
   },
   {
    "duration": 263,
    "start_time": "2025-04-08T08:47:05.661Z"
   },
   {
    "duration": 97,
    "start_time": "2025-04-08T08:48:57.986Z"
   },
   {
    "duration": 271,
    "start_time": "2025-04-08T08:49:59.579Z"
   },
   {
    "duration": 267,
    "start_time": "2025-04-08T08:50:20.127Z"
   },
   {
    "duration": 269,
    "start_time": "2025-04-08T08:50:32.182Z"
   },
   {
    "duration": 272,
    "start_time": "2025-04-08T08:51:12.613Z"
   },
   {
    "duration": 127,
    "start_time": "2025-04-08T08:51:41.516Z"
   },
   {
    "duration": 282,
    "start_time": "2025-04-08T08:52:27.913Z"
   },
   {
    "duration": 274,
    "start_time": "2025-04-08T08:53:15.697Z"
   },
   {
    "duration": 8,
    "start_time": "2025-04-08T08:54:48.917Z"
   },
   {
    "duration": 362,
    "start_time": "2025-04-08T08:55:04.437Z"
   },
   {
    "duration": 319,
    "start_time": "2025-04-08T08:55:21.492Z"
   },
   {
    "duration": 9,
    "start_time": "2025-04-08T08:57:23.721Z"
   },
   {
    "duration": 44,
    "start_time": "2025-04-08T08:57:36.914Z"
   },
   {
    "duration": 280,
    "start_time": "2025-04-08T08:58:34.203Z"
   },
   {
    "duration": 62,
    "start_time": "2025-04-08T09:27:37.542Z"
   },
   {
    "duration": 26,
    "start_time": "2025-04-08T09:30:31.705Z"
   },
   {
    "duration": 286,
    "start_time": "2025-04-08T09:30:46.281Z"
   },
   {
    "duration": 150,
    "start_time": "2025-04-08T09:33:05.645Z"
   },
   {
    "duration": 1537,
    "start_time": "2025-04-08T09:35:17.721Z"
   },
   {
    "duration": 1832,
    "start_time": "2025-04-08T09:35:42.327Z"
   },
   {
    "duration": 8,
    "start_time": "2025-04-08T09:36:26.926Z"
   },
   {
    "duration": 264,
    "start_time": "2025-04-08T09:36:37.013Z"
   },
   {
    "duration": 22,
    "start_time": "2025-04-08T09:37:44.652Z"
   },
   {
    "duration": 3,
    "start_time": "2025-04-08T09:38:34.056Z"
   },
   {
    "duration": 932,
    "start_time": "2025-04-08T09:38:34.061Z"
   },
   {
    "duration": 25,
    "start_time": "2025-04-08T09:38:34.995Z"
   },
   {
    "duration": 230,
    "start_time": "2025-04-08T09:38:35.021Z"
   },
   {
    "duration": 32,
    "start_time": "2025-04-08T09:38:35.253Z"
   },
   {
    "duration": 30,
    "start_time": "2025-04-08T09:38:35.287Z"
   },
   {
    "duration": 5135,
    "start_time": "2025-04-08T09:38:35.319Z"
   },
   {
    "duration": 40,
    "start_time": "2025-04-08T09:38:40.455Z"
   },
   {
    "duration": 85,
    "start_time": "2025-04-08T09:38:40.497Z"
   },
   {
    "duration": 371,
    "start_time": "2025-04-08T09:38:40.584Z"
   },
   {
    "duration": 27,
    "start_time": "2025-04-08T09:38:40.960Z"
   },
   {
    "duration": 166,
    "start_time": "2025-04-08T09:38:40.989Z"
   },
   {
    "duration": 18,
    "start_time": "2025-04-08T09:38:46.258Z"
   },
   {
    "duration": 56,
    "start_time": "2025-04-08T09:42:59.859Z"
   },
   {
    "duration": 58,
    "start_time": "2025-04-08T09:43:08.051Z"
   },
   {
    "duration": 60,
    "start_time": "2025-04-08T09:43:46.217Z"
   },
   {
    "duration": 93,
    "start_time": "2025-04-08T09:44:54.742Z"
   },
   {
    "duration": 91,
    "start_time": "2025-04-08T09:47:07.218Z"
   },
   {
    "duration": 93,
    "start_time": "2025-04-08T09:52:21.513Z"
   },
   {
    "duration": 6,
    "start_time": "2025-04-08T09:52:53.432Z"
   },
   {
    "duration": 5,
    "start_time": "2025-04-08T09:53:10.534Z"
   },
   {
    "duration": 1594,
    "start_time": "2025-04-08T09:56:33.872Z"
   },
   {
    "duration": 11,
    "start_time": "2025-04-08T09:56:38.801Z"
   },
   {
    "duration": 13,
    "start_time": "2025-04-08T09:57:06.366Z"
   },
   {
    "duration": 9,
    "start_time": "2025-04-08T09:57:10.631Z"
   },
   {
    "duration": 1371,
    "start_time": "2025-04-08T09:57:22.240Z"
   },
   {
    "duration": 1642,
    "start_time": "2025-04-08T09:58:45.329Z"
   },
   {
    "duration": 5,
    "start_time": "2025-04-08T09:58:57.860Z"
   },
   {
    "duration": 6,
    "start_time": "2025-04-08T09:59:22.547Z"
   },
   {
    "duration": 133,
    "start_time": "2025-04-08T10:02:44.962Z"
   },
   {
    "duration": 269,
    "start_time": "2025-04-08T10:03:38.501Z"
   },
   {
    "duration": 99,
    "start_time": "2025-04-08T10:03:56.559Z"
   },
   {
    "duration": 61,
    "start_time": "2025-04-08T10:04:59.265Z"
   },
   {
    "duration": 4,
    "start_time": "2025-04-08T10:05:45.306Z"
   },
   {
    "duration": 209,
    "start_time": "2025-04-08T10:05:54.448Z"
   },
   {
    "duration": 284,
    "start_time": "2025-04-08T10:06:36.198Z"
   },
   {
    "duration": 4,
    "start_time": "2025-04-08T10:06:52.272Z"
   },
   {
    "duration": 969,
    "start_time": "2025-04-08T10:06:52.283Z"
   },
   {
    "duration": 31,
    "start_time": "2025-04-08T10:06:53.254Z"
   },
   {
    "duration": 178,
    "start_time": "2025-04-08T10:06:53.288Z"
   },
   {
    "duration": 6,
    "start_time": "2025-04-08T10:06:53.469Z"
   },
   {
    "duration": 23,
    "start_time": "2025-04-08T10:06:53.479Z"
   },
   {
    "duration": 5720,
    "start_time": "2025-04-08T10:06:53.504Z"
   },
   {
    "duration": 48,
    "start_time": "2025-04-08T10:06:59.226Z"
   },
   {
    "duration": 86,
    "start_time": "2025-04-08T10:06:59.276Z"
   },
   {
    "duration": 381,
    "start_time": "2025-04-08T10:06:59.365Z"
   },
   {
    "duration": 33,
    "start_time": "2025-04-08T10:06:59.748Z"
   },
   {
    "duration": 133,
    "start_time": "2025-04-08T10:06:59.783Z"
   },
   {
    "duration": 27,
    "start_time": "2025-04-08T10:06:59.918Z"
   },
   {
    "duration": 115,
    "start_time": "2025-04-08T10:06:59.946Z"
   },
   {
    "duration": 262,
    "start_time": "2025-04-08T10:07:07.894Z"
   },
   {
    "duration": 107,
    "start_time": "2025-04-08T10:08:16.725Z"
   },
   {
    "duration": 13,
    "start_time": "2025-04-08T10:08:33.084Z"
   },
   {
    "duration": 5,
    "start_time": "2025-04-08T10:09:38.362Z"
   },
   {
    "duration": 31,
    "start_time": "2025-04-08T10:10:25.322Z"
   },
   {
    "duration": 91,
    "start_time": "2025-04-08T13:12:08.507Z"
   },
   {
    "duration": 83,
    "start_time": "2025-04-08T13:15:30.749Z"
   },
   {
    "duration": 754,
    "start_time": "2025-04-08T13:21:57.065Z"
   },
   {
    "duration": 655,
    "start_time": "2025-04-08T13:22:11.122Z"
   },
   {
    "duration": 965,
    "start_time": "2025-04-08T13:22:11.779Z"
   },
   {
    "duration": 38,
    "start_time": "2025-04-08T13:22:12.746Z"
   },
   {
    "duration": 154,
    "start_time": "2025-04-08T13:22:12.786Z"
   },
   {
    "duration": 20,
    "start_time": "2025-04-08T13:22:12.941Z"
   },
   {
    "duration": 6,
    "start_time": "2025-04-08T13:22:12.962Z"
   },
   {
    "duration": 5453,
    "start_time": "2025-04-08T13:22:12.970Z"
   },
   {
    "duration": 68,
    "start_time": "2025-04-08T13:22:18.426Z"
   },
   {
    "duration": 88,
    "start_time": "2025-04-08T13:22:18.496Z"
   },
   {
    "duration": 445,
    "start_time": "2025-04-08T13:22:18.586Z"
   },
   {
    "duration": 43,
    "start_time": "2025-04-08T13:22:19.032Z"
   },
   {
    "duration": 164,
    "start_time": "2025-04-08T13:22:19.077Z"
   },
   {
    "duration": 708,
    "start_time": "2025-04-08T13:22:19.243Z"
   },
   {
    "duration": 10,
    "start_time": "2025-04-08T13:22:19.953Z"
   },
   {
    "duration": 91,
    "start_time": "2025-04-08T13:22:19.964Z"
   },
   {
    "duration": 0,
    "start_time": "2025-04-08T13:22:20.057Z"
   },
   {
    "duration": 0,
    "start_time": "2025-04-08T13:22:20.058Z"
   },
   {
    "duration": 0,
    "start_time": "2025-04-08T13:22:20.059Z"
   },
   {
    "duration": 0,
    "start_time": "2025-04-08T13:22:20.061Z"
   },
   {
    "duration": 0,
    "start_time": "2025-04-08T13:22:20.061Z"
   },
   {
    "duration": 0,
    "start_time": "2025-04-08T13:22:20.063Z"
   },
   {
    "duration": 0,
    "start_time": "2025-04-08T13:22:20.064Z"
   },
   {
    "duration": 670,
    "start_time": "2025-04-08T13:23:39.518Z"
   },
   {
    "duration": 964,
    "start_time": "2025-04-08T13:23:40.190Z"
   },
   {
    "duration": 29,
    "start_time": "2025-04-08T13:23:41.156Z"
   },
   {
    "duration": 159,
    "start_time": "2025-04-08T13:23:41.187Z"
   },
   {
    "duration": 15,
    "start_time": "2025-04-08T13:23:41.347Z"
   },
   {
    "duration": 6,
    "start_time": "2025-04-08T13:23:41.364Z"
   },
   {
    "duration": 5456,
    "start_time": "2025-04-08T13:23:41.372Z"
   },
   {
    "duration": 65,
    "start_time": "2025-04-08T13:23:46.830Z"
   },
   {
    "duration": 101,
    "start_time": "2025-04-08T13:23:46.896Z"
   },
   {
    "duration": 0,
    "start_time": "2025-04-08T13:23:47.000Z"
   },
   {
    "duration": 0,
    "start_time": "2025-04-08T13:23:47.001Z"
   },
   {
    "duration": 0,
    "start_time": "2025-04-08T13:23:47.003Z"
   },
   {
    "duration": 0,
    "start_time": "2025-04-08T13:23:47.004Z"
   },
   {
    "duration": 0,
    "start_time": "2025-04-08T13:23:47.005Z"
   },
   {
    "duration": 0,
    "start_time": "2025-04-08T13:23:47.007Z"
   },
   {
    "duration": 0,
    "start_time": "2025-04-08T13:23:47.008Z"
   },
   {
    "duration": 0,
    "start_time": "2025-04-08T13:23:47.009Z"
   },
   {
    "duration": 0,
    "start_time": "2025-04-08T13:23:47.010Z"
   },
   {
    "duration": 0,
    "start_time": "2025-04-08T13:23:47.011Z"
   },
   {
    "duration": 0,
    "start_time": "2025-04-08T13:23:47.012Z"
   },
   {
    "duration": 0,
    "start_time": "2025-04-08T13:23:47.013Z"
   },
   {
    "duration": 0,
    "start_time": "2025-04-08T13:23:47.014Z"
   },
   {
    "duration": 622,
    "start_time": "2025-04-08T13:23:57.056Z"
   },
   {
    "duration": 2,
    "start_time": "2025-04-08T13:25:15.183Z"
   },
   {
    "duration": 1024,
    "start_time": "2025-04-08T13:25:15.187Z"
   },
   {
    "duration": 23,
    "start_time": "2025-04-08T13:25:16.213Z"
   },
   {
    "duration": 169,
    "start_time": "2025-04-08T13:25:16.238Z"
   },
   {
    "duration": 5,
    "start_time": "2025-04-08T13:25:16.409Z"
   },
   {
    "duration": 81,
    "start_time": "2025-04-08T13:25:16.416Z"
   },
   {
    "duration": 5346,
    "start_time": "2025-04-08T13:25:16.498Z"
   },
   {
    "duration": 48,
    "start_time": "2025-04-08T13:25:21.846Z"
   },
   {
    "duration": 620,
    "start_time": "2025-04-08T13:25:25.229Z"
   },
   {
    "duration": 700,
    "start_time": "2025-04-08T13:27:10.465Z"
   },
   {
    "duration": 960,
    "start_time": "2025-04-08T13:27:11.167Z"
   },
   {
    "duration": 37,
    "start_time": "2025-04-08T13:27:12.128Z"
   },
   {
    "duration": 150,
    "start_time": "2025-04-08T13:27:12.167Z"
   },
   {
    "duration": 5,
    "start_time": "2025-04-08T13:27:12.319Z"
   },
   {
    "duration": 17,
    "start_time": "2025-04-08T13:27:12.325Z"
   },
   {
    "duration": 5623,
    "start_time": "2025-04-08T13:27:12.343Z"
   },
   {
    "duration": 53,
    "start_time": "2025-04-08T13:27:17.968Z"
   },
   {
    "duration": 93,
    "start_time": "2025-04-08T13:27:18.022Z"
   },
   {
    "duration": 424,
    "start_time": "2025-04-08T13:27:18.117Z"
   },
   {
    "duration": 42,
    "start_time": "2025-04-08T13:27:18.542Z"
   },
   {
    "duration": 114,
    "start_time": "2025-04-08T13:27:18.586Z"
   },
   {
    "duration": 151,
    "start_time": "2025-04-08T13:27:18.701Z"
   },
   {
    "duration": 0,
    "start_time": "2025-04-08T13:27:18.853Z"
   },
   {
    "duration": 0,
    "start_time": "2025-04-08T13:27:18.854Z"
   },
   {
    "duration": 0,
    "start_time": "2025-04-08T13:27:18.856Z"
   },
   {
    "duration": 0,
    "start_time": "2025-04-08T13:27:18.857Z"
   },
   {
    "duration": 0,
    "start_time": "2025-04-08T13:27:18.858Z"
   },
   {
    "duration": 0,
    "start_time": "2025-04-08T13:27:18.860Z"
   },
   {
    "duration": 0,
    "start_time": "2025-04-08T13:27:18.862Z"
   },
   {
    "duration": 0,
    "start_time": "2025-04-08T13:27:18.863Z"
   },
   {
    "duration": 0,
    "start_time": "2025-04-08T13:27:18.864Z"
   },
   {
    "duration": 757,
    "start_time": "2025-04-08T13:27:26.742Z"
   },
   {
    "duration": 100,
    "start_time": "2025-04-08T13:30:26.697Z"
   },
   {
    "duration": 55,
    "start_time": "2025-04-08T13:40:24.408Z"
   },
   {
    "duration": 5,
    "start_time": "2025-04-08T13:48:00.792Z"
   },
   {
    "duration": 3,
    "start_time": "2025-04-08T13:48:07.476Z"
   },
   {
    "duration": 979,
    "start_time": "2025-04-08T13:48:07.481Z"
   },
   {
    "duration": 25,
    "start_time": "2025-04-08T13:48:08.463Z"
   },
   {
    "duration": 228,
    "start_time": "2025-04-08T13:48:08.489Z"
   },
   {
    "duration": 7,
    "start_time": "2025-04-08T13:48:08.721Z"
   },
   {
    "duration": 8,
    "start_time": "2025-04-08T13:48:08.730Z"
   },
   {
    "duration": 5258,
    "start_time": "2025-04-08T13:48:08.740Z"
   },
   {
    "duration": 40,
    "start_time": "2025-04-08T13:48:14.000Z"
   },
   {
    "duration": 89,
    "start_time": "2025-04-08T13:48:14.042Z"
   },
   {
    "duration": 361,
    "start_time": "2025-04-08T13:48:14.134Z"
   },
   {
    "duration": 29,
    "start_time": "2025-04-08T13:48:14.499Z"
   },
   {
    "duration": 119,
    "start_time": "2025-04-08T13:48:14.530Z"
   },
   {
    "duration": 730,
    "start_time": "2025-04-08T13:48:14.652Z"
   },
   {
    "duration": 5,
    "start_time": "2025-04-08T13:48:15.385Z"
   },
   {
    "duration": 72,
    "start_time": "2025-04-08T13:48:15.392Z"
   },
   {
    "duration": 1,
    "start_time": "2025-04-08T13:48:15.466Z"
   },
   {
    "duration": 0,
    "start_time": "2025-04-08T13:48:15.468Z"
   },
   {
    "duration": 0,
    "start_time": "2025-04-08T13:48:15.470Z"
   },
   {
    "duration": 0,
    "start_time": "2025-04-08T13:48:15.471Z"
   },
   {
    "duration": 0,
    "start_time": "2025-04-08T13:48:15.473Z"
   },
   {
    "duration": 0,
    "start_time": "2025-04-08T13:48:15.474Z"
   },
   {
    "duration": 0,
    "start_time": "2025-04-08T13:48:15.476Z"
   },
   {
    "duration": 0,
    "start_time": "2025-04-08T13:48:15.477Z"
   },
   {
    "duration": 617,
    "start_time": "2025-04-08T13:48:35.622Z"
   },
   {
    "duration": 154,
    "start_time": "2025-04-08T13:48:58.863Z"
   },
   {
    "duration": 236,
    "start_time": "2025-04-08T13:49:15.852Z"
   },
   {
    "duration": 10,
    "start_time": "2025-04-08T13:49:21.781Z"
   },
   {
    "duration": 1162,
    "start_time": "2025-04-08T13:49:56.325Z"
   },
   {
    "duration": 2179,
    "start_time": "2025-04-08T13:50:11.572Z"
   },
   {
    "duration": 2220,
    "start_time": "2025-04-08T13:50:53.534Z"
   },
   {
    "duration": 2125,
    "start_time": "2025-04-08T13:52:54.111Z"
   },
   {
    "duration": 10,
    "start_time": "2025-04-08T13:53:57.403Z"
   },
   {
    "duration": 6417,
    "start_time": "2025-04-08T13:55:02.160Z"
   },
   {
    "duration": 160,
    "start_time": "2025-04-08T13:55:35.239Z"
   },
   {
    "duration": 4271,
    "start_time": "2025-04-08T13:57:40.891Z"
   },
   {
    "duration": 3,
    "start_time": "2025-04-08T13:57:49.318Z"
   },
   {
    "duration": 889,
    "start_time": "2025-04-08T13:57:49.323Z"
   },
   {
    "duration": 25,
    "start_time": "2025-04-08T13:57:50.214Z"
   },
   {
    "duration": 173,
    "start_time": "2025-04-08T13:57:50.242Z"
   },
   {
    "duration": 5,
    "start_time": "2025-04-08T13:57:50.417Z"
   },
   {
    "duration": 114,
    "start_time": "2025-04-08T13:57:50.424Z"
   },
   {
    "duration": 5341,
    "start_time": "2025-04-08T13:57:50.540Z"
   },
   {
    "duration": 43,
    "start_time": "2025-04-08T13:57:55.882Z"
   },
   {
    "duration": 90,
    "start_time": "2025-04-08T13:57:55.928Z"
   },
   {
    "duration": 353,
    "start_time": "2025-04-08T13:57:56.020Z"
   },
   {
    "duration": 27,
    "start_time": "2025-04-08T13:57:56.375Z"
   },
   {
    "duration": 113,
    "start_time": "2025-04-08T13:57:56.404Z"
   },
   {
    "duration": 726,
    "start_time": "2025-04-08T13:57:56.519Z"
   },
   {
    "duration": 6,
    "start_time": "2025-04-08T13:57:57.247Z"
   },
   {
    "duration": 611,
    "start_time": "2025-04-08T13:57:57.255Z"
   },
   {
    "duration": 167,
    "start_time": "2025-04-08T13:57:57.867Z"
   },
   {
    "duration": 156,
    "start_time": "2025-04-08T13:57:58.035Z"
   },
   {
    "duration": 2178,
    "start_time": "2025-04-08T13:57:58.192Z"
   },
   {
    "duration": 3,
    "start_time": "2025-04-08T13:58:00.372Z"
   },
   {
    "duration": 4347,
    "start_time": "2025-04-08T13:58:00.376Z"
   },
   {
    "duration": 137,
    "start_time": "2025-04-08T13:58:09.554Z"
   },
   {
    "duration": 28,
    "start_time": "2025-04-08T14:02:54.762Z"
   },
   {
    "duration": 167,
    "start_time": "2025-04-08T14:05:09.494Z"
   },
   {
    "duration": 200,
    "start_time": "2025-04-08T14:05:22.981Z"
   },
   {
    "duration": 1956,
    "start_time": "2025-04-08T14:05:27.917Z"
   },
   {
    "duration": 1911,
    "start_time": "2025-04-08T14:05:40.437Z"
   },
   {
    "duration": 4058,
    "start_time": "2025-04-08T14:06:08.748Z"
   },
   {
    "duration": 131,
    "start_time": "2025-04-08T14:06:12.808Z"
   },
   {
    "duration": 4024,
    "start_time": "2025-04-08T14:07:30.551Z"
   },
   {
    "duration": 133,
    "start_time": "2025-04-08T14:07:36.287Z"
   },
   {
    "duration": 24,
    "start_time": "2025-04-08T14:07:43.624Z"
   },
   {
    "duration": 2086,
    "start_time": "2025-04-08T14:12:50.536Z"
   },
   {
    "duration": 81,
    "start_time": "2025-04-08T14:14:59.283Z"
   },
   {
    "duration": 85,
    "start_time": "2025-04-08T14:15:06.915Z"
   },
   {
    "duration": 165,
    "start_time": "2025-04-08T14:15:16.102Z"
   },
   {
    "duration": 19,
    "start_time": "2025-04-08T14:15:25.557Z"
   },
   {
    "duration": 18,
    "start_time": "2025-04-08T14:15:31.363Z"
   },
   {
    "duration": 3,
    "start_time": "2025-04-08T14:17:42.797Z"
   },
   {
    "duration": 835,
    "start_time": "2025-04-08T14:17:42.801Z"
   },
   {
    "duration": 44,
    "start_time": "2025-04-08T14:17:43.638Z"
   },
   {
    "duration": 155,
    "start_time": "2025-04-08T14:17:43.684Z"
   },
   {
    "duration": 4,
    "start_time": "2025-04-08T14:17:43.841Z"
   },
   {
    "duration": 14,
    "start_time": "2025-04-08T14:17:43.847Z"
   },
   {
    "duration": 5287,
    "start_time": "2025-04-08T14:17:43.866Z"
   },
   {
    "duration": 45,
    "start_time": "2025-04-08T14:17:49.155Z"
   },
   {
    "duration": 98,
    "start_time": "2025-04-08T14:17:49.202Z"
   },
   {
    "duration": 389,
    "start_time": "2025-04-08T14:17:49.301Z"
   },
   {
    "duration": 26,
    "start_time": "2025-04-08T14:17:49.692Z"
   },
   {
    "duration": 125,
    "start_time": "2025-04-08T14:17:49.719Z"
   },
   {
    "duration": 699,
    "start_time": "2025-04-08T14:17:49.846Z"
   },
   {
    "duration": 5,
    "start_time": "2025-04-08T14:17:58.192Z"
   },
   {
    "duration": 2383,
    "start_time": "2025-04-08T14:18:15.273Z"
   },
   {
    "duration": 9,
    "start_time": "2025-04-08T14:18:49.461Z"
   },
   {
    "duration": 2237,
    "start_time": "2025-04-08T14:18:50.511Z"
   },
   {
    "duration": 4,
    "start_time": "2025-04-08T14:23:09.047Z"
   },
   {
    "duration": 589,
    "start_time": "2025-04-08T14:49:13.331Z"
   },
   {
    "duration": 96,
    "start_time": "2025-04-08T14:51:03.568Z"
   },
   {
    "duration": 167,
    "start_time": "2025-04-08T14:51:18.704Z"
   },
   {
    "duration": 162,
    "start_time": "2025-04-08T14:51:25.471Z"
   },
   {
    "duration": 165,
    "start_time": "2025-04-08T14:51:30.967Z"
   },
   {
    "duration": 169,
    "start_time": "2025-04-08T14:51:45.509Z"
   },
   {
    "duration": 177,
    "start_time": "2025-04-08T14:52:21.526Z"
   },
   {
    "duration": 54,
    "start_time": "2025-04-08T14:52:34.108Z"
   },
   {
    "duration": 138,
    "start_time": "2025-04-08T14:52:54.573Z"
   },
   {
    "duration": 8,
    "start_time": "2025-04-08T14:53:21.612Z"
   },
   {
    "duration": 7,
    "start_time": "2025-04-08T14:53:25.909Z"
   },
   {
    "duration": 9,
    "start_time": "2025-04-08T14:53:33.411Z"
   },
   {
    "duration": 208,
    "start_time": "2025-04-08T14:53:50.775Z"
   },
   {
    "duration": 195,
    "start_time": "2025-04-08T14:55:08.424Z"
   },
   {
    "duration": 4,
    "start_time": "2025-04-08T14:57:34.243Z"
   },
   {
    "duration": 7,
    "start_time": "2025-04-08T14:59:02.691Z"
   },
   {
    "duration": 273,
    "start_time": "2025-04-08T14:59:15.631Z"
   },
   {
    "duration": 3,
    "start_time": "2025-04-08T15:04:41.823Z"
   },
   {
    "duration": 123,
    "start_time": "2025-04-08T15:04:47.758Z"
   },
   {
    "duration": 5,
    "start_time": "2025-04-08T15:05:14.485Z"
   },
   {
    "duration": 126,
    "start_time": "2025-04-08T15:05:19.780Z"
   },
   {
    "duration": 1439,
    "start_time": "2025-04-08T15:13:41.910Z"
   },
   {
    "duration": 4,
    "start_time": "2025-04-08T15:14:23.982Z"
   },
   {
    "duration": 1402,
    "start_time": "2025-04-08T15:14:29.612Z"
   },
   {
    "duration": 192,
    "start_time": "2025-04-08T15:14:47.699Z"
   },
   {
    "duration": 3,
    "start_time": "2025-04-08T15:16:03.018Z"
   },
   {
    "duration": 223,
    "start_time": "2025-04-08T15:16:07.418Z"
   },
   {
    "duration": 395,
    "start_time": "2025-04-08T15:16:23.234Z"
   },
   {
    "duration": 118,
    "start_time": "2025-04-08T15:17:34.823Z"
   },
   {
    "duration": 144,
    "start_time": "2025-04-08T15:18:52.588Z"
   },
   {
    "duration": 1714,
    "start_time": "2025-04-09T06:40:05.012Z"
   },
   {
    "duration": 1025,
    "start_time": "2025-04-09T06:40:06.728Z"
   },
   {
    "duration": 30,
    "start_time": "2025-04-09T06:40:07.755Z"
   },
   {
    "duration": 191,
    "start_time": "2025-04-09T06:40:07.787Z"
   },
   {
    "duration": 5,
    "start_time": "2025-04-09T06:40:07.981Z"
   },
   {
    "duration": 9,
    "start_time": "2025-04-09T06:40:07.988Z"
   },
   {
    "duration": 5623,
    "start_time": "2025-04-09T06:40:07.999Z"
   },
   {
    "duration": 64,
    "start_time": "2025-04-09T06:40:13.624Z"
   },
   {
    "duration": 91,
    "start_time": "2025-04-09T06:40:13.690Z"
   },
   {
    "duration": 428,
    "start_time": "2025-04-09T06:40:13.784Z"
   },
   {
    "duration": 47,
    "start_time": "2025-04-09T06:40:14.213Z"
   },
   {
    "duration": 111,
    "start_time": "2025-04-09T06:40:14.262Z"
   },
   {
    "duration": 727,
    "start_time": "2025-04-09T06:40:14.375Z"
   },
   {
    "duration": 5,
    "start_time": "2025-04-09T06:40:15.104Z"
   },
   {
    "duration": 2356,
    "start_time": "2025-04-09T06:40:15.111Z"
   },
   {
    "duration": 5,
    "start_time": "2025-04-09T06:40:17.469Z"
   },
   {
    "duration": 70,
    "start_time": "2025-04-09T06:40:17.475Z"
   },
   {
    "duration": 656,
    "start_time": "2025-04-09T06:40:17.546Z"
   },
   {
    "duration": 187,
    "start_time": "2025-04-09T06:40:18.204Z"
   },
   {
    "duration": 183,
    "start_time": "2025-04-09T06:40:18.393Z"
   },
   {
    "duration": 2098,
    "start_time": "2025-04-09T06:40:18.578Z"
   },
   {
    "duration": 2,
    "start_time": "2025-04-09T06:40:20.678Z"
   },
   {
    "duration": 4535,
    "start_time": "2025-04-09T06:40:20.682Z"
   },
   {
    "duration": 173,
    "start_time": "2025-04-09T06:40:25.219Z"
   },
   {
    "duration": 23,
    "start_time": "2025-04-09T06:40:25.394Z"
   },
   {
    "duration": 68,
    "start_time": "2025-04-09T06:40:25.419Z"
   },
   {
    "duration": 213,
    "start_time": "2025-04-09T06:40:25.488Z"
   },
   {
    "duration": 288,
    "start_time": "2025-04-09T06:40:25.704Z"
   },
   {
    "duration": 131,
    "start_time": "2025-04-09T06:40:25.994Z"
   },
   {
    "duration": 125,
    "start_time": "2025-04-09T06:40:26.127Z"
   },
   {
    "duration": 4,
    "start_time": "2025-04-09T06:43:03.165Z"
   },
   {
    "duration": 28,
    "start_time": "2025-04-09T06:43:07.623Z"
   },
   {
    "duration": 37,
    "start_time": "2025-04-09T06:43:59.348Z"
   },
   {
    "duration": 6,
    "start_time": "2025-04-09T06:44:07.410Z"
   },
   {
    "duration": 116,
    "start_time": "2025-04-09T06:44:28.019Z"
   },
   {
    "duration": 10,
    "start_time": "2025-04-09T06:45:55.961Z"
   },
   {
    "duration": 81,
    "start_time": "2025-04-09T06:46:32.999Z"
   },
   {
    "duration": 12,
    "start_time": "2025-04-09T06:46:35.768Z"
   },
   {
    "duration": 10,
    "start_time": "2025-04-09T06:47:24.798Z"
   },
   {
    "duration": 116,
    "start_time": "2025-04-09T06:47:30.829Z"
   },
   {
    "duration": 4,
    "start_time": "2025-04-09T06:47:31.445Z"
   },
   {
    "duration": 4,
    "start_time": "2025-04-09T06:57:12.307Z"
   },
   {
    "duration": 81,
    "start_time": "2025-04-09T06:57:44.865Z"
   },
   {
    "duration": 3,
    "start_time": "2025-04-09T07:02:26.658Z"
   },
   {
    "duration": 11,
    "start_time": "2025-04-09T07:03:16.000Z"
   },
   {
    "duration": 4,
    "start_time": "2025-04-09T07:03:36.213Z"
   },
   {
    "duration": 111,
    "start_time": "2025-04-09T07:03:39.864Z"
   },
   {
    "duration": 11,
    "start_time": "2025-04-09T07:07:28.831Z"
   },
   {
    "duration": 16,
    "start_time": "2025-04-09T07:07:50.952Z"
   },
   {
    "duration": 3994,
    "start_time": "2025-04-09T07:11:42.328Z"
   },
   {
    "duration": 214,
    "start_time": "2025-04-09T07:11:51.450Z"
   },
   {
    "duration": 621,
    "start_time": "2025-04-09T07:14:20.308Z"
   },
   {
    "duration": 21,
    "start_time": "2025-04-09T07:14:32.035Z"
   },
   {
    "duration": 4,
    "start_time": "2025-04-09T07:16:28.496Z"
   },
   {
    "duration": 13,
    "start_time": "2025-04-09T07:17:49.783Z"
   },
   {
    "duration": 2688,
    "start_time": "2025-04-09T07:24:35.678Z"
   },
   {
    "duration": 5,
    "start_time": "2025-04-09T07:24:38.369Z"
   },
   {
    "duration": 940,
    "start_time": "2025-04-09T07:24:38.376Z"
   },
   {
    "duration": 30,
    "start_time": "2025-04-09T07:24:39.318Z"
   },
   {
    "duration": 168,
    "start_time": "2025-04-09T07:24:39.350Z"
   },
   {
    "duration": 5,
    "start_time": "2025-04-09T07:24:39.519Z"
   },
   {
    "duration": 16,
    "start_time": "2025-04-09T07:24:39.526Z"
   },
   {
    "duration": 5338,
    "start_time": "2025-04-09T07:24:39.544Z"
   },
   {
    "duration": 60,
    "start_time": "2025-04-09T07:24:44.884Z"
   },
   {
    "duration": 74,
    "start_time": "2025-04-09T07:24:44.947Z"
   },
   {
    "duration": 423,
    "start_time": "2025-04-09T07:24:45.023Z"
   },
   {
    "duration": 27,
    "start_time": "2025-04-09T07:24:45.448Z"
   },
   {
    "duration": 121,
    "start_time": "2025-04-09T07:24:45.477Z"
   },
   {
    "duration": 735,
    "start_time": "2025-04-09T07:24:45.600Z"
   },
   {
    "duration": 5,
    "start_time": "2025-04-09T07:24:46.340Z"
   },
   {
    "duration": 2410,
    "start_time": "2025-04-09T07:24:46.347Z"
   },
   {
    "duration": 4,
    "start_time": "2025-04-09T07:24:48.759Z"
   },
   {
    "duration": 23,
    "start_time": "2025-04-09T07:24:48.764Z"
   },
   {
    "duration": 651,
    "start_time": "2025-04-09T07:24:48.789Z"
   },
   {
    "duration": 188,
    "start_time": "2025-04-09T07:24:49.442Z"
   },
   {
    "duration": 186,
    "start_time": "2025-04-09T07:24:49.632Z"
   },
   {
    "duration": 2154,
    "start_time": "2025-04-09T07:24:49.820Z"
   },
   {
    "duration": 2,
    "start_time": "2025-04-09T07:24:51.976Z"
   },
   {
    "duration": 4591,
    "start_time": "2025-04-09T07:24:51.980Z"
   },
   {
    "duration": 180,
    "start_time": "2025-04-09T07:24:56.573Z"
   },
   {
    "duration": 23,
    "start_time": "2025-04-09T07:24:56.754Z"
   },
   {
    "duration": 76,
    "start_time": "2025-04-09T07:24:56.779Z"
   },
   {
    "duration": 123,
    "start_time": "2025-04-09T07:24:56.859Z"
   },
   {
    "duration": 304,
    "start_time": "2025-04-09T07:24:56.984Z"
   },
   {
    "duration": 128,
    "start_time": "2025-04-09T07:24:57.290Z"
   },
   {
    "duration": 102,
    "start_time": "2025-04-09T07:24:57.420Z"
   },
   {
    "duration": 17,
    "start_time": "2025-04-09T07:24:57.524Z"
   },
   {
    "duration": 107,
    "start_time": "2025-04-09T07:24:57.543Z"
   },
   {
    "duration": 5,
    "start_time": "2025-04-09T07:24:57.652Z"
   },
   {
    "duration": 73,
    "start_time": "2025-04-09T07:24:57.659Z"
   },
   {
    "duration": 18,
    "start_time": "2025-04-09T07:24:57.734Z"
   },
   {
    "duration": 29,
    "start_time": "2025-04-09T07:24:57.754Z"
   },
   {
    "duration": 8,
    "start_time": "2025-04-09T07:26:06.151Z"
   },
   {
    "duration": 13,
    "start_time": "2025-04-09T07:26:11.382Z"
   },
   {
    "duration": 20,
    "start_time": "2025-04-09T07:26:35.573Z"
   },
   {
    "duration": 15,
    "start_time": "2025-04-09T07:26:41.902Z"
   },
   {
    "duration": 5,
    "start_time": "2025-04-09T07:26:57.205Z"
   },
   {
    "duration": 5,
    "start_time": "2025-04-09T07:27:01.885Z"
   },
   {
    "duration": 11,
    "start_time": "2025-04-09T07:36:45.954Z"
   },
   {
    "duration": 178,
    "start_time": "2025-04-09T07:37:27.139Z"
   },
   {
    "duration": 5,
    "start_time": "2025-04-09T07:43:15.016Z"
   },
   {
    "duration": 536,
    "start_time": "2025-04-09T07:43:18.375Z"
   },
   {
    "duration": 13,
    "start_time": "2025-04-09T07:44:57.368Z"
   },
   {
    "duration": 5,
    "start_time": "2025-04-09T07:45:38.714Z"
   },
   {
    "duration": 160,
    "start_time": "2025-04-09T07:45:42.307Z"
   },
   {
    "duration": 5,
    "start_time": "2025-04-09T07:45:56.817Z"
   },
   {
    "duration": 532,
    "start_time": "2025-04-09T07:45:57.356Z"
   },
   {
    "duration": 497,
    "start_time": "2025-04-09T07:48:21.127Z"
   },
   {
    "duration": 2640,
    "start_time": "2025-04-09T08:10:23.509Z"
   },
   {
    "duration": 1571,
    "start_time": "2025-04-09T08:10:26.152Z"
   },
   {
    "duration": 986,
    "start_time": "2025-04-09T08:10:27.725Z"
   },
   {
    "duration": 41,
    "start_time": "2025-04-09T08:10:28.713Z"
   },
   {
    "duration": 171,
    "start_time": "2025-04-09T08:10:28.757Z"
   },
   {
    "duration": 6,
    "start_time": "2025-04-09T08:10:28.939Z"
   },
   {
    "duration": 23,
    "start_time": "2025-04-09T08:10:28.947Z"
   },
   {
    "duration": 5734,
    "start_time": "2025-04-09T08:10:28.972Z"
   },
   {
    "duration": 66,
    "start_time": "2025-04-09T08:10:34.708Z"
   },
   {
    "duration": 98,
    "start_time": "2025-04-09T08:10:34.776Z"
   },
   {
    "duration": 447,
    "start_time": "2025-04-09T08:10:34.876Z"
   },
   {
    "duration": 40,
    "start_time": "2025-04-09T08:10:35.324Z"
   },
   {
    "duration": 121,
    "start_time": "2025-04-09T08:10:35.366Z"
   },
   {
    "duration": 799,
    "start_time": "2025-04-09T08:10:35.490Z"
   },
   {
    "duration": 6,
    "start_time": "2025-04-09T08:10:36.291Z"
   },
   {
    "duration": 2425,
    "start_time": "2025-04-09T08:10:36.299Z"
   },
   {
    "duration": 13,
    "start_time": "2025-04-09T08:10:38.726Z"
   },
   {
    "duration": 16,
    "start_time": "2025-04-09T08:10:38.741Z"
   },
   {
    "duration": 660,
    "start_time": "2025-04-09T08:10:38.759Z"
   },
   {
    "duration": 195,
    "start_time": "2025-04-09T08:10:39.421Z"
   },
   {
    "duration": 269,
    "start_time": "2025-04-09T08:10:39.618Z"
   },
   {
    "duration": 2191,
    "start_time": "2025-04-09T08:10:39.889Z"
   },
   {
    "duration": 2,
    "start_time": "2025-04-09T08:10:42.082Z"
   },
   {
    "duration": 4607,
    "start_time": "2025-04-09T08:10:42.086Z"
   },
   {
    "duration": 180,
    "start_time": "2025-04-09T08:10:46.696Z"
   },
   {
    "duration": 25,
    "start_time": "2025-04-09T08:10:46.877Z"
   },
   {
    "duration": 73,
    "start_time": "2025-04-09T08:10:46.904Z"
   },
   {
    "duration": 129,
    "start_time": "2025-04-09T08:10:46.979Z"
   },
   {
    "duration": 296,
    "start_time": "2025-04-09T08:10:47.110Z"
   },
   {
    "duration": 145,
    "start_time": "2025-04-09T08:10:47.408Z"
   },
   {
    "duration": 135,
    "start_time": "2025-04-09T08:10:47.555Z"
   },
   {
    "duration": 4,
    "start_time": "2025-04-09T08:10:47.692Z"
   },
   {
    "duration": 95,
    "start_time": "2025-04-09T08:10:47.698Z"
   },
   {
    "duration": 5,
    "start_time": "2025-04-09T08:10:47.795Z"
   },
   {
    "duration": 9,
    "start_time": "2025-04-09T08:10:47.801Z"
   },
   {
    "duration": 11,
    "start_time": "2025-04-09T08:10:47.812Z"
   },
   {
    "duration": 160,
    "start_time": "2025-04-09T08:10:47.825Z"
   },
   {
    "duration": 0,
    "start_time": "2025-04-09T08:10:47.987Z"
   },
   {
    "duration": 6,
    "start_time": "2025-04-09T08:12:49.280Z"
   },
   {
    "duration": 164,
    "start_time": "2025-04-09T08:12:52.999Z"
   },
   {
    "duration": 178,
    "start_time": "2025-04-09T08:13:54.247Z"
   },
   {
    "duration": 9,
    "start_time": "2025-04-09T08:14:08.121Z"
   },
   {
    "duration": 1035,
    "start_time": "2025-04-09T08:14:08.981Z"
   },
   {
    "duration": 81,
    "start_time": "2025-04-09T08:16:05.540Z"
   },
   {
    "duration": 89,
    "start_time": "2025-04-09T08:16:23.385Z"
   },
   {
    "duration": 7278,
    "start_time": "2025-04-09T08:16:42.441Z"
   },
   {
    "duration": 2886,
    "start_time": "2025-04-09T08:16:54.240Z"
   },
   {
    "duration": 21,
    "start_time": "2025-04-09T08:17:39.352Z"
   },
   {
    "duration": 5,
    "start_time": "2025-04-09T08:19:35.029Z"
   },
   {
    "duration": 13,
    "start_time": "2025-04-09T08:19:40.348Z"
   },
   {
    "duration": 3415,
    "start_time": "2025-04-09T08:20:28.381Z"
   },
   {
    "duration": 2762,
    "start_time": "2025-04-09T08:20:31.799Z"
   },
   {
    "duration": 1363,
    "start_time": "2025-04-09T08:20:34.563Z"
   },
   {
    "duration": 976,
    "start_time": "2025-04-09T08:20:35.929Z"
   },
   {
    "duration": 40,
    "start_time": "2025-04-09T08:20:36.907Z"
   },
   {
    "duration": 173,
    "start_time": "2025-04-09T08:20:36.949Z"
   },
   {
    "duration": 22,
    "start_time": "2025-04-09T08:20:37.124Z"
   },
   {
    "duration": 5,
    "start_time": "2025-04-09T08:20:37.148Z"
   },
   {
    "duration": 5638,
    "start_time": "2025-04-09T08:20:37.155Z"
   },
   {
    "duration": 66,
    "start_time": "2025-04-09T08:20:42.796Z"
   },
   {
    "duration": 100,
    "start_time": "2025-04-09T08:20:42.863Z"
   },
   {
    "duration": 446,
    "start_time": "2025-04-09T08:20:42.965Z"
   },
   {
    "duration": 43,
    "start_time": "2025-04-09T08:20:43.414Z"
   },
   {
    "duration": 115,
    "start_time": "2025-04-09T08:20:43.459Z"
   },
   {
    "duration": 743,
    "start_time": "2025-04-09T08:20:43.576Z"
   },
   {
    "duration": 4,
    "start_time": "2025-04-09T08:20:44.321Z"
   },
   {
    "duration": 2332,
    "start_time": "2025-04-09T08:20:44.327Z"
   },
   {
    "duration": 5,
    "start_time": "2025-04-09T08:20:46.661Z"
   },
   {
    "duration": 29,
    "start_time": "2025-04-09T08:20:46.667Z"
   },
   {
    "duration": 624,
    "start_time": "2025-04-09T08:20:46.698Z"
   },
   {
    "duration": 198,
    "start_time": "2025-04-09T08:20:47.324Z"
   },
   {
    "duration": 286,
    "start_time": "2025-04-09T08:20:47.524Z"
   },
   {
    "duration": 2154,
    "start_time": "2025-04-09T08:20:47.812Z"
   },
   {
    "duration": 3,
    "start_time": "2025-04-09T08:20:49.968Z"
   },
   {
    "duration": 4585,
    "start_time": "2025-04-09T08:20:49.972Z"
   },
   {
    "duration": 180,
    "start_time": "2025-04-09T08:20:54.559Z"
   },
   {
    "duration": 25,
    "start_time": "2025-04-09T08:20:54.741Z"
   },
   {
    "duration": 76,
    "start_time": "2025-04-09T08:20:54.771Z"
   },
   {
    "duration": 131,
    "start_time": "2025-04-09T08:20:54.849Z"
   },
   {
    "duration": 327,
    "start_time": "2025-04-09T08:20:54.983Z"
   },
   {
    "duration": 127,
    "start_time": "2025-04-09T08:20:55.312Z"
   },
   {
    "duration": 127,
    "start_time": "2025-04-09T08:20:55.441Z"
   },
   {
    "duration": 4,
    "start_time": "2025-04-09T08:20:55.570Z"
   },
   {
    "duration": 108,
    "start_time": "2025-04-09T08:20:55.576Z"
   },
   {
    "duration": 4,
    "start_time": "2025-04-09T08:20:55.685Z"
   },
   {
    "duration": 3,
    "start_time": "2025-04-09T08:20:55.739Z"
   },
   {
    "duration": 12,
    "start_time": "2025-04-09T08:20:55.744Z"
   },
   {
    "duration": 18,
    "start_time": "2025-04-09T08:20:55.758Z"
   },
   {
    "duration": 303,
    "start_time": "2025-04-09T08:20:55.778Z"
   },
   {
    "duration": 5,
    "start_time": "2025-04-09T08:21:30.082Z"
   },
   {
    "duration": 1106,
    "start_time": "2025-04-09T08:21:30.738Z"
   },
   {
    "duration": 22,
    "start_time": "2025-04-09T08:21:53.800Z"
   },
   {
    "duration": 12,
    "start_time": "2025-04-09T08:27:20.919Z"
   },
   {
    "duration": 12,
    "start_time": "2025-04-09T08:34:48.962Z"
   },
   {
    "duration": 20,
    "start_time": "2025-04-09T08:34:54.401Z"
   },
   {
    "duration": 12,
    "start_time": "2025-04-09T08:35:01.324Z"
   },
   {
    "duration": 11,
    "start_time": "2025-04-09T08:35:28.391Z"
   },
   {
    "duration": 2,
    "start_time": "2025-04-09T08:35:36.999Z"
   },
   {
    "duration": 13,
    "start_time": "2025-04-09T08:35:41.521Z"
   },
   {
    "duration": 4,
    "start_time": "2025-04-09T08:39:32.304Z"
   },
   {
    "duration": 12,
    "start_time": "2025-04-09T08:39:48.935Z"
   },
   {
    "duration": 5,
    "start_time": "2025-04-09T08:40:21.039Z"
   },
   {
    "duration": 12,
    "start_time": "2025-04-09T08:40:28.207Z"
   },
   {
    "duration": 49450,
    "start_time": "2025-04-09T08:40:36.206Z"
   },
   {
    "duration": 49524,
    "start_time": "2025-04-09T08:41:58.116Z"
   },
   {
    "duration": 48228,
    "start_time": "2025-04-09T08:48:44.961Z"
   },
   {
    "duration": 5,
    "start_time": "2025-04-09T08:57:04.495Z"
   },
   {
    "duration": 14,
    "start_time": "2025-04-09T09:32:22.252Z"
   },
   {
    "duration": 16,
    "start_time": "2025-04-09T09:32:58.650Z"
   },
   {
    "duration": 2600,
    "start_time": "2025-04-09T09:36:50.171Z"
   },
   {
    "duration": 19,
    "start_time": "2025-04-09T09:53:49.275Z"
   },
   {
    "duration": 37,
    "start_time": "2025-04-09T09:54:11.491Z"
   },
   {
    "duration": 15,
    "start_time": "2025-04-09T09:54:15.443Z"
   },
   {
    "duration": 3,
    "start_time": "2025-04-09T09:55:37.856Z"
   },
   {
    "duration": 12,
    "start_time": "2025-04-09T09:55:39.544Z"
   },
   {
    "duration": 3287,
    "start_time": "2025-04-09T09:56:02.850Z"
   },
   {
    "duration": 2712,
    "start_time": "2025-04-09T09:56:06.139Z"
   },
   {
    "duration": 2769,
    "start_time": "2025-04-09T09:56:08.853Z"
   },
   {
    "duration": 1547,
    "start_time": "2025-04-09T09:56:11.625Z"
   },
   {
    "duration": 3,
    "start_time": "2025-04-09T09:56:13.174Z"
   },
   {
    "duration": 1054,
    "start_time": "2025-04-09T09:56:13.178Z"
   },
   {
    "duration": 32,
    "start_time": "2025-04-09T09:56:14.233Z"
   },
   {
    "duration": 187,
    "start_time": "2025-04-09T09:56:14.267Z"
   },
   {
    "duration": 6,
    "start_time": "2025-04-09T09:56:14.455Z"
   },
   {
    "duration": 22,
    "start_time": "2025-04-09T09:56:14.463Z"
   },
   {
    "duration": 5777,
    "start_time": "2025-04-09T09:56:14.487Z"
   },
   {
    "duration": 84,
    "start_time": "2025-04-09T09:56:20.267Z"
   },
   {
    "duration": 95,
    "start_time": "2025-04-09T09:56:20.353Z"
   },
   {
    "duration": 444,
    "start_time": "2025-04-09T09:56:20.450Z"
   },
   {
    "duration": 52,
    "start_time": "2025-04-09T09:56:20.897Z"
   },
   {
    "duration": 135,
    "start_time": "2025-04-09T09:56:20.951Z"
   },
   {
    "duration": 741,
    "start_time": "2025-04-09T09:56:21.088Z"
   },
   {
    "duration": 10,
    "start_time": "2025-04-09T09:56:21.831Z"
   },
   {
    "duration": 2368,
    "start_time": "2025-04-09T09:56:21.843Z"
   },
   {
    "duration": 5,
    "start_time": "2025-04-09T09:56:24.212Z"
   },
   {
    "duration": 21,
    "start_time": "2025-04-09T09:56:24.218Z"
   },
   {
    "duration": 635,
    "start_time": "2025-04-09T09:56:24.241Z"
   },
   {
    "duration": 199,
    "start_time": "2025-04-09T09:56:24.878Z"
   },
   {
    "duration": 273,
    "start_time": "2025-04-09T09:56:25.079Z"
   },
   {
    "duration": 2201,
    "start_time": "2025-04-09T09:56:25.354Z"
   },
   {
    "duration": 4,
    "start_time": "2025-04-09T09:56:27.557Z"
   },
   {
    "duration": 4647,
    "start_time": "2025-04-09T09:56:27.563Z"
   },
   {
    "duration": 202,
    "start_time": "2025-04-09T09:56:32.215Z"
   },
   {
    "duration": 33,
    "start_time": "2025-04-09T09:56:32.419Z"
   },
   {
    "duration": 59,
    "start_time": "2025-04-09T09:56:32.454Z"
   },
   {
    "duration": 139,
    "start_time": "2025-04-09T09:56:32.515Z"
   },
   {
    "duration": 301,
    "start_time": "2025-04-09T09:56:32.656Z"
   },
   {
    "duration": 140,
    "start_time": "2025-04-09T09:56:32.958Z"
   },
   {
    "duration": 116,
    "start_time": "2025-04-09T09:56:33.100Z"
   },
   {
    "duration": 4,
    "start_time": "2025-04-09T09:56:33.218Z"
   },
   {
    "duration": 106,
    "start_time": "2025-04-09T09:56:33.224Z"
   },
   {
    "duration": 4,
    "start_time": "2025-04-09T09:56:33.331Z"
   },
   {
    "duration": 13,
    "start_time": "2025-04-09T09:56:33.337Z"
   },
   {
    "duration": 33,
    "start_time": "2025-04-09T09:56:33.352Z"
   },
   {
    "duration": 12,
    "start_time": "2025-04-09T09:56:33.387Z"
   },
   {
    "duration": 1035,
    "start_time": "2025-04-09T09:56:33.401Z"
   },
   {
    "duration": 23,
    "start_time": "2025-04-09T09:56:34.439Z"
   },
   {
    "duration": 50940,
    "start_time": "2025-04-09T09:56:34.464Z"
   },
   {
    "duration": 3,
    "start_time": "2025-04-09T09:57:25.407Z"
   },
   {
    "duration": 30,
    "start_time": "2025-04-09T09:57:25.412Z"
   },
   {
    "duration": 27,
    "start_time": "2025-04-09T09:57:25.444Z"
   },
   {
    "duration": 3,
    "start_time": "2025-04-09T09:57:25.474Z"
   },
   {
    "duration": 140,
    "start_time": "2025-04-09T09:57:25.478Z"
   },
   {
    "duration": 26,
    "start_time": "2025-04-09T10:02:11.176Z"
   },
   {
    "duration": 80,
    "start_time": "2025-04-09T10:03:48.509Z"
   },
   {
    "duration": 3,
    "start_time": "2025-04-09T10:04:46.580Z"
   },
   {
    "duration": 3,
    "start_time": "2025-04-09T10:04:57.584Z"
   },
   {
    "duration": 25,
    "start_time": "2025-04-09T10:04:58.659Z"
   },
   {
    "duration": 37,
    "start_time": "2025-04-09T10:06:27.290Z"
   },
   {
    "duration": 3476,
    "start_time": "2025-04-09T10:06:33.294Z"
   },
   {
    "duration": 2742,
    "start_time": "2025-04-09T10:06:36.772Z"
   },
   {
    "duration": 3119,
    "start_time": "2025-04-09T10:06:39.516Z"
   },
   {
    "duration": 6,
    "start_time": "2025-04-09T10:06:42.638Z"
   },
   {
    "duration": 47,
    "start_time": "2025-04-09T10:06:42.646Z"
   },
   {
    "duration": 1134,
    "start_time": "2025-04-09T10:06:42.695Z"
   },
   {
    "duration": 31,
    "start_time": "2025-04-09T10:06:43.830Z"
   },
   {
    "duration": 163,
    "start_time": "2025-04-09T10:06:43.863Z"
   },
   {
    "duration": 14,
    "start_time": "2025-04-09T10:06:44.028Z"
   },
   {
    "duration": 10,
    "start_time": "2025-04-09T10:06:44.045Z"
   },
   {
    "duration": 5340,
    "start_time": "2025-04-09T10:06:44.057Z"
   },
   {
    "duration": 55,
    "start_time": "2025-04-09T10:06:49.399Z"
   },
   {
    "duration": 91,
    "start_time": "2025-04-09T10:06:49.455Z"
   },
   {
    "duration": 376,
    "start_time": "2025-04-09T10:06:49.547Z"
   },
   {
    "duration": 35,
    "start_time": "2025-04-09T10:06:49.924Z"
   },
   {
    "duration": 110,
    "start_time": "2025-04-09T10:06:49.961Z"
   },
   {
    "duration": 705,
    "start_time": "2025-04-09T10:06:50.073Z"
   },
   {
    "duration": 5,
    "start_time": "2025-04-09T10:06:50.779Z"
   },
   {
    "duration": 2356,
    "start_time": "2025-04-09T10:06:50.786Z"
   },
   {
    "duration": 5,
    "start_time": "2025-04-09T10:06:53.144Z"
   },
   {
    "duration": 31,
    "start_time": "2025-04-09T10:06:53.151Z"
   },
   {
    "duration": 639,
    "start_time": "2025-04-09T10:06:53.184Z"
   },
   {
    "duration": 193,
    "start_time": "2025-04-09T10:06:53.825Z"
   },
   {
    "duration": 180,
    "start_time": "2025-04-09T10:06:54.021Z"
   },
   {
    "duration": 2254,
    "start_time": "2025-04-09T10:06:54.203Z"
   },
   {
    "duration": 3,
    "start_time": "2025-04-09T10:06:56.459Z"
   },
   {
    "duration": 4485,
    "start_time": "2025-04-09T10:06:56.464Z"
   },
   {
    "duration": 197,
    "start_time": "2025-04-09T10:07:00.953Z"
   },
   {
    "duration": 23,
    "start_time": "2025-04-09T10:07:01.152Z"
   },
   {
    "duration": 72,
    "start_time": "2025-04-09T10:07:01.177Z"
   },
   {
    "duration": 243,
    "start_time": "2025-04-09T10:07:01.250Z"
   },
   {
    "duration": 302,
    "start_time": "2025-04-09T10:07:01.495Z"
   },
   {
    "duration": 127,
    "start_time": "2025-04-09T10:07:01.799Z"
   },
   {
    "duration": 101,
    "start_time": "2025-04-09T10:07:01.928Z"
   },
   {
    "duration": 9,
    "start_time": "2025-04-09T10:07:02.031Z"
   },
   {
    "duration": 90,
    "start_time": "2025-04-09T10:07:02.042Z"
   },
   {
    "duration": 8,
    "start_time": "2025-04-09T10:07:02.133Z"
   },
   {
    "duration": 26,
    "start_time": "2025-04-09T10:07:02.142Z"
   },
   {
    "duration": 31,
    "start_time": "2025-04-09T10:07:02.170Z"
   },
   {
    "duration": 38,
    "start_time": "2025-04-09T10:07:02.203Z"
   },
   {
    "duration": 986,
    "start_time": "2025-04-09T10:07:02.243Z"
   },
   {
    "duration": 22,
    "start_time": "2025-04-09T10:07:03.230Z"
   },
   {
    "duration": 57290,
    "start_time": "2025-04-09T10:07:03.254Z"
   },
   {
    "duration": 4,
    "start_time": "2025-04-09T10:08:00.546Z"
   },
   {
    "duration": 9,
    "start_time": "2025-04-09T10:08:00.551Z"
   },
   {
    "duration": 18,
    "start_time": "2025-04-09T10:08:00.561Z"
   },
   {
    "duration": 101,
    "start_time": "2025-04-09T10:08:00.581Z"
   },
   {
    "duration": 3,
    "start_time": "2025-04-09T10:08:00.684Z"
   },
   {
    "duration": 50,
    "start_time": "2025-04-09T10:08:00.690Z"
   },
   {
    "duration": 23,
    "start_time": "2025-04-09T10:09:14.287Z"
   },
   {
    "duration": 3,
    "start_time": "2025-04-09T10:09:21.458Z"
   },
   {
    "duration": 24,
    "start_time": "2025-04-09T10:09:22.234Z"
   },
   {
    "duration": 3,
    "start_time": "2025-04-09T10:10:05.073Z"
   },
   {
    "duration": 33,
    "start_time": "2025-04-09T10:10:05.849Z"
   },
   {
    "duration": 3313,
    "start_time": "2025-04-09T10:10:43.881Z"
   },
   {
    "duration": 2614,
    "start_time": "2025-04-09T10:10:47.196Z"
   },
   {
    "duration": 2613,
    "start_time": "2025-04-09T10:10:49.812Z"
   },
   {
    "duration": 1461,
    "start_time": "2025-04-09T10:10:52.428Z"
   },
   {
    "duration": 3,
    "start_time": "2025-04-09T10:10:53.890Z"
   },
   {
    "duration": 1005,
    "start_time": "2025-04-09T10:10:53.895Z"
   },
   {
    "duration": 39,
    "start_time": "2025-04-09T10:10:54.901Z"
   },
   {
    "duration": 188,
    "start_time": "2025-04-09T10:10:54.942Z"
   },
   {
    "duration": 7,
    "start_time": "2025-04-09T10:10:55.132Z"
   },
   {
    "duration": 8,
    "start_time": "2025-04-09T10:10:55.142Z"
   },
   {
    "duration": 5662,
    "start_time": "2025-04-09T10:10:55.151Z"
   },
   {
    "duration": 61,
    "start_time": "2025-04-09T10:11:00.815Z"
   },
   {
    "duration": 120,
    "start_time": "2025-04-09T10:11:00.878Z"
   },
   {
    "duration": 429,
    "start_time": "2025-04-09T10:11:00.999Z"
   },
   {
    "duration": 41,
    "start_time": "2025-04-09T10:11:01.430Z"
   },
   {
    "duration": 121,
    "start_time": "2025-04-09T10:11:01.473Z"
   },
   {
    "duration": 727,
    "start_time": "2025-04-09T10:11:01.595Z"
   },
   {
    "duration": 5,
    "start_time": "2025-04-09T10:11:02.324Z"
   },
   {
    "duration": 2351,
    "start_time": "2025-04-09T10:11:02.340Z"
   },
   {
    "duration": 5,
    "start_time": "2025-04-09T10:11:04.693Z"
   },
   {
    "duration": 27,
    "start_time": "2025-04-09T10:11:04.699Z"
   },
   {
    "duration": 620,
    "start_time": "2025-04-09T10:11:04.728Z"
   },
   {
    "duration": 198,
    "start_time": "2025-04-09T10:11:05.351Z"
   },
   {
    "duration": 286,
    "start_time": "2025-04-09T10:11:05.551Z"
   },
   {
    "duration": 2159,
    "start_time": "2025-04-09T10:11:05.840Z"
   },
   {
    "duration": 3,
    "start_time": "2025-04-09T10:11:08.001Z"
   },
   {
    "duration": 4527,
    "start_time": "2025-04-09T10:11:08.006Z"
   },
   {
    "duration": 179,
    "start_time": "2025-04-09T10:11:12.538Z"
   },
   {
    "duration": 34,
    "start_time": "2025-04-09T10:11:12.720Z"
   },
   {
    "duration": 57,
    "start_time": "2025-04-09T10:11:12.756Z"
   },
   {
    "duration": 126,
    "start_time": "2025-04-09T10:11:12.838Z"
   },
   {
    "duration": 301,
    "start_time": "2025-04-09T10:11:12.966Z"
   },
   {
    "duration": 142,
    "start_time": "2025-04-09T10:11:13.269Z"
   },
   {
    "duration": 136,
    "start_time": "2025-04-09T10:11:13.414Z"
   },
   {
    "duration": 5,
    "start_time": "2025-04-09T10:11:13.552Z"
   },
   {
    "duration": 112,
    "start_time": "2025-04-09T10:11:13.558Z"
   },
   {
    "duration": 15,
    "start_time": "2025-04-09T10:11:13.672Z"
   },
   {
    "duration": 37,
    "start_time": "2025-04-09T10:11:13.689Z"
   },
   {
    "duration": 22,
    "start_time": "2025-04-09T10:11:13.727Z"
   },
   {
    "duration": 18,
    "start_time": "2025-04-09T10:11:13.751Z"
   },
   {
    "duration": 991,
    "start_time": "2025-04-09T10:11:13.771Z"
   },
   {
    "duration": 22,
    "start_time": "2025-04-09T10:11:14.764Z"
   },
   {
    "duration": 54146,
    "start_time": "2025-04-09T10:11:14.788Z"
   },
   {
    "duration": 4,
    "start_time": "2025-04-09T10:12:08.939Z"
   },
   {
    "duration": 41,
    "start_time": "2025-04-09T10:12:08.946Z"
   },
   {
    "duration": 19,
    "start_time": "2025-04-09T10:12:08.989Z"
   },
   {
    "duration": 80,
    "start_time": "2025-04-09T10:12:09.010Z"
   },
   {
    "duration": 11,
    "start_time": "2025-04-09T10:12:09.091Z"
   },
   {
    "duration": 148,
    "start_time": "2025-04-09T10:12:09.104Z"
   },
   {
    "duration": 12,
    "start_time": "2025-04-09T10:17:40.067Z"
   },
   {
    "duration": 1318,
    "start_time": "2025-04-09T10:17:56.259Z"
   },
   {
    "duration": 7,
    "start_time": "2025-04-09T10:20:27.719Z"
   },
   {
    "duration": 3,
    "start_time": "2025-04-09T10:20:30.670Z"
   },
   {
    "duration": 25,
    "start_time": "2025-04-09T10:20:31.774Z"
   },
   {
    "duration": 1127,
    "start_time": "2025-04-09T10:21:19.350Z"
   },
   {
    "duration": 196,
    "start_time": "2025-04-09T10:22:06.024Z"
   },
   {
    "duration": 62,
    "start_time": "2025-04-09T10:22:55.829Z"
   },
   {
    "duration": 3,
    "start_time": "2025-04-09T10:22:57.546Z"
   },
   {
    "duration": 35,
    "start_time": "2025-04-09T10:22:58.577Z"
   },
   {
    "duration": 31,
    "start_time": "2025-04-09T10:23:30.641Z"
   },
   {
    "duration": 3,
    "start_time": "2025-04-09T10:24:27.494Z"
   },
   {
    "duration": 23748,
    "start_time": "2025-04-09T10:24:28.199Z"
   },
   {
    "duration": 3483,
    "start_time": "2025-04-09T10:24:53.953Z"
   },
   {
    "duration": 3457,
    "start_time": "2025-04-09T10:24:57.439Z"
   },
   {
    "duration": 2685,
    "start_time": "2025-04-09T10:25:00.899Z"
   },
   {
    "duration": 1377,
    "start_time": "2025-04-09T10:25:03.587Z"
   },
   {
    "duration": 4,
    "start_time": "2025-04-09T10:25:04.965Z"
   },
   {
    "duration": 1017,
    "start_time": "2025-04-09T10:25:04.970Z"
   },
   {
    "duration": 30,
    "start_time": "2025-04-09T10:25:05.989Z"
   },
   {
    "duration": 193,
    "start_time": "2025-04-09T10:25:06.021Z"
   },
   {
    "duration": 5,
    "start_time": "2025-04-09T10:25:06.216Z"
   },
   {
    "duration": 34,
    "start_time": "2025-04-09T10:25:06.224Z"
   },
   {
    "duration": 5754,
    "start_time": "2025-04-09T10:25:06.260Z"
   },
   {
    "duration": 64,
    "start_time": "2025-04-09T10:25:12.015Z"
   },
   {
    "duration": 92,
    "start_time": "2025-04-09T10:25:12.081Z"
   },
   {
    "duration": 501,
    "start_time": "2025-04-09T10:25:12.175Z"
   },
   {
    "duration": 38,
    "start_time": "2025-04-09T10:25:12.678Z"
   },
   {
    "duration": 129,
    "start_time": "2025-04-09T10:25:12.718Z"
   },
   {
    "duration": 770,
    "start_time": "2025-04-09T10:25:12.849Z"
   },
   {
    "duration": 6,
    "start_time": "2025-04-09T10:25:13.621Z"
   },
   {
    "duration": 2347,
    "start_time": "2025-04-09T10:25:13.638Z"
   },
   {
    "duration": 5,
    "start_time": "2025-04-09T10:25:15.987Z"
   },
   {
    "duration": 12,
    "start_time": "2025-04-09T10:25:15.994Z"
   },
   {
    "duration": 649,
    "start_time": "2025-04-09T10:25:16.009Z"
   },
   {
    "duration": 192,
    "start_time": "2025-04-09T10:25:16.660Z"
   },
   {
    "duration": 266,
    "start_time": "2025-04-09T10:25:16.854Z"
   },
   {
    "duration": 2182,
    "start_time": "2025-04-09T10:25:17.122Z"
   },
   {
    "duration": 3,
    "start_time": "2025-04-09T10:25:19.306Z"
   },
   {
    "duration": 4568,
    "start_time": "2025-04-09T10:25:19.311Z"
   },
   {
    "duration": 182,
    "start_time": "2025-04-09T10:25:23.883Z"
   },
   {
    "duration": 23,
    "start_time": "2025-04-09T10:25:24.066Z"
   },
   {
    "duration": 72,
    "start_time": "2025-04-09T10:25:24.091Z"
   },
   {
    "duration": 131,
    "start_time": "2025-04-09T10:25:24.164Z"
   },
   {
    "duration": 291,
    "start_time": "2025-04-09T10:25:24.297Z"
   },
   {
    "duration": 131,
    "start_time": "2025-04-09T10:25:24.590Z"
   },
   {
    "duration": 117,
    "start_time": "2025-04-09T10:25:24.722Z"
   },
   {
    "duration": 4,
    "start_time": "2025-04-09T10:25:24.840Z"
   },
   {
    "duration": 97,
    "start_time": "2025-04-09T10:25:24.846Z"
   },
   {
    "duration": 3,
    "start_time": "2025-04-09T10:25:24.944Z"
   },
   {
    "duration": 37,
    "start_time": "2025-04-09T10:25:24.949Z"
   },
   {
    "duration": 66,
    "start_time": "2025-04-09T10:25:24.988Z"
   },
   {
    "duration": 6,
    "start_time": "2025-04-09T10:25:25.055Z"
   },
   {
    "duration": 1010,
    "start_time": "2025-04-09T10:25:25.062Z"
   },
   {
    "duration": 22,
    "start_time": "2025-04-09T10:25:26.074Z"
   },
   {
    "duration": 54463,
    "start_time": "2025-04-09T10:25:26.098Z"
   },
   {
    "duration": 3,
    "start_time": "2025-04-09T10:26:20.563Z"
   },
   {
    "duration": 41,
    "start_time": "2025-04-09T10:26:20.568Z"
   },
   {
    "duration": 26,
    "start_time": "2025-04-09T10:26:20.611Z"
   },
   {
    "duration": 83,
    "start_time": "2025-04-09T10:26:20.638Z"
   },
   {
    "duration": 218,
    "start_time": "2025-04-09T10:26:20.722Z"
   },
   {
    "duration": 60,
    "start_time": "2025-04-09T10:26:20.942Z"
   },
   {
    "duration": 3,
    "start_time": "2025-04-09T10:26:21.003Z"
   },
   {
    "duration": 290536,
    "start_time": "2025-04-09T10:26:21.008Z"
   },
   {
    "duration": 137,
    "start_time": "2025-04-09T10:35:12.414Z"
   },
   {
    "duration": 11,
    "start_time": "2025-04-09T10:39:35.266Z"
   },
   {
    "duration": 2925,
    "start_time": "2025-04-09T10:43:15.625Z"
   },
   {
    "duration": 2920,
    "start_time": "2025-04-09T10:46:19.436Z"
   },
   {
    "duration": 2915,
    "start_time": "2025-04-09T10:46:33.447Z"
   },
   {
    "duration": 2946,
    "start_time": "2025-04-09T10:47:42.145Z"
   },
   {
    "duration": 12,
    "start_time": "2025-04-09T10:50:33.874Z"
   },
   {
    "duration": 109,
    "start_time": "2025-04-09T10:51:16.057Z"
   },
   {
    "duration": 16,
    "start_time": "2025-04-09T10:51:31.000Z"
   },
   {
    "duration": 15,
    "start_time": "2025-04-09T10:52:08.569Z"
   },
   {
    "duration": 3350,
    "start_time": "2025-04-09T10:53:05.052Z"
   },
   {
    "duration": 2709,
    "start_time": "2025-04-09T10:53:08.404Z"
   },
   {
    "duration": 2676,
    "start_time": "2025-04-09T10:53:11.115Z"
   },
   {
    "duration": 5,
    "start_time": "2025-04-09T10:53:13.794Z"
   },
   {
    "duration": 9,
    "start_time": "2025-04-09T10:53:13.802Z"
   },
   {
    "duration": 913,
    "start_time": "2025-04-09T10:53:13.813Z"
   },
   {
    "duration": 28,
    "start_time": "2025-04-09T10:53:14.728Z"
   },
   {
    "duration": 171,
    "start_time": "2025-04-09T10:53:14.758Z"
   },
   {
    "duration": 10,
    "start_time": "2025-04-09T10:53:14.931Z"
   },
   {
    "duration": 17,
    "start_time": "2025-04-09T10:53:14.944Z"
   },
   {
    "duration": 5276,
    "start_time": "2025-04-09T10:53:14.963Z"
   },
   {
    "duration": 39,
    "start_time": "2025-04-09T10:53:20.241Z"
   },
   {
    "duration": 90,
    "start_time": "2025-04-09T10:53:20.282Z"
   },
   {
    "duration": 365,
    "start_time": "2025-04-09T10:53:20.374Z"
   },
   {
    "duration": 25,
    "start_time": "2025-04-09T10:53:20.741Z"
   },
   {
    "duration": 118,
    "start_time": "2025-04-09T10:53:20.768Z"
   },
   {
    "duration": 733,
    "start_time": "2025-04-09T10:53:20.888Z"
   },
   {
    "duration": 5,
    "start_time": "2025-04-09T10:53:21.623Z"
   },
   {
    "duration": 2305,
    "start_time": "2025-04-09T10:53:21.640Z"
   },
   {
    "duration": 4,
    "start_time": "2025-04-09T10:53:23.947Z"
   },
   {
    "duration": 40,
    "start_time": "2025-04-09T10:53:23.952Z"
   },
   {
    "duration": 599,
    "start_time": "2025-04-09T10:53:23.994Z"
   },
   {
    "duration": 188,
    "start_time": "2025-04-09T10:53:24.595Z"
   },
   {
    "duration": 182,
    "start_time": "2025-04-09T10:53:24.785Z"
   },
   {
    "duration": 2110,
    "start_time": "2025-04-09T10:53:24.968Z"
   },
   {
    "duration": 2,
    "start_time": "2025-04-09T10:53:27.080Z"
   },
   {
    "duration": 4517,
    "start_time": "2025-04-09T10:53:27.084Z"
   },
   {
    "duration": 196,
    "start_time": "2025-04-09T10:53:31.605Z"
   },
   {
    "duration": 22,
    "start_time": "2025-04-09T10:53:31.803Z"
   },
   {
    "duration": 67,
    "start_time": "2025-04-09T10:53:31.826Z"
   },
   {
    "duration": 248,
    "start_time": "2025-04-09T10:53:31.895Z"
   },
   {
    "duration": 299,
    "start_time": "2025-04-09T10:53:32.145Z"
   },
   {
    "duration": 133,
    "start_time": "2025-04-09T10:53:32.445Z"
   },
   {
    "duration": 109,
    "start_time": "2025-04-09T10:53:32.579Z"
   },
   {
    "duration": 4,
    "start_time": "2025-04-09T10:53:32.689Z"
   },
   {
    "duration": 101,
    "start_time": "2025-04-09T10:53:32.695Z"
   },
   {
    "duration": 20,
    "start_time": "2025-04-09T10:53:32.797Z"
   },
   {
    "duration": 16,
    "start_time": "2025-04-09T10:53:32.819Z"
   },
   {
    "duration": 7,
    "start_time": "2025-04-09T10:53:32.836Z"
   },
   {
    "duration": 5,
    "start_time": "2025-04-09T10:53:32.845Z"
   },
   {
    "duration": 956,
    "start_time": "2025-04-09T10:53:32.852Z"
   },
   {
    "duration": 31,
    "start_time": "2025-04-09T10:53:33.810Z"
   },
   {
    "duration": 53460,
    "start_time": "2025-04-09T10:53:33.842Z"
   },
   {
    "duration": 4,
    "start_time": "2025-04-09T10:54:27.303Z"
   },
   {
    "duration": 15,
    "start_time": "2025-04-09T10:54:27.308Z"
   },
   {
    "duration": 22,
    "start_time": "2025-04-09T10:54:27.325Z"
   },
   {
    "duration": 99,
    "start_time": "2025-04-09T10:54:27.349Z"
   },
   {
    "duration": 223,
    "start_time": "2025-04-09T10:54:27.450Z"
   },
   {
    "duration": 49,
    "start_time": "2025-04-09T10:54:27.675Z"
   },
   {
    "duration": 14,
    "start_time": "2025-04-09T10:54:27.726Z"
   },
   {
    "duration": 5410,
    "start_time": "2025-04-09T10:54:27.742Z"
   },
   {
    "duration": 2910,
    "start_time": "2025-04-09T10:54:33.240Z"
   },
   {
    "duration": 15,
    "start_time": "2025-04-09T10:56:25.584Z"
   },
   {
    "duration": 81,
    "start_time": "2025-04-09T10:56:39.783Z"
   },
   {
    "duration": 26,
    "start_time": "2025-04-09T10:56:40.481Z"
   },
   {
    "duration": 49,
    "start_time": "2025-04-09T10:56:41.248Z"
   },
   {
    "duration": 3,
    "start_time": "2025-04-09T10:56:41.847Z"
   },
   {
    "duration": 6002,
    "start_time": "2025-04-09T10:56:42.650Z"
   },
   {
    "duration": 3206,
    "start_time": "2025-04-09T10:57:01.734Z"
   },
   {
    "duration": 79,
    "start_time": "2025-04-09T10:57:36.614Z"
   },
   {
    "duration": 25,
    "start_time": "2025-04-09T10:57:37.230Z"
   },
   {
    "duration": 48,
    "start_time": "2025-04-09T10:57:37.894Z"
   },
   {
    "duration": 3,
    "start_time": "2025-04-09T10:57:38.799Z"
   },
   {
    "duration": 5078,
    "start_time": "2025-04-09T10:57:39.765Z"
   },
   {
    "duration": 2666,
    "start_time": "2025-04-09T10:57:47.077Z"
   },
   {
    "duration": 82,
    "start_time": "2025-04-09T10:58:02.094Z"
   },
   {
    "duration": 28,
    "start_time": "2025-04-09T10:58:02.756Z"
   },
   {
    "duration": 47,
    "start_time": "2025-04-09T10:58:03.430Z"
   },
   {
    "duration": 3,
    "start_time": "2025-04-09T10:58:04.429Z"
   },
   {
    "duration": 5733,
    "start_time": "2025-04-09T10:58:05.116Z"
   },
   {
    "duration": 3004,
    "start_time": "2025-04-09T10:58:12.748Z"
   },
   {
    "duration": 3203,
    "start_time": "2025-04-09T10:58:41.646Z"
   },
   {
    "duration": 2580,
    "start_time": "2025-04-09T10:58:44.851Z"
   },
   {
    "duration": 2577,
    "start_time": "2025-04-09T10:58:47.433Z"
   },
   {
    "duration": 1448,
    "start_time": "2025-04-09T10:58:50.012Z"
   },
   {
    "duration": 3,
    "start_time": "2025-04-09T10:58:51.462Z"
   },
   {
    "duration": 997,
    "start_time": "2025-04-09T10:58:51.466Z"
   },
   {
    "duration": 29,
    "start_time": "2025-04-09T10:58:52.465Z"
   },
   {
    "duration": 168,
    "start_time": "2025-04-09T10:58:52.496Z"
   },
   {
    "duration": 5,
    "start_time": "2025-04-09T10:58:52.666Z"
   },
   {
    "duration": 18,
    "start_time": "2025-04-09T10:58:52.674Z"
   },
   {
    "duration": 5693,
    "start_time": "2025-04-09T10:58:52.694Z"
   },
   {
    "duration": 67,
    "start_time": "2025-04-09T10:58:58.388Z"
   },
   {
    "duration": 95,
    "start_time": "2025-04-09T10:58:58.457Z"
   },
   {
    "duration": 425,
    "start_time": "2025-04-09T10:58:58.553Z"
   },
   {
    "duration": 34,
    "start_time": "2025-04-09T10:58:58.980Z"
   },
   {
    "duration": 125,
    "start_time": "2025-04-09T10:58:59.016Z"
   },
   {
    "duration": 711,
    "start_time": "2025-04-09T10:58:59.144Z"
   },
   {
    "duration": 4,
    "start_time": "2025-04-09T10:58:59.857Z"
   },
   {
    "duration": 2359,
    "start_time": "2025-04-09T10:58:59.863Z"
   },
   {
    "duration": 4,
    "start_time": "2025-04-09T10:59:02.224Z"
   },
   {
    "duration": 31,
    "start_time": "2025-04-09T10:59:02.230Z"
   },
   {
    "duration": 621,
    "start_time": "2025-04-09T10:59:02.263Z"
   },
   {
    "duration": 186,
    "start_time": "2025-04-09T10:59:02.886Z"
   },
   {
    "duration": 276,
    "start_time": "2025-04-09T10:59:03.074Z"
   },
   {
    "duration": 2140,
    "start_time": "2025-04-09T10:59:03.352Z"
   },
   {
    "duration": 2,
    "start_time": "2025-04-09T10:59:05.494Z"
   },
   {
    "duration": 4515,
    "start_time": "2025-04-09T10:59:05.498Z"
   },
   {
    "duration": 183,
    "start_time": "2025-04-09T10:59:10.017Z"
   },
   {
    "duration": 23,
    "start_time": "2025-04-09T10:59:10.202Z"
   },
   {
    "duration": 62,
    "start_time": "2025-04-09T10:59:10.238Z"
   },
   {
    "duration": 119,
    "start_time": "2025-04-09T10:59:10.302Z"
   },
   {
    "duration": 299,
    "start_time": "2025-04-09T10:59:10.423Z"
   },
   {
    "duration": 131,
    "start_time": "2025-04-09T10:59:10.724Z"
   },
   {
    "duration": 140,
    "start_time": "2025-04-09T10:59:10.857Z"
   },
   {
    "duration": 6,
    "start_time": "2025-04-09T10:59:10.998Z"
   },
   {
    "duration": 139,
    "start_time": "2025-04-09T10:59:11.006Z"
   },
   {
    "duration": 10,
    "start_time": "2025-04-09T10:59:11.147Z"
   },
   {
    "duration": 12,
    "start_time": "2025-04-09T10:59:11.159Z"
   },
   {
    "duration": 33,
    "start_time": "2025-04-09T10:59:11.173Z"
   },
   {
    "duration": 37,
    "start_time": "2025-04-09T10:59:11.208Z"
   },
   {
    "duration": 997,
    "start_time": "2025-04-09T10:59:11.247Z"
   },
   {
    "duration": 23,
    "start_time": "2025-04-09T10:59:12.247Z"
   },
   {
    "duration": 49809,
    "start_time": "2025-04-09T10:59:12.272Z"
   },
   {
    "duration": 3,
    "start_time": "2025-04-09T11:00:02.083Z"
   },
   {
    "duration": 44,
    "start_time": "2025-04-09T11:00:02.088Z"
   },
   {
    "duration": 22,
    "start_time": "2025-04-09T11:00:02.134Z"
   },
   {
    "duration": 101,
    "start_time": "2025-04-09T11:00:02.158Z"
   },
   {
    "duration": 222,
    "start_time": "2025-04-09T11:00:02.261Z"
   },
   {
    "duration": 57,
    "start_time": "2025-04-09T11:00:02.485Z"
   },
   {
    "duration": 16,
    "start_time": "2025-04-09T11:00:02.544Z"
   },
   {
    "duration": 6082,
    "start_time": "2025-04-09T11:00:02.562Z"
   },
   {
    "duration": 3197,
    "start_time": "2025-04-09T11:00:08.645Z"
   },
   {
    "duration": 120,
    "start_time": "2025-04-09T11:08:53.667Z"
   },
   {
    "duration": 1022,
    "start_time": "2025-04-09T11:36:04.032Z"
   },
   {
    "duration": 5,
    "start_time": "2025-04-09T11:44:37.040Z"
   },
   {
    "duration": 3241,
    "start_time": "2025-04-09T11:44:50.515Z"
   },
   {
    "duration": 4,
    "start_time": "2025-04-09T11:45:16.415Z"
   },
   {
    "duration": 3109,
    "start_time": "2025-04-09T11:45:30.950Z"
   },
   {
    "duration": 3143,
    "start_time": "2025-04-09T11:46:10.504Z"
   },
   {
    "duration": 3139,
    "start_time": "2025-04-09T11:46:23.311Z"
   },
   {
    "duration": 3136,
    "start_time": "2025-04-09T11:47:01.508Z"
   },
   {
    "duration": 3132,
    "start_time": "2025-04-09T11:47:14.307Z"
   },
   {
    "duration": 3254,
    "start_time": "2025-04-09T13:20:24.365Z"
   },
   {
    "duration": 2677,
    "start_time": "2025-04-09T13:20:27.623Z"
   },
   {
    "duration": 2641,
    "start_time": "2025-04-09T13:20:30.302Z"
   },
   {
    "duration": 7,
    "start_time": "2025-04-09T13:20:32.946Z"
   },
   {
    "duration": 7,
    "start_time": "2025-04-09T13:20:32.955Z"
   },
   {
    "duration": 975,
    "start_time": "2025-04-09T13:20:32.964Z"
   },
   {
    "duration": 27,
    "start_time": "2025-04-09T13:20:33.941Z"
   },
   {
    "duration": 173,
    "start_time": "2025-04-09T13:20:33.970Z"
   },
   {
    "duration": 8,
    "start_time": "2025-04-09T13:20:34.145Z"
   },
   {
    "duration": 26,
    "start_time": "2025-04-09T13:20:34.156Z"
   },
   {
    "duration": 5535,
    "start_time": "2025-04-09T13:20:34.184Z"
   },
   {
    "duration": 60,
    "start_time": "2025-04-09T13:20:39.721Z"
   },
   {
    "duration": 96,
    "start_time": "2025-04-09T13:20:39.783Z"
   },
   {
    "duration": 412,
    "start_time": "2025-04-09T13:20:39.882Z"
   },
   {
    "duration": 43,
    "start_time": "2025-04-09T13:20:40.297Z"
   },
   {
    "duration": 109,
    "start_time": "2025-04-09T13:20:40.342Z"
   },
   {
    "duration": 769,
    "start_time": "2025-04-09T13:20:40.453Z"
   },
   {
    "duration": 5,
    "start_time": "2025-04-09T13:20:41.225Z"
   },
   {
    "duration": 2348,
    "start_time": "2025-04-09T13:20:41.238Z"
   },
   {
    "duration": 4,
    "start_time": "2025-04-09T13:20:43.588Z"
   },
   {
    "duration": 8,
    "start_time": "2025-04-09T13:20:43.594Z"
   },
   {
    "duration": 637,
    "start_time": "2025-04-09T13:20:43.604Z"
   },
   {
    "duration": 190,
    "start_time": "2025-04-09T13:20:44.243Z"
   },
   {
    "duration": 184,
    "start_time": "2025-04-09T13:20:44.440Z"
   },
   {
    "duration": 2099,
    "start_time": "2025-04-09T13:20:44.626Z"
   },
   {
    "duration": 3,
    "start_time": "2025-04-09T13:20:46.727Z"
   },
   {
    "duration": 4533,
    "start_time": "2025-04-09T13:20:46.731Z"
   },
   {
    "duration": 192,
    "start_time": "2025-04-09T13:20:51.268Z"
   },
   {
    "duration": 27,
    "start_time": "2025-04-09T13:20:51.462Z"
   },
   {
    "duration": 117,
    "start_time": "2025-04-09T13:20:51.492Z"
   },
   {
    "duration": 253,
    "start_time": "2025-04-09T13:20:51.611Z"
   },
   {
    "duration": 292,
    "start_time": "2025-04-09T13:20:51.866Z"
   },
   {
    "duration": 132,
    "start_time": "2025-04-09T13:20:52.159Z"
   },
   {
    "duration": 111,
    "start_time": "2025-04-09T13:20:52.293Z"
   },
   {
    "duration": 5,
    "start_time": "2025-04-09T13:20:52.406Z"
   },
   {
    "duration": 102,
    "start_time": "2025-04-09T13:20:52.413Z"
   },
   {
    "duration": 4,
    "start_time": "2025-04-09T13:20:52.517Z"
   },
   {
    "duration": 17,
    "start_time": "2025-04-09T13:20:52.523Z"
   },
   {
    "duration": 25,
    "start_time": "2025-04-09T13:20:52.542Z"
   },
   {
    "duration": 26,
    "start_time": "2025-04-09T13:20:52.569Z"
   },
   {
    "duration": 1026,
    "start_time": "2025-04-09T13:20:52.596Z"
   },
   {
    "duration": 30,
    "start_time": "2025-04-09T13:20:53.625Z"
   },
   {
    "duration": 50918,
    "start_time": "2025-04-09T13:20:53.657Z"
   },
   {
    "duration": 4,
    "start_time": "2025-04-09T13:21:44.577Z"
   },
   {
    "duration": 10,
    "start_time": "2025-04-09T13:21:44.583Z"
   },
   {
    "duration": 20,
    "start_time": "2025-04-09T13:21:44.595Z"
   },
   {
    "duration": 122,
    "start_time": "2025-04-09T13:21:44.617Z"
   },
   {
    "duration": 209,
    "start_time": "2025-04-09T13:21:44.741Z"
   },
   {
    "duration": 52,
    "start_time": "2025-04-09T13:21:44.952Z"
   },
   {
    "duration": 3,
    "start_time": "2025-04-09T13:21:45.005Z"
   },
   {
    "duration": 149153,
    "start_time": "2025-04-09T13:21:45.010Z"
   },
   {
    "duration": 3279,
    "start_time": "2025-04-09T13:24:14.165Z"
   },
   {
    "duration": 1104,
    "start_time": "2025-04-09T13:24:17.446Z"
   },
   {
    "duration": 195,
    "start_time": "2025-04-09T13:32:32.172Z"
   },
   {
    "duration": 4876,
    "start_time": "2025-04-09T13:37:39.626Z"
   },
   {
    "duration": 3365,
    "start_time": "2025-04-09T13:38:40.631Z"
   },
   {
    "duration": 2680,
    "start_time": "2025-04-09T13:38:43.999Z"
   },
   {
    "duration": 2641,
    "start_time": "2025-04-09T13:38:46.681Z"
   },
   {
    "duration": 1426,
    "start_time": "2025-04-09T13:38:49.325Z"
   },
   {
    "duration": 3,
    "start_time": "2025-04-09T13:38:50.753Z"
   },
   {
    "duration": 1027,
    "start_time": "2025-04-09T13:38:50.757Z"
   },
   {
    "duration": 29,
    "start_time": "2025-04-09T13:38:51.786Z"
   },
   {
    "duration": 167,
    "start_time": "2025-04-09T13:38:51.817Z"
   },
   {
    "duration": 39,
    "start_time": "2025-04-09T13:38:51.986Z"
   },
   {
    "duration": 34,
    "start_time": "2025-04-09T13:38:52.028Z"
   },
   {
    "duration": 5742,
    "start_time": "2025-04-09T13:38:52.064Z"
   },
   {
    "duration": 63,
    "start_time": "2025-04-09T13:38:57.808Z"
   },
   {
    "duration": 84,
    "start_time": "2025-04-09T13:38:57.873Z"
   },
   {
    "duration": 435,
    "start_time": "2025-04-09T13:38:57.959Z"
   },
   {
    "duration": 45,
    "start_time": "2025-04-09T13:38:58.396Z"
   },
   {
    "duration": 112,
    "start_time": "2025-04-09T13:38:58.443Z"
   },
   {
    "duration": 724,
    "start_time": "2025-04-09T13:38:58.557Z"
   },
   {
    "duration": 5,
    "start_time": "2025-04-09T13:38:59.283Z"
   },
   {
    "duration": 2374,
    "start_time": "2025-04-09T13:38:59.289Z"
   },
   {
    "duration": 4,
    "start_time": "2025-04-09T13:39:01.665Z"
   },
   {
    "duration": 26,
    "start_time": "2025-04-09T13:39:01.671Z"
   },
   {
    "duration": 686,
    "start_time": "2025-04-09T13:39:01.699Z"
   },
   {
    "duration": 190,
    "start_time": "2025-04-09T13:39:02.387Z"
   },
   {
    "duration": 274,
    "start_time": "2025-04-09T13:39:02.578Z"
   },
   {
    "duration": 2129,
    "start_time": "2025-04-09T13:39:02.853Z"
   },
   {
    "duration": 4549,
    "start_time": "2025-04-09T13:39:04.984Z"
   },
   {
    "duration": 186,
    "start_time": "2025-04-09T13:39:09.535Z"
   },
   {
    "duration": 33,
    "start_time": "2025-04-09T13:39:09.725Z"
   },
   {
    "duration": 57,
    "start_time": "2025-04-09T13:39:09.759Z"
   },
   {
    "duration": 141,
    "start_time": "2025-04-09T13:39:09.818Z"
   },
   {
    "duration": 308,
    "start_time": "2025-04-09T13:39:09.961Z"
   },
   {
    "duration": 130,
    "start_time": "2025-04-09T13:39:10.272Z"
   },
   {
    "duration": 116,
    "start_time": "2025-04-09T13:39:10.404Z"
   },
   {
    "duration": 4,
    "start_time": "2025-04-09T13:39:10.522Z"
   },
   {
    "duration": 95,
    "start_time": "2025-04-09T13:39:10.527Z"
   },
   {
    "duration": 3,
    "start_time": "2025-04-09T13:39:10.624Z"
   },
   {
    "duration": 14,
    "start_time": "2025-04-09T13:39:10.628Z"
   },
   {
    "duration": 1038,
    "start_time": "2025-04-09T13:39:10.644Z"
   },
   {
    "duration": 23,
    "start_time": "2025-04-09T13:39:11.684Z"
   },
   {
    "duration": 54370,
    "start_time": "2025-04-09T13:39:11.709Z"
   },
   {
    "duration": 4,
    "start_time": "2025-04-09T13:40:06.080Z"
   },
   {
    "duration": 48,
    "start_time": "2025-04-09T13:40:06.085Z"
   },
   {
    "duration": 57,
    "start_time": "2025-04-09T13:40:06.135Z"
   },
   {
    "duration": 125,
    "start_time": "2025-04-09T13:40:06.194Z"
   },
   {
    "duration": 226,
    "start_time": "2025-04-09T13:40:06.321Z"
   },
   {
    "duration": 51,
    "start_time": "2025-04-09T13:40:06.549Z"
   },
   {
    "duration": 3,
    "start_time": "2025-04-09T13:40:06.602Z"
   },
   {
    "duration": 6039,
    "start_time": "2025-04-09T13:40:06.607Z"
   },
   {
    "duration": 3198,
    "start_time": "2025-04-09T13:40:12.648Z"
   },
   {
    "duration": 1098,
    "start_time": "2025-04-09T13:40:15.848Z"
   },
   {
    "duration": 7246,
    "start_time": "2025-04-09T14:13:28.505Z"
   },
   {
    "duration": 3274,
    "start_time": "2025-04-09T14:13:35.753Z"
   },
   {
    "duration": 2487,
    "start_time": "2025-04-09T14:13:39.029Z"
   },
   {
    "duration": 1567,
    "start_time": "2025-04-09T14:14:06.218Z"
   },
   {
    "duration": 3,
    "start_time": "2025-04-09T14:14:08.021Z"
   },
   {
    "duration": 857,
    "start_time": "2025-04-09T14:14:25.330Z"
   },
   {
    "duration": 27,
    "start_time": "2025-04-09T14:14:26.189Z"
   },
   {
    "duration": 160,
    "start_time": "2025-04-09T14:14:35.117Z"
   },
   {
    "duration": 5,
    "start_time": "2025-04-09T14:14:47.550Z"
   },
   {
    "duration": 5,
    "start_time": "2025-04-09T14:15:34.011Z"
   },
   {
    "duration": 4976,
    "start_time": "2025-04-09T14:15:34.630Z"
   },
   {
    "duration": 4,
    "start_time": "2025-04-09T14:16:36.347Z"
   },
   {
    "duration": 124,
    "start_time": "2025-04-09T14:17:48.247Z"
   },
   {
    "duration": 51,
    "start_time": "2025-04-09T14:17:51.416Z"
   },
   {
    "duration": 70,
    "start_time": "2025-04-09T14:17:52.597Z"
   },
   {
    "duration": 373,
    "start_time": "2025-04-09T14:19:56.673Z"
   },
   {
    "duration": 5,
    "start_time": "2025-04-09T14:20:59.968Z"
   },
   {
    "duration": 20,
    "start_time": "2025-04-09T14:21:05.410Z"
   },
   {
    "duration": 3180,
    "start_time": "2025-04-09T14:21:19.791Z"
   },
   {
    "duration": 2531,
    "start_time": "2025-04-09T14:21:22.973Z"
   },
   {
    "duration": 2513,
    "start_time": "2025-04-09T14:21:25.506Z"
   },
   {
    "duration": 1295,
    "start_time": "2025-04-09T14:21:28.022Z"
   },
   {
    "duration": 3,
    "start_time": "2025-04-09T14:21:29.318Z"
   },
   {
    "duration": 871,
    "start_time": "2025-04-09T14:21:29.322Z"
   },
   {
    "duration": 28,
    "start_time": "2025-04-09T14:21:30.195Z"
   },
   {
    "duration": 165,
    "start_time": "2025-04-09T14:21:30.225Z"
   },
   {
    "duration": 17,
    "start_time": "2025-04-09T14:21:30.392Z"
   },
   {
    "duration": 12,
    "start_time": "2025-04-09T14:21:30.411Z"
   },
   {
    "duration": 4857,
    "start_time": "2025-04-09T14:21:30.424Z"
   },
   {
    "duration": 50,
    "start_time": "2025-04-09T14:21:35.282Z"
   },
   {
    "duration": 96,
    "start_time": "2025-04-09T14:21:35.335Z"
   },
   {
    "duration": 396,
    "start_time": "2025-04-09T14:21:35.432Z"
   },
   {
    "duration": 32,
    "start_time": "2025-04-09T14:21:35.830Z"
   },
   {
    "duration": 30,
    "start_time": "2025-04-09T14:21:46.579Z"
   },
   {
    "duration": 99,
    "start_time": "2025-04-09T14:21:47.139Z"
   },
   {
    "duration": 20,
    "start_time": "2025-04-09T14:22:11.207Z"
   },
   {
    "duration": 127,
    "start_time": "2025-04-09T14:22:41.047Z"
   },
   {
    "duration": 3230,
    "start_time": "2025-04-09T14:22:56.485Z"
   },
   {
    "duration": 2452,
    "start_time": "2025-04-09T14:22:59.718Z"
   },
   {
    "duration": 2481,
    "start_time": "2025-04-09T14:23:02.172Z"
   },
   {
    "duration": 1472,
    "start_time": "2025-04-09T14:23:04.656Z"
   },
   {
    "duration": 2,
    "start_time": "2025-04-09T14:23:06.130Z"
   },
   {
    "duration": 917,
    "start_time": "2025-04-09T14:23:06.134Z"
   },
   {
    "duration": 27,
    "start_time": "2025-04-09T14:23:07.052Z"
   },
   {
    "duration": 183,
    "start_time": "2025-04-09T14:23:07.080Z"
   },
   {
    "duration": 12,
    "start_time": "2025-04-09T14:23:07.265Z"
   },
   {
    "duration": 8,
    "start_time": "2025-04-09T14:23:07.280Z"
   },
   {
    "duration": 5068,
    "start_time": "2025-04-09T14:23:07.290Z"
   },
   {
    "duration": 50,
    "start_time": "2025-04-09T14:23:12.360Z"
   },
   {
    "duration": 101,
    "start_time": "2025-04-09T14:23:12.412Z"
   },
   {
    "duration": 395,
    "start_time": "2025-04-09T14:23:12.514Z"
   },
   {
    "duration": 31,
    "start_time": "2025-04-09T14:23:12.911Z"
   },
   {
    "duration": 108,
    "start_time": "2025-04-09T14:23:12.961Z"
   },
   {
    "duration": 668,
    "start_time": "2025-04-09T14:23:36.394Z"
   },
   {
    "duration": 5,
    "start_time": "2025-04-09T14:24:05.144Z"
   },
   {
    "duration": 2201,
    "start_time": "2025-04-09T14:24:05.526Z"
   },
   {
    "duration": 3,
    "start_time": "2025-04-09T14:24:14.216Z"
   },
   {
    "duration": 5,
    "start_time": "2025-04-09T14:24:14.603Z"
   },
   {
    "duration": 567,
    "start_time": "2025-04-09T14:24:15.967Z"
   },
   {
    "duration": 166,
    "start_time": "2025-04-09T14:24:20.283Z"
   },
   {
    "duration": 227,
    "start_time": "2025-04-09T14:24:23.918Z"
   },
   {
    "duration": 1993,
    "start_time": "2025-04-09T14:24:33.136Z"
   },
   {
    "duration": 4243,
    "start_time": "2025-04-09T14:25:33.351Z"
   },
   {
    "duration": 168,
    "start_time": "2025-04-09T14:25:37.596Z"
   },
   {
    "duration": 21,
    "start_time": "2025-04-09T14:25:37.766Z"
   },
   {
    "duration": 55,
    "start_time": "2025-04-09T14:25:42.186Z"
   },
   {
    "duration": 122,
    "start_time": "2025-04-09T14:25:44.871Z"
   },
   {
    "duration": 260,
    "start_time": "2025-04-09T14:25:55.898Z"
   },
   {
    "duration": 115,
    "start_time": "2025-04-09T14:25:59.899Z"
   },
   {
    "duration": 94,
    "start_time": "2025-04-09T14:27:13.678Z"
   },
   {
    "duration": 168,
    "start_time": "2025-04-09T14:27:37.388Z"
   },
   {
    "duration": 91,
    "start_time": "2025-04-09T14:30:19.559Z"
   },
   {
    "duration": 4,
    "start_time": "2025-04-09T14:30:19.752Z"
   },
   {
    "duration": 73,
    "start_time": "2025-04-09T14:30:20.684Z"
   },
   {
    "duration": 3,
    "start_time": "2025-04-09T14:30:23.583Z"
   },
   {
    "duration": 5,
    "start_time": "2025-04-09T14:30:23.733Z"
   },
   {
    "duration": 7380,
    "start_time": "2025-04-10T07:04:26.254Z"
   },
   {
    "duration": 3076,
    "start_time": "2025-04-10T07:04:33.638Z"
   },
   {
    "duration": 2544,
    "start_time": "2025-04-10T07:04:36.717Z"
   },
   {
    "duration": 1826,
    "start_time": "2025-04-10T07:04:39.265Z"
   },
   {
    "duration": 3,
    "start_time": "2025-04-10T07:04:41.093Z"
   },
   {
    "duration": 1241,
    "start_time": "2025-04-10T07:04:41.097Z"
   },
   {
    "duration": 26,
    "start_time": "2025-04-10T07:04:42.340Z"
   },
   {
    "duration": 155,
    "start_time": "2025-04-10T07:04:42.368Z"
   },
   {
    "duration": 5,
    "start_time": "2025-04-10T07:04:42.524Z"
   },
   {
    "duration": 5,
    "start_time": "2025-04-10T07:04:42.532Z"
   },
   {
    "duration": 4893,
    "start_time": "2025-04-10T07:04:42.538Z"
   },
   {
    "duration": 46,
    "start_time": "2025-04-10T07:04:47.433Z"
   },
   {
    "duration": 116,
    "start_time": "2025-04-10T07:04:47.481Z"
   },
   {
    "duration": 406,
    "start_time": "2025-04-10T07:04:47.598Z"
   },
   {
    "duration": 29,
    "start_time": "2025-04-10T07:04:48.006Z"
   },
   {
    "duration": 229,
    "start_time": "2025-04-10T07:04:48.037Z"
   },
   {
    "duration": 714,
    "start_time": "2025-04-10T07:04:48.269Z"
   },
   {
    "duration": 5,
    "start_time": "2025-04-10T07:04:48.985Z"
   },
   {
    "duration": 2257,
    "start_time": "2025-04-10T07:04:48.991Z"
   },
   {
    "duration": 5,
    "start_time": "2025-04-10T07:04:51.251Z"
   },
   {
    "duration": 42,
    "start_time": "2025-04-10T07:04:51.258Z"
   },
   {
    "duration": 636,
    "start_time": "2025-04-10T07:04:51.302Z"
   },
   {
    "duration": 183,
    "start_time": "2025-04-10T07:04:51.940Z"
   },
   {
    "duration": 186,
    "start_time": "2025-04-10T07:04:52.125Z"
   },
   {
    "duration": 2015,
    "start_time": "2025-04-10T07:04:52.313Z"
   },
   {
    "duration": 4219,
    "start_time": "2025-04-10T07:04:54.330Z"
   },
   {
    "duration": 169,
    "start_time": "2025-04-10T07:04:58.551Z"
   },
   {
    "duration": 21,
    "start_time": "2025-04-10T07:04:58.723Z"
   },
   {
    "duration": 78,
    "start_time": "2025-04-10T07:04:58.745Z"
   },
   {
    "duration": 124,
    "start_time": "2025-04-10T07:04:58.824Z"
   },
   {
    "duration": 294,
    "start_time": "2025-04-10T07:04:58.950Z"
   },
   {
    "duration": 125,
    "start_time": "2025-04-10T07:04:59.246Z"
   },
   {
    "duration": 168,
    "start_time": "2025-04-10T07:04:59.373Z"
   },
   {
    "duration": 107,
    "start_time": "2025-04-10T07:04:59.542Z"
   },
   {
    "duration": 4,
    "start_time": "2025-04-10T07:04:59.651Z"
   },
   {
    "duration": 83,
    "start_time": "2025-04-10T07:04:59.657Z"
   },
   {
    "duration": 3,
    "start_time": "2025-04-10T07:04:59.742Z"
   },
   {
    "duration": 164,
    "start_time": "2025-04-10T07:04:59.748Z"
   },
   {
    "duration": 14,
    "start_time": "2025-04-10T07:07:08.193Z"
   },
   {
    "duration": 62,
    "start_time": "2025-04-10T07:07:19.952Z"
   },
   {
    "duration": 59,
    "start_time": "2025-04-10T07:18:19.169Z"
   },
   {
    "duration": 124,
    "start_time": "2025-04-10T07:19:03.365Z"
   },
   {
    "duration": 80,
    "start_time": "2025-04-10T07:19:10.924Z"
   },
   {
    "duration": 70,
    "start_time": "2025-04-10T07:19:47.852Z"
   },
   {
    "duration": 182827,
    "start_time": "2025-04-10T07:23:46.197Z"
   },
   {
    "duration": 4,
    "start_time": "2025-04-10T07:33:57.883Z"
   },
   {
    "duration": 3249,
    "start_time": "2025-04-10T07:43:58.130Z"
   },
   {
    "duration": 2743,
    "start_time": "2025-04-10T07:44:01.382Z"
   },
   {
    "duration": 2644,
    "start_time": "2025-04-10T07:44:04.127Z"
   },
   {
    "duration": 1538,
    "start_time": "2025-04-10T07:44:06.774Z"
   },
   {
    "duration": 2,
    "start_time": "2025-04-10T07:44:08.314Z"
   },
   {
    "duration": 1202,
    "start_time": "2025-04-10T07:44:08.318Z"
   },
   {
    "duration": 29,
    "start_time": "2025-04-10T07:44:09.522Z"
   },
   {
    "duration": 164,
    "start_time": "2025-04-10T07:44:09.552Z"
   },
   {
    "duration": 6,
    "start_time": "2025-04-10T07:44:09.717Z"
   },
   {
    "duration": 6,
    "start_time": "2025-04-10T07:44:09.725Z"
   },
   {
    "duration": 5289,
    "start_time": "2025-04-10T07:44:09.733Z"
   },
   {
    "duration": 50,
    "start_time": "2025-04-10T07:44:15.024Z"
   },
   {
    "duration": 158,
    "start_time": "2025-04-10T07:44:15.076Z"
   },
   {
    "duration": 423,
    "start_time": "2025-04-10T07:44:15.238Z"
   },
   {
    "duration": 45,
    "start_time": "2025-04-10T07:44:15.663Z"
   },
   {
    "duration": 106,
    "start_time": "2025-04-10T07:44:15.710Z"
   },
   {
    "duration": 693,
    "start_time": "2025-04-10T07:44:15.818Z"
   },
   {
    "duration": 5,
    "start_time": "2025-04-10T07:44:16.512Z"
   },
   {
    "duration": 2297,
    "start_time": "2025-04-10T07:44:16.518Z"
   },
   {
    "duration": 4,
    "start_time": "2025-04-10T07:44:18.817Z"
   },
   {
    "duration": 122,
    "start_time": "2025-04-10T07:44:18.822Z"
   },
   {
    "duration": 608,
    "start_time": "2025-04-10T07:44:18.945Z"
   },
   {
    "duration": 179,
    "start_time": "2025-04-10T07:44:19.555Z"
   },
   {
    "duration": 263,
    "start_time": "2025-04-10T07:44:19.736Z"
   },
   {
    "duration": 2041,
    "start_time": "2025-04-10T07:44:20.004Z"
   },
   {
    "duration": 4213,
    "start_time": "2025-04-10T07:44:22.047Z"
   },
   {
    "duration": 171,
    "start_time": "2025-04-10T07:44:26.262Z"
   },
   {
    "duration": 22,
    "start_time": "2025-04-10T07:44:26.437Z"
   },
   {
    "duration": 70,
    "start_time": "2025-04-10T07:44:26.461Z"
   },
   {
    "duration": 119,
    "start_time": "2025-04-10T07:44:26.533Z"
   },
   {
    "duration": 284,
    "start_time": "2025-04-10T07:44:26.654Z"
   },
   {
    "duration": 129,
    "start_time": "2025-04-10T07:44:26.940Z"
   },
   {
    "duration": 176,
    "start_time": "2025-04-10T07:44:27.070Z"
   },
   {
    "duration": 105,
    "start_time": "2025-04-10T07:44:27.247Z"
   },
   {
    "duration": 3,
    "start_time": "2025-04-10T07:44:27.354Z"
   },
   {
    "duration": 86,
    "start_time": "2025-04-10T07:44:27.359Z"
   },
   {
    "duration": 3,
    "start_time": "2025-04-10T07:44:27.446Z"
   },
   {
    "duration": 180832,
    "start_time": "2025-04-10T07:44:27.451Z"
   },
   {
    "duration": 3,
    "start_time": "2025-04-10T07:47:28.286Z"
   },
   {
    "duration": 21,
    "start_time": "2025-04-10T07:47:28.291Z"
   },
   {
    "duration": 58,
    "start_time": "2025-04-10T07:47:28.313Z"
   },
   {
    "duration": 7,
    "start_time": "2025-04-10T07:47:28.373Z"
   },
   {
    "duration": 5,
    "start_time": "2025-04-10T07:47:28.381Z"
   },
   {
    "duration": 4,
    "start_time": "2025-04-10T07:47:28.388Z"
   },
   {
    "duration": 26,
    "start_time": "2025-04-10T07:47:28.394Z"
   },
   {
    "duration": 82,
    "start_time": "2025-04-10T07:47:28.422Z"
   },
   {
    "duration": 186,
    "start_time": "2025-04-10T07:47:28.505Z"
   },
   {
    "duration": 47,
    "start_time": "2025-04-10T07:47:28.693Z"
   },
   {
    "duration": 3,
    "start_time": "2025-04-10T07:47:28.742Z"
   },
   {
    "duration": 231661,
    "start_time": "2025-04-10T07:47:28.747Z"
   },
   {
    "duration": 2932,
    "start_time": "2025-04-10T07:51:20.410Z"
   },
   {
    "duration": 987,
    "start_time": "2025-04-10T07:51:23.344Z"
   },
   {
    "duration": 67,
    "start_time": "2025-04-10T08:04:26.266Z"
   },
   {
    "duration": 61,
    "start_time": "2025-04-10T08:06:32.282Z"
   },
   {
    "duration": 3282,
    "start_time": "2025-04-10T08:11:45.520Z"
   },
   {
    "duration": 2602,
    "start_time": "2025-04-10T08:11:48.805Z"
   },
   {
    "duration": 2560,
    "start_time": "2025-04-10T08:11:51.410Z"
   },
   {
    "duration": 1424,
    "start_time": "2025-04-10T08:11:53.974Z"
   },
   {
    "duration": 5,
    "start_time": "2025-04-10T08:11:55.400Z"
   },
   {
    "duration": 1080,
    "start_time": "2025-04-10T08:11:55.407Z"
   },
   {
    "duration": 28,
    "start_time": "2025-04-10T08:11:56.489Z"
   },
   {
    "duration": 185,
    "start_time": "2025-04-10T08:11:56.519Z"
   },
   {
    "duration": 5,
    "start_time": "2025-04-10T08:11:56.706Z"
   },
   {
    "duration": 6,
    "start_time": "2025-04-10T08:11:56.713Z"
   },
   {
    "duration": 5611,
    "start_time": "2025-04-10T08:11:56.720Z"
   },
   {
    "duration": 55,
    "start_time": "2025-04-10T08:12:02.333Z"
   },
   {
    "duration": 88,
    "start_time": "2025-04-10T08:12:02.390Z"
   },
   {
    "duration": 524,
    "start_time": "2025-04-10T08:12:02.480Z"
   },
   {
    "duration": 33,
    "start_time": "2025-04-10T08:12:03.005Z"
   },
   {
    "duration": 187,
    "start_time": "2025-04-10T08:12:03.040Z"
   },
   {
    "duration": 744,
    "start_time": "2025-04-10T08:12:03.229Z"
   },
   {
    "duration": 5,
    "start_time": "2025-04-10T08:12:03.976Z"
   },
   {
    "duration": 2362,
    "start_time": "2025-04-10T08:12:03.982Z"
   },
   {
    "duration": 4,
    "start_time": "2025-04-10T08:12:06.346Z"
   },
   {
    "duration": 126,
    "start_time": "2025-04-10T08:12:06.352Z"
   },
   {
    "duration": 659,
    "start_time": "2025-04-10T08:12:06.479Z"
   },
   {
    "duration": 190,
    "start_time": "2025-04-10T08:12:07.139Z"
   },
   {
    "duration": 298,
    "start_time": "2025-04-10T08:12:07.331Z"
   },
   {
    "duration": 2127,
    "start_time": "2025-04-10T08:12:07.630Z"
   },
   {
    "duration": 793,
    "start_time": "2025-04-10T08:12:09.759Z"
   },
   {
    "duration": 0,
    "start_time": "2025-04-10T08:12:10.556Z"
   },
   {
    "duration": 0,
    "start_time": "2025-04-10T08:12:10.558Z"
   },
   {
    "duration": 0,
    "start_time": "2025-04-10T08:12:10.559Z"
   },
   {
    "duration": 0,
    "start_time": "2025-04-10T08:12:10.561Z"
   },
   {
    "duration": 0,
    "start_time": "2025-04-10T08:12:10.563Z"
   },
   {
    "duration": 0,
    "start_time": "2025-04-10T08:12:10.564Z"
   },
   {
    "duration": 0,
    "start_time": "2025-04-10T08:12:10.566Z"
   },
   {
    "duration": 0,
    "start_time": "2025-04-10T08:12:10.568Z"
   },
   {
    "duration": 0,
    "start_time": "2025-04-10T08:12:10.570Z"
   },
   {
    "duration": 0,
    "start_time": "2025-04-10T08:12:10.571Z"
   },
   {
    "duration": 0,
    "start_time": "2025-04-10T08:12:10.572Z"
   },
   {
    "duration": 0,
    "start_time": "2025-04-10T08:12:10.574Z"
   },
   {
    "duration": 0,
    "start_time": "2025-04-10T08:12:10.575Z"
   },
   {
    "duration": 0,
    "start_time": "2025-04-10T08:12:10.604Z"
   },
   {
    "duration": 0,
    "start_time": "2025-04-10T08:12:10.606Z"
   },
   {
    "duration": 0,
    "start_time": "2025-04-10T08:12:10.607Z"
   },
   {
    "duration": 0,
    "start_time": "2025-04-10T08:12:10.609Z"
   },
   {
    "duration": 0,
    "start_time": "2025-04-10T08:12:10.610Z"
   },
   {
    "duration": 0,
    "start_time": "2025-04-10T08:12:10.612Z"
   },
   {
    "duration": 1,
    "start_time": "2025-04-10T08:12:10.613Z"
   },
   {
    "duration": 0,
    "start_time": "2025-04-10T08:12:10.615Z"
   },
   {
    "duration": 0,
    "start_time": "2025-04-10T08:12:10.616Z"
   },
   {
    "duration": 0,
    "start_time": "2025-04-10T08:12:10.618Z"
   },
   {
    "duration": 0,
    "start_time": "2025-04-10T08:12:10.619Z"
   },
   {
    "duration": 0,
    "start_time": "2025-04-10T08:12:10.620Z"
   },
   {
    "duration": 0,
    "start_time": "2025-04-10T08:12:10.622Z"
   },
   {
    "duration": 3227,
    "start_time": "2025-04-10T08:12:25.595Z"
   },
   {
    "duration": 2619,
    "start_time": "2025-04-10T08:12:28.825Z"
   },
   {
    "duration": 2608,
    "start_time": "2025-04-10T08:12:31.446Z"
   },
   {
    "duration": 1387,
    "start_time": "2025-04-10T08:12:34.057Z"
   },
   {
    "duration": 2,
    "start_time": "2025-04-10T08:12:35.446Z"
   },
   {
    "duration": 1009,
    "start_time": "2025-04-10T08:12:35.449Z"
   },
   {
    "duration": 30,
    "start_time": "2025-04-10T08:12:36.460Z"
   },
   {
    "duration": 166,
    "start_time": "2025-04-10T08:12:36.504Z"
   },
   {
    "duration": 5,
    "start_time": "2025-04-10T08:12:36.671Z"
   },
   {
    "duration": 32,
    "start_time": "2025-04-10T08:12:36.679Z"
   },
   {
    "duration": 5509,
    "start_time": "2025-04-10T08:12:36.713Z"
   },
   {
    "duration": 52,
    "start_time": "2025-04-10T08:12:42.223Z"
   },
   {
    "duration": 91,
    "start_time": "2025-04-10T08:12:42.277Z"
   },
   {
    "duration": 435,
    "start_time": "2025-04-10T08:12:42.369Z"
   },
   {
    "duration": 33,
    "start_time": "2025-04-10T08:12:42.806Z"
   },
   {
    "duration": 114,
    "start_time": "2025-04-10T08:12:42.841Z"
   },
   {
    "duration": 716,
    "start_time": "2025-04-10T08:12:42.957Z"
   },
   {
    "duration": 5,
    "start_time": "2025-04-10T08:12:43.675Z"
   },
   {
    "duration": 2334,
    "start_time": "2025-04-10T08:12:43.682Z"
   },
   {
    "duration": 4,
    "start_time": "2025-04-10T08:12:46.018Z"
   },
   {
    "duration": 14,
    "start_time": "2025-04-10T08:12:46.024Z"
   },
   {
    "duration": 625,
    "start_time": "2025-04-10T08:12:46.040Z"
   },
   {
    "duration": 191,
    "start_time": "2025-04-10T08:12:46.668Z"
   },
   {
    "duration": 270,
    "start_time": "2025-04-10T08:12:46.861Z"
   },
   {
    "duration": 2196,
    "start_time": "2025-04-10T08:12:47.133Z"
   },
   {
    "duration": 4446,
    "start_time": "2025-04-10T08:12:49.331Z"
   },
   {
    "duration": 188,
    "start_time": "2025-04-10T08:12:53.779Z"
   },
   {
    "duration": 23,
    "start_time": "2025-04-10T08:12:53.970Z"
   },
   {
    "duration": 65,
    "start_time": "2025-04-10T08:12:53.994Z"
   },
   {
    "duration": 121,
    "start_time": "2025-04-10T08:12:54.061Z"
   },
   {
    "duration": 282,
    "start_time": "2025-04-10T08:12:54.184Z"
   },
   {
    "duration": 126,
    "start_time": "2025-04-10T08:12:54.468Z"
   },
   {
    "duration": 177,
    "start_time": "2025-04-10T08:12:54.604Z"
   },
   {
    "duration": 220,
    "start_time": "2025-04-10T08:12:54.783Z"
   },
   {
    "duration": 75,
    "start_time": "2025-04-10T08:12:55.005Z"
   },
   {
    "duration": 30,
    "start_time": "2025-04-10T08:12:55.082Z"
   },
   {
    "duration": 84,
    "start_time": "2025-04-10T08:12:55.113Z"
   },
   {
    "duration": 46,
    "start_time": "2025-04-10T08:12:55.199Z"
   },
   {
    "duration": 84,
    "start_time": "2025-04-10T08:12:55.246Z"
   },
   {
    "duration": 0,
    "start_time": "2025-04-10T08:12:55.332Z"
   },
   {
    "duration": 0,
    "start_time": "2025-04-10T08:12:55.333Z"
   },
   {
    "duration": 0,
    "start_time": "2025-04-10T08:12:55.334Z"
   },
   {
    "duration": 0,
    "start_time": "2025-04-10T08:12:55.336Z"
   },
   {
    "duration": 0,
    "start_time": "2025-04-10T08:12:55.337Z"
   },
   {
    "duration": 0,
    "start_time": "2025-04-10T08:12:55.339Z"
   },
   {
    "duration": 0,
    "start_time": "2025-04-10T08:12:55.340Z"
   },
   {
    "duration": 0,
    "start_time": "2025-04-10T08:12:55.341Z"
   },
   {
    "duration": 0,
    "start_time": "2025-04-10T08:12:55.342Z"
   },
   {
    "duration": 0,
    "start_time": "2025-04-10T08:12:55.343Z"
   },
   {
    "duration": 0,
    "start_time": "2025-04-10T08:12:55.345Z"
   },
   {
    "duration": 0,
    "start_time": "2025-04-10T08:12:55.346Z"
   },
   {
    "duration": 0,
    "start_time": "2025-04-10T08:12:55.347Z"
   },
   {
    "duration": 162889,
    "start_time": "2025-04-10T08:19:40.151Z"
   },
   {
    "duration": 150,
    "start_time": "2025-04-10T08:24:29.637Z"
   },
   {
    "duration": 3225,
    "start_time": "2025-04-10T08:25:11.266Z"
   },
   {
    "duration": 2640,
    "start_time": "2025-04-10T08:25:14.494Z"
   },
   {
    "duration": 2681,
    "start_time": "2025-04-10T08:25:17.136Z"
   },
   {
    "duration": 6,
    "start_time": "2025-04-10T08:25:19.820Z"
   },
   {
    "duration": 8,
    "start_time": "2025-04-10T08:25:19.829Z"
   },
   {
    "duration": 969,
    "start_time": "2025-04-10T08:25:19.839Z"
   },
   {
    "duration": 27,
    "start_time": "2025-04-10T08:25:20.809Z"
   },
   {
    "duration": 189,
    "start_time": "2025-04-10T08:25:20.837Z"
   },
   {
    "duration": 21,
    "start_time": "2025-04-10T08:25:21.027Z"
   },
   {
    "duration": 39,
    "start_time": "2025-04-10T08:25:21.051Z"
   },
   {
    "duration": 5177,
    "start_time": "2025-04-10T08:25:21.092Z"
   },
   {
    "duration": 52,
    "start_time": "2025-04-10T08:25:26.271Z"
   },
   {
    "duration": 187,
    "start_time": "2025-04-10T08:25:26.324Z"
   },
   {
    "duration": 389,
    "start_time": "2025-04-10T08:25:26.512Z"
   },
   {
    "duration": 26,
    "start_time": "2025-04-10T08:25:26.904Z"
   },
   {
    "duration": 116,
    "start_time": "2025-04-10T08:25:26.932Z"
   },
   {
    "duration": 882,
    "start_time": "2025-04-10T08:25:27.050Z"
   },
   {
    "duration": 6,
    "start_time": "2025-04-10T08:25:27.934Z"
   },
   {
    "duration": 2294,
    "start_time": "2025-04-10T08:25:27.941Z"
   },
   {
    "duration": 5,
    "start_time": "2025-04-10T08:25:30.236Z"
   },
   {
    "duration": 224,
    "start_time": "2025-04-10T08:25:30.243Z"
   },
   {
    "duration": 641,
    "start_time": "2025-04-10T08:25:30.470Z"
   },
   {
    "duration": 187,
    "start_time": "2025-04-10T08:25:31.113Z"
   },
   {
    "duration": 181,
    "start_time": "2025-04-10T08:25:31.301Z"
   },
   {
    "duration": 4148,
    "start_time": "2025-04-10T08:25:31.484Z"
   },
   {
    "duration": 8970,
    "start_time": "2025-04-10T08:25:35.634Z"
   },
   {
    "duration": 171,
    "start_time": "2025-04-10T08:25:44.605Z"
   },
   {
    "duration": 31,
    "start_time": "2025-04-10T08:25:44.780Z"
   },
   {
    "duration": 55,
    "start_time": "2025-04-10T08:25:44.813Z"
   },
   {
    "duration": 254,
    "start_time": "2025-04-10T08:25:44.870Z"
   },
   {
    "duration": 281,
    "start_time": "2025-04-10T08:25:45.126Z"
   },
   {
    "duration": 146,
    "start_time": "2025-04-10T08:25:45.409Z"
   },
   {
    "duration": 180,
    "start_time": "2025-04-10T08:25:45.557Z"
   },
   {
    "duration": 204,
    "start_time": "2025-04-10T08:25:45.739Z"
   },
   {
    "duration": 84,
    "start_time": "2025-04-10T08:25:45.945Z"
   },
   {
    "duration": 3,
    "start_time": "2025-04-10T08:25:46.031Z"
   },
   {
    "duration": 82,
    "start_time": "2025-04-10T08:25:46.036Z"
   },
   {
    "duration": 3,
    "start_time": "2025-04-10T08:25:46.120Z"
   },
   {
    "duration": 159917,
    "start_time": "2025-04-10T08:25:46.125Z"
   },
   {
    "duration": 3,
    "start_time": "2025-04-10T08:28:26.044Z"
   },
   {
    "duration": 32,
    "start_time": "2025-04-10T08:28:26.049Z"
   },
   {
    "duration": 7,
    "start_time": "2025-04-10T08:28:26.082Z"
   },
   {
    "duration": 6,
    "start_time": "2025-04-10T08:28:26.090Z"
   },
   {
    "duration": 3,
    "start_time": "2025-04-10T08:28:26.097Z"
   },
   {
    "duration": 13,
    "start_time": "2025-04-10T08:28:26.102Z"
   },
   {
    "duration": 74,
    "start_time": "2025-04-10T08:28:26.116Z"
   },
   {
    "duration": 161,
    "start_time": "2025-04-10T08:28:26.192Z"
   },
   {
    "duration": 37,
    "start_time": "2025-04-10T08:28:26.355Z"
   },
   {
    "duration": 36,
    "start_time": "2025-04-10T08:28:26.394Z"
   },
   {
    "duration": 91473,
    "start_time": "2025-04-10T08:28:26.432Z"
   },
   {
    "duration": 2712,
    "start_time": "2025-04-10T08:29:57.907Z"
   },
   {
    "duration": 985,
    "start_time": "2025-04-10T08:30:00.620Z"
   },
   {
    "duration": 3146,
    "start_time": "2025-04-10T08:33:18.274Z"
   },
   {
    "duration": 2488,
    "start_time": "2025-04-10T08:33:21.422Z"
   },
   {
    "duration": 2481,
    "start_time": "2025-04-10T08:33:23.913Z"
   },
   {
    "duration": 1429,
    "start_time": "2025-04-10T08:33:26.397Z"
   },
   {
    "duration": 3,
    "start_time": "2025-04-10T08:33:27.828Z"
   },
   {
    "duration": 977,
    "start_time": "2025-04-10T08:33:27.832Z"
   },
   {
    "duration": 28,
    "start_time": "2025-04-10T08:33:28.811Z"
   },
   {
    "duration": 172,
    "start_time": "2025-04-10T08:33:28.840Z"
   },
   {
    "duration": 15,
    "start_time": "2025-04-10T08:33:29.014Z"
   },
   {
    "duration": 16,
    "start_time": "2025-04-10T08:33:29.032Z"
   },
   {
    "duration": 5523,
    "start_time": "2025-04-10T08:33:29.050Z"
   },
   {
    "duration": 60,
    "start_time": "2025-04-10T08:33:34.575Z"
   },
   {
    "duration": 88,
    "start_time": "2025-04-10T08:33:34.636Z"
   },
   {
    "duration": 400,
    "start_time": "2025-04-10T08:33:34.725Z"
   },
   {
    "duration": 33,
    "start_time": "2025-04-10T08:33:35.127Z"
   },
   {
    "duration": 149,
    "start_time": "2025-04-10T08:33:35.162Z"
   },
   {
    "duration": 952,
    "start_time": "2025-04-10T08:33:35.313Z"
   },
   {
    "duration": 5,
    "start_time": "2025-04-10T08:33:36.266Z"
   },
   {
    "duration": 2567,
    "start_time": "2025-04-10T08:33:36.272Z"
   },
   {
    "duration": 4,
    "start_time": "2025-04-10T08:33:38.840Z"
   },
   {
    "duration": 81,
    "start_time": "2025-04-10T08:33:38.845Z"
   },
   {
    "duration": 683,
    "start_time": "2025-04-10T08:33:38.928Z"
   },
   {
    "duration": 267,
    "start_time": "2025-04-10T08:33:39.613Z"
   },
   {
    "duration": 173,
    "start_time": "2025-04-10T08:33:39.882Z"
   },
   {
    "duration": 5034,
    "start_time": "2025-04-10T08:33:40.057Z"
   },
   {
    "duration": 10842,
    "start_time": "2025-04-10T08:33:45.093Z"
   },
   {
    "duration": 178,
    "start_time": "2025-04-10T08:33:55.937Z"
   },
   {
    "duration": 23,
    "start_time": "2025-04-10T08:33:56.119Z"
   },
   {
    "duration": 71,
    "start_time": "2025-04-10T08:33:56.144Z"
   },
   {
    "duration": 116,
    "start_time": "2025-04-10T08:33:56.218Z"
   },
   {
    "duration": 278,
    "start_time": "2025-04-10T08:33:56.336Z"
   },
   {
    "duration": 135,
    "start_time": "2025-04-10T08:33:56.616Z"
   },
   {
    "duration": 176,
    "start_time": "2025-04-10T08:33:56.753Z"
   },
   {
    "duration": 220,
    "start_time": "2025-04-10T08:33:56.931Z"
   },
   {
    "duration": 92,
    "start_time": "2025-04-10T08:33:57.153Z"
   },
   {
    "duration": 31,
    "start_time": "2025-04-10T08:33:57.247Z"
   },
   {
    "duration": 200,
    "start_time": "2025-04-10T08:33:57.280Z"
   },
   {
    "duration": 45,
    "start_time": "2025-04-10T08:33:57.482Z"
   },
   {
    "duration": 159519,
    "start_time": "2025-04-10T08:33:57.529Z"
   },
   {
    "duration": 2,
    "start_time": "2025-04-10T08:36:37.050Z"
   },
   {
    "duration": 11,
    "start_time": "2025-04-10T08:36:37.054Z"
   },
   {
    "duration": 23,
    "start_time": "2025-04-10T08:36:37.067Z"
   },
   {
    "duration": 15,
    "start_time": "2025-04-10T08:36:37.091Z"
   },
   {
    "duration": 9,
    "start_time": "2025-04-10T08:36:37.108Z"
   },
   {
    "duration": 93,
    "start_time": "2025-04-10T08:36:37.119Z"
   },
   {
    "duration": 188,
    "start_time": "2025-04-10T08:36:37.214Z"
   },
   {
    "duration": 185,
    "start_time": "2025-04-10T08:36:37.404Z"
   },
   {
    "duration": 39,
    "start_time": "2025-04-10T08:36:37.591Z"
   },
   {
    "duration": 2,
    "start_time": "2025-04-10T08:36:37.632Z"
   },
   {
    "duration": 5376,
    "start_time": "2025-04-10T08:36:37.636Z"
   },
   {
    "duration": 2600,
    "start_time": "2025-04-10T08:36:43.014Z"
   },
   {
    "duration": 905,
    "start_time": "2025-04-10T08:36:45.616Z"
   },
   {
    "duration": 3301,
    "start_time": "2025-04-10T08:44:40.824Z"
   },
   {
    "duration": 51,
    "start_time": "2025-04-10T08:49:33.514Z"
   },
   {
    "duration": 0,
    "start_time": "2025-04-10T08:49:33.567Z"
   },
   {
    "duration": 1,
    "start_time": "2025-04-10T08:49:33.568Z"
   },
   {
    "duration": 0,
    "start_time": "2025-04-10T08:49:33.570Z"
   },
   {
    "duration": 0,
    "start_time": "2025-04-10T08:49:33.571Z"
   },
   {
    "duration": 0,
    "start_time": "2025-04-10T08:49:33.572Z"
   },
   {
    "duration": 0,
    "start_time": "2025-04-10T08:49:33.573Z"
   },
   {
    "duration": 0,
    "start_time": "2025-04-10T08:49:33.574Z"
   },
   {
    "duration": 0,
    "start_time": "2025-04-10T08:49:33.574Z"
   },
   {
    "duration": 0,
    "start_time": "2025-04-10T08:49:33.575Z"
   },
   {
    "duration": 31,
    "start_time": "2025-04-10T08:49:33.577Z"
   },
   {
    "duration": 16,
    "start_time": "2025-04-10T08:49:33.610Z"
   },
   {
    "duration": 0,
    "start_time": "2025-04-10T08:49:33.628Z"
   },
   {
    "duration": 0,
    "start_time": "2025-04-10T08:49:33.629Z"
   },
   {
    "duration": 0,
    "start_time": "2025-04-10T08:49:33.630Z"
   },
   {
    "duration": 0,
    "start_time": "2025-04-10T08:49:33.631Z"
   },
   {
    "duration": 0,
    "start_time": "2025-04-10T08:49:33.632Z"
   },
   {
    "duration": 0,
    "start_time": "2025-04-10T08:49:33.633Z"
   },
   {
    "duration": 0,
    "start_time": "2025-04-10T08:49:33.634Z"
   },
   {
    "duration": 0,
    "start_time": "2025-04-10T08:49:33.635Z"
   },
   {
    "duration": 0,
    "start_time": "2025-04-10T08:49:33.636Z"
   },
   {
    "duration": 0,
    "start_time": "2025-04-10T08:49:33.637Z"
   },
   {
    "duration": 0,
    "start_time": "2025-04-10T08:49:33.639Z"
   },
   {
    "duration": 0,
    "start_time": "2025-04-10T08:49:33.640Z"
   },
   {
    "duration": 0,
    "start_time": "2025-04-10T08:49:33.641Z"
   },
   {
    "duration": 0,
    "start_time": "2025-04-10T08:49:33.642Z"
   },
   {
    "duration": 0,
    "start_time": "2025-04-10T08:49:33.643Z"
   },
   {
    "duration": 0,
    "start_time": "2025-04-10T08:49:33.644Z"
   },
   {
    "duration": 0,
    "start_time": "2025-04-10T08:49:33.645Z"
   },
   {
    "duration": 0,
    "start_time": "2025-04-10T08:49:33.646Z"
   },
   {
    "duration": 0,
    "start_time": "2025-04-10T08:49:33.647Z"
   },
   {
    "duration": 65,
    "start_time": "2025-04-10T08:49:33.650Z"
   },
   {
    "duration": 0,
    "start_time": "2025-04-10T08:49:33.717Z"
   },
   {
    "duration": 1,
    "start_time": "2025-04-10T08:49:33.718Z"
   },
   {
    "duration": 0,
    "start_time": "2025-04-10T08:49:33.720Z"
   },
   {
    "duration": 0,
    "start_time": "2025-04-10T08:49:33.722Z"
   },
   {
    "duration": 0,
    "start_time": "2025-04-10T08:49:33.724Z"
   },
   {
    "duration": 0,
    "start_time": "2025-04-10T08:49:33.725Z"
   },
   {
    "duration": 0,
    "start_time": "2025-04-10T08:49:33.727Z"
   },
   {
    "duration": 0,
    "start_time": "2025-04-10T08:49:33.728Z"
   },
   {
    "duration": 0,
    "start_time": "2025-04-10T08:49:33.730Z"
   },
   {
    "duration": 0,
    "start_time": "2025-04-10T08:49:33.731Z"
   },
   {
    "duration": 0,
    "start_time": "2025-04-10T08:49:33.733Z"
   },
   {
    "duration": 0,
    "start_time": "2025-04-10T08:49:33.734Z"
   },
   {
    "duration": 0,
    "start_time": "2025-04-10T08:49:33.736Z"
   },
   {
    "duration": 0,
    "start_time": "2025-04-10T08:49:33.737Z"
   },
   {
    "duration": 0,
    "start_time": "2025-04-10T08:49:33.739Z"
   },
   {
    "duration": 0,
    "start_time": "2025-04-10T08:49:33.740Z"
   },
   {
    "duration": 1,
    "start_time": "2025-04-10T08:49:33.741Z"
   },
   {
    "duration": 0,
    "start_time": "2025-04-10T08:49:33.743Z"
   },
   {
    "duration": 0,
    "start_time": "2025-04-10T08:49:33.747Z"
   },
   {
    "duration": 0,
    "start_time": "2025-04-10T08:49:33.805Z"
   },
   {
    "duration": 0,
    "start_time": "2025-04-10T08:49:33.807Z"
   },
   {
    "duration": 0,
    "start_time": "2025-04-10T08:49:33.808Z"
   },
   {
    "duration": 3085,
    "start_time": "2025-04-10T08:49:52.459Z"
   },
   {
    "duration": 2529,
    "start_time": "2025-04-10T08:49:55.547Z"
   },
   {
    "duration": 2550,
    "start_time": "2025-04-10T08:49:58.078Z"
   },
   {
    "duration": 1417,
    "start_time": "2025-04-10T08:50:00.631Z"
   },
   {
    "duration": 3,
    "start_time": "2025-04-10T08:50:02.050Z"
   },
   {
    "duration": 45,
    "start_time": "2025-04-10T08:50:02.054Z"
   },
   {
    "duration": 1092,
    "start_time": "2025-04-10T08:50:02.100Z"
   },
   {
    "duration": 27,
    "start_time": "2025-04-10T08:50:03.193Z"
   },
   {
    "duration": 295,
    "start_time": "2025-04-10T08:50:03.222Z"
   },
   {
    "duration": 5,
    "start_time": "2025-04-10T08:50:03.520Z"
   },
   {
    "duration": 78,
    "start_time": "2025-04-10T08:50:03.527Z"
   },
   {
    "duration": 5364,
    "start_time": "2025-04-10T08:50:03.607Z"
   },
   {
    "duration": 66,
    "start_time": "2025-04-10T08:50:08.972Z"
   },
   {
    "duration": 82,
    "start_time": "2025-04-10T08:50:09.040Z"
   },
   {
    "duration": 409,
    "start_time": "2025-04-10T08:50:09.124Z"
   },
   {
    "duration": 33,
    "start_time": "2025-04-10T08:50:09.535Z"
   },
   {
    "duration": 122,
    "start_time": "2025-04-10T08:50:09.570Z"
   },
   {
    "duration": 706,
    "start_time": "2025-04-10T08:50:09.694Z"
   },
   {
    "duration": 5,
    "start_time": "2025-04-10T08:50:10.404Z"
   },
   {
    "duration": 2437,
    "start_time": "2025-04-10T08:50:10.410Z"
   },
   {
    "duration": 5,
    "start_time": "2025-04-10T08:50:12.848Z"
   },
   {
    "duration": 8,
    "start_time": "2025-04-10T08:50:12.854Z"
   },
   {
    "duration": 603,
    "start_time": "2025-04-10T08:50:12.864Z"
   },
   {
    "duration": 185,
    "start_time": "2025-04-10T08:50:13.469Z"
   },
   {
    "duration": 262,
    "start_time": "2025-04-10T08:50:13.655Z"
   },
   {
    "duration": 2107,
    "start_time": "2025-04-10T08:50:13.918Z"
   },
   {
    "duration": 4414,
    "start_time": "2025-04-10T08:50:16.027Z"
   },
   {
    "duration": 176,
    "start_time": "2025-04-10T08:50:20.444Z"
   },
   {
    "duration": 23,
    "start_time": "2025-04-10T08:50:20.622Z"
   },
   {
    "duration": 86,
    "start_time": "2025-04-10T08:50:20.647Z"
   },
   {
    "duration": 145,
    "start_time": "2025-04-10T08:50:20.735Z"
   },
   {
    "duration": 1512,
    "start_time": "2025-04-10T08:50:20.881Z"
   },
   {
    "duration": 152,
    "start_time": "2025-04-10T08:50:22.394Z"
   },
   {
    "duration": 211,
    "start_time": "2025-04-10T08:50:22.548Z"
   },
   {
    "duration": 220,
    "start_time": "2025-04-10T08:50:22.761Z"
   },
   {
    "duration": 87,
    "start_time": "2025-04-10T08:50:22.983Z"
   },
   {
    "duration": 4,
    "start_time": "2025-04-10T08:50:23.072Z"
   },
   {
    "duration": 98,
    "start_time": "2025-04-10T08:50:23.078Z"
   },
   {
    "duration": 11,
    "start_time": "2025-04-10T08:50:23.178Z"
   },
   {
    "duration": 163814,
    "start_time": "2025-04-10T08:50:23.190Z"
   },
   {
    "duration": 3,
    "start_time": "2025-04-10T08:53:07.005Z"
   },
   {
    "duration": 25,
    "start_time": "2025-04-10T08:53:07.009Z"
   },
   {
    "duration": 20,
    "start_time": "2025-04-10T08:53:07.035Z"
   },
   {
    "duration": 7,
    "start_time": "2025-04-10T08:53:07.057Z"
   },
   {
    "duration": 5,
    "start_time": "2025-04-10T08:53:07.066Z"
   },
   {
    "duration": 25,
    "start_time": "2025-04-10T08:53:07.073Z"
   },
   {
    "duration": 79,
    "start_time": "2025-04-10T08:53:07.100Z"
   },
   {
    "duration": 235,
    "start_time": "2025-04-10T08:53:07.181Z"
   },
   {
    "duration": 38,
    "start_time": "2025-04-10T08:53:07.418Z"
   },
   {
    "duration": 2,
    "start_time": "2025-04-10T08:53:07.458Z"
   },
   {
    "duration": 63451,
    "start_time": "2025-04-10T08:53:07.462Z"
   },
   {
    "duration": 2698,
    "start_time": "2025-04-10T08:54:10.915Z"
   },
   {
    "duration": 898,
    "start_time": "2025-04-10T08:54:13.615Z"
   },
   {
    "duration": 3,
    "start_time": "2025-04-10T08:54:14.515Z"
   },
   {
    "duration": 423,
    "start_time": "2025-04-10T09:54:56.599Z"
   },
   {
    "duration": 102,
    "start_time": "2025-04-10T09:55:27.583Z"
   },
   {
    "duration": 134,
    "start_time": "2025-04-10T13:23:09.099Z"
   },
   {
    "duration": 6888,
    "start_time": "2025-04-10T13:26:56.371Z"
   },
   {
    "duration": 2535,
    "start_time": "2025-04-10T13:27:03.262Z"
   },
   {
    "duration": 2617,
    "start_time": "2025-04-10T13:27:05.799Z"
   },
   {
    "duration": 1370,
    "start_time": "2025-04-10T13:27:08.419Z"
   },
   {
    "duration": 3,
    "start_time": "2025-04-10T13:27:09.790Z"
   },
   {
    "duration": 32,
    "start_time": "2025-04-10T13:27:09.794Z"
   },
   {
    "duration": 893,
    "start_time": "2025-04-10T13:27:09.828Z"
   },
   {
    "duration": 26,
    "start_time": "2025-04-10T13:27:10.723Z"
   },
   {
    "duration": 165,
    "start_time": "2025-04-10T13:27:10.751Z"
   },
   {
    "duration": 5,
    "start_time": "2025-04-10T13:27:10.918Z"
   },
   {
    "duration": 13,
    "start_time": "2025-04-10T13:27:10.924Z"
   },
   {
    "duration": 5186,
    "start_time": "2025-04-10T13:27:10.939Z"
   },
   {
    "duration": 55,
    "start_time": "2025-04-10T13:27:16.126Z"
   },
   {
    "duration": 88,
    "start_time": "2025-04-10T13:27:16.183Z"
   },
   {
    "duration": 410,
    "start_time": "2025-04-10T13:27:16.273Z"
   },
   {
    "duration": 44,
    "start_time": "2025-04-10T13:27:16.684Z"
   },
   {
    "duration": 121,
    "start_time": "2025-04-10T13:27:16.730Z"
   },
   {
    "duration": 972,
    "start_time": "2025-04-10T13:27:16.853Z"
   },
   {
    "duration": 5,
    "start_time": "2025-04-10T13:27:17.827Z"
   },
   {
    "duration": 2244,
    "start_time": "2025-04-10T13:27:17.834Z"
   },
   {
    "duration": 4,
    "start_time": "2025-04-10T13:27:20.080Z"
   },
   {
    "duration": 19,
    "start_time": "2025-04-10T13:27:20.086Z"
   },
   {
    "duration": 607,
    "start_time": "2025-04-10T13:27:20.107Z"
   },
   {
    "duration": 258,
    "start_time": "2025-04-10T13:27:20.716Z"
   },
   {
    "duration": 171,
    "start_time": "2025-04-10T13:27:20.976Z"
   },
   {
    "duration": 4700,
    "start_time": "2025-04-10T13:27:21.149Z"
   },
   {
    "duration": 9924,
    "start_time": "2025-04-10T13:27:25.851Z"
   },
   {
    "duration": 170,
    "start_time": "2025-04-10T13:27:35.778Z"
   },
   {
    "duration": 22,
    "start_time": "2025-04-10T13:27:35.949Z"
   },
   {
    "duration": 70,
    "start_time": "2025-04-10T13:27:35.973Z"
   },
   {
    "duration": 116,
    "start_time": "2025-04-10T13:27:36.044Z"
   },
   {
    "duration": 1351,
    "start_time": "2025-04-10T13:27:36.162Z"
   },
   {
    "duration": 139,
    "start_time": "2025-04-10T13:27:37.515Z"
   },
   {
    "duration": 169,
    "start_time": "2025-04-10T13:27:37.656Z"
   },
   {
    "duration": 209,
    "start_time": "2025-04-10T13:27:37.827Z"
   },
   {
    "duration": 79,
    "start_time": "2025-04-10T13:27:38.038Z"
   },
   {
    "duration": 4,
    "start_time": "2025-04-10T13:27:38.119Z"
   },
   {
    "duration": 80,
    "start_time": "2025-04-10T13:27:38.124Z"
   },
   {
    "duration": 7,
    "start_time": "2025-04-10T13:27:38.205Z"
   },
   {
    "duration": 197252,
    "start_time": "2025-04-10T13:27:38.214Z"
   },
   {
    "duration": 3,
    "start_time": "2025-04-10T13:30:55.468Z"
   },
   {
    "duration": 56,
    "start_time": "2025-04-10T13:30:55.473Z"
   },
   {
    "duration": 21,
    "start_time": "2025-04-10T13:30:55.531Z"
   },
   {
    "duration": 21,
    "start_time": "2025-04-10T13:30:55.554Z"
   },
   {
    "duration": 96,
    "start_time": "2025-04-10T13:30:55.576Z"
   },
   {
    "duration": 57,
    "start_time": "2025-04-10T13:30:55.674Z"
   },
   {
    "duration": 79,
    "start_time": "2025-04-10T13:30:55.732Z"
   },
   {
    "duration": 248,
    "start_time": "2025-04-10T13:30:55.813Z"
   },
   {
    "duration": 41,
    "start_time": "2025-04-10T13:30:56.063Z"
   },
   {
    "duration": 3,
    "start_time": "2025-04-10T13:30:56.106Z"
   },
   {
    "duration": 6098,
    "start_time": "2025-04-10T13:30:56.110Z"
   },
   {
    "duration": 2712,
    "start_time": "2025-04-10T13:31:02.210Z"
   },
   {
    "duration": 896,
    "start_time": "2025-04-10T13:31:04.924Z"
   },
   {
    "duration": 4,
    "start_time": "2025-04-10T13:31:05.904Z"
   },
   {
    "duration": 54927,
    "start_time": "2025-04-10T13:31:53.824Z"
   },
   {
    "duration": 3084,
    "start_time": "2025-04-10T13:33:52.986Z"
   },
   {
    "duration": 6642,
    "start_time": "2025-04-10T13:34:54.038Z"
   },
   {
    "duration": 2464,
    "start_time": "2025-04-10T13:35:00.683Z"
   },
   {
    "duration": 2450,
    "start_time": "2025-04-10T13:35:03.149Z"
   },
   {
    "duration": 1376,
    "start_time": "2025-04-10T13:35:05.601Z"
   },
   {
    "duration": 3,
    "start_time": "2025-04-10T13:35:06.979Z"
   },
   {
    "duration": 38,
    "start_time": "2025-04-10T13:35:06.983Z"
   },
   {
    "duration": 922,
    "start_time": "2025-04-10T13:35:07.023Z"
   },
   {
    "duration": 29,
    "start_time": "2025-04-10T13:35:07.947Z"
   },
   {
    "duration": 162,
    "start_time": "2025-04-10T13:35:07.978Z"
   },
   {
    "duration": 14,
    "start_time": "2025-04-10T13:35:08.142Z"
   },
   {
    "duration": 11,
    "start_time": "2025-04-10T13:35:08.158Z"
   },
   {
    "duration": 5101,
    "start_time": "2025-04-10T13:35:08.171Z"
   },
   {
    "duration": 63,
    "start_time": "2025-04-10T13:35:13.274Z"
   },
   {
    "duration": 91,
    "start_time": "2025-04-10T13:35:13.339Z"
   },
   {
    "duration": 391,
    "start_time": "2025-04-10T13:35:13.431Z"
   },
   {
    "duration": 31,
    "start_time": "2025-04-10T13:35:13.824Z"
   },
   {
    "duration": 143,
    "start_time": "2025-04-10T13:35:13.857Z"
   },
   {
    "duration": 886,
    "start_time": "2025-04-10T13:35:14.002Z"
   },
   {
    "duration": 5,
    "start_time": "2025-04-10T13:35:14.890Z"
   },
   {
    "duration": 2189,
    "start_time": "2025-04-10T13:35:14.896Z"
   },
   {
    "duration": 3,
    "start_time": "2025-04-10T13:35:17.087Z"
   },
   {
    "duration": 22,
    "start_time": "2025-04-10T13:35:17.092Z"
   },
   {
    "duration": 602,
    "start_time": "2025-04-10T13:35:17.116Z"
   },
   {
    "duration": 259,
    "start_time": "2025-04-10T13:35:17.720Z"
   },
   {
    "duration": 174,
    "start_time": "2025-04-10T13:35:17.981Z"
   },
   {
    "duration": 4619,
    "start_time": "2025-04-10T13:35:18.156Z"
   },
   {
    "duration": 10168,
    "start_time": "2025-04-10T13:35:22.776Z"
   },
   {
    "duration": 173,
    "start_time": "2025-04-10T13:35:32.947Z"
   },
   {
    "duration": 23,
    "start_time": "2025-04-10T13:35:33.121Z"
   },
   {
    "duration": 70,
    "start_time": "2025-04-10T13:35:33.146Z"
   },
   {
    "duration": 121,
    "start_time": "2025-04-10T13:35:33.218Z"
   },
   {
    "duration": 3154,
    "start_time": "2025-04-10T13:35:33.341Z"
   },
   {
    "duration": 231,
    "start_time": "2025-04-10T13:35:36.497Z"
   },
   {
    "duration": 173,
    "start_time": "2025-04-10T13:35:36.729Z"
   },
   {
    "duration": 204,
    "start_time": "2025-04-10T13:35:36.904Z"
   },
   {
    "duration": 73,
    "start_time": "2025-04-10T13:35:37.110Z"
   },
   {
    "duration": 20,
    "start_time": "2025-04-10T13:35:37.185Z"
   },
   {
    "duration": 89,
    "start_time": "2025-04-10T13:35:37.207Z"
   },
   {
    "duration": 3,
    "start_time": "2025-04-10T13:35:37.298Z"
   },
   {
    "duration": 55557,
    "start_time": "2025-04-10T13:35:37.302Z"
   },
   {
    "duration": 2,
    "start_time": "2025-04-10T13:36:32.861Z"
   },
   {
    "duration": 8,
    "start_time": "2025-04-10T13:36:32.865Z"
   },
   {
    "duration": 22,
    "start_time": "2025-04-10T13:36:32.875Z"
   },
   {
    "duration": 7,
    "start_time": "2025-04-10T13:36:32.898Z"
   },
   {
    "duration": 5,
    "start_time": "2025-04-10T13:36:32.907Z"
   },
   {
    "duration": 7,
    "start_time": "2025-04-10T13:36:32.913Z"
   },
   {
    "duration": 74,
    "start_time": "2025-04-10T13:36:32.921Z"
   },
   {
    "duration": 191,
    "start_time": "2025-04-10T13:36:32.997Z"
   },
   {
    "duration": 41,
    "start_time": "2025-04-10T13:36:33.190Z"
   },
   {
    "duration": 3,
    "start_time": "2025-04-10T13:36:33.233Z"
   },
   {
    "duration": 5970,
    "start_time": "2025-04-10T13:36:33.238Z"
   },
   {
    "duration": 2613,
    "start_time": "2025-04-10T13:36:39.210Z"
   },
   {
    "duration": 902,
    "start_time": "2025-04-10T13:36:41.824Z"
   },
   {
    "duration": 4,
    "start_time": "2025-04-10T13:36:42.804Z"
   }
  ],
  "kernelspec": {
   "display_name": "Python 3 (ipykernel)",
   "language": "python",
   "name": "python3"
  },
  "language_info": {
   "codemirror_mode": {
    "name": "ipython",
    "version": 3
   },
   "file_extension": ".py",
   "mimetype": "text/x-python",
   "name": "python",
   "nbconvert_exporter": "python",
   "pygments_lexer": "ipython3",
   "version": "3.11.2"
  },
  "toc": {
   "base_numbering": 1,
   "nav_menu": {},
   "number_sections": true,
   "sideBar": true,
   "skip_h1_title": true,
   "title_cell": "Table of Contents",
   "title_sidebar": "Contents",
   "toc_cell": false,
   "toc_position": {},
   "toc_section_display": true,
   "toc_window_display": true
  }
 },
 "nbformat": 4,
 "nbformat_minor": 2
}
