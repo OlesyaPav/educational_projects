{
 "cells": [
  {
   "cell_type": "markdown",
   "id": "41e8fce3-a212-418e-8448-517d1e89b5cf",
   "metadata": {},
   "source": [
    "<h1>Содержание<span class=\"tocSkip\"></span></h1>\n",
    "<div class=\"toc\"><ul class=\"toc-item\">\n",
    "    <li>\n",
    "        <span><a href=\"#Подготовка\" data-toc-modified-id=\"Подготовка-1\"><span class=\"toc-item-num\">1&nbsp;&nbsp;</span>Подготовка</a></span>\n",
    "        <ul class=\"toc-item\">\n",
    "            <li><span><a href=\"#Загрузка-данных\" data-toc-modified-id=\"Загрузка-данных-1.1\"><span class=\"toc-item-num\">1.1&nbsp;&nbsp;</span>Загрузка данных</a></span></li>\n",
    "            <li><span><a href=\"#Частотный-анализ-комментариев\" data-toc-modified-id=\"Частотный-анализ-комментариев-1.2\"><span class=\"toc-item-num\">1.2&nbsp;&nbsp;</span>Частотный анализ комментариев</a></span></li>\n",
    "            <li><span><a href=\"#Предобработка\" data-toc-modified-id=\"Предобработка-1.3\"><span class=\"toc-item-num\">1.3&nbsp;&nbsp;</span>Предобработка</a></span></li>\n",
    "            <li><span><a href=\"#Предварительный-вывод\" data-toc-modified-id=\"Предварительный-вывод-1.4\"><span class=\"toc-item-num\">1.4&nbsp;&nbsp;</span>Предварительный вывод</a></span></li>\n",
    "        </ul>\n",
    "    </li>\n",
    "    <li><span><a href=\"#Обучение\" data-toc-modified-id=\"Обучение-2\"><span class=\"toc-item-num\">2&nbsp;&nbsp;</span>Обучение</a></span>\n",
    "            <ul class=\"toc-item\">\n",
    "            <li><span><a href=\"#Подготовка-данных\" data-toc-modified-id=\"Подготовка-данных-2.1\"><span class=\"toc-item-num\">2.1&nbsp;&nbsp;</span>Подготовка данных</a></span></li>\n",
    "            <li><span><a href=\"#DummyClassifier\" data-toc-modified-id=\"DummyClassifier-2.2\"><span class=\"toc-item-num\">2.2&nbsp;&nbsp;</span>DummyClassifier</a></span></li>\n",
    "            <li><span><a href=\"#LogisticRegression\" data-toc-modified-id=\"LogisticRegression-2.3\"><span class=\"toc-item-num\">2.3&nbsp;&nbsp;</span>LogisticRegression</a></span></li>\n",
    "            <li><span><a href=\"#CatBoost\" data-toc-modified-id=\"CatBoost-2.4\"><span class=\"toc-item-num\">2.4&nbsp;&nbsp;</span>CatBoost</a></span></li>\n",
    "            <li><span><a href=\"#BERT\" data-toc-modified-id=\"BERT-2.5\"><span class=\"toc-item-num\">2.5&nbsp;&nbsp;</span>BERT</a></span></li>\n",
    "            <li><span><a href=\"#Сравнительная таблица\" data-toc-modified-id=\"Сравнительная таблица-2.6\"><span class=\"toc-item-num\">2.6&nbsp;&nbsp;</span>Сравнительная таблица</a></span></li>\n",
    "            <li><span><a href=\"#На-тестовых-данных\" data-toc-modified-id=\"На-тестовых-данных-2.7\"><span class=\"toc-item-num\">2.7&nbsp;&nbsp;</span>На тестовых данных</a></span></li>\n",
    "            <li><span><a href=\"#Матрица-ошибок-и-предсказание\" data-toc-modified-id=\"Матрица-ошибок-и-предсказание-2.8\"><span class=\"toc-item-num\">2.8&nbsp;&nbsp;</span>Матрица ошибок и предсказание</a></span></li>\n",
    "        </ul>\n",
    "    </li>\n",
    "    <li><span><a href=\"#Выводы\" data-toc-modified-id=\"Выводы-3\"><span class=\"toc-item-num\">3&nbsp;&nbsp;</span>Выводы</a></span></li>\n",
    "    <li><span><a href=\"#Чек-лист-проверки\" data-toc-modified-id=\"Чек-лист-проверки-4\"><span class=\"toc-item-num\">4&nbsp;&nbsp;</span>Чек-лист проверки</a></span></li>\n",
    "</ul></div>"
   ]
  },
  {
   "cell_type": "markdown",
   "id": "881c5afd-bfd0-4215-a77b-7451c34a4fb9",
   "metadata": {},
   "source": [
    "# Проект для «Викишоп» BERT\n",
    "\n",
    "**Описание проекта.**\n",
    "\n",
    "Интернет-магазин «Викишоп» запускает новый сервис. Теперь пользователи могут редактировать и дополнять описания товаров, как в вики-сообществах. То есть клиенты предлагают свои правки и комментируют изменения других. Магазину нужен инструмент, который будет искать токсичные комментарии и отправлять их на модерацию. \n",
    "\n",
    "**Цель -**\n",
    "обучить модель классифицировать комментарии на позитивные и негативные.\n",
    "\n",
    "**Задачи:**\n",
    "\n",
    "    1. Загрузить и подготовить данные.\n",
    "    2. Обучить разные модели.\n",
    "    3. Сделайть выводы.\n",
    "\n",
    "**Исходные данные:** набор данных с разметкой о токсичности правок. Столбец text в нём содержит текст комментария, а toxic — целевой признак."
   ]
  },
  {
   "cell_type": "markdown",
   "id": "938bbe67-1c01-4d49-8388-844ced5f33f5",
   "metadata": {},
   "source": [
    "## Подготовка"
   ]
  },
  {
   "cell_type": "markdown",
   "id": "8a9fa191-6bd7-447e-9231-94149b25b878",
   "metadata": {},
   "source": [
    "### Загрузка данных"
   ]
  },
  {
   "cell_type": "code",
   "execution_count": 5,
   "id": "38143727-d4ff-472c-8a89-d6213fa95855",
   "metadata": {},
   "outputs": [
    {
     "name": "stderr",
     "output_type": "stream",
     "text": [
      "[nltk_data] Downloading package punkt_tab to /home/olesya/nltk_data...\n",
      "[nltk_data]   Package punkt_tab is already up-to-date!\n"
     ]
    }
   ],
   "source": [
    "#Загрузка библиотек\n",
    "import string\n",
    "import torch\n",
    "import transformers\n",
    "import numpy as np\n",
    "import pandas as pd\n",
    "import os\n",
    "import time\n",
    "import torch.nn as nn\n",
    "import matplotlib.pyplot as plt\n",
    "import seaborn as sns\n",
    "import nltk\n",
    "\n",
    "%matplotlib inline\n",
    "nltk.download('punkt_tab')\n",
    "\n",
    "from transformers import BertTokenizer, BertModel, BertForSequenceClassification, Trainer, TrainingArguments\n",
    "from tqdm import notebook\n",
    "from sklearn.model_selection import train_test_split, cross_val_score, StratifiedKFold, RandomizedSearchCV\n",
    "from sklearn.metrics import f1_score,  make_scorer, confusion_matrix, precision_score, recall_score\n",
    "from sklearn.linear_model import LogisticRegression\n",
    "from catboost import CatBoostClassifier\n",
    "from transformers import get_linear_schedule_with_warmup\n",
    "from torch.optim import AdamW\n",
    "from torch.utils.data import TensorDataset, DataLoader\n",
    "from torch.utils.data import Dataset\n",
    "from sklearn.model_selection import KFold\n",
    "from sklearn.preprocessing import StandardScaler\n",
    "from sklearn.pipeline import Pipeline\n",
    "from sklearn.dummy import DummyClassifier\n",
    "from transformers import AutoTokenizer\n",
    "from tqdm import tqdm\n",
    "from nltk.probability import FreqDist\n",
    "from wordcloud import WordCloud\n",
    "from nltk import word_tokenize\n",
    "from nltk.corpus import stopwords"
   ]
  },
  {
   "cell_type": "code",
   "execution_count": 6,
   "id": "9ef3baed-50c1-4adc-bcd6-30711b00425b",
   "metadata": {},
   "outputs": [],
   "source": [
    "start_1 = time.time()"
   ]
  },
  {
   "cell_type": "code",
   "execution_count": 7,
   "id": "184220fc-f7b1-4578-a08a-c08014a14744",
   "metadata": {},
   "outputs": [],
   "source": [
    "\n",
    "RANDOM_STATE = 42"
   ]
  },
  {
   "cell_type": "code",
   "execution_count": 8,
   "id": "95fd9e80-d637-499f-a1e6-e43c2a494b09",
   "metadata": {},
   "outputs": [],
   "source": [
    "pth1 = '/datasets/toxic_comments.csv'\n",
    "pth2 = 'toxic_comments.csv'\n",
    "\n",
    "if os.path.exists(pth1):\n",
    "    query_1 = pd.read_csv(pth1, index_col=[0])\n",
    "elif os.path.exists(pth2):\n",
    "    query_1 = pd.read_csv(pth2, index_col=[0])\n",
    "else:\n",
    "    print('Что-то пошло не так')"
   ]
  },
  {
   "cell_type": "code",
   "execution_count": 9,
   "id": "df9b782f-4836-4ed9-8db2-c42201469d7d",
   "metadata": {},
   "outputs": [
    {
     "data": {
      "text/plain": [
       "'Начало файла'"
      ]
     },
     "metadata": {},
     "output_type": "display_data"
    },
    {
     "data": {
      "text/html": [
       "<div>\n",
       "<style scoped>\n",
       "    .dataframe tbody tr th:only-of-type {\n",
       "        vertical-align: middle;\n",
       "    }\n",
       "\n",
       "    .dataframe tbody tr th {\n",
       "        vertical-align: top;\n",
       "    }\n",
       "\n",
       "    .dataframe thead th {\n",
       "        text-align: right;\n",
       "    }\n",
       "</style>\n",
       "<table border=\"1\" class=\"dataframe\">\n",
       "  <thead>\n",
       "    <tr style=\"text-align: right;\">\n",
       "      <th></th>\n",
       "      <th>text</th>\n",
       "      <th>toxic</th>\n",
       "    </tr>\n",
       "  </thead>\n",
       "  <tbody>\n",
       "    <tr>\n",
       "      <th>0</th>\n",
       "      <td>Explanation\\nWhy the edits made under my usern...</td>\n",
       "      <td>0</td>\n",
       "    </tr>\n",
       "    <tr>\n",
       "      <th>1</th>\n",
       "      <td>D'aww! He matches this background colour I'm s...</td>\n",
       "      <td>0</td>\n",
       "    </tr>\n",
       "    <tr>\n",
       "      <th>2</th>\n",
       "      <td>Hey man, I'm really not trying to edit war. It...</td>\n",
       "      <td>0</td>\n",
       "    </tr>\n",
       "    <tr>\n",
       "      <th>3</th>\n",
       "      <td>\"\\nMore\\nI can't make any real suggestions on ...</td>\n",
       "      <td>0</td>\n",
       "    </tr>\n",
       "    <tr>\n",
       "      <th>4</th>\n",
       "      <td>You, sir, are my hero. Any chance you remember...</td>\n",
       "      <td>0</td>\n",
       "    </tr>\n",
       "  </tbody>\n",
       "</table>\n",
       "</div>"
      ],
      "text/plain": [
       "                                                text  toxic\n",
       "0  Explanation\\nWhy the edits made under my usern...      0\n",
       "1  D'aww! He matches this background colour I'm s...      0\n",
       "2  Hey man, I'm really not trying to edit war. It...      0\n",
       "3  \"\\nMore\\nI can't make any real suggestions on ...      0\n",
       "4  You, sir, are my hero. Any chance you remember...      0"
      ]
     },
     "metadata": {},
     "output_type": "display_data"
    },
    {
     "name": "stdout",
     "output_type": "stream",
     "text": [
      "\n"
     ]
    },
    {
     "data": {
      "text/plain": [
       "'Конец файла'"
      ]
     },
     "metadata": {},
     "output_type": "display_data"
    },
    {
     "data": {
      "text/html": [
       "<div>\n",
       "<style scoped>\n",
       "    .dataframe tbody tr th:only-of-type {\n",
       "        vertical-align: middle;\n",
       "    }\n",
       "\n",
       "    .dataframe tbody tr th {\n",
       "        vertical-align: top;\n",
       "    }\n",
       "\n",
       "    .dataframe thead th {\n",
       "        text-align: right;\n",
       "    }\n",
       "</style>\n",
       "<table border=\"1\" class=\"dataframe\">\n",
       "  <thead>\n",
       "    <tr style=\"text-align: right;\">\n",
       "      <th></th>\n",
       "      <th>text</th>\n",
       "      <th>toxic</th>\n",
       "    </tr>\n",
       "  </thead>\n",
       "  <tbody>\n",
       "    <tr>\n",
       "      <th>159446</th>\n",
       "      <td>\":::::And for the second time of asking, when ...</td>\n",
       "      <td>0</td>\n",
       "    </tr>\n",
       "    <tr>\n",
       "      <th>159447</th>\n",
       "      <td>You should be ashamed of yourself \\n\\nThat is ...</td>\n",
       "      <td>0</td>\n",
       "    </tr>\n",
       "    <tr>\n",
       "      <th>159448</th>\n",
       "      <td>Spitzer \\n\\nUmm, theres no actual article for ...</td>\n",
       "      <td>0</td>\n",
       "    </tr>\n",
       "    <tr>\n",
       "      <th>159449</th>\n",
       "      <td>And it looks like it was actually you who put ...</td>\n",
       "      <td>0</td>\n",
       "    </tr>\n",
       "    <tr>\n",
       "      <th>159450</th>\n",
       "      <td>\"\\nAnd ... I really don't think you understand...</td>\n",
       "      <td>0</td>\n",
       "    </tr>\n",
       "  </tbody>\n",
       "</table>\n",
       "</div>"
      ],
      "text/plain": [
       "                                                     text  toxic\n",
       "159446  \":::::And for the second time of asking, when ...      0\n",
       "159447  You should be ashamed of yourself \\n\\nThat is ...      0\n",
       "159448  Spitzer \\n\\nUmm, theres no actual article for ...      0\n",
       "159449  And it looks like it was actually you who put ...      0\n",
       "159450  \"\\nAnd ... I really don't think you understand...      0"
      ]
     },
     "metadata": {},
     "output_type": "display_data"
    }
   ],
   "source": [
    "display('Начало файла', query_1.head(5))\n",
    "print()\n",
    "display('Конец файла', query_1.tail(5))"
   ]
  },
  {
   "cell_type": "code",
   "execution_count": 10,
   "id": "89995c3c-b5e5-4e89-9719-c30f258720ef",
   "metadata": {},
   "outputs": [
    {
     "name": "stdout",
     "output_type": "stream",
     "text": [
      "<class 'pandas.core.frame.DataFrame'>\n",
      "Index: 159292 entries, 0 to 159450\n",
      "Data columns (total 2 columns):\n",
      " #   Column  Non-Null Count   Dtype \n",
      "---  ------  --------------   ----- \n",
      " 0   text    159292 non-null  object\n",
      " 1   toxic   159292 non-null  int64 \n",
      "dtypes: int64(1), object(1)\n",
      "memory usage: 3.6+ MB\n"
     ]
    }
   ],
   "source": [
    "query_1.info()"
   ]
  },
  {
   "cell_type": "code",
   "execution_count": 11,
   "id": "e7e4543a-57de-4697-a49b-37c9dc3877be",
   "metadata": {},
   "outputs": [
    {
     "data": {
      "text/plain": [
       "0"
      ]
     },
     "execution_count": 11,
     "metadata": {},
     "output_type": "execute_result"
    }
   ],
   "source": [
    "query_1['text'].duplicated().sum() #проверка на дубликаты"
   ]
  },
  {
   "cell_type": "code",
   "execution_count": 12,
   "id": "a4ce19d5-6a2d-4231-91d5-41e309135859",
   "metadata": {},
   "outputs": [
    {
     "name": "stdout",
     "output_type": "stream",
     "text": [
      "toxic\n",
      "0    143106\n",
      "1     16186\n",
      "Name: count, dtype: int64\n"
     ]
    },
    {
     "data": {
      "image/png": "[encoded data removed]",
      "text/plain": [
       "<Figure size 640x480 with 1 Axes>"
      ]
     },
     "metadata": {},
     "output_type": "display_data"
    }
   ],
   "source": [
    "a = query_1['toxic'].value_counts()\n",
    "print(a)\n",
    "#a[1]*100/query_1.shape[0] #процент токсичных комментариев\n",
    "\n",
    "fig, ax = plt.subplots()\n",
    "ax.pie(a, labels=['toxic', 'non-toxic'], autopct='%1.1f%%')\n",
    "ax.axis(\"equal\")\n",
    "ax.set_title('Процент токсичных комментариев')\n",
    "plt.show()"
   ]
  },
  {
   "cell_type": "markdown",
   "id": "2282ca98-d77a-4e1d-b95f-e0e318234531",
   "metadata": {},
   "source": [
    "*Загруженный датасет состоит из 159 292 строк и двух столбцов. Пропусков нет. Дубликатов нет. Тип данных соответствует содержимому: объектный и целочисленный. Комментарии англоязычные. Некоторые номера индексов пропущены.*"
   ]
  },
  {
   "cell_type": "markdown",
   "id": "f37c94d5-5a07-4d6f-a06d-089a22ce7946",
   "metadata": {},
   "source": [
    "*Наблюдается большой дисбаланс в целевой переменной: лишь 10% комментариев токсичны.*"
   ]
  },
  {
   "cell_type": "markdown",
   "id": "7081431c-e0d4-4c3b-8b40-13c963fbd44c",
   "metadata": {},
   "source": [
    "### Частотный анализ комментариев"
   ]
  },
  {
   "cell_type": "code",
   "execution_count": 16,
   "id": "2250c397-de22-4ba5-834c-2d0a2c811f41",
   "metadata": {},
   "outputs": [
    {
     "name": "stdout",
     "output_type": "stream",
     "text": [
      "Объединили все комментарии в в тексте и получили 62871193 символов\n",
      "Знаки табуляции для удаления !\"#$%&'()*+,-./:;<=>?@[\\]^_`{|}~\n",
      " «»\t—… \n"
     ]
    }
   ],
   "source": [
    "all_text = ' '.join(query_1['text'].str.lower()) \n",
    "print(f'Объединили все комментарии в в тексте и получили {len(all_text)} символов')\n",
    "text = all_text.lower()\n",
    "\n",
    "spec_chars = string.punctuation + '\\n\\xa0«»\\t—…' \n",
    "print(f'Знаки табуляции для удаления {spec_chars} ')\n",
    "text = \"\".join([ch for ch in text if ch not in spec_chars])\n",
    "\n",
    "def remove_chars_from_text(text, chars):\n",
    "    return \"\".join([ch for ch in text if ch not in chars])\n",
    "ext = remove_chars_from_text(text, spec_chars)\n",
    "text = remove_chars_from_text(text, string.digits)   "
   ]
  },
  {
   "cell_type": "code",
   "execution_count": 17,
   "id": "dd129eea-5122-4762-ba1f-d81dfa5bd9b9",
   "metadata": {},
   "outputs": [
    {
     "name": "stdout",
     "output_type": "stream",
     "text": [
      "['explanationwhy', 'the', 'edits', 'made', 'under', 'my', 'username', 'hardcore', 'metallica', 'fan']\n"
     ]
    },
    {
     "data": {
      "text/plain": [
       "10352531"
      ]
     },
     "execution_count": 17,
     "metadata": {},
     "output_type": "execute_result"
    }
   ],
   "source": [
    "#токенизация\n",
    "text_tokens = word_tokenize(text)\n",
    "print(text_tokens[:10])\n",
    "len(text_tokens)"
   ]
  },
  {
   "cell_type": "code",
   "execution_count": 18,
   "id": "a20ed8af-b5b1-4127-af8a-d96731d51f42",
   "metadata": {},
   "outputs": [],
   "source": [
    "text = nltk.Text(text_tokens)"
   ]
  },
  {
   "cell_type": "code",
   "execution_count": 19,
   "id": "30d4137f-dcfa-401c-89fa-0770396c4092",
   "metadata": {
    "scrolled": true
   },
   "outputs": [
    {
     "name": "stdout",
     "output_type": "stream",
     "text": [
      "<class 'nltk.text.Text'>\n"
     ]
    },
    {
     "data": {
      "text/plain": [
       "['explanationwhy',\n",
       " 'the',\n",
       " 'edits',\n",
       " 'made',\n",
       " 'under',\n",
       " 'my',\n",
       " 'username',\n",
       " 'hardcore',\n",
       " 'metallica',\n",
       " 'fan']"
      ]
     },
     "execution_count": 19,
     "metadata": {},
     "output_type": "execute_result"
    }
   ],
   "source": [
    "print(type(text))\n",
    "text[:10]"
   ]
  },
  {
   "cell_type": "code",
   "execution_count": 20,
   "id": "9d6d9586-7762-47da-a35d-cf258f2ac5a5",
   "metadata": {},
   "outputs": [
    {
     "data": {
      "text/plain": [
       "FreqDist({'the': 488948, 'to': 295406, 'of': 223257, 'and': 220400, 'a': 213114, 'you': 200820, 'i': 192092, 'is': 174883, 'that': 153248, 'in': 142445, ...})"
      ]
     },
     "execution_count": 20,
     "metadata": {},
     "output_type": "execute_result"
    }
   ],
   "source": [
    "fdist = FreqDist(text)\n",
    "fdist"
   ]
  },
  {
   "cell_type": "code",
   "execution_count": 21,
   "id": "f748d200-4e18-4354-a712-ba117e78c706",
   "metadata": {},
   "outputs": [
    {
     "data": {
      "text/plain": [
       "[('the', 488948),\n",
       " ('to', 295406),\n",
       " ('of', 223257),\n",
       " ('and', 220400),\n",
       " ('a', 213114)]"
      ]
     },
     "execution_count": 21,
     "metadata": {},
     "output_type": "execute_result"
    }
   ],
   "source": [
    "fdist.most_common(5)"
   ]
  },
  {
   "cell_type": "code",
   "execution_count": 22,
   "id": "0fc19c59-33da-4b0f-b331-f7d77f237914",
   "metadata": {},
   "outputs": [
    {
     "data": {
      "image/png": "[encoded data removed]",
      "text/plain": [
       "<Figure size 640x480 with 1 Axes>"
      ]
     },
     "metadata": {},
     "output_type": "display_data"
    }
   ],
   "source": [
    "words, counts = zip(*fdist.most_common(30))\n",
    "plt.bar(words, counts)\n",
    "plt.xticks(rotation=45)\n",
    "plt.ylabel('Количество')\n",
    "plt.title(\"Распределение самых распространенных слов\")\n",
    "plt.show()"
   ]
  },
  {
   "cell_type": "code",
   "execution_count": 23,
   "id": "978f9f8c-7618-4b0b-889c-3286194a1aa3",
   "metadata": {},
   "outputs": [
    {
     "name": "stderr",
     "output_type": "stream",
     "text": [
      "[nltk_data] Downloading package stopwords to /home/olesya/nltk_data...\n",
      "[nltk_data]   Package stopwords is already up-to-date!\n"
     ]
    }
   ],
   "source": [
    "nltk.download('stopwords')\n",
    "stop_words = stopwords.words('english')"
   ]
  },
  {
   "cell_type": "code",
   "execution_count": 24,
   "id": "6104cfec-e14b-4a3a-9959-c165460743af",
   "metadata": {},
   "outputs": [
    {
     "name": "stdout",
     "output_type": "stream",
     "text": [
      "5427635\n"
     ]
    }
   ],
   "source": [
    "text_tokens = [token.strip() for token in text_tokens if token not in stop_words]\n",
    "print(len(text_tokens))"
   ]
  },
  {
   "cell_type": "markdown",
   "id": "c0bae8f8-4594-46e0-b19a-56adb1b22156",
   "metadata": {},
   "source": [
    "Осталось примерно 5,5 млн токенов."
   ]
  },
  {
   "cell_type": "code",
   "execution_count": 26,
   "id": "feebe7bc-ed1b-42e5-a0a0-a675ef4506cf",
   "metadata": {},
   "outputs": [
    {
     "data": {
      "text/plain": [
       "[('article', 53760),\n",
       " ('page', 43823),\n",
       " ('wikipedia', 33806),\n",
       " ('talk', 30574),\n",
       " ('would', 29033),\n",
       " ('please', 27825),\n",
       " ('one', 27646),\n",
       " ('like', 27499),\n",
       " ('dont', 25443),\n",
       " ('see', 21040)]"
      ]
     },
     "execution_count": 26,
     "metadata": {},
     "output_type": "execute_result"
    }
   ],
   "source": [
    "text = nltk.Text(text_tokens)\n",
    "fdist_sw = FreqDist(text)\n",
    "fdist_sw.most_common(10)"
   ]
  },
  {
   "cell_type": "code",
   "execution_count": 27,
   "id": "e0dfc36e-b7df-4514-be5c-9d5ef1e78937",
   "metadata": {},
   "outputs": [],
   "source": [
    "text_raw = \" \".join(text)\n",
    "wordcloud = WordCloud().generate(text_raw)"
   ]
  },
  {
   "cell_type": "code",
   "execution_count": 28,
   "id": "b2d55921-39c6-41e8-bfa2-2faf8b85c34d",
   "metadata": {},
   "outputs": [
    {
     "data": {
      "image/png": "[encoded data removed]",
      "text/plain": [
       "<Figure size 640x480 with 1 Axes>"
      ]
     },
     "metadata": {},
     "output_type": "display_data"
    }
   ],
   "source": [
    "plt.imshow(wordcloud, interpolation='bilinear')\n",
    "plt.axis(\"off\")\n",
    "plt.title('Облако слов')\n",
    "plt.show()"
   ]
  },
  {
   "cell_type": "markdown",
   "id": "fd39386c-c54a-4e9a-8532-8324b45799b0",
   "metadata": {},
   "source": [
    "*Построили облако слов, которое демонстрирует самые часто встречающиеся слова в комментариях: ('article', 53760), ('page', 43823), ('wikipedia', 33806), ('talk', 30574), ('would', 29033).*"
   ]
  },
  {
   "cell_type": "markdown",
   "id": "c45779d1-0837-4647-b7d9-c2bea545a080",
   "metadata": {},
   "source": [
    "### Предобработка"
   ]
  },
  {
   "cell_type": "code",
   "execution_count": 31,
   "id": "1b5ae8c4-1a40-4fc2-b8de-942b19725430",
   "metadata": {},
   "outputs": [],
   "source": [
    "device = torch.device('cuda' if torch.cuda.is_available() else 'cpu')"
   ]
  },
  {
   "cell_type": "code",
   "execution_count": 32,
   "id": "d5bc25a7-8925-44c2-a65c-fc8f21753652",
   "metadata": {},
   "outputs": [],
   "source": [
    "tokenizer = transformers.AutoTokenizer.from_pretrained('unitary/toxic-bert')"
   ]
  },
  {
   "cell_type": "code",
   "execution_count": 33,
   "id": "5ca59220-911b-47b2-9304-9f95ed205992",
   "metadata": {},
   "outputs": [
    {
     "name": "stderr",
     "output_type": "stream",
     "text": [
      "Token indices sequence length is longer than the specified maximum sequence length for this model (631 > 512). Running this sequence through the model will result in indexing errors\n"
     ]
    },
    {
     "data": {
      "text/plain": [
       "0    [101, 7526, 2339, 1996, 10086, 2015, 2081, 210...\n",
       "1    [101, 1040, 1005, 22091, 2860, 999, 2002, 3503...\n",
       "2    [101, 4931, 2158, 1010, 1045, 1005, 1049, 2428...\n",
       "3    [101, 1000, 2062, 1045, 2064, 1005, 1056, 2191...\n",
       "4    [101, 2017, 1010, 2909, 1010, 2024, 2026, 5394...\n",
       "Name: text, dtype: object"
      ]
     },
     "execution_count": 33,
     "metadata": {},
     "output_type": "execute_result"
    }
   ],
   "source": [
    "tokenized = query_1['text'].apply(lambda x: tokenizer.encode(x, add_special_tokens=True)) #Токенизируем каждый твит.\n",
    "tokenized.head(5)"
   ]
  },
  {
   "cell_type": "code",
   "execution_count": 34,
   "id": "8dde0db7-0116-4f22-9ca7-6fb96a97c651",
   "metadata": {},
   "outputs": [
    {
     "data": {
      "text/plain": [
       "4950"
      ]
     },
     "execution_count": 34,
     "metadata": {},
     "output_type": "execute_result"
    }
   ],
   "source": [
    "l = 0 #Найдём максимальную длину векторов после токенизации.\n",
    "for i in tokenized:\n",
    "    if len(i) > l:\n",
    "        l=len(i)\n",
    "l  "
   ]
  },
  {
   "cell_type": "markdown",
   "id": "bbe4c8b9-d9de-4ec3-9e57-202abb93edce",
   "metadata": {},
   "source": [
    "Очень длинные фразы. Токенизатор не обработает такую длину."
   ]
  },
  {
   "cell_type": "markdown",
   "id": "3244276f-9b58-4eb7-a434-8d5ebfd9fe42",
   "metadata": {},
   "source": [
    "Посчитаем фразы длиной, превышающий длину, которую способен обработать токенизатор BERT - 512."
   ]
  },
  {
   "cell_type": "code",
   "execution_count": 37,
   "id": "2f796ded-4c62-49c5-996f-167775eaed03",
   "metadata": {},
   "outputs": [
    {
     "name": "stdout",
     "output_type": "stream",
     "text": [
      "Количество очень длиных фраз 3503 из 159292 строк, то есть 2.2 процентов\n"
     ]
    }
   ],
   "source": [
    "\n",
    "number_of_long_phrases = 0\n",
    "for i in tokenized:\n",
    "    if len(i) > 512:\n",
    "        number_of_long_phrases = number_of_long_phrases +1\n",
    "print(f'Количество очень длиных фраз {number_of_long_phrases} из {len(tokenized)} строк, то есть {round(number_of_long_phrases*100/len(tokenized),2)} процентов')    \n"
   ]
  },
  {
   "cell_type": "markdown",
   "id": "d39fb880-1569-43d5-9c71-ec314fb2629f",
   "metadata": {},
   "source": [
    "Тогда обрежем фразы до максимальной длины 512. Исследование не очень пострадает от обрезания 2 процентов комментариев."
   ]
  },
  {
   "cell_type": "code",
   "execution_count": 39,
   "id": "85c84ef8-aeb6-4682-9ba7-60309628a4fd",
   "metadata": {},
   "outputs": [
    {
     "data": {
      "text/plain": [
       "100898    [101, 1000, 2157, 1010, 1045, 3305, 1012, 2941...\n",
       "28901     [101, 1000, 3531, 2079, 2025, 3158, 9305, 4697...\n",
       "94044     [101, 1000, 2298, 2100, 2298, 2100, 1010, 2720...\n",
       "5626      [101, 1000, 1024, 3073, 10539, 4216, 1010, 203...\n",
       "152058    [101, 20070, 2017, 2210, 4485, 2017, 2342, 200...\n",
       "Name: text, dtype: object"
      ]
     },
     "execution_count": 39,
     "metadata": {},
     "output_type": "execute_result"
    }
   ],
   "source": [
    "\n",
    "tokenized = query_1['text'].apply(lambda x: tokenizer.encode(x, add_special_tokens=True,truncation=True, max_length=512)) #Токенизируем каждый твит.\n",
    "tokenized.sample(5)"
   ]
  },
  {
   "cell_type": "code",
   "execution_count": 40,
   "id": "2d7b5e15-2502-4baa-a705-55a47cc73c00",
   "metadata": {},
   "outputs": [
    {
     "data": {
      "text/plain": [
       "512"
      ]
     },
     "execution_count": 40,
     "metadata": {},
     "output_type": "execute_result"
    }
   ],
   "source": [
    "\n",
    "l = 0 #Найдём максимальную длину векторов после обрезки.\n",
    "for i in tokenized:\n",
    "    if len(i) > l:\n",
    "        l=len(i)\n",
    "l "
   ]
  },
  {
   "cell_type": "markdown",
   "id": "bd3dd669-7867-47d9-854f-c4baf4399d80",
   "metadata": {},
   "source": [
    "Теперь максимальная длина фразы в данных - 512."
   ]
  },
  {
   "cell_type": "code",
   "execution_count": 42,
   "id": "405b72c6-5ff8-4917-acd5-ac79be4e5086",
   "metadata": {},
   "outputs": [
    {
     "data": {
      "text/plain": [
       "(159292, 512)"
      ]
     },
     "execution_count": 42,
     "metadata": {},
     "output_type": "execute_result"
    }
   ],
   "source": [
    "\n",
    "padded = np.array([i + [0]*(l - len(i)) for i in tokenized.values])\n",
    "padded.shape"
   ]
  },
  {
   "cell_type": "code",
   "execution_count": 43,
   "id": "280edd36-75f1-4662-b6e7-27696f87ecbf",
   "metadata": {},
   "outputs": [
    {
     "data": {
      "text/plain": [
       "array([[  101,  7526,  2339, ...,     0,     0,     0],\n",
       "       [  101,  1040,  1005, ...,     0,     0,     0],\n",
       "       [  101,  4931,  2158, ...,     0,     0,     0],\n",
       "       ...,\n",
       "       [  101, 13183,  6290, ...,     0,     0,     0],\n",
       "       [  101,  1998,  2009, ...,     0,     0,     0],\n",
       "       [  101,  1000,  1998, ...,     0,     0,     0]])"
      ]
     },
     "metadata": {},
     "output_type": "display_data"
    }
   ],
   "source": [
    "\n",
    "len(padded[4444]) #длина текста произвольной строки\n",
    "display(padded)"
   ]
  },
  {
   "cell_type": "code",
   "execution_count": 44,
   "id": "8f40a382-9586-4c89-b0f0-6e05222dc9a4",
   "metadata": {},
   "outputs": [
    {
     "data": {
      "text/plain": [
       "(159292, 512)"
      ]
     },
     "execution_count": 44,
     "metadata": {},
     "output_type": "execute_result"
    }
   ],
   "source": [
    "\n",
    "attention_mask = np.where(padded != 0, 1, 0)\n",
    "attention_mask.shape\n"
   ]
  },
  {
   "cell_type": "markdown",
   "id": "4dac0e7a-c10e-4828-8dba-4d13601326eb",
   "metadata": {},
   "source": [
    "Создан массивы пэддид и маска."
   ]
  },
  {
   "cell_type": "code",
   "execution_count": 46,
   "id": "49c85a86-db47-4e04-a474-a0f063fcae63",
   "metadata": {},
   "outputs": [],
   "source": [
    "\n",
    "# Загрузка предобученной модели\n",
    "#model = BertModel.from_pretrained('bert-base-uncased')\n",
    "batch_size = 30"
   ]
  },
  {
   "cell_type": "code",
   "execution_count": 47,
   "id": "194e3fb3-6eb0-4e0e-8ef0-c0abda7c90ac",
   "metadata": {},
   "outputs": [],
   "source": [
    "model = transformers.AutoModel.from_pretrained('unitary/toxic-bert')"
   ]
  },
  {
   "cell_type": "markdown",
   "id": "dd965fa6-3d4f-4a72-950a-3edfff6b0f0c",
   "metadata": {},
   "source": [
    "Далее код будет выполняться на видеокарте."
   ]
  },
  {
   "cell_type": "code",
   "execution_count": 49,
   "id": "df114455-aae0-403e-8bfe-d88ca2e9386d",
   "metadata": {},
   "outputs": [
    {
     "data": {
      "text/plain": [
       "True"
      ]
     },
     "execution_count": 49,
     "metadata": {},
     "output_type": "execute_result"
    }
   ],
   "source": [
    "\n",
    "torch.cuda.is_available() "
   ]
  },
  {
   "cell_type": "code",
   "execution_count": 50,
   "id": "8d48f366-2ee2-4d8b-bc2a-ceca55980685",
   "metadata": {},
   "outputs": [
    {
     "data": {
      "text/plain": [
       "device(type='cuda')"
      ]
     },
     "execution_count": 50,
     "metadata": {},
     "output_type": "execute_result"
    }
   ],
   "source": [
    "\n",
    "device = torch.device(\"cuda\" if torch.cuda.is_available() else \"cpu\")\n",
    "\n",
    "model = model.eval().to(device)\n",
    "device"
   ]
  },
  {
   "cell_type": "code",
   "execution_count": 51,
   "id": "fa75840b-97f6-4bf3-aed1-3c85303dd727",
   "metadata": {
    "scrolled": true
   },
   "outputs": [
    {
     "data": {
      "application/vnd.jupyter.widget-view+json": {
       "model_id": "2391230484ab41e49849e99cc2fb3ed4",
       "version_major": 2,
       "version_minor": 0
      },
      "text/plain": [
       "  0%|          | 0/5309 [00:00<?, ?it/s]"
      ]
     },
     "metadata": {},
     "output_type": "display_data"
    }
   ],
   "source": [
    "\n",
    "embeddings = []\n",
    "with torch.no_grad():\n",
    "    for i in notebook.tqdm(range(padded.shape[0] // batch_size)):\n",
    "        batch = torch.LongTensor(padded[batch_size*i:batch_size*(i+1)]).to(device)\n",
    "        attention_mask_batch = torch.LongTensor(attention_mask[batch_size*i:batch_size*(i+1)]).to(device)\n",
    "        \n",
    "        batch_embeddings = model(batch, attention_mask=attention_mask_batch)\n",
    "        embeddings.append(batch_embeddings[0][:,0,:].cpu().numpy())  # переносим на CPU только результат\n",
    "\n",
    "features = np.concatenate(embeddings)"
   ]
  },
  {
   "cell_type": "code",
   "execution_count": 52,
   "id": "cebd3e83-6297-4ffe-8143-2d78d7cb6f12",
   "metadata": {},
   "outputs": [],
   "source": [
    "#np.save('output_features_toxic.npy', features)  # Сохраним признаки в файл"
   ]
  },
  {
   "cell_type": "code",
   "execution_count": 53,
   "id": "c9c243d4-dee2-4b82-bb56-99533ad7fc94",
   "metadata": {},
   "outputs": [],
   "source": [
    "\n",
    "#features = np.load('output_features_toxic.npy')"
   ]
  },
  {
   "cell_type": "code",
   "execution_count": 54,
   "id": "5816833e-23a3-48e8-a3bf-480c1b593e1e",
   "metadata": {},
   "outputs": [
    {
     "data": {
      "text/plain": [
       "array([[-0.5585105 , -1.0476661 ,  0.71994895, ..., -0.71159077,\n",
       "         0.524905  ,  0.1127703 ],\n",
       "       [-0.5933713 , -0.99813074,  0.62393904, ..., -0.69221807,\n",
       "         0.4633574 ,  0.10821122],\n",
       "       [-0.612209  , -0.865758  ,  0.7485891 , ..., -0.6126193 ,\n",
       "         0.5090273 ,  0.13732651],\n",
       "       [-0.5692076 , -0.9294687 ,  0.5893977 , ..., -0.70434886,\n",
       "         0.38134307,  0.10570189],\n",
       "       [-0.7945165 , -0.84589416,  0.8894023 , ..., -0.73546135,\n",
       "         0.6126286 , -0.066796  ]], dtype=float32)"
      ]
     },
     "metadata": {},
     "output_type": "display_data"
    },
    {
     "data": {
      "text/plain": [
       "(159270, 768)"
      ]
     },
     "execution_count": 54,
     "metadata": {},
     "output_type": "execute_result"
    }
   ],
   "source": [
    "display(features[:5])\n",
    "features.shape"
   ]
  },
  {
   "cell_type": "markdown",
   "id": "c71d3791-0905-43d4-bbf7-e0ace1ce004d",
   "metadata": {},
   "source": [
    "### Предварительный вывод\n",
    "Итак, токенизировали твиты с помощью токенизатора BERT. Твиты получились длиной 512. Для получения такой длины часть текстов пришлось обрезать. Также создали маску размера 159292 х 512. Далее с помощью модели BERT получили эмбеддинги. Результат объединили в массив признаков размера 159270 х 768 для дальнейшего обучения классификатора. "
   ]
  },
  {
   "cell_type": "markdown",
   "id": "43c12a5b-5c95-4661-b489-08e7943d4df8",
   "metadata": {},
   "source": [
    "## Обучение"
   ]
  },
  {
   "cell_type": "markdown",
   "id": "f88af638-2d74-4873-95e2-8eb83a57510a",
   "metadata": {},
   "source": [
    "### Подготовка данных"
   ]
  },
  {
   "cell_type": "code",
   "execution_count": 58,
   "id": "844659c6-c6c9-4c24-a70d-5a6e70fc6eb5",
   "metadata": {},
   "outputs": [
    {
     "name": "stdout",
     "output_type": "stream",
     "text": [
      "(79635, 768) (79635, 768) (79635,) (79635,)\n"
     ]
    }
   ],
   "source": [
    "k = features.shape[0]\n",
    "X = features\n",
    "y = query_1['toxic'][:k]\n",
    "\n",
    "X_train, X_test, y_train, y_test = train_test_split(\n",
    "    X, y, test_size=0.5, random_state=RANDOM_STATE, stratify=y\n",
    ")\n",
    "\n",
    "print(X_train.shape,X_test.shape, y_train.shape,y_test.shape)"
   ]
  },
  {
   "cell_type": "code",
   "execution_count": 59,
   "id": "b4ac63a2-07be-490c-beaa-8d5809ffe6ca",
   "metadata": {},
   "outputs": [],
   "source": [
    "df = pd.DataFrame(columns=[\"Модель\", \"Параметры\", \"F1 на кросс-валидации\"]) #создаем датафрэйм для сравнительной таблицы"
   ]
  },
  {
   "cell_type": "markdown",
   "id": "7285d03e-c7f8-4ed4-864f-1e1b66b88344",
   "metadata": {},
   "source": [
    "### DummyClassifier"
   ]
  },
  {
   "cell_type": "code",
   "execution_count": 61,
   "id": "d44b25d6-c5f4-4d1a-913f-8136a1fdfc11",
   "metadata": {},
   "outputs": [
    {
     "name": "stdout",
     "output_type": "stream",
     "text": [
      "F1 для Dummy = 0.184\n"
     ]
    }
   ],
   "source": [
    "dummy = DummyClassifier(strategy='constant', constant = 1)\n",
    "dummy.fit(X_train, y_train)\n",
    "y_pred = dummy.predict(X_test)\n",
    "f1_d = f1_score(y_test, y_pred)\n",
    "\n",
    "print(f\"F1 для Dummy = {f1_d:.3f}\")\n",
    "df.loc[0] = ['DummyClassifier', '-', f1_d]"
   ]
  },
  {
   "cell_type": "markdown",
   "id": "1710850b-1fe0-4210-a619-15c88e47868e",
   "metadata": {},
   "source": [
    "### LogisticRegression"
   ]
  },
  {
   "cell_type": "code",
   "execution_count": 63,
   "id": "b227031e-acf1-4226-9e93-a2eccfdeab0c",
   "metadata": {},
   "outputs": [
    {
     "name": "stdout",
     "output_type": "stream",
     "text": [
      "F1 для логистической регрессии:0.93\n"
     ]
    },
    {
     "data": {
      "text/html": [
       "<style>#sk-container-id-1 {\n",
       "  /* Definition of color scheme common for light and dark mode */\n",
       "  --sklearn-color-text: #000;\n",
       "  --sklearn-color-text-muted: #666;\n",
       "  --sklearn-color-line: gray;\n",
       "  /* Definition of color scheme for unfitted estimators */\n",
       "  --sklearn-color-unfitted-level-0: #fff5e6;\n",
       "  --sklearn-color-unfitted-level-1: #f6e4d2;\n",
       "  --sklearn-color-unfitted-level-2: #ffe0b3;\n",
       "  --sklearn-color-unfitted-level-3: chocolate;\n",
       "  /* Definition of color scheme for fitted estimators */\n",
       "  --sklearn-color-fitted-level-0: #f0f8ff;\n",
       "  --sklearn-color-fitted-level-1: #d4ebff;\n",
       "  --sklearn-color-fitted-level-2: #b3dbfd;\n",
       "  --sklearn-color-fitted-level-3: cornflowerblue;\n",
       "\n",
       "  /* Specific color for light theme */\n",
       "  --sklearn-color-text-on-default-background: var(--sg-text-color, var(--theme-code-foreground, var(--jp-content-font-color1, black)));\n",
       "  --sklearn-color-background: var(--sg-background-color, var(--theme-background, var(--jp-layout-color0, white)));\n",
       "  --sklearn-color-border-box: var(--sg-text-color, var(--theme-code-foreground, var(--jp-content-font-color1, black)));\n",
       "  --sklearn-color-icon: #696969;\n",
       "\n",
       "  @media (prefers-color-scheme: dark) {\n",
       "    /* Redefinition of color scheme for dark theme */\n",
       "    --sklearn-color-text-on-default-background: var(--sg-text-color, var(--theme-code-foreground, var(--jp-content-font-color1, white)));\n",
       "    --sklearn-color-background: var(--sg-background-color, var(--theme-background, var(--jp-layout-color0, #111)));\n",
       "    --sklearn-color-border-box: var(--sg-text-color, var(--theme-code-foreground, var(--jp-content-font-color1, white)));\n",
       "    --sklearn-color-icon: #878787;\n",
       "  }\n",
       "}\n",
       "\n",
       "#sk-container-id-1 {\n",
       "  color: var(--sklearn-color-text);\n",
       "}\n",
       "\n",
       "#sk-container-id-1 pre {\n",
       "  padding: 0;\n",
       "}\n",
       "\n",
       "#sk-container-id-1 input.sk-hidden--visually {\n",
       "  border: 0;\n",
       "  clip: rect(1px 1px 1px 1px);\n",
       "  clip: rect(1px, 1px, 1px, 1px);\n",
       "  height: 1px;\n",
       "  margin: -1px;\n",
       "  overflow: hidden;\n",
       "  padding: 0;\n",
       "  position: absolute;\n",
       "  width: 1px;\n",
       "}\n",
       "\n",
       "#sk-container-id-1 div.sk-dashed-wrapped {\n",
       "  border: 1px dashed var(--sklearn-color-line);\n",
       "  margin: 0 0.4em 0.5em 0.4em;\n",
       "  box-sizing: border-box;\n",
       "  padding-bottom: 0.4em;\n",
       "  background-color: var(--sklearn-color-background);\n",
       "}\n",
       "\n",
       "#sk-container-id-1 div.sk-container {\n",
       "  /* jupyter's `normalize.less` sets `[hidden] { display: none; }`\n",
       "     but bootstrap.min.css set `[hidden] { display: none !important; }`\n",
       "     so we also need the `!important` here to be able to override the\n",
       "     default hidden behavior on the sphinx rendered scikit-learn.org.\n",
       "     See: https://github.com/scikit-learn/scikit-learn/issues/21755 */\n",
       "  display: inline-block !important;\n",
       "  position: relative;\n",
       "}\n",
       "\n",
       "#sk-container-id-1 div.sk-text-repr-fallback {\n",
       "  display: none;\n",
       "}\n",
       "\n",
       "div.sk-parallel-item,\n",
       "div.sk-serial,\n",
       "div.sk-item {\n",
       "  /* draw centered vertical line to link estimators */\n",
       "  background-image: linear-gradient(var(--sklearn-color-text-on-default-background), var(--sklearn-color-text-on-default-background));\n",
       "  background-size: 2px 100%;\n",
       "  background-repeat: no-repeat;\n",
       "  background-position: center center;\n",
       "}\n",
       "\n",
       "/* Parallel-specific style estimator block */\n",
       "\n",
       "#sk-container-id-1 div.sk-parallel-item::after {\n",
       "  content: \"\";\n",
       "  width: 100%;\n",
       "  border-bottom: 2px solid var(--sklearn-color-text-on-default-background);\n",
       "  flex-grow: 1;\n",
       "}\n",
       "\n",
       "#sk-container-id-1 div.sk-parallel {\n",
       "  display: flex;\n",
       "  align-items: stretch;\n",
       "  justify-content: center;\n",
       "  background-color: var(--sklearn-color-background);\n",
       "  position: relative;\n",
       "}\n",
       "\n",
       "#sk-container-id-1 div.sk-parallel-item {\n",
       "  display: flex;\n",
       "  flex-direction: column;\n",
       "}\n",
       "\n",
       "#sk-container-id-1 div.sk-parallel-item:first-child::after {\n",
       "  align-self: flex-end;\n",
       "  width: 50%;\n",
       "}\n",
       "\n",
       "#sk-container-id-1 div.sk-parallel-item:last-child::after {\n",
       "  align-self: flex-start;\n",
       "  width: 50%;\n",
       "}\n",
       "\n",
       "#sk-container-id-1 div.sk-parallel-item:only-child::after {\n",
       "  width: 0;\n",
       "}\n",
       "\n",
       "/* Serial-specific style estimator block */\n",
       "\n",
       "#sk-container-id-1 div.sk-serial {\n",
       "  display: flex;\n",
       "  flex-direction: column;\n",
       "  align-items: center;\n",
       "  background-color: var(--sklearn-color-background);\n",
       "  padding-right: 1em;\n",
       "  padding-left: 1em;\n",
       "}\n",
       "\n",
       "\n",
       "/* Toggleable style: style used for estimator/Pipeline/ColumnTransformer box that is\n",
       "clickable and can be expanded/collapsed.\n",
       "- Pipeline and ColumnTransformer use this feature and define the default style\n",
       "- Estimators will overwrite some part of the style using the `sk-estimator` class\n",
       "*/\n",
       "\n",
       "/* Pipeline and ColumnTransformer style (default) */\n",
       "\n",
       "#sk-container-id-1 div.sk-toggleable {\n",
       "  /* Default theme specific background. It is overwritten whether we have a\n",
       "  specific estimator or a Pipeline/ColumnTransformer */\n",
       "  background-color: var(--sklearn-color-background);\n",
       "}\n",
       "\n",
       "/* Toggleable label */\n",
       "#sk-container-id-1 label.sk-toggleable__label {\n",
       "  cursor: pointer;\n",
       "  display: flex;\n",
       "  width: 100%;\n",
       "  margin-bottom: 0;\n",
       "  padding: 0.5em;\n",
       "  box-sizing: border-box;\n",
       "  text-align: center;\n",
       "  align-items: start;\n",
       "  justify-content: space-between;\n",
       "  gap: 0.5em;\n",
       "}\n",
       "\n",
       "#sk-container-id-1 label.sk-toggleable__label .caption {\n",
       "  font-size: 0.6rem;\n",
       "  font-weight: lighter;\n",
       "  color: var(--sklearn-color-text-muted);\n",
       "}\n",
       "\n",
       "#sk-container-id-1 label.sk-toggleable__label-arrow:before {\n",
       "  /* Arrow on the left of the label */\n",
       "  content: \"▸\";\n",
       "  float: left;\n",
       "  margin-right: 0.25em;\n",
       "  color: var(--sklearn-color-icon);\n",
       "}\n",
       "\n",
       "#sk-container-id-1 label.sk-toggleable__label-arrow:hover:before {\n",
       "  color: var(--sklearn-color-text);\n",
       "}\n",
       "\n",
       "/* Toggleable content - dropdown */\n",
       "\n",
       "#sk-container-id-1 div.sk-toggleable__content {\n",
       "  display: none;\n",
       "  text-align: left;\n",
       "  /* unfitted */\n",
       "  background-color: var(--sklearn-color-unfitted-level-0);\n",
       "}\n",
       "\n",
       "#sk-container-id-1 div.sk-toggleable__content.fitted {\n",
       "  /* fitted */\n",
       "  background-color: var(--sklearn-color-fitted-level-0);\n",
       "}\n",
       "\n",
       "#sk-container-id-1 div.sk-toggleable__content pre {\n",
       "  margin: 0.2em;\n",
       "  border-radius: 0.25em;\n",
       "  color: var(--sklearn-color-text);\n",
       "  /* unfitted */\n",
       "  background-color: var(--sklearn-color-unfitted-level-0);\n",
       "}\n",
       "\n",
       "#sk-container-id-1 div.sk-toggleable__content.fitted pre {\n",
       "  /* unfitted */\n",
       "  background-color: var(--sklearn-color-fitted-level-0);\n",
       "}\n",
       "\n",
       "#sk-container-id-1 input.sk-toggleable__control:checked~div.sk-toggleable__content {\n",
       "  /* Expand drop-down */\n",
       "  display: block;\n",
       "  width: 100%;\n",
       "  overflow: visible;\n",
       "}\n",
       "\n",
       "#sk-container-id-1 input.sk-toggleable__control:checked~label.sk-toggleable__label-arrow:before {\n",
       "  content: \"▾\";\n",
       "}\n",
       "\n",
       "/* Pipeline/ColumnTransformer-specific style */\n",
       "\n",
       "#sk-container-id-1 div.sk-label input.sk-toggleable__control:checked~label.sk-toggleable__label {\n",
       "  color: var(--sklearn-color-text);\n",
       "  background-color: var(--sklearn-color-unfitted-level-2);\n",
       "}\n",
       "\n",
       "#sk-container-id-1 div.sk-label.fitted input.sk-toggleable__control:checked~label.sk-toggleable__label {\n",
       "  background-color: var(--sklearn-color-fitted-level-2);\n",
       "}\n",
       "\n",
       "/* Estimator-specific style */\n",
       "\n",
       "/* Colorize estimator box */\n",
       "#sk-container-id-1 div.sk-estimator input.sk-toggleable__control:checked~label.sk-toggleable__label {\n",
       "  /* unfitted */\n",
       "  background-color: var(--sklearn-color-unfitted-level-2);\n",
       "}\n",
       "\n",
       "#sk-container-id-1 div.sk-estimator.fitted input.sk-toggleable__control:checked~label.sk-toggleable__label {\n",
       "  /* fitted */\n",
       "  background-color: var(--sklearn-color-fitted-level-2);\n",
       "}\n",
       "\n",
       "#sk-container-id-1 div.sk-label label.sk-toggleable__label,\n",
       "#sk-container-id-1 div.sk-label label {\n",
       "  /* The background is the default theme color */\n",
       "  color: var(--sklearn-color-text-on-default-background);\n",
       "}\n",
       "\n",
       "/* On hover, darken the color of the background */\n",
       "#sk-container-id-1 div.sk-label:hover label.sk-toggleable__label {\n",
       "  color: var(--sklearn-color-text);\n",
       "  background-color: var(--sklearn-color-unfitted-level-2);\n",
       "}\n",
       "\n",
       "/* Label box, darken color on hover, fitted */\n",
       "#sk-container-id-1 div.sk-label.fitted:hover label.sk-toggleable__label.fitted {\n",
       "  color: var(--sklearn-color-text);\n",
       "  background-color: var(--sklearn-color-fitted-level-2);\n",
       "}\n",
       "\n",
       "/* Estimator label */\n",
       "\n",
       "#sk-container-id-1 div.sk-label label {\n",
       "  font-family: monospace;\n",
       "  font-weight: bold;\n",
       "  display: inline-block;\n",
       "  line-height: 1.2em;\n",
       "}\n",
       "\n",
       "#sk-container-id-1 div.sk-label-container {\n",
       "  text-align: center;\n",
       "}\n",
       "\n",
       "/* Estimator-specific */\n",
       "#sk-container-id-1 div.sk-estimator {\n",
       "  font-family: monospace;\n",
       "  border: 1px dotted var(--sklearn-color-border-box);\n",
       "  border-radius: 0.25em;\n",
       "  box-sizing: border-box;\n",
       "  margin-bottom: 0.5em;\n",
       "  /* unfitted */\n",
       "  background-color: var(--sklearn-color-unfitted-level-0);\n",
       "}\n",
       "\n",
       "#sk-container-id-1 div.sk-estimator.fitted {\n",
       "  /* fitted */\n",
       "  background-color: var(--sklearn-color-fitted-level-0);\n",
       "}\n",
       "\n",
       "/* on hover */\n",
       "#sk-container-id-1 div.sk-estimator:hover {\n",
       "  /* unfitted */\n",
       "  background-color: var(--sklearn-color-unfitted-level-2);\n",
       "}\n",
       "\n",
       "#sk-container-id-1 div.sk-estimator.fitted:hover {\n",
       "  /* fitted */\n",
       "  background-color: var(--sklearn-color-fitted-level-2);\n",
       "}\n",
       "\n",
       "/* Specification for estimator info (e.g. \"i\" and \"?\") */\n",
       "\n",
       "/* Common style for \"i\" and \"?\" */\n",
       "\n",
       ".sk-estimator-doc-link,\n",
       "a:link.sk-estimator-doc-link,\n",
       "a:visited.sk-estimator-doc-link {\n",
       "  float: right;\n",
       "  font-size: smaller;\n",
       "  line-height: 1em;\n",
       "  font-family: monospace;\n",
       "  background-color: var(--sklearn-color-background);\n",
       "  border-radius: 1em;\n",
       "  height: 1em;\n",
       "  width: 1em;\n",
       "  text-decoration: none !important;\n",
       "  margin-left: 0.5em;\n",
       "  text-align: center;\n",
       "  /* unfitted */\n",
       "  border: var(--sklearn-color-unfitted-level-1) 1pt solid;\n",
       "  color: var(--sklearn-color-unfitted-level-1);\n",
       "}\n",
       "\n",
       ".sk-estimator-doc-link.fitted,\n",
       "a:link.sk-estimator-doc-link.fitted,\n",
       "a:visited.sk-estimator-doc-link.fitted {\n",
       "  /* fitted */\n",
       "  border: var(--sklearn-color-fitted-level-1) 1pt solid;\n",
       "  color: var(--sklearn-color-fitted-level-1);\n",
       "}\n",
       "\n",
       "/* On hover */\n",
       "div.sk-estimator:hover .sk-estimator-doc-link:hover,\n",
       ".sk-estimator-doc-link:hover,\n",
       "div.sk-label-container:hover .sk-estimator-doc-link:hover,\n",
       ".sk-estimator-doc-link:hover {\n",
       "  /* unfitted */\n",
       "  background-color: var(--sklearn-color-unfitted-level-3);\n",
       "  color: var(--sklearn-color-background);\n",
       "  text-decoration: none;\n",
       "}\n",
       "\n",
       "div.sk-estimator.fitted:hover .sk-estimator-doc-link.fitted:hover,\n",
       ".sk-estimator-doc-link.fitted:hover,\n",
       "div.sk-label-container:hover .sk-estimator-doc-link.fitted:hover,\n",
       ".sk-estimator-doc-link.fitted:hover {\n",
       "  /* fitted */\n",
       "  background-color: var(--sklearn-color-fitted-level-3);\n",
       "  color: var(--sklearn-color-background);\n",
       "  text-decoration: none;\n",
       "}\n",
       "\n",
       "/* Span, style for the box shown on hovering the info icon */\n",
       ".sk-estimator-doc-link span {\n",
       "  display: none;\n",
       "  z-index: 9999;\n",
       "  position: relative;\n",
       "  font-weight: normal;\n",
       "  right: .2ex;\n",
       "  padding: .5ex;\n",
       "  margin: .5ex;\n",
       "  width: min-content;\n",
       "  min-width: 20ex;\n",
       "  max-width: 50ex;\n",
       "  color: var(--sklearn-color-text);\n",
       "  box-shadow: 2pt 2pt 4pt #999;\n",
       "  /* unfitted */\n",
       "  background: var(--sklearn-color-unfitted-level-0);\n",
       "  border: .5pt solid var(--sklearn-color-unfitted-level-3);\n",
       "}\n",
       "\n",
       ".sk-estimator-doc-link.fitted span {\n",
       "  /* fitted */\n",
       "  background: var(--sklearn-color-fitted-level-0);\n",
       "  border: var(--sklearn-color-fitted-level-3);\n",
       "}\n",
       "\n",
       ".sk-estimator-doc-link:hover span {\n",
       "  display: block;\n",
       "}\n",
       "\n",
       "/* \"?\"-specific style due to the `<a>` HTML tag */\n",
       "\n",
       "#sk-container-id-1 a.estimator_doc_link {\n",
       "  float: right;\n",
       "  font-size: 1rem;\n",
       "  line-height: 1em;\n",
       "  font-family: monospace;\n",
       "  background-color: var(--sklearn-color-background);\n",
       "  border-radius: 1rem;\n",
       "  height: 1rem;\n",
       "  width: 1rem;\n",
       "  text-decoration: none;\n",
       "  /* unfitted */\n",
       "  color: var(--sklearn-color-unfitted-level-1);\n",
       "  border: var(--sklearn-color-unfitted-level-1) 1pt solid;\n",
       "}\n",
       "\n",
       "#sk-container-id-1 a.estimator_doc_link.fitted {\n",
       "  /* fitted */\n",
       "  border: var(--sklearn-color-fitted-level-1) 1pt solid;\n",
       "  color: var(--sklearn-color-fitted-level-1);\n",
       "}\n",
       "\n",
       "/* On hover */\n",
       "#sk-container-id-1 a.estimator_doc_link:hover {\n",
       "  /* unfitted */\n",
       "  background-color: var(--sklearn-color-unfitted-level-3);\n",
       "  color: var(--sklearn-color-background);\n",
       "  text-decoration: none;\n",
       "}\n",
       "\n",
       "#sk-container-id-1 a.estimator_doc_link.fitted:hover {\n",
       "  /* fitted */\n",
       "  background-color: var(--sklearn-color-fitted-level-3);\n",
       "}\n",
       "\n",
       ".estimator-table summary {\n",
       "    padding: .5rem;\n",
       "    font-family: monospace;\n",
       "    cursor: pointer;\n",
       "}\n",
       "\n",
       ".estimator-table details[open] {\n",
       "    padding-left: 0.1rem;\n",
       "    padding-right: 0.1rem;\n",
       "    padding-bottom: 0.3rem;\n",
       "}\n",
       "\n",
       ".estimator-table .parameters-table {\n",
       "    margin-left: auto !important;\n",
       "    margin-right: auto !important;\n",
       "}\n",
       "\n",
       ".estimator-table .parameters-table tr:nth-child(odd) {\n",
       "    background-color: #fff;\n",
       "}\n",
       "\n",
       ".estimator-table .parameters-table tr:nth-child(even) {\n",
       "    background-color: #f6f6f6;\n",
       "}\n",
       "\n",
       ".estimator-table .parameters-table tr:hover {\n",
       "    background-color: #e0e0e0;\n",
       "}\n",
       "\n",
       ".estimator-table table td {\n",
       "    border: 1px solid rgba(106, 105, 104, 0.232);\n",
       "}\n",
       "\n",
       ".user-set td {\n",
       "    color:rgb(255, 94, 0);\n",
       "    text-align: left;\n",
       "}\n",
       "\n",
       ".user-set td.value pre {\n",
       "    color:rgb(255, 94, 0) !important;\n",
       "    background-color: transparent !important;\n",
       "}\n",
       "\n",
       ".default td {\n",
       "    color: black;\n",
       "    text-align: left;\n",
       "}\n",
       "\n",
       ".user-set td i,\n",
       ".default td i {\n",
       "    color: black;\n",
       "}\n",
       "\n",
       ".copy-paste-icon {\n",
       "    background-image: url(data:image/svg+xml;base64,PHN2ZyB4bWxucz0iaHR0cDovL3d3dy53My5vcmcvMjAwMC9zdmciIHZpZXdCb3g9IjAgMCA0NDggNTEyIj48IS0tIUZvbnQgQXdlc29tZSBGcmVlIDYuNy4yIGJ5IEBmb250YXdlc29tZSAtIGh0dHBzOi8vZm9udGF3ZXNvbWUuY29tIExpY2Vuc2UgLSBodHRwczovL2ZvbnRhd2Vzb21lLmNvbS9saWNlbnNlL2ZyZWUgQ29weXJpZ2h0IDIwMjUgRm9udGljb25zLCBJbmMuLS0+PHBhdGggZD0iTTIwOCAwTDMzMi4xIDBjMTIuNyAwIDI0LjkgNS4xIDMzLjkgMTQuMWw2Ny45IDY3LjljOSA5IDE0LjEgMjEuMiAxNC4xIDMzLjlMNDQ4IDMzNmMwIDI2LjUtMjEuNSA0OC00OCA0OGwtMTkyIDBjLTI2LjUgMC00OC0yMS41LTQ4LTQ4bDAtMjg4YzAtMjYuNSAyMS41LTQ4IDQ4LTQ4ek00OCAxMjhsODAgMCAwIDY0LTY0IDAgMCAyNTYgMTkyIDAgMC0zMiA2NCAwIDAgNDhjMCAyNi41LTIxLjUgNDgtNDggNDhMNDggNTEyYy0yNi41IDAtNDgtMjEuNS00OC00OEwwIDE3NmMwLTI2LjUgMjEuNS00OCA0OC00OHoiLz48L3N2Zz4=);\n",
       "    background-repeat: no-repeat;\n",
       "    background-size: 14px 14px;\n",
       "    background-position: 0;\n",
       "    display: inline-block;\n",
       "    width: 14px;\n",
       "    height: 14px;\n",
       "    cursor: pointer;\n",
       "}\n",
       "</style><body><div id=\"sk-container-id-1\" class=\"sk-top-container\"><div class=\"sk-text-repr-fallback\"><pre>LogisticRegression(class_weight=&#x27;balanced&#x27;, max_iter=1000)</pre><b>In a Jupyter environment, please rerun this cell to show the HTML representation or trust the notebook. <br />On GitHub, the HTML representation is unable to render, please try loading this page with nbviewer.org.</b></div><div class=\"sk-container\" hidden><div class=\"sk-item\"><div class=\"sk-estimator fitted sk-toggleable\"><input class=\"sk-toggleable__control sk-hidden--visually\" id=\"sk-estimator-id-1\" type=\"checkbox\" checked><label for=\"sk-estimator-id-1\" class=\"sk-toggleable__label fitted sk-toggleable__label-arrow\"><div><div>LogisticRegression</div></div><div><a class=\"sk-estimator-doc-link fitted\" rel=\"noreferrer\" target=\"_blank\" href=\"https://scikit-learn.org/1.7/modules/generated/sklearn.linear_model.LogisticRegression.html\">?<span>Documentation for LogisticRegression</span></a><span class=\"sk-estimator-doc-link fitted\">i<span>Fitted</span></span></div></label><div class=\"sk-toggleable__content fitted\" data-param-prefix=\"\">\n",
       "        <div class=\"estimator-table\">\n",
       "            <details>\n",
       "                <summary>Parameters</summary>\n",
       "                <table class=\"parameters-table\">\n",
       "                  <tbody>\n",
       "                    \n",
       "        <tr class=\"default\">\n",
       "            <td><i class=\"copy-paste-icon\"\n",
       "                 onclick=\"copyToClipboard('penalty',\n",
       "                          this.parentElement.nextElementSibling)\"\n",
       "            ></i></td>\n",
       "            <td class=\"param\">penalty&nbsp;</td>\n",
       "            <td class=\"value\">&#x27;l2&#x27;</td>\n",
       "        </tr>\n",
       "    \n",
       "\n",
       "        <tr class=\"default\">\n",
       "            <td><i class=\"copy-paste-icon\"\n",
       "                 onclick=\"copyToClipboard('dual',\n",
       "                          this.parentElement.nextElementSibling)\"\n",
       "            ></i></td>\n",
       "            <td class=\"param\">dual&nbsp;</td>\n",
       "            <td class=\"value\">False</td>\n",
       "        </tr>\n",
       "    \n",
       "\n",
       "        <tr class=\"default\">\n",
       "            <td><i class=\"copy-paste-icon\"\n",
       "                 onclick=\"copyToClipboard('tol',\n",
       "                          this.parentElement.nextElementSibling)\"\n",
       "            ></i></td>\n",
       "            <td class=\"param\">tol&nbsp;</td>\n",
       "            <td class=\"value\">0.0001</td>\n",
       "        </tr>\n",
       "    \n",
       "\n",
       "        <tr class=\"default\">\n",
       "            <td><i class=\"copy-paste-icon\"\n",
       "                 onclick=\"copyToClipboard('C',\n",
       "                          this.parentElement.nextElementSibling)\"\n",
       "            ></i></td>\n",
       "            <td class=\"param\">C&nbsp;</td>\n",
       "            <td class=\"value\">1.0</td>\n",
       "        </tr>\n",
       "    \n",
       "\n",
       "        <tr class=\"default\">\n",
       "            <td><i class=\"copy-paste-icon\"\n",
       "                 onclick=\"copyToClipboard('fit_intercept',\n",
       "                          this.parentElement.nextElementSibling)\"\n",
       "            ></i></td>\n",
       "            <td class=\"param\">fit_intercept&nbsp;</td>\n",
       "            <td class=\"value\">True</td>\n",
       "        </tr>\n",
       "    \n",
       "\n",
       "        <tr class=\"default\">\n",
       "            <td><i class=\"copy-paste-icon\"\n",
       "                 onclick=\"copyToClipboard('intercept_scaling',\n",
       "                          this.parentElement.nextElementSibling)\"\n",
       "            ></i></td>\n",
       "            <td class=\"param\">intercept_scaling&nbsp;</td>\n",
       "            <td class=\"value\">1</td>\n",
       "        </tr>\n",
       "    \n",
       "\n",
       "        <tr class=\"user-set\">\n",
       "            <td><i class=\"copy-paste-icon\"\n",
       "                 onclick=\"copyToClipboard('class_weight',\n",
       "                          this.parentElement.nextElementSibling)\"\n",
       "            ></i></td>\n",
       "            <td class=\"param\">class_weight&nbsp;</td>\n",
       "            <td class=\"value\">&#x27;balanced&#x27;</td>\n",
       "        </tr>\n",
       "    \n",
       "\n",
       "        <tr class=\"default\">\n",
       "            <td><i class=\"copy-paste-icon\"\n",
       "                 onclick=\"copyToClipboard('random_state',\n",
       "                          this.parentElement.nextElementSibling)\"\n",
       "            ></i></td>\n",
       "            <td class=\"param\">random_state&nbsp;</td>\n",
       "            <td class=\"value\">None</td>\n",
       "        </tr>\n",
       "    \n",
       "\n",
       "        <tr class=\"default\">\n",
       "            <td><i class=\"copy-paste-icon\"\n",
       "                 onclick=\"copyToClipboard('solver',\n",
       "                          this.parentElement.nextElementSibling)\"\n",
       "            ></i></td>\n",
       "            <td class=\"param\">solver&nbsp;</td>\n",
       "            <td class=\"value\">&#x27;lbfgs&#x27;</td>\n",
       "        </tr>\n",
       "    \n",
       "\n",
       "        <tr class=\"user-set\">\n",
       "            <td><i class=\"copy-paste-icon\"\n",
       "                 onclick=\"copyToClipboard('max_iter',\n",
       "                          this.parentElement.nextElementSibling)\"\n",
       "            ></i></td>\n",
       "            <td class=\"param\">max_iter&nbsp;</td>\n",
       "            <td class=\"value\">1000</td>\n",
       "        </tr>\n",
       "    \n",
       "\n",
       "        <tr class=\"default\">\n",
       "            <td><i class=\"copy-paste-icon\"\n",
       "                 onclick=\"copyToClipboard('multi_class',\n",
       "                          this.parentElement.nextElementSibling)\"\n",
       "            ></i></td>\n",
       "            <td class=\"param\">multi_class&nbsp;</td>\n",
       "            <td class=\"value\">&#x27;deprecated&#x27;</td>\n",
       "        </tr>\n",
       "    \n",
       "\n",
       "        <tr class=\"default\">\n",
       "            <td><i class=\"copy-paste-icon\"\n",
       "                 onclick=\"copyToClipboard('verbose',\n",
       "                          this.parentElement.nextElementSibling)\"\n",
       "            ></i></td>\n",
       "            <td class=\"param\">verbose&nbsp;</td>\n",
       "            <td class=\"value\">0</td>\n",
       "        </tr>\n",
       "    \n",
       "\n",
       "        <tr class=\"default\">\n",
       "            <td><i class=\"copy-paste-icon\"\n",
       "                 onclick=\"copyToClipboard('warm_start',\n",
       "                          this.parentElement.nextElementSibling)\"\n",
       "            ></i></td>\n",
       "            <td class=\"param\">warm_start&nbsp;</td>\n",
       "            <td class=\"value\">False</td>\n",
       "        </tr>\n",
       "    \n",
       "\n",
       "        <tr class=\"default\">\n",
       "            <td><i class=\"copy-paste-icon\"\n",
       "                 onclick=\"copyToClipboard('n_jobs',\n",
       "                          this.parentElement.nextElementSibling)\"\n",
       "            ></i></td>\n",
       "            <td class=\"param\">n_jobs&nbsp;</td>\n",
       "            <td class=\"value\">None</td>\n",
       "        </tr>\n",
       "    \n",
       "\n",
       "        <tr class=\"default\">\n",
       "            <td><i class=\"copy-paste-icon\"\n",
       "                 onclick=\"copyToClipboard('l1_ratio',\n",
       "                          this.parentElement.nextElementSibling)\"\n",
       "            ></i></td>\n",
       "            <td class=\"param\">l1_ratio&nbsp;</td>\n",
       "            <td class=\"value\">None</td>\n",
       "        </tr>\n",
       "    \n",
       "                  </tbody>\n",
       "                </table>\n",
       "            </details>\n",
       "        </div>\n",
       "    </div></div></div></div></div><script>function copyToClipboard(text, element) {\n",
       "    // Get the parameter prefix from the closest toggleable content\n",
       "    const toggleableContent = element.closest('.sk-toggleable__content');\n",
       "    const paramPrefix = toggleableContent ? toggleableContent.dataset.paramPrefix : '';\n",
       "    const fullParamName = paramPrefix ? `${paramPrefix}${text}` : text;\n",
       "\n",
       "    const originalStyle = element.style;\n",
       "    const computedStyle = window.getComputedStyle(element);\n",
       "    const originalWidth = computedStyle.width;\n",
       "    const originalHTML = element.innerHTML.replace('Copied!', '');\n",
       "\n",
       "    navigator.clipboard.writeText(fullParamName)\n",
       "        .then(() => {\n",
       "            element.style.width = originalWidth;\n",
       "            element.style.color = 'green';\n",
       "            element.innerHTML = \"Copied!\";\n",
       "\n",
       "            setTimeout(() => {\n",
       "                element.innerHTML = originalHTML;\n",
       "                element.style = originalStyle;\n",
       "            }, 2000);\n",
       "        })\n",
       "        .catch(err => {\n",
       "            console.error('Failed to copy:', err);\n",
       "            element.style.color = 'red';\n",
       "            element.innerHTML = \"Failed!\";\n",
       "            setTimeout(() => {\n",
       "                element.innerHTML = originalHTML;\n",
       "                element.style = originalStyle;\n",
       "            }, 2000);\n",
       "        });\n",
       "    return false;\n",
       "}\n",
       "\n",
       "document.querySelectorAll('.fa-regular.fa-copy').forEach(function(element) {\n",
       "    const toggleableContent = element.closest('.sk-toggleable__content');\n",
       "    const paramPrefix = toggleableContent ? toggleableContent.dataset.paramPrefix : '';\n",
       "    const paramName = element.parentElement.nextElementSibling.textContent.trim();\n",
       "    const fullParamName = paramPrefix ? `${paramPrefix}${paramName}` : paramName;\n",
       "\n",
       "    element.setAttribute('title', fullParamName);\n",
       "});\n",
       "</script></body>"
      ],
      "text/plain": [
       "LogisticRegression(class_weight='balanced', max_iter=1000)"
      ]
     },
     "execution_count": 63,
     "metadata": {},
     "output_type": "execute_result"
    }
   ],
   "source": [
    "model_log = LogisticRegression(class_weight=\"balanced\", max_iter=1000)\n",
    "\n",
    "cv = StratifiedKFold(n_splits=5, shuffle=True, random_state=RANDOM_STATE)\n",
    "scores = cross_val_score(model_log, X_train, y_train, cv=cv, scoring='f1')\n",
    "metric_log = round(scores.mean(), 3)\n",
    "print(f'F1 для логистической регрессии:{metric_log}') \n",
    "\n",
    "model_log.fit(X_train, y_train)"
   ]
  },
  {
   "cell_type": "code",
   "execution_count": 64,
   "id": "df6618bf-98df-4f0f-9e4e-7a8badd05afc",
   "metadata": {},
   "outputs": [],
   "source": [
    "df.loc[1] = ['LogisticRegression', model_log.get_params(), metric_log]"
   ]
  },
  {
   "cell_type": "markdown",
   "id": "8b8c8daa-5fe8-417c-88ac-158ab9e93511",
   "metadata": {},
   "source": [
    "### CatBoost"
   ]
  },
  {
   "cell_type": "code",
   "execution_count": 66,
   "id": "27e25f7a-4198-4b4e-b590-0b5b0540e4cc",
   "metadata": {},
   "outputs": [
    {
     "name": "stdout",
     "output_type": "stream",
     "text": [
      "Негативные: 71542, Позитивные: 8093\n",
      "scale_pos_weight = 8.839985172371184\n"
     ]
    }
   ],
   "source": [
    "# Проверка дисбаланса\n",
    "neg_count = np.sum(y_train == 0)\n",
    "pos_count = np.sum(y_train == 1)\n",
    "print(f\"Негативные: {neg_count}, Позитивные: {pos_count}\")\n",
    "\n",
    "# Коэффициент для балансировки\n",
    "scale_pos_weight = neg_count / pos_count\n",
    "print(f\"scale_pos_weight = {scale_pos_weight}\")"
   ]
  },
  {
   "cell_type": "code",
   "execution_count": 67,
   "id": "47c78b65-1794-4c25-94bf-916ddced83cf",
   "metadata": {
    "scrolled": true
   },
   "outputs": [
    {
     "name": "stdout",
     "output_type": "stream",
     "text": [
      "Fitting 5 folds for each of 50 candidates, totalling 250 fits\n"
     ]
    },
    {
     "name": "stderr",
     "output_type": "stream",
     "text": [
      "Warning: less than 75% gpu memory available for training. Free: 5536.4375 Total: 7971.4375\n"
     ]
    },
    {
     "name": "stdout",
     "output_type": "stream",
     "text": [
      "0:\tlearn: 0.9884032\ttotal: 117ms\tremaining: 1m 56s\n",
      "500:\tlearn: 0.9943345\ttotal: 11.1s\tremaining: 11s\n",
      "999:\tlearn: 0.9960641\ttotal: 20.5s\tremaining: 0us\n",
      "[CV] END border_count=254, depth=7, grow_policy=Depthwise, l2_leaf_reg=0.5, learning_rate=0.005, min_data_in_leaf=1; total time=  22.8s\n"
     ]
    },
    {
     "name": "stderr",
     "output_type": "stream",
     "text": [
      "Warning: less than 75% gpu memory available for training. Free: 5523.5625 Total: 7971.4375\n"
     ]
    },
    {
     "name": "stdout",
     "output_type": "stream",
     "text": [
      "0:\tlearn: 0.9890485\ttotal: 29.5ms\tremaining: 29.4s\n",
      "500:\tlearn: 0.9940758\ttotal: 11.6s\tremaining: 11.6s\n",
      "999:\tlearn: 0.9959253\ttotal: 21.3s\tremaining: 0us\n",
      "[CV] END border_count=254, depth=7, grow_policy=Depthwise, l2_leaf_reg=0.5, learning_rate=0.005, min_data_in_leaf=1; total time=  23.4s\n"
     ]
    },
    {
     "name": "stderr",
     "output_type": "stream",
     "text": [
      "Warning: less than 75% gpu memory available for training. Free: 5551.5625 Total: 7971.4375\n"
     ]
    },
    {
     "name": "stdout",
     "output_type": "stream",
     "text": [
      "0:\tlearn: 0.9898133\ttotal: 33.4ms\tremaining: 33.4s\n",
      "500:\tlearn: 0.9944124\ttotal: 11.1s\tremaining: 11.1s\n",
      "999:\tlearn: 0.9961493\ttotal: 20.6s\tremaining: 0us\n",
      "[CV] END border_count=254, depth=7, grow_policy=Depthwise, l2_leaf_reg=0.5, learning_rate=0.005, min_data_in_leaf=1; total time=  22.8s\n"
     ]
    },
    {
     "name": "stderr",
     "output_type": "stream",
     "text": [
      "Warning: less than 75% gpu memory available for training. Free: 5500.125 Total: 7971.4375\n"
     ]
    },
    {
     "name": "stdout",
     "output_type": "stream",
     "text": [
      "0:\tlearn: 0.9896396\ttotal: 28.4ms\tremaining: 28.3s\n",
      "500:\tlearn: 0.9946292\ttotal: 10.9s\tremaining: 10.8s\n",
      "999:\tlearn: 0.9963913\ttotal: 20.4s\tremaining: 0us\n",
      "[CV] END border_count=254, depth=7, grow_policy=Depthwise, l2_leaf_reg=0.5, learning_rate=0.005, min_data_in_leaf=1; total time=  22.6s\n"
     ]
    },
    {
     "name": "stderr",
     "output_type": "stream",
     "text": [
      "Warning: less than 75% gpu memory available for training. Free: 5514.1875 Total: 7971.4375\n"
     ]
    },
    {
     "name": "stdout",
     "output_type": "stream",
     "text": [
      "0:\tlearn: 0.9893655\ttotal: 33.3ms\tremaining: 33.3s\n",
      "500:\tlearn: 0.9941378\ttotal: 11.5s\tremaining: 11.4s\n",
      "999:\tlearn: 0.9960553\ttotal: 21.1s\tremaining: 0us\n",
      "[CV] END border_count=254, depth=7, grow_policy=Depthwise, l2_leaf_reg=0.5, learning_rate=0.005, min_data_in_leaf=1; total time=  23.3s\n"
     ]
    },
    {
     "name": "stderr",
     "output_type": "stream",
     "text": [
      "Warning: less than 75% gpu memory available for training. Free: 5580.4375 Total: 7971.4375\n"
     ]
    },
    {
     "name": "stdout",
     "output_type": "stream",
     "text": [
      "0:\tlearn: 0.9824592\ttotal: 52.2ms\tremaining: 52.1s\n",
      "500:\tlearn: 0.9871387\ttotal: 11s\tremaining: 11s\n",
      "999:\tlearn: 0.9904699\ttotal: 21.8s\tremaining: 0us\n",
      "[CV] END border_count=254, depth=7, grow_policy=SymmetricTree, l2_leaf_reg=5, learning_rate=0.005, min_data_in_leaf=30; total time=  23.8s\n"
     ]
    },
    {
     "name": "stderr",
     "output_type": "stream",
     "text": [
      "Warning: less than 75% gpu memory available for training. Free: 5535.5 Total: 7971.4375\n"
     ]
    },
    {
     "name": "stdout",
     "output_type": "stream",
     "text": [
      "0:\tlearn: 0.9831804\ttotal: 27.7ms\tremaining: 27.6s\n",
      "500:\tlearn: 0.9873713\ttotal: 11.3s\tremaining: 11.2s\n",
      "999:\tlearn: 0.9907112\ttotal: 21.6s\tremaining: 0us\n",
      "[CV] END border_count=254, depth=7, grow_policy=SymmetricTree, l2_leaf_reg=5, learning_rate=0.005, min_data_in_leaf=30; total time=  23.7s\n"
     ]
    },
    {
     "name": "stderr",
     "output_type": "stream",
     "text": [
      "Warning: less than 75% gpu memory available for training. Free: 5513.375 Total: 7971.4375\n"
     ]
    },
    {
     "name": "stdout",
     "output_type": "stream",
     "text": [
      "0:\tlearn: 0.9844252\ttotal: 24ms\tremaining: 23.9s\n",
      "500:\tlearn: 0.9881067\ttotal: 10.3s\tremaining: 10.3s\n",
      "999:\tlearn: 0.9911075\ttotal: 20.7s\tremaining: 0us\n",
      "[CV] END border_count=254, depth=7, grow_policy=SymmetricTree, l2_leaf_reg=5, learning_rate=0.005, min_data_in_leaf=30; total time=  22.5s\n"
     ]
    },
    {
     "name": "stderr",
     "output_type": "stream",
     "text": [
      "Warning: less than 75% gpu memory available for training. Free: 5583.75 Total: 7971.4375\n"
     ]
    },
    {
     "name": "stdout",
     "output_type": "stream",
     "text": [
      "0:\tlearn: 0.9842764\ttotal: 22.2ms\tremaining: 22.2s\n",
      "500:\tlearn: 0.9884693\ttotal: 10.5s\tremaining: 10.4s\n",
      "999:\tlearn: 0.9914708\ttotal: 20.5s\tremaining: 0us\n",
      "[CV] END border_count=254, depth=7, grow_policy=SymmetricTree, l2_leaf_reg=5, learning_rate=0.005, min_data_in_leaf=30; total time=  22.4s\n"
     ]
    },
    {
     "name": "stderr",
     "output_type": "stream",
     "text": [
      "Warning: less than 75% gpu memory available for training. Free: 5564.3125 Total: 7971.4375\n"
     ]
    },
    {
     "name": "stdout",
     "output_type": "stream",
     "text": [
      "0:\tlearn: 0.9835499\ttotal: 26.8ms\tremaining: 26.7s\n",
      "500:\tlearn: 0.9874936\ttotal: 10.4s\tremaining: 10.4s\n",
      "999:\tlearn: 0.9905919\ttotal: 21.2s\tremaining: 0us\n",
      "[CV] END border_count=254, depth=7, grow_policy=SymmetricTree, l2_leaf_reg=5, learning_rate=0.005, min_data_in_leaf=30; total time=  23.1s\n"
     ]
    },
    {
     "name": "stderr",
     "output_type": "stream",
     "text": [
      "Warning: less than 75% gpu memory available for training. Free: 5545 Total: 7971.4375\n"
     ]
    },
    {
     "name": "stdout",
     "output_type": "stream",
     "text": [
      "0:\tlearn: 0.9824592\ttotal: 25.6ms\tremaining: 25.6s\n",
      "500:\tlearn: 0.9879931\ttotal: 10.9s\tremaining: 10.8s\n",
      "999:\tlearn: 0.9918657\ttotal: 21.4s\tremaining: 0us\n",
      "[CV] END border_count=254, depth=7, grow_policy=SymmetricTree, l2_leaf_reg=0.5, learning_rate=0.005, min_data_in_leaf=30; total time=  23.4s\n"
     ]
    },
    {
     "name": "stderr",
     "output_type": "stream",
     "text": [
      "Warning: less than 75% gpu memory available for training. Free: 5564.6875 Total: 7971.4375\n"
     ]
    },
    {
     "name": "stdout",
     "output_type": "stream",
     "text": [
      "0:\tlearn: 0.9831804\ttotal: 22.8ms\tremaining: 22.7s\n",
      "500:\tlearn: 0.9881660\ttotal: 10.8s\tremaining: 10.7s\n",
      "999:\tlearn: 0.9916848\ttotal: 20.9s\tremaining: 0us\n",
      "[CV] END border_count=254, depth=7, grow_policy=SymmetricTree, l2_leaf_reg=0.5, learning_rate=0.005, min_data_in_leaf=30; total time=  22.9s\n"
     ]
    },
    {
     "name": "stderr",
     "output_type": "stream",
     "text": [
      "Warning: less than 75% gpu memory available for training. Free: 5526.9375 Total: 7971.4375\n"
     ]
    },
    {
     "name": "stdout",
     "output_type": "stream",
     "text": [
      "0:\tlearn: 0.9844252\ttotal: 23.7ms\tremaining: 23.7s\n",
      "500:\tlearn: 0.9889089\ttotal: 10.6s\tremaining: 10.6s\n",
      "999:\tlearn: 0.9921328\ttotal: 21s\tremaining: 0us\n",
      "[CV] END border_count=254, depth=7, grow_policy=SymmetricTree, l2_leaf_reg=0.5, learning_rate=0.005, min_data_in_leaf=30; total time=  22.9s\n"
     ]
    },
    {
     "name": "stderr",
     "output_type": "stream",
     "text": [
      "Warning: less than 75% gpu memory available for training. Free: 5549 Total: 7971.4375\n"
     ]
    },
    {
     "name": "stdout",
     "output_type": "stream",
     "text": [
      "0:\tlearn: 0.9842764\ttotal: 25.7ms\tremaining: 25.6s\n",
      "500:\tlearn: 0.9893584\ttotal: 10.6s\tremaining: 10.6s\n",
      "999:\tlearn: 0.9925215\ttotal: 21.2s\tremaining: 0us\n",
      "[CV] END border_count=254, depth=7, grow_policy=SymmetricTree, l2_leaf_reg=0.5, learning_rate=0.005, min_data_in_leaf=30; total time=  23.2s\n"
     ]
    },
    {
     "name": "stderr",
     "output_type": "stream",
     "text": [
      "Warning: less than 75% gpu memory available for training. Free: 5550.8125 Total: 7971.4375\n"
     ]
    },
    {
     "name": "stdout",
     "output_type": "stream",
     "text": [
      "0:\tlearn: 0.9835499\ttotal: 23ms\tremaining: 23s\n",
      "500:\tlearn: 0.9886254\ttotal: 10.5s\tremaining: 10.5s\n",
      "999:\tlearn: 0.9918412\ttotal: 20.8s\tremaining: 0us\n",
      "[CV] END border_count=254, depth=7, grow_policy=SymmetricTree, l2_leaf_reg=0.5, learning_rate=0.005, min_data_in_leaf=30; total time=  22.9s\n"
     ]
    },
    {
     "name": "stderr",
     "output_type": "stream",
     "text": [
      "Warning: less than 75% gpu memory available for training. Free: 5533.5 Total: 7971.4375\n"
     ]
    },
    {
     "name": "stdout",
     "output_type": "stream",
     "text": [
      "0:\tlearn: 0.9850897\ttotal: 25.9ms\tremaining: 25.9s\n",
      "500:\tlearn: 0.9999825\ttotal: 7.79s\tremaining: 7.76s\n",
      "999:\tlearn: 0.9999825\ttotal: 15.8s\tremaining: 0us\n",
      "[CV] END border_count=254, depth=7, grow_policy=Lossguide, l2_leaf_reg=5, learning_rate=0.1, min_data_in_leaf=1; total time=  18.2s\n"
     ]
    },
    {
     "name": "stderr",
     "output_type": "stream",
     "text": [
      "Warning: less than 75% gpu memory available for training. Free: 5549.625 Total: 7971.4375\n"
     ]
    },
    {
     "name": "stdout",
     "output_type": "stream",
     "text": [
      "0:\tlearn: 0.9859190\ttotal: 40.6ms\tremaining: 40.5s\n",
      "500:\tlearn: 0.9999738\ttotal: 7.96s\tremaining: 7.93s\n",
      "999:\tlearn: 0.9999738\ttotal: 16.3s\tremaining: 0us\n",
      "[CV] END border_count=254, depth=7, grow_policy=Lossguide, l2_leaf_reg=5, learning_rate=0.1, min_data_in_leaf=1; total time=  18.7s\n"
     ]
    },
    {
     "name": "stderr",
     "output_type": "stream",
     "text": [
      "Warning: less than 75% gpu memory available for training. Free: 5495.875 Total: 7971.4375\n"
     ]
    },
    {
     "name": "stdout",
     "output_type": "stream",
     "text": [
      "0:\tlearn: 0.9858891\ttotal: 20.1ms\tremaining: 20.1s\n",
      "500:\tlearn: 0.9999651\ttotal: 8.15s\tremaining: 8.12s\n",
      "999:\tlearn: 0.9999651\ttotal: 15.8s\tremaining: 0us\n",
      "[CV] END border_count=254, depth=7, grow_policy=Lossguide, l2_leaf_reg=5, learning_rate=0.1, min_data_in_leaf=1; total time=  17.8s\n"
     ]
    },
    {
     "name": "stderr",
     "output_type": "stream",
     "text": [
      "Warning: less than 75% gpu memory available for training. Free: 5557.1875 Total: 7971.4375\n"
     ]
    },
    {
     "name": "stdout",
     "output_type": "stream",
     "text": [
      "0:\tlearn: 0.9864072\ttotal: 18.2ms\tremaining: 18.2s\n",
      "500:\tlearn: 0.9999738\ttotal: 7.62s\tremaining: 7.58s\n",
      "999:\tlearn: 0.9999738\ttotal: 15.2s\tremaining: 0us\n",
      "[CV] END border_count=254, depth=7, grow_policy=Lossguide, l2_leaf_reg=5, learning_rate=0.1, min_data_in_leaf=1; total time=  17.3s\n"
     ]
    },
    {
     "name": "stderr",
     "output_type": "stream",
     "text": [
      "Warning: less than 75% gpu memory available for training. Free: 5574.875 Total: 7971.4375\n"
     ]
    },
    {
     "name": "stdout",
     "output_type": "stream",
     "text": [
      "0:\tlearn: 0.9856270\ttotal: 18.5ms\tremaining: 18.4s\n",
      "500:\tlearn: 0.9999825\ttotal: 7.52s\tremaining: 7.49s\n",
      "999:\tlearn: 0.9999825\ttotal: 15.1s\tremaining: 0us\n",
      "[CV] END border_count=254, depth=7, grow_policy=Lossguide, l2_leaf_reg=5, learning_rate=0.1, min_data_in_leaf=1; total time=  17.1s\n"
     ]
    },
    {
     "name": "stderr",
     "output_type": "stream",
     "text": [
      "Warning: less than 75% gpu memory available for training. Free: 5583.75 Total: 7971.4375\n"
     ]
    },
    {
     "name": "stdout",
     "output_type": "stream",
     "text": [
      "0:\tlearn: 0.9870975\ttotal: 21.1ms\tremaining: 21.1s\n",
      "500:\tlearn: 0.9924110\ttotal: 3.27s\tremaining: 3.26s\n",
      "999:\tlearn: 0.9955877\ttotal: 6.52s\tremaining: 0us\n",
      "[CV] END border_count=32, depth=7, grow_policy=Depthwise, l2_leaf_reg=0.5, learning_rate=0.005, min_data_in_leaf=30; total time=   8.2s\n"
     ]
    },
    {
     "name": "stderr",
     "output_type": "stream",
     "text": [
      "Warning: less than 75% gpu memory available for training. Free: 5583.75 Total: 7971.4375\n"
     ]
    },
    {
     "name": "stdout",
     "output_type": "stream",
     "text": [
      "0:\tlearn: 0.9873730\ttotal: 8.73ms\tremaining: 8.73s\n",
      "500:\tlearn: 0.9923244\ttotal: 3.22s\tremaining: 3.21s\n",
      "999:\tlearn: 0.9954137\ttotal: 6.48s\tremaining: 0us\n",
      "[CV] END border_count=32, depth=7, grow_policy=Depthwise, l2_leaf_reg=0.5, learning_rate=0.005, min_data_in_leaf=30; total time=   8.2s\n"
     ]
    },
    {
     "name": "stderr",
     "output_type": "stream",
     "text": [
      "Warning: less than 75% gpu memory available for training. Free: 5587.75 Total: 7971.4375\n"
     ]
    },
    {
     "name": "stdout",
     "output_type": "stream",
     "text": [
      "0:\tlearn: 0.9886688\ttotal: 8.45ms\tremaining: 8.45s\n",
      "500:\tlearn: 0.9931007\ttotal: 3.05s\tremaining: 3.04s\n",
      "999:\tlearn: 0.9956730\ttotal: 6.19s\tremaining: 0us\n",
      "[CV] END border_count=32, depth=7, grow_policy=Depthwise, l2_leaf_reg=0.5, learning_rate=0.005, min_data_in_leaf=30; total time=   7.9s\n"
     ]
    },
    {
     "name": "stderr",
     "output_type": "stream",
     "text": [
      "Warning: less than 75% gpu memory available for training. Free: 5579.75 Total: 7971.4375\n"
     ]
    },
    {
     "name": "stdout",
     "output_type": "stream",
     "text": [
      "0:\tlearn: 0.9891103\ttotal: 9.16ms\tremaining: 9.15s\n",
      "500:\tlearn: 0.9933521\ttotal: 3.2s\tremaining: 3.19s\n",
      "999:\tlearn: 0.9958810\ttotal: 6.41s\tremaining: 0us\n",
      "[CV] END border_count=32, depth=7, grow_policy=Depthwise, l2_leaf_reg=0.5, learning_rate=0.005, min_data_in_leaf=30; total time=   8.1s\n"
     ]
    },
    {
     "name": "stderr",
     "output_type": "stream",
     "text": [
      "Warning: less than 75% gpu memory available for training. Free: 5578.875 Total: 7971.4375\n"
     ]
    },
    {
     "name": "stdout",
     "output_type": "stream",
     "text": [
      "0:\tlearn: 0.9876005\ttotal: 9.88ms\tremaining: 9.87s\n",
      "500:\tlearn: 0.9924638\ttotal: 3.25s\tremaining: 3.23s\n",
      "999:\tlearn: 0.9956390\ttotal: 6.45s\tremaining: 0us\n",
      "[CV] END border_count=32, depth=7, grow_policy=Depthwise, l2_leaf_reg=0.5, learning_rate=0.005, min_data_in_leaf=30; total time=   8.2s\n"
     ]
    },
    {
     "name": "stderr",
     "output_type": "stream",
     "text": [
      "Warning: less than 75% gpu memory available for training. Free: 5587.75 Total: 7971.4375\n"
     ]
    },
    {
     "name": "stdout",
     "output_type": "stream",
     "text": [
      "0:\tlearn: 0.9824592\ttotal: 24.1ms\tremaining: 24.1s\n",
      "500:\tlearn: 0.9987261\ttotal: 9.66s\tremaining: 9.62s\n",
      "999:\tlearn: 0.9999126\ttotal: 19.2s\tremaining: 0us\n",
      "[CV] END border_count=254, depth=7, grow_policy=SymmetricTree, l2_leaf_reg=5, learning_rate=0.1, min_data_in_leaf=30; total time=  21.1s\n"
     ]
    },
    {
     "name": "stderr",
     "output_type": "stream",
     "text": [
      "Warning: less than 75% gpu memory available for training. Free: 5574.8125 Total: 7971.4375\n"
     ]
    },
    {
     "name": "stdout",
     "output_type": "stream",
     "text": [
      "0:\tlearn: 0.9831804\ttotal: 23.7ms\tremaining: 23.7s\n",
      "500:\tlearn: 0.9986215\ttotal: 9.65s\tremaining: 9.62s\n",
      "999:\tlearn: 0.9998952\ttotal: 19.2s\tremaining: 0us\n",
      "[CV] END border_count=254, depth=7, grow_policy=SymmetricTree, l2_leaf_reg=5, learning_rate=0.1, min_data_in_leaf=30; total time=  21.0s\n"
     ]
    },
    {
     "name": "stderr",
     "output_type": "stream",
     "text": [
      "Warning: less than 75% gpu memory available for training. Free: 5576.875 Total: 7971.4375\n"
     ]
    },
    {
     "name": "stdout",
     "output_type": "stream",
     "text": [
      "0:\tlearn: 0.9844252\ttotal: 23.9ms\tremaining: 23.8s\n",
      "500:\tlearn: 0.9986389\ttotal: 9.55s\tremaining: 9.52s\n",
      "999:\tlearn: 0.9998952\ttotal: 19s\tremaining: 0us\n",
      "[CV] END border_count=254, depth=7, grow_policy=SymmetricTree, l2_leaf_reg=5, learning_rate=0.1, min_data_in_leaf=30; total time=  20.8s\n"
     ]
    },
    {
     "name": "stderr",
     "output_type": "stream",
     "text": [
      "Warning: less than 75% gpu memory available for training. Free: 5577.3125 Total: 7971.4375\n"
     ]
    },
    {
     "name": "stdout",
     "output_type": "stream",
     "text": [
      "0:\tlearn: 0.9842764\ttotal: 23.9ms\tremaining: 23.9s\n",
      "500:\tlearn: 0.9988657\ttotal: 9.69s\tremaining: 9.65s\n",
      "999:\tlearn: 0.9999476\ttotal: 19.2s\tremaining: 0us\n",
      "[CV] END border_count=254, depth=7, grow_policy=SymmetricTree, l2_leaf_reg=5, learning_rate=0.1, min_data_in_leaf=30; total time=  20.9s\n"
     ]
    },
    {
     "name": "stderr",
     "output_type": "stream",
     "text": [
      "Warning: less than 75% gpu memory available for training. Free: 5577.75 Total: 7971.4375\n"
     ]
    },
    {
     "name": "stdout",
     "output_type": "stream",
     "text": [
      "0:\tlearn: 0.9835499\ttotal: 21.7ms\tremaining: 21.7s\n",
      "500:\tlearn: 0.9987785\ttotal: 9.6s\tremaining: 9.56s\n",
      "999:\tlearn: 0.9999214\ttotal: 19.1s\tremaining: 0us\n",
      "[CV] END border_count=254, depth=7, grow_policy=SymmetricTree, l2_leaf_reg=5, learning_rate=0.1, min_data_in_leaf=30; total time=  20.9s\n"
     ]
    },
    {
     "name": "stderr",
     "output_type": "stream",
     "text": [
      "Warning: less than 75% gpu memory available for training. Free: 5577.75 Total: 7971.4375\n"
     ]
    },
    {
     "name": "stdout",
     "output_type": "stream",
     "text": [
      "0:\tlearn: 0.9816201\ttotal: 9.24ms\tremaining: 9.23s\n",
      "500:\tlearn: 0.9844249\ttotal: 2.95s\tremaining: 2.94s\n",
      "999:\tlearn: 0.9853564\ttotal: 5.87s\tremaining: 0us\n",
      "[CV] END border_count=254, depth=3, grow_policy=Lossguide, l2_leaf_reg=5, learning_rate=0.005, min_data_in_leaf=30; total time=   7.7s\n"
     ]
    },
    {
     "name": "stderr",
     "output_type": "stream",
     "text": [
      "Warning: less than 75% gpu memory available for training. Free: 5562.25 Total: 7971.4375\n"
     ]
    },
    {
     "name": "stdout",
     "output_type": "stream",
     "text": [
      "0:\tlearn: 0.9812504\ttotal: 9.38ms\tremaining: 9.37s\n",
      "500:\tlearn: 0.9847881\ttotal: 2.96s\tremaining: 2.94s\n",
      "999:\tlearn: 0.9858587\ttotal: 5.93s\tremaining: 0us\n",
      "[CV] END border_count=254, depth=3, grow_policy=Lossguide, l2_leaf_reg=5, learning_rate=0.005, min_data_in_leaf=30; total time=   7.7s\n"
     ]
    },
    {
     "name": "stderr",
     "output_type": "stream",
     "text": [
      "Warning: less than 75% gpu memory available for training. Free: 5575.6875 Total: 7971.4375\n"
     ]
    },
    {
     "name": "stdout",
     "output_type": "stream",
     "text": [
      "0:\tlearn: 0.9824883\ttotal: 9.12ms\tremaining: 9.11s\n",
      "500:\tlearn: 0.9857933\ttotal: 2.82s\tremaining: 2.81s\n",
      "999:\tlearn: 0.9866205\ttotal: 5.76s\tremaining: 0us\n",
      "[CV] END border_count=254, depth=3, grow_policy=Lossguide, l2_leaf_reg=5, learning_rate=0.005, min_data_in_leaf=30; total time=   7.6s\n"
     ]
    },
    {
     "name": "stderr",
     "output_type": "stream",
     "text": [
      "Warning: less than 75% gpu memory available for training. Free: 5604.625 Total: 7971.4375\n"
     ]
    },
    {
     "name": "stdout",
     "output_type": "stream",
     "text": [
      "0:\tlearn: 0.9818600\ttotal: 8.93ms\tremaining: 8.93s\n",
      "500:\tlearn: 0.9855227\ttotal: 2.82s\tremaining: 2.81s\n",
      "999:\tlearn: 0.9872684\ttotal: 5.63s\tremaining: 0us\n",
      "[CV] END border_count=254, depth=3, grow_policy=Lossguide, l2_leaf_reg=5, learning_rate=0.005, min_data_in_leaf=30; total time=   7.4s\n"
     ]
    },
    {
     "name": "stderr",
     "output_type": "stream",
     "text": [
      "Warning: less than 75% gpu memory available for training. Free: 5596.625 Total: 7971.4375\n"
     ]
    },
    {
     "name": "stdout",
     "output_type": "stream",
     "text": [
      "0:\tlearn: 0.9827720\ttotal: 11.2ms\tremaining: 11.2s\n",
      "500:\tlearn: 0.9845902\ttotal: 2.99s\tremaining: 2.98s\n",
      "999:\tlearn: 0.9856867\ttotal: 6.02s\tremaining: 0us\n",
      "[CV] END border_count=254, depth=3, grow_policy=Lossguide, l2_leaf_reg=5, learning_rate=0.005, min_data_in_leaf=30; total time=   7.8s\n"
     ]
    },
    {
     "name": "stderr",
     "output_type": "stream",
     "text": [
      "Warning: less than 75% gpu memory available for training. Free: 5570.6875 Total: 7971.4375\n"
     ]
    },
    {
     "name": "stdout",
     "output_type": "stream",
     "text": [
      "0:\tlearn: 0.9841054\ttotal: 12.2ms\tremaining: 12.1s\n",
      "500:\tlearn: 0.9999825\ttotal: 4.12s\tremaining: 4.1s\n",
      "999:\tlearn: 0.9999825\ttotal: 8.07s\tremaining: 0us\n",
      "[CV] END border_count=32, depth=7, grow_policy=Lossguide, l2_leaf_reg=0.5, learning_rate=0.1, min_data_in_leaf=1; total time=   9.8s\n"
     ]
    },
    {
     "name": "stderr",
     "output_type": "stream",
     "text": [
      "Warning: less than 75% gpu memory available for training. Free: 5585.5 Total: 7971.4375\n"
     ]
    },
    {
     "name": "stdout",
     "output_type": "stream",
     "text": [
      "0:\tlearn: 0.9858434\ttotal: 8.73ms\tremaining: 8.72s\n",
      "500:\tlearn: 0.9999738\ttotal: 4.24s\tremaining: 4.22s\n",
      "999:\tlearn: 0.9999738\ttotal: 8.21s\tremaining: 0us\n",
      "[CV] END border_count=32, depth=7, grow_policy=Lossguide, l2_leaf_reg=0.5, learning_rate=0.1, min_data_in_leaf=1; total time=  10.0s\n"
     ]
    },
    {
     "name": "stderr",
     "output_type": "stream",
     "text": [
      "Warning: less than 75% gpu memory available for training. Free: 5576 Total: 7971.4375\n"
     ]
    },
    {
     "name": "stdout",
     "output_type": "stream",
     "text": [
      "0:\tlearn: 0.9861713\ttotal: 8.63ms\tremaining: 8.62s\n",
      "500:\tlearn: 0.9999651\ttotal: 4.26s\tremaining: 4.25s\n",
      "999:\tlearn: 0.9999651\ttotal: 8.24s\tremaining: 0us\n",
      "[CV] END border_count=32, depth=7, grow_policy=Lossguide, l2_leaf_reg=0.5, learning_rate=0.1, min_data_in_leaf=1; total time=   9.9s\n"
     ]
    },
    {
     "name": "stderr",
     "output_type": "stream",
     "text": [
      "Warning: less than 75% gpu memory available for training. Free: 5604.125 Total: 7971.4375\n"
     ]
    },
    {
     "name": "stdout",
     "output_type": "stream",
     "text": [
      "0:\tlearn: 0.9863319\ttotal: 9.03ms\tremaining: 9.02s\n",
      "500:\tlearn: 0.9999738\ttotal: 4.2s\tremaining: 4.18s\n",
      "999:\tlearn: 0.9999738\ttotal: 8.28s\tremaining: 0us\n",
      "[CV] END border_count=32, depth=7, grow_policy=Lossguide, l2_leaf_reg=0.5, learning_rate=0.1, min_data_in_leaf=1; total time=  10.0s\n"
     ]
    },
    {
     "name": "stderr",
     "output_type": "stream",
     "text": [
      "Warning: less than 75% gpu memory available for training. Free: 5590.125 Total: 7971.4375\n"
     ]
    },
    {
     "name": "stdout",
     "output_type": "stream",
     "text": [
      "0:\tlearn: 0.9851595\ttotal: 12.5ms\tremaining: 12.5s\n",
      "500:\tlearn: 0.9999825\ttotal: 3.96s\tremaining: 3.94s\n",
      "999:\tlearn: 0.9999825\ttotal: 8.01s\tremaining: 0us\n",
      "[CV] END border_count=32, depth=7, grow_policy=Lossguide, l2_leaf_reg=0.5, learning_rate=0.1, min_data_in_leaf=1; total time=   9.7s\n"
     ]
    },
    {
     "name": "stderr",
     "output_type": "stream",
     "text": [
      "Warning: less than 75% gpu memory available for training. Free: 5596.1875 Total: 7971.4375\n"
     ]
    },
    {
     "name": "stdout",
     "output_type": "stream",
     "text": [
      "0:\tlearn: 0.9809394\ttotal: 16.1ms\tremaining: 16.1s\n",
      "500:\tlearn: 0.9828220\ttotal: 1.56s\tremaining: 1.55s\n",
      "999:\tlearn: 0.9834667\ttotal: 3.29s\tremaining: 0us\n",
      "[CV] END border_count=32, depth=3, grow_policy=SymmetricTree, l2_leaf_reg=0.5, learning_rate=0.005, min_data_in_leaf=1; total time=   4.8s\n"
     ]
    },
    {
     "name": "stderr",
     "output_type": "stream",
     "text": [
      "Warning: less than 75% gpu memory available for training. Free: 5598.3125 Total: 7971.4375\n"
     ]
    },
    {
     "name": "stdout",
     "output_type": "stream",
     "text": [
      "0:\tlearn: 0.9810876\ttotal: 4.47ms\tremaining: 4.46s\n",
      "500:\tlearn: 0.9830948\ttotal: 1.71s\tremaining: 1.7s\n",
      "999:\tlearn: 0.9840015\ttotal: 3.33s\tremaining: 0us\n",
      "[CV] END border_count=32, depth=3, grow_policy=SymmetricTree, l2_leaf_reg=0.5, learning_rate=0.005, min_data_in_leaf=1; total time=   4.8s\n"
     ]
    },
    {
     "name": "stderr",
     "output_type": "stream",
     "text": [
      "Warning: less than 75% gpu memory available for training. Free: 5587.5625 Total: 7971.4375\n"
     ]
    },
    {
     "name": "stdout",
     "output_type": "stream",
     "text": [
      "0:\tlearn: 0.9816187\ttotal: 4.47ms\tremaining: 4.47s\n",
      "500:\tlearn: 0.9842233\ttotal: 1.51s\tremaining: 1.5s\n",
      "999:\tlearn: 0.9851198\ttotal: 3s\tremaining: 0us\n",
      "[CV] END border_count=32, depth=3, grow_policy=SymmetricTree, l2_leaf_reg=0.5, learning_rate=0.005, min_data_in_leaf=1; total time=   4.5s\n"
     ]
    },
    {
     "name": "stderr",
     "output_type": "stream",
     "text": [
      "Warning: less than 75% gpu memory available for training. Free: 5609.4375 Total: 7971.4375\n"
     ]
    },
    {
     "name": "stdout",
     "output_type": "stream",
     "text": [
      "0:\tlearn: 0.9818171\ttotal: 3.54ms\tremaining: 3.54s\n",
      "500:\tlearn: 0.9842654\ttotal: 1.5s\tremaining: 1.49s\n",
      "999:\tlearn: 0.9846846\ttotal: 3s\tremaining: 0us\n",
      "[CV] END border_count=32, depth=3, grow_policy=SymmetricTree, l2_leaf_reg=0.5, learning_rate=0.005, min_data_in_leaf=1; total time=   4.5s\n"
     ]
    },
    {
     "name": "stderr",
     "output_type": "stream",
     "text": [
      "Warning: less than 75% gpu memory available for training. Free: 5588.0625 Total: 7971.4375\n"
     ]
    },
    {
     "name": "stdout",
     "output_type": "stream",
     "text": [
      "0:\tlearn: 0.9806297\ttotal: 3.76ms\tremaining: 3.76s\n",
      "500:\tlearn: 0.9831745\ttotal: 1.59s\tremaining: 1.58s\n",
      "999:\tlearn: 0.9838657\ttotal: 3.11s\tremaining: 0us\n",
      "[CV] END border_count=32, depth=3, grow_policy=SymmetricTree, l2_leaf_reg=0.5, learning_rate=0.005, min_data_in_leaf=1; total time=   4.6s\n"
     ]
    },
    {
     "name": "stderr",
     "output_type": "stream",
     "text": [
      "Warning: less than 75% gpu memory available for training. Free: 5586.8125 Total: 7971.4375\n"
     ]
    },
    {
     "name": "stdout",
     "output_type": "stream",
     "text": [
      "0:\tlearn: 0.9807825\ttotal: 5.19ms\tremaining: 5.18s\n",
      "500:\tlearn: 0.9955135\ttotal: 1.75s\tremaining: 1.75s\n",
      "999:\tlearn: 0.9979337\ttotal: 3.37s\tremaining: 0us\n",
      "[CV] END border_count=32, depth=3, grow_policy=Depthwise, l2_leaf_reg=0.5, learning_rate=0.1, min_data_in_leaf=1; total time=   5.0s\n"
     ]
    },
    {
     "name": "stderr",
     "output_type": "stream",
     "text": [
      "Warning: less than 75% gpu memory available for training. Free: 5589.6875 Total: 7971.4375\n"
     ]
    },
    {
     "name": "stdout",
     "output_type": "stream",
     "text": [
      "0:\tlearn: 0.9800754\ttotal: 5.2ms\tremaining: 5.2s\n",
      "500:\tlearn: 0.9954009\ttotal: 1.7s\tremaining: 1.69s\n",
      "999:\tlearn: 0.9977771\ttotal: 3.4s\tremaining: 0us\n",
      "[CV] END border_count=32, depth=3, grow_policy=Depthwise, l2_leaf_reg=0.5, learning_rate=0.1, min_data_in_leaf=1; total time=   5.1s\n"
     ]
    },
    {
     "name": "stderr",
     "output_type": "stream",
     "text": [
      "Warning: less than 75% gpu memory available for training. Free: 5600.1875 Total: 7971.4375\n"
     ]
    },
    {
     "name": "stdout",
     "output_type": "stream",
     "text": [
      "0:\tlearn: 0.9826993\ttotal: 6.91ms\tremaining: 6.91s\n",
      "500:\tlearn: 0.9959972\ttotal: 2.02s\tremaining: 2.01s\n",
      "999:\tlearn: 0.9980555\ttotal: 3.78s\tremaining: 0us\n",
      "[CV] END border_count=32, depth=3, grow_policy=Depthwise, l2_leaf_reg=0.5, learning_rate=0.1, min_data_in_leaf=1; total time=   5.5s\n"
     ]
    },
    {
     "name": "stderr",
     "output_type": "stream",
     "text": [
      "Warning: less than 75% gpu memory available for training. Free: 5585.625 Total: 7971.4375\n"
     ]
    },
    {
     "name": "stdout",
     "output_type": "stream",
     "text": [
      "0:\tlearn: 0.9830573\ttotal: 6.17ms\tremaining: 6.17s\n",
      "500:\tlearn: 0.9958607\ttotal: 1.83s\tremaining: 1.82s\n",
      "999:\tlearn: 0.9981515\ttotal: 3.61s\tremaining: 0us\n",
      "[CV] END border_count=32, depth=3, grow_policy=Depthwise, l2_leaf_reg=0.5, learning_rate=0.1, min_data_in_leaf=1; total time=   5.2s\n"
     ]
    },
    {
     "name": "stderr",
     "output_type": "stream",
     "text": [
      "Warning: less than 75% gpu memory available for training. Free: 5612.5 Total: 7971.4375\n"
     ]
    },
    {
     "name": "stdout",
     "output_type": "stream",
     "text": [
      "0:\tlearn: 0.9821325\ttotal: 4.32ms\tremaining: 4.32s\n",
      "500:\tlearn: 0.9956874\ttotal: 1.74s\tremaining: 1.73s\n",
      "999:\tlearn: 0.9978905\ttotal: 3.42s\tremaining: 0us\n",
      "[CV] END border_count=32, depth=3, grow_policy=Depthwise, l2_leaf_reg=0.5, learning_rate=0.1, min_data_in_leaf=1; total time=   5.0s\n"
     ]
    },
    {
     "name": "stderr",
     "output_type": "stream",
     "text": [
      "Warning: less than 75% gpu memory available for training. Free: 5603.625 Total: 7971.4375\n"
     ]
    },
    {
     "name": "stdout",
     "output_type": "stream",
     "text": [
      "0:\tlearn: 0.9815084\ttotal: 9.02ms\tremaining: 9.01s\n",
      "500:\tlearn: 0.9841644\ttotal: 2.9s\tremaining: 2.89s\n",
      "999:\tlearn: 0.9851152\ttotal: 5.7s\tremaining: 0us\n",
      "[CV] END border_count=254, depth=3, grow_policy=Lossguide, l2_leaf_reg=0.5, learning_rate=0.005, min_data_in_leaf=1; total time=   7.7s\n"
     ]
    },
    {
     "name": "stderr",
     "output_type": "stream",
     "text": [
      "Warning: less than 75% gpu memory available for training. Free: 5612.5 Total: 7971.4375\n"
     ]
    },
    {
     "name": "stdout",
     "output_type": "stream",
     "text": [
      "0:\tlearn: 0.9812504\ttotal: 9.24ms\tremaining: 9.23s\n",
      "500:\tlearn: 0.9846585\ttotal: 2.79s\tremaining: 2.77s\n",
      "999:\tlearn: 0.9852783\ttotal: 5.5s\tremaining: 0us\n",
      "[CV] END border_count=254, depth=3, grow_policy=Lossguide, l2_leaf_reg=0.5, learning_rate=0.005, min_data_in_leaf=1; total time=   7.3s\n"
     ]
    },
    {
     "name": "stderr",
     "output_type": "stream",
     "text": [
      "Warning: less than 75% gpu memory available for training. Free: 5612.5 Total: 7971.4375\n"
     ]
    },
    {
     "name": "stdout",
     "output_type": "stream",
     "text": [
      "0:\tlearn: 0.9824883\ttotal: 9.03ms\tremaining: 9.02s\n",
      "500:\tlearn: 0.9857418\ttotal: 2.81s\tremaining: 2.8s\n",
      "999:\tlearn: 0.9861968\ttotal: 5.59s\tremaining: 0us\n",
      "[CV] END border_count=254, depth=3, grow_policy=Lossguide, l2_leaf_reg=0.5, learning_rate=0.005, min_data_in_leaf=1; total time=   7.4s\n"
     ]
    },
    {
     "name": "stderr",
     "output_type": "stream",
     "text": [
      "Warning: less than 75% gpu memory available for training. Free: 5602.8125 Total: 7971.4375\n"
     ]
    },
    {
     "name": "stdout",
     "output_type": "stream",
     "text": [
      "0:\tlearn: 0.9818600\ttotal: 9.2ms\tremaining: 9.19s\n",
      "500:\tlearn: 0.9853930\ttotal: 2.79s\tremaining: 2.78s\n",
      "999:\tlearn: 0.9865504\ttotal: 5.57s\tremaining: 0us\n",
      "[CV] END border_count=254, depth=3, grow_policy=Lossguide, l2_leaf_reg=0.5, learning_rate=0.005, min_data_in_leaf=1; total time=   7.4s\n"
     ]
    },
    {
     "name": "stderr",
     "output_type": "stream",
     "text": [
      "Warning: less than 75% gpu memory available for training. Free: 5603.625 Total: 7971.4375\n"
     ]
    },
    {
     "name": "stdout",
     "output_type": "stream",
     "text": [
      "0:\tlearn: 0.9827720\ttotal: 8.93ms\tremaining: 8.92s\n",
      "500:\tlearn: 0.9844263\ttotal: 2.8s\tremaining: 2.79s\n",
      "999:\tlearn: 0.9850813\ttotal: 5.59s\tremaining: 0us\n",
      "[CV] END border_count=254, depth=3, grow_policy=Lossguide, l2_leaf_reg=0.5, learning_rate=0.005, min_data_in_leaf=1; total time=   7.4s\n"
     ]
    },
    {
     "name": "stderr",
     "output_type": "stream",
     "text": [
      "Warning: less than 75% gpu memory available for training. Free: 5612.5 Total: 7971.4375\n"
     ]
    },
    {
     "name": "stdout",
     "output_type": "stream",
     "text": [
      "0:\tlearn: 0.9829290\ttotal: 8.22ms\tremaining: 8.21s\n",
      "500:\tlearn: 0.9989265\ttotal: 3.54s\tremaining: 3.52s\n",
      "999:\tlearn: 0.9999563\ttotal: 7s\tremaining: 0us\n",
      "[CV] END border_count=32, depth=7, grow_policy=SymmetricTree, l2_leaf_reg=5, learning_rate=0.1, min_data_in_leaf=1; total time=   8.5s\n"
     ]
    },
    {
     "name": "stderr",
     "output_type": "stream",
     "text": [
      "Warning: less than 75% gpu memory available for training. Free: 5612.5 Total: 7971.4375\n"
     ]
    },
    {
     "name": "stdout",
     "output_type": "stream",
     "text": [
      "0:\tlearn: 0.9834614\ttotal: 8.12ms\tremaining: 8.11s\n",
      "500:\tlearn: 0.9988655\ttotal: 3.53s\tremaining: 3.52s\n",
      "999:\tlearn: 0.9999476\ttotal: 7s\tremaining: 0us\n",
      "[CV] END border_count=32, depth=7, grow_policy=SymmetricTree, l2_leaf_reg=5, learning_rate=0.1, min_data_in_leaf=1; total time=   8.5s\n"
     ]
    },
    {
     "name": "stderr",
     "output_type": "stream",
     "text": [
      "Warning: less than 75% gpu memory available for training. Free: 5612.5 Total: 7971.4375\n"
     ]
    },
    {
     "name": "stdout",
     "output_type": "stream",
     "text": [
      "0:\tlearn: 0.9838297\ttotal: 8.76ms\tremaining: 8.75s\n",
      "500:\tlearn: 0.9988830\ttotal: 3.46s\tremaining: 3.44s\n",
      "999:\tlearn: 0.9999476\ttotal: 6.94s\tremaining: 0us\n",
      "[CV] END border_count=32, depth=7, grow_policy=SymmetricTree, l2_leaf_reg=5, learning_rate=0.1, min_data_in_leaf=1; total time=   8.4s\n"
     ]
    },
    {
     "name": "stderr",
     "output_type": "stream",
     "text": [
      "Warning: less than 75% gpu memory available for training. Free: 5604.5 Total: 7971.4375\n"
     ]
    },
    {
     "name": "stdout",
     "output_type": "stream",
     "text": [
      "0:\tlearn: 0.9832663\ttotal: 7.87ms\tremaining: 7.86s\n",
      "500:\tlearn: 0.9991534\ttotal: 3.46s\tremaining: 3.44s\n",
      "999:\tlearn: 0.9999563\ttotal: 6.9s\tremaining: 0us\n",
      "[CV] END border_count=32, depth=7, grow_policy=SymmetricTree, l2_leaf_reg=5, learning_rate=0.1, min_data_in_leaf=1; total time=   8.4s\n"
     ]
    },
    {
     "name": "stderr",
     "output_type": "stream",
     "text": [
      "Warning: less than 75% gpu memory available for training. Free: 5603.625 Total: 7971.4375\n"
     ]
    },
    {
     "name": "stdout",
     "output_type": "stream",
     "text": [
      "0:\tlearn: 0.9826429\ttotal: 9.24ms\tremaining: 9.23s\n",
      "500:\tlearn: 0.9989441\ttotal: 3.44s\tremaining: 3.43s\n",
      "999:\tlearn: 0.9999825\ttotal: 6.88s\tremaining: 0us\n",
      "[CV] END border_count=32, depth=7, grow_policy=SymmetricTree, l2_leaf_reg=5, learning_rate=0.1, min_data_in_leaf=1; total time=   8.4s\n"
     ]
    },
    {
     "name": "stderr",
     "output_type": "stream",
     "text": [
      "Warning: less than 75% gpu memory available for training. Free: 5603.625 Total: 7971.4375\n"
     ]
    },
    {
     "name": "stdout",
     "output_type": "stream",
     "text": [
      "0:\tlearn: 0.9807825\ttotal: 6.2ms\tremaining: 6.2s\n",
      "500:\tlearn: 0.9960839\ttotal: 1.65s\tremaining: 1.64s\n",
      "999:\tlearn: 0.9989353\ttotal: 3.29s\tremaining: 0us\n",
      "[CV] END border_count=32, depth=3, grow_policy=Lossguide, l2_leaf_reg=0.5, learning_rate=0.1, min_data_in_leaf=1; total time=   4.8s\n"
     ]
    },
    {
     "name": "stderr",
     "output_type": "stream",
     "text": [
      "Warning: less than 75% gpu memory available for training. Free: 5604.5 Total: 7971.4375\n"
     ]
    },
    {
     "name": "stdout",
     "output_type": "stream",
     "text": [
      "0:\tlearn: 0.9800754\ttotal: 6.36ms\tremaining: 6.36s\n",
      "500:\tlearn: 0.9959712\ttotal: 1.65s\tremaining: 1.64s\n",
      "999:\tlearn: 0.9987435\ttotal: 3.26s\tremaining: 0us\n",
      "[CV] END border_count=32, depth=3, grow_policy=Lossguide, l2_leaf_reg=0.5, learning_rate=0.1, min_data_in_leaf=1; total time=   4.8s\n"
     ]
    },
    {
     "name": "stderr",
     "output_type": "stream",
     "text": [
      "Warning: less than 75% gpu memory available for training. Free: 5612.5 Total: 7971.4375\n"
     ]
    },
    {
     "name": "stdout",
     "output_type": "stream",
     "text": [
      "0:\tlearn: 0.9827027\ttotal: 4.54ms\tremaining: 4.53s\n",
      "500:\tlearn: 0.9963527\ttotal: 1.69s\tremaining: 1.68s\n",
      "999:\tlearn: 0.9991009\ttotal: 3.36s\tremaining: 0us\n",
      "[CV] END border_count=32, depth=3, grow_policy=Lossguide, l2_leaf_reg=0.5, learning_rate=0.1, min_data_in_leaf=1; total time=   4.9s\n"
     ]
    },
    {
     "name": "stderr",
     "output_type": "stream",
     "text": [
      "Warning: less than 75% gpu memory available for training. Free: 5604.5 Total: 7971.4375\n"
     ]
    },
    {
     "name": "stdout",
     "output_type": "stream",
     "text": [
      "0:\tlearn: 0.9830573\ttotal: 4.57ms\tremaining: 4.57s\n",
      "500:\tlearn: 0.9964573\ttotal: 1.66s\tremaining: 1.65s\n",
      "999:\tlearn: 0.9992144\ttotal: 3.29s\tremaining: 0us\n",
      "[CV] END border_count=32, depth=3, grow_policy=Lossguide, l2_leaf_reg=0.5, learning_rate=0.1, min_data_in_leaf=1; total time=   4.8s\n"
     ]
    },
    {
     "name": "stderr",
     "output_type": "stream",
     "text": [
      "Warning: less than 75% gpu memory available for training. Free: 5612.5 Total: 7971.4375\n"
     ]
    },
    {
     "name": "stdout",
     "output_type": "stream",
     "text": [
      "0:\tlearn: 0.9821325\ttotal: 6.17ms\tremaining: 6.16s\n",
      "500:\tlearn: 0.9961798\ttotal: 1.69s\tremaining: 1.68s\n",
      "999:\tlearn: 0.9989354\ttotal: 3.32s\tremaining: 0us\n",
      "[CV] END border_count=32, depth=3, grow_policy=Lossguide, l2_leaf_reg=0.5, learning_rate=0.1, min_data_in_leaf=1; total time=   4.9s\n"
     ]
    },
    {
     "name": "stderr",
     "output_type": "stream",
     "text": [
      "Warning: less than 75% gpu memory available for training. Free: 5604.5 Total: 7971.4375\n"
     ]
    },
    {
     "name": "stdout",
     "output_type": "stream",
     "text": [
      "0:\tlearn: 0.9809394\ttotal: 3.54ms\tremaining: 3.54s\n",
      "500:\tlearn: 0.9827180\ttotal: 1.47s\tremaining: 1.46s\n",
      "999:\tlearn: 0.9835976\ttotal: 2.93s\tremaining: 0us\n",
      "[CV] END border_count=32, depth=3, grow_policy=SymmetricTree, l2_leaf_reg=5, learning_rate=0.005, min_data_in_leaf=1; total time=   4.4s\n"
     ]
    },
    {
     "name": "stderr",
     "output_type": "stream",
     "text": [
      "Warning: less than 75% gpu memory available for training. Free: 5612.5 Total: 7971.4375\n"
     ]
    },
    {
     "name": "stdout",
     "output_type": "stream",
     "text": [
      "0:\tlearn: 0.9810876\ttotal: 4.91ms\tremaining: 4.9s\n",
      "500:\tlearn: 0.9831033\ttotal: 1.51s\tremaining: 1.5s\n",
      "999:\tlearn: 0.9839147\ttotal: 2.99s\tremaining: 0us\n",
      "[CV] END border_count=32, depth=3, grow_policy=SymmetricTree, l2_leaf_reg=5, learning_rate=0.005, min_data_in_leaf=1; total time=   4.5s\n"
     ]
    },
    {
     "name": "stderr",
     "output_type": "stream",
     "text": [
      "Warning: less than 75% gpu memory available for training. Free: 5604.0625 Total: 7971.4375\n"
     ]
    },
    {
     "name": "stdout",
     "output_type": "stream",
     "text": [
      "0:\tlearn: 0.9816187\ttotal: 4.75ms\tremaining: 4.74s\n",
      "500:\tlearn: 0.9843272\ttotal: 1.47s\tremaining: 1.47s\n",
      "999:\tlearn: 0.9850940\ttotal: 2.94s\tremaining: 0us\n",
      "[CV] END border_count=32, depth=3, grow_policy=SymmetricTree, l2_leaf_reg=5, learning_rate=0.005, min_data_in_leaf=1; total time=   4.4s\n"
     ]
    },
    {
     "name": "stderr",
     "output_type": "stream",
     "text": [
      "Warning: less than 75% gpu memory available for training. Free: 5612.5 Total: 7971.4375\n"
     ]
    },
    {
     "name": "stdout",
     "output_type": "stream",
     "text": [
      "0:\tlearn: 0.9818171\ttotal: 3.85ms\tremaining: 3.84s\n",
      "500:\tlearn: 0.9843179\ttotal: 1.54s\tremaining: 1.53s\n",
      "999:\tlearn: 0.9846846\ttotal: 3.06s\tremaining: 0us\n",
      "[CV] END border_count=32, depth=3, grow_policy=SymmetricTree, l2_leaf_reg=5, learning_rate=0.005, min_data_in_leaf=1; total time=   4.6s\n"
     ]
    },
    {
     "name": "stderr",
     "output_type": "stream",
     "text": [
      "Warning: less than 75% gpu memory available for training. Free: 5603.625 Total: 7971.4375\n"
     ]
    },
    {
     "name": "stdout",
     "output_type": "stream",
     "text": [
      "0:\tlearn: 0.9806297\ttotal: 4.83ms\tremaining: 4.82s\n",
      "500:\tlearn: 0.9831488\ttotal: 1.49s\tremaining: 1.48s\n",
      "999:\tlearn: 0.9836138\ttotal: 3.02s\tremaining: 0us\n",
      "[CV] END border_count=32, depth=3, grow_policy=SymmetricTree, l2_leaf_reg=5, learning_rate=0.005, min_data_in_leaf=1; total time=   4.5s\n"
     ]
    },
    {
     "name": "stderr",
     "output_type": "stream",
     "text": [
      "Warning: less than 75% gpu memory available for training. Free: 5612.5 Total: 7971.4375\n"
     ]
    },
    {
     "name": "stdout",
     "output_type": "stream",
     "text": [
      "0:\tlearn: 0.9829290\ttotal: 8.19ms\tremaining: 8.18s\n",
      "500:\tlearn: 0.9989265\ttotal: 3.53s\tremaining: 3.52s\n",
      "999:\tlearn: 0.9999563\ttotal: 7.01s\tremaining: 0us\n",
      "[CV] END border_count=32, depth=7, grow_policy=SymmetricTree, l2_leaf_reg=5, learning_rate=0.1, min_data_in_leaf=30; total time=   8.5s\n"
     ]
    },
    {
     "name": "stderr",
     "output_type": "stream",
     "text": [
      "Warning: less than 75% gpu memory available for training. Free: 5604.5 Total: 7971.4375\n"
     ]
    },
    {
     "name": "stdout",
     "output_type": "stream",
     "text": [
      "0:\tlearn: 0.9834614\ttotal: 7.96ms\tremaining: 7.95s\n",
      "500:\tlearn: 0.9988655\ttotal: 3.46s\tremaining: 3.44s\n",
      "999:\tlearn: 0.9999476\ttotal: 7.03s\tremaining: 0us\n",
      "[CV] END border_count=32, depth=7, grow_policy=SymmetricTree, l2_leaf_reg=5, learning_rate=0.1, min_data_in_leaf=30; total time=   8.5s\n"
     ]
    },
    {
     "name": "stderr",
     "output_type": "stream",
     "text": [
      "Warning: less than 75% gpu memory available for training. Free: 5602.9375 Total: 7971.4375\n"
     ]
    },
    {
     "name": "stdout",
     "output_type": "stream",
     "text": [
      "0:\tlearn: 0.9838297\ttotal: 7.76ms\tremaining: 7.75s\n",
      "500:\tlearn: 0.9988830\ttotal: 3.48s\tremaining: 3.46s\n",
      "999:\tlearn: 0.9999476\ttotal: 6.96s\tremaining: 0us\n",
      "[CV] END border_count=32, depth=7, grow_policy=SymmetricTree, l2_leaf_reg=5, learning_rate=0.1, min_data_in_leaf=30; total time=   8.5s\n"
     ]
    },
    {
     "name": "stderr",
     "output_type": "stream",
     "text": [
      "Warning: less than 75% gpu memory available for training. Free: 5604.0625 Total: 7971.4375\n"
     ]
    },
    {
     "name": "stdout",
     "output_type": "stream",
     "text": [
      "0:\tlearn: 0.9832663\ttotal: 8.31ms\tremaining: 8.3s\n",
      "500:\tlearn: 0.9991534\ttotal: 3.48s\tremaining: 3.47s\n",
      "999:\tlearn: 0.9999563\ttotal: 6.96s\tremaining: 0us\n",
      "[CV] END border_count=32, depth=7, grow_policy=SymmetricTree, l2_leaf_reg=5, learning_rate=0.1, min_data_in_leaf=30; total time=   8.5s\n"
     ]
    },
    {
     "name": "stderr",
     "output_type": "stream",
     "text": [
      "Warning: less than 75% gpu memory available for training. Free: 5603.625 Total: 7971.4375\n"
     ]
    },
    {
     "name": "stdout",
     "output_type": "stream",
     "text": [
      "0:\tlearn: 0.9826429\ttotal: 8.02ms\tremaining: 8.01s\n",
      "500:\tlearn: 0.9989441\ttotal: 3.52s\tremaining: 3.5s\n",
      "999:\tlearn: 0.9999825\ttotal: 6.99s\tremaining: 0us\n",
      "[CV] END border_count=32, depth=7, grow_policy=SymmetricTree, l2_leaf_reg=5, learning_rate=0.1, min_data_in_leaf=30; total time=   8.5s\n"
     ]
    },
    {
     "name": "stderr",
     "output_type": "stream",
     "text": [
      "Warning: less than 75% gpu memory available for training. Free: 5612.5 Total: 7971.4375\n"
     ]
    },
    {
     "name": "stdout",
     "output_type": "stream",
     "text": [
      "0:\tlearn: 0.9829290\ttotal: 8.26ms\tremaining: 8.25s\n",
      "500:\tlearn: 0.9999039\ttotal: 3.53s\tremaining: 3.51s\n",
      "999:\tlearn: 0.9999825\ttotal: 6.97s\tremaining: 0us\n",
      "[CV] END border_count=32, depth=7, grow_policy=SymmetricTree, l2_leaf_reg=0.5, learning_rate=0.1, min_data_in_leaf=1; total time=   8.5s\n"
     ]
    },
    {
     "name": "stderr",
     "output_type": "stream",
     "text": [
      "Warning: less than 75% gpu memory available for training. Free: 5612.5 Total: 7971.4375\n"
     ]
    },
    {
     "name": "stdout",
     "output_type": "stream",
     "text": [
      "0:\tlearn: 0.9834614\ttotal: 8.03ms\tremaining: 8.03s\n",
      "500:\tlearn: 0.9999214\ttotal: 3.53s\tremaining: 3.51s\n",
      "999:\tlearn: 0.9999738\ttotal: 7.01s\tremaining: 0us\n",
      "[CV] END border_count=32, depth=7, grow_policy=SymmetricTree, l2_leaf_reg=0.5, learning_rate=0.1, min_data_in_leaf=1; total time=   8.5s\n"
     ]
    },
    {
     "name": "stderr",
     "output_type": "stream",
     "text": [
      "Warning: less than 75% gpu memory available for training. Free: 5612.5 Total: 7971.4375\n"
     ]
    },
    {
     "name": "stdout",
     "output_type": "stream",
     "text": [
      "0:\tlearn: 0.9838297\ttotal: 8.12ms\tremaining: 8.11s\n",
      "500:\tlearn: 0.9998952\ttotal: 3.51s\tremaining: 3.49s\n",
      "999:\tlearn: 0.9999651\ttotal: 7s\tremaining: 0us\n",
      "[CV] END border_count=32, depth=7, grow_policy=SymmetricTree, l2_leaf_reg=0.5, learning_rate=0.1, min_data_in_leaf=1; total time=   8.5s\n"
     ]
    },
    {
     "name": "stderr",
     "output_type": "stream",
     "text": [
      "Warning: less than 75% gpu memory available for training. Free: 5604.5 Total: 7971.4375\n"
     ]
    },
    {
     "name": "stdout",
     "output_type": "stream",
     "text": [
      "0:\tlearn: 0.9832663\ttotal: 8.54ms\tremaining: 8.53s\n",
      "500:\tlearn: 0.9999651\ttotal: 3.51s\tremaining: 3.5s\n",
      "999:\tlearn: 0.9999738\ttotal: 6.99s\tremaining: 0us\n",
      "[CV] END border_count=32, depth=7, grow_policy=SymmetricTree, l2_leaf_reg=0.5, learning_rate=0.1, min_data_in_leaf=1; total time=   8.5s\n"
     ]
    },
    {
     "name": "stderr",
     "output_type": "stream",
     "text": [
      "Warning: less than 75% gpu memory available for training. Free: 5612.5 Total: 7971.4375\n"
     ]
    },
    {
     "name": "stdout",
     "output_type": "stream",
     "text": [
      "0:\tlearn: 0.9826429\ttotal: 7.97ms\tremaining: 7.97s\n",
      "500:\tlearn: 0.9999127\ttotal: 3.52s\tremaining: 3.5s\n",
      "999:\tlearn: 0.9999825\ttotal: 6.95s\tremaining: 0us\n",
      "[CV] END border_count=32, depth=7, grow_policy=SymmetricTree, l2_leaf_reg=0.5, learning_rate=0.1, min_data_in_leaf=1; total time=   8.5s\n"
     ]
    },
    {
     "name": "stderr",
     "output_type": "stream",
     "text": [
      "Warning: less than 75% gpu memory available for training. Free: 5611.625 Total: 7971.4375\n"
     ]
    },
    {
     "name": "stdout",
     "output_type": "stream",
     "text": [
      "0:\tlearn: 0.9807825\ttotal: 5.89ms\tremaining: 5.88s\n",
      "500:\tlearn: 0.9840615\ttotal: 1.65s\tremaining: 1.64s\n",
      "999:\tlearn: 0.9851373\ttotal: 3.22s\tremaining: 0us\n",
      "[CV] END border_count=32, depth=3, grow_policy=Depthwise, l2_leaf_reg=5, learning_rate=0.005, min_data_in_leaf=1; total time=   4.8s\n"
     ]
    },
    {
     "name": "stderr",
     "output_type": "stream",
     "text": [
      "Warning: less than 75% gpu memory available for training. Free: 5620.5 Total: 7971.4375\n"
     ]
    },
    {
     "name": "stdout",
     "output_type": "stream",
     "text": [
      "0:\tlearn: 0.9800754\ttotal: 4.37ms\tremaining: 4.36s\n",
      "500:\tlearn: 0.9847634\ttotal: 1.57s\tremaining: 1.56s\n",
      "999:\tlearn: 0.9856149\ttotal: 3.12s\tremaining: 0us\n",
      "[CV] END border_count=32, depth=3, grow_policy=Depthwise, l2_leaf_reg=5, learning_rate=0.005, min_data_in_leaf=1; total time=   4.7s\n"
     ]
    },
    {
     "name": "stderr",
     "output_type": "stream",
     "text": [
      "Warning: less than 75% gpu memory available for training. Free: 5611.625 Total: 7971.4375\n"
     ]
    },
    {
     "name": "stdout",
     "output_type": "stream",
     "text": [
      "0:\tlearn: 0.9826993\ttotal: 4.62ms\tremaining: 4.62s\n",
      "500:\tlearn: 0.9854209\ttotal: 1.62s\tremaining: 1.62s\n",
      "999:\tlearn: 0.9861336\ttotal: 3.24s\tremaining: 0us\n",
      "[CV] END border_count=32, depth=3, grow_policy=Depthwise, l2_leaf_reg=5, learning_rate=0.005, min_data_in_leaf=1; total time=   4.8s\n"
     ]
    },
    {
     "name": "stderr",
     "output_type": "stream",
     "text": [
      "Warning: less than 75% gpu memory available for training. Free: 5620.5 Total: 7971.4375\n"
     ]
    },
    {
     "name": "stdout",
     "output_type": "stream",
     "text": [
      "0:\tlearn: 0.9830573\ttotal: 4.93ms\tremaining: 4.93s\n",
      "500:\tlearn: 0.9854282\ttotal: 1.61s\tremaining: 1.61s\n",
      "999:\tlearn: 0.9866436\ttotal: 3.31s\tremaining: 0us\n",
      "[CV] END border_count=32, depth=3, grow_policy=Depthwise, l2_leaf_reg=5, learning_rate=0.005, min_data_in_leaf=1; total time=   4.9s\n"
     ]
    },
    {
     "name": "stderr",
     "output_type": "stream",
     "text": [
      "Warning: less than 75% gpu memory available for training. Free: 5611.75 Total: 7971.4375\n"
     ]
    },
    {
     "name": "stdout",
     "output_type": "stream",
     "text": [
      "0:\tlearn: 0.9821325\ttotal: 5.72ms\tremaining: 5.71s\n",
      "500:\tlearn: 0.9845912\ttotal: 1.65s\tremaining: 1.65s\n",
      "999:\tlearn: 0.9853131\ttotal: 3.26s\tremaining: 0us\n",
      "[CV] END border_count=32, depth=3, grow_policy=Depthwise, l2_leaf_reg=5, learning_rate=0.005, min_data_in_leaf=1; total time=   4.8s\n"
     ]
    },
    {
     "name": "stderr",
     "output_type": "stream",
     "text": [
      "Warning: less than 75% gpu memory available for training. Free: 5620.625 Total: 7971.4375\n"
     ]
    },
    {
     "name": "stdout",
     "output_type": "stream",
     "text": [
      "0:\tlearn: 0.9807825\ttotal: 6.34ms\tremaining: 6.34s\n",
      "500:\tlearn: 0.9963180\ttotal: 1.75s\tremaining: 1.75s\n",
      "999:\tlearn: 0.9986215\ttotal: 3.42s\tremaining: 0us\n",
      "[CV] END border_count=32, depth=3, grow_policy=Lossguide, l2_leaf_reg=5, learning_rate=0.1, min_data_in_leaf=1; total time=   4.9s\n"
     ]
    },
    {
     "name": "stderr",
     "output_type": "stream",
     "text": [
      "Warning: less than 75% gpu memory available for training. Free: 5611.75 Total: 7971.4375\n"
     ]
    },
    {
     "name": "stdout",
     "output_type": "stream",
     "text": [
      "0:\tlearn: 0.9800754\ttotal: 4.45ms\tremaining: 4.45s\n",
      "500:\tlearn: 0.9961532\ttotal: 1.67s\tremaining: 1.67s\n",
      "999:\tlearn: 0.9984386\ttotal: 3.37s\tremaining: 0us\n",
      "[CV] END border_count=32, depth=3, grow_policy=Lossguide, l2_leaf_reg=5, learning_rate=0.1, min_data_in_leaf=1; total time=   4.9s\n"
     ]
    },
    {
     "name": "stderr",
     "output_type": "stream",
     "text": [
      "Warning: less than 75% gpu memory available for training. Free: 5612.625 Total: 7971.4375\n"
     ]
    },
    {
     "name": "stdout",
     "output_type": "stream",
     "text": [
      "0:\tlearn: 0.9827027\ttotal: 4.52ms\tremaining: 4.52s\n",
      "500:\tlearn: 0.9964394\ttotal: 1.65s\tremaining: 1.64s\n",
      "999:\tlearn: 0.9986041\ttotal: 3.25s\tremaining: 0us\n",
      "[CV] END border_count=32, depth=3, grow_policy=Lossguide, l2_leaf_reg=5, learning_rate=0.1, min_data_in_leaf=1; total time=   4.8s\n"
     ]
    },
    {
     "name": "stderr",
     "output_type": "stream",
     "text": [
      "Warning: less than 75% gpu memory available for training. Free: 5620.625 Total: 7971.4375\n"
     ]
    },
    {
     "name": "stdout",
     "output_type": "stream",
     "text": [
      "0:\tlearn: 0.9831061\ttotal: 4.76ms\tremaining: 4.75s\n",
      "500:\tlearn: 0.9966482\ttotal: 1.65s\tremaining: 1.65s\n",
      "999:\tlearn: 0.9987263\ttotal: 3.36s\tremaining: 0us\n",
      "[CV] END border_count=32, depth=3, grow_policy=Lossguide, l2_leaf_reg=5, learning_rate=0.1, min_data_in_leaf=1; total time=   4.9s\n"
     ]
    },
    {
     "name": "stderr",
     "output_type": "stream",
     "text": [
      "Warning: less than 75% gpu memory available for training. Free: 5612.625 Total: 7971.4375\n"
     ]
    },
    {
     "name": "stdout",
     "output_type": "stream",
     "text": [
      "0:\tlearn: 0.9821325\ttotal: 6.3ms\tremaining: 6.3s\n",
      "500:\tlearn: 0.9964140\ttotal: 1.68s\tremaining: 1.67s\n",
      "999:\tlearn: 0.9986130\ttotal: 3.36s\tremaining: 0us\n",
      "[CV] END border_count=32, depth=3, grow_policy=Lossguide, l2_leaf_reg=5, learning_rate=0.1, min_data_in_leaf=1; total time=   4.9s\n"
     ]
    },
    {
     "name": "stderr",
     "output_type": "stream",
     "text": [
      "Warning: less than 75% gpu memory available for training. Free: 5612.5625 Total: 7971.4375\n"
     ]
    },
    {
     "name": "stdout",
     "output_type": "stream",
     "text": [
      "0:\tlearn: 0.9801029\ttotal: 6.44ms\tremaining: 6.43s\n",
      "500:\tlearn: 0.9828880\ttotal: 3s\tremaining: 2.99s\n",
      "999:\tlearn: 0.9837004\ttotal: 5.99s\tremaining: 0us\n",
      "[CV] END border_count=254, depth=3, grow_policy=SymmetricTree, l2_leaf_reg=5, learning_rate=0.005, min_data_in_leaf=30; total time=   7.8s\n"
     ]
    },
    {
     "name": "stderr",
     "output_type": "stream",
     "text": [
      "Warning: less than 75% gpu memory available for training. Free: 5614.625 Total: 7971.4375\n"
     ]
    },
    {
     "name": "stdout",
     "output_type": "stream",
     "text": [
      "0:\tlearn: 0.9814867\ttotal: 6.79ms\tremaining: 6.79s\n",
      "500:\tlearn: 0.9833102\ttotal: 3s\tremaining: 2.99s\n",
      "999:\tlearn: 0.9842352\ttotal: 5.99s\tremaining: 0us\n",
      "[CV] END border_count=254, depth=3, grow_policy=SymmetricTree, l2_leaf_reg=5, learning_rate=0.005, min_data_in_leaf=30; total time=   7.8s\n"
     ]
    },
    {
     "name": "stderr",
     "output_type": "stream",
     "text": [
      "Warning: less than 75% gpu memory available for training. Free: 5614.625 Total: 7971.4375\n"
     ]
    },
    {
     "name": "stdout",
     "output_type": "stream",
     "text": [
      "0:\tlearn: 0.9817372\ttotal: 8.2ms\tremaining: 8.19s\n",
      "500:\tlearn: 0.9840819\ttotal: 2.98s\tremaining: 2.96s\n",
      "999:\tlearn: 0.9851789\ttotal: 5.99s\tremaining: 0us\n",
      "[CV] END border_count=254, depth=3, grow_policy=SymmetricTree, l2_leaf_reg=5, learning_rate=0.005, min_data_in_leaf=30; total time=   7.7s\n"
     ]
    },
    {
     "name": "stderr",
     "output_type": "stream",
     "text": [
      "Warning: less than 75% gpu memory available for training. Free: 5606.625 Total: 7971.4375\n"
     ]
    },
    {
     "name": "stdout",
     "output_type": "stream",
     "text": [
      "0:\tlearn: 0.9813424\ttotal: 6.78ms\tremaining: 6.77s\n",
      "500:\tlearn: 0.9842644\ttotal: 3.04s\tremaining: 3.03s\n",
      "999:\tlearn: 0.9848839\ttotal: 6.09s\tremaining: 0us\n",
      "[CV] END border_count=254, depth=3, grow_policy=SymmetricTree, l2_leaf_reg=5, learning_rate=0.005, min_data_in_leaf=30; total time=   7.8s\n"
     ]
    },
    {
     "name": "stderr",
     "output_type": "stream",
     "text": [
      "Warning: less than 75% gpu memory available for training. Free: 5605.75 Total: 7971.4375\n"
     ]
    },
    {
     "name": "stdout",
     "output_type": "stream",
     "text": [
      "0:\tlearn: 0.9808356\ttotal: 7.99ms\tremaining: 7.98s\n",
      "500:\tlearn: 0.9832699\ttotal: 3s\tremaining: 2.99s\n",
      "999:\tlearn: 0.9838121\ttotal: 6.01s\tremaining: 0us\n",
      "[CV] END border_count=254, depth=3, grow_policy=SymmetricTree, l2_leaf_reg=5, learning_rate=0.005, min_data_in_leaf=30; total time=   7.8s\n"
     ]
    },
    {
     "name": "stderr",
     "output_type": "stream",
     "text": [
      "Warning: less than 75% gpu memory available for training. Free: 5614.625 Total: 7971.4375\n"
     ]
    },
    {
     "name": "stdout",
     "output_type": "stream",
     "text": [
      "0:\tlearn: 0.9873679\ttotal: 22.6ms\tremaining: 22.5s\n",
      "500:\tlearn: 0.9917981\ttotal: 7.38s\tremaining: 7.35s\n",
      "999:\tlearn: 0.9944811\ttotal: 14.2s\tremaining: 0us\n",
      "[CV] END border_count=254, depth=7, grow_policy=Depthwise, l2_leaf_reg=5, learning_rate=0.005, min_data_in_leaf=30; total time=  16.1s\n"
     ]
    },
    {
     "name": "stderr",
     "output_type": "stream",
     "text": [
      "Warning: less than 75% gpu memory available for training. Free: 5606.625 Total: 7971.4375\n"
     ]
    },
    {
     "name": "stdout",
     "output_type": "stream",
     "text": [
      "0:\tlearn: 0.9877508\ttotal: 24.4ms\tremaining: 24.3s\n",
      "500:\tlearn: 0.9916426\ttotal: 7.5s\tremaining: 7.47s\n",
      "999:\tlearn: 0.9942994\ttotal: 14.3s\tremaining: 0us\n",
      "[CV] END border_count=254, depth=7, grow_policy=Depthwise, l2_leaf_reg=5, learning_rate=0.005, min_data_in_leaf=30; total time=  16.2s\n"
     ]
    },
    {
     "name": "stderr",
     "output_type": "stream",
     "text": [
      "Warning: less than 75% gpu memory available for training. Free: 5605.75 Total: 7971.4375\n"
     ]
    },
    {
     "name": "stdout",
     "output_type": "stream",
     "text": [
      "0:\tlearn: 0.9884012\ttotal: 23.6ms\tremaining: 23.6s\n",
      "500:\tlearn: 0.9921516\ttotal: 7.28s\tremaining: 7.25s\n",
      "999:\tlearn: 0.9946786\ttotal: 13.9s\tremaining: 0us\n",
      "[CV] END border_count=254, depth=7, grow_policy=Depthwise, l2_leaf_reg=5, learning_rate=0.005, min_data_in_leaf=30; total time=  15.8s\n"
     ]
    },
    {
     "name": "stderr",
     "output_type": "stream",
     "text": [
      "Warning: less than 75% gpu memory available for training. Free: 5614.625 Total: 7971.4375\n"
     ]
    },
    {
     "name": "stdout",
     "output_type": "stream",
     "text": [
      "0:\tlearn: 0.9883361\ttotal: 20.5ms\tremaining: 20.5s\n",
      "500:\tlearn: 0.9926443\ttotal: 7.49s\tremaining: 7.46s\n",
      "999:\tlearn: 0.9947227\ttotal: 14.3s\tremaining: 0us\n",
      "[CV] END border_count=254, depth=7, grow_policy=Depthwise, l2_leaf_reg=5, learning_rate=0.005, min_data_in_leaf=30; total time=  16.2s\n"
     ]
    },
    {
     "name": "stderr",
     "output_type": "stream",
     "text": [
      "Warning: less than 75% gpu memory available for training. Free: 5606.1875 Total: 7971.4375\n"
     ]
    },
    {
     "name": "stdout",
     "output_type": "stream",
     "text": [
      "0:\tlearn: 0.9880131\ttotal: 25.5ms\tremaining: 25.4s\n",
      "500:\tlearn: 0.9917648\ttotal: 7.44s\tremaining: 7.41s\n",
      "999:\tlearn: 0.9944392\ttotal: 14.1s\tremaining: 0us\n",
      "[CV] END border_count=254, depth=7, grow_policy=Depthwise, l2_leaf_reg=5, learning_rate=0.005, min_data_in_leaf=30; total time=  16.0s\n"
     ]
    },
    {
     "name": "stderr",
     "output_type": "stream",
     "text": [
      "Warning: less than 75% gpu memory available for training. Free: 5614.625 Total: 7971.4375\n"
     ]
    },
    {
     "name": "stdout",
     "output_type": "stream",
     "text": [
      "0:\tlearn: 0.9841054\ttotal: 8.91ms\tremaining: 8.91s\n",
      "500:\tlearn: 0.9897274\ttotal: 3.78s\tremaining: 3.76s\n",
      "999:\tlearn: 0.9945698\ttotal: 8.14s\tremaining: 0us\n",
      "[CV] END border_count=32, depth=7, grow_policy=Lossguide, l2_leaf_reg=0.5, learning_rate=0.005, min_data_in_leaf=1; total time=  10.0s\n"
     ]
    },
    {
     "name": "stderr",
     "output_type": "stream",
     "text": [
      "Warning: less than 75% gpu memory available for training. Free: 5577.4375 Total: 7971.4375\n"
     ]
    },
    {
     "name": "stdout",
     "output_type": "stream",
     "text": [
      "0:\tlearn: 0.9858434\ttotal: 11.2ms\tremaining: 11.2s\n",
      "500:\tlearn: 0.9903227\ttotal: 4.1s\tremaining: 4.08s\n",
      "999:\tlearn: 0.9944229\ttotal: 7.91s\tremaining: 0us\n",
      "[CV] END border_count=32, depth=7, grow_policy=Lossguide, l2_leaf_reg=0.5, learning_rate=0.005, min_data_in_leaf=1; total time=   9.9s\n"
     ]
    },
    {
     "name": "stderr",
     "output_type": "stream",
     "text": [
      "Warning: less than 75% gpu memory available for training. Free: 5552.375 Total: 7971.4375\n"
     ]
    },
    {
     "name": "stdout",
     "output_type": "stream",
     "text": [
      "0:\tlearn: 0.9861713\ttotal: 9.06ms\tremaining: 9.05s\n",
      "500:\tlearn: 0.9907885\ttotal: 3.7s\tremaining: 3.69s\n",
      "999:\tlearn: 0.9947940\ttotal: 7.57s\tremaining: 0us\n",
      "[CV] END border_count=32, depth=7, grow_policy=Lossguide, l2_leaf_reg=0.5, learning_rate=0.005, min_data_in_leaf=1; total time=   9.2s\n"
     ]
    },
    {
     "name": "stderr",
     "output_type": "stream",
     "text": [
      "Warning: less than 75% gpu memory available for training. Free: 5594.1875 Total: 7971.4375\n"
     ]
    },
    {
     "name": "stdout",
     "output_type": "stream",
     "text": [
      "0:\tlearn: 0.9863319\ttotal: 9.2ms\tremaining: 9.19s\n",
      "500:\tlearn: 0.9913591\ttotal: 3.72s\tremaining: 3.7s\n",
      "999:\tlearn: 0.9947959\ttotal: 7.52s\tremaining: 0us\n",
      "[CV] END border_count=32, depth=7, grow_policy=Lossguide, l2_leaf_reg=0.5, learning_rate=0.005, min_data_in_leaf=1; total time=   9.1s\n"
     ]
    },
    {
     "name": "stderr",
     "output_type": "stream",
     "text": [
      "Warning: less than 75% gpu memory available for training. Free: 5594.1875 Total: 7971.4375\n"
     ]
    },
    {
     "name": "stdout",
     "output_type": "stream",
     "text": [
      "0:\tlearn: 0.9851595\ttotal: 12ms\tremaining: 12s\n",
      "500:\tlearn: 0.9902292\ttotal: 3.74s\tremaining: 3.73s\n",
      "999:\tlearn: 0.9945280\ttotal: 7.45s\tremaining: 0us\n",
      "[CV] END border_count=32, depth=7, grow_policy=Lossguide, l2_leaf_reg=0.5, learning_rate=0.005, min_data_in_leaf=1; total time=   9.1s\n"
     ]
    },
    {
     "name": "stderr",
     "output_type": "stream",
     "text": [
      "Warning: less than 75% gpu memory available for training. Free: 5594.1875 Total: 7971.4375\n"
     ]
    },
    {
     "name": "stdout",
     "output_type": "stream",
     "text": [
      "0:\tlearn: 0.9815084\ttotal: 8.76ms\tremaining: 8.75s\n",
      "500:\tlearn: 0.9965262\ttotal: 2.81s\tremaining: 2.8s\n",
      "999:\tlearn: 0.9997205\ttotal: 5.58s\tremaining: 0us\n",
      "[CV] END border_count=254, depth=3, grow_policy=Lossguide, l2_leaf_reg=0.5, learning_rate=0.1, min_data_in_leaf=30; total time=   7.4s\n"
     ]
    },
    {
     "name": "stderr",
     "output_type": "stream",
     "text": [
      "Warning: less than 75% gpu memory available for training. Free: 5586.1875 Total: 7971.4375\n"
     ]
    },
    {
     "name": "stdout",
     "output_type": "stream",
     "text": [
      "0:\tlearn: 0.9812504\ttotal: 11.5ms\tremaining: 11.5s\n",
      "500:\tlearn: 0.9964308\ttotal: 2.8s\tremaining: 2.79s\n",
      "999:\tlearn: 0.9996768\ttotal: 5.56s\tremaining: 0us\n",
      "[CV] END border_count=254, depth=3, grow_policy=Lossguide, l2_leaf_reg=0.5, learning_rate=0.1, min_data_in_leaf=30; total time=   7.4s\n"
     ]
    },
    {
     "name": "stderr",
     "output_type": "stream",
     "text": [
      "Warning: less than 75% gpu memory available for training. Free: 5585.3125 Total: 7971.4375\n"
     ]
    },
    {
     "name": "stdout",
     "output_type": "stream",
     "text": [
      "0:\tlearn: 0.9824883\ttotal: 9.16ms\tremaining: 9.15s\n",
      "500:\tlearn: 0.9966043\ttotal: 2.77s\tremaining: 2.76s\n",
      "999:\tlearn: 0.9997904\ttotal: 5.56s\tremaining: 0us\n",
      "[CV] END border_count=254, depth=3, grow_policy=Lossguide, l2_leaf_reg=0.5, learning_rate=0.1, min_data_in_leaf=30; total time=   7.4s\n"
     ]
    },
    {
     "name": "stderr",
     "output_type": "stream",
     "text": [
      "Warning: less than 75% gpu memory available for training. Free: 5606.5 Total: 7971.4375\n"
     ]
    },
    {
     "name": "stdout",
     "output_type": "stream",
     "text": [
      "0:\tlearn: 0.9818600\ttotal: 8.83ms\tremaining: 8.82s\n",
      "500:\tlearn: 0.9969867\ttotal: 2.99s\tremaining: 2.98s\n",
      "999:\tlearn: 0.9998428\ttotal: 6.14s\tremaining: 0us\n",
      "[CV] END border_count=254, depth=3, grow_policy=Lossguide, l2_leaf_reg=0.5, learning_rate=0.1, min_data_in_leaf=30; total time=   8.0s\n"
     ]
    },
    {
     "name": "stderr",
     "output_type": "stream",
     "text": [
      "Warning: less than 75% gpu memory available for training. Free: 5586.25 Total: 7971.4375\n"
     ]
    },
    {
     "name": "stdout",
     "output_type": "stream",
     "text": [
      "0:\tlearn: 0.9827720\ttotal: 8.96ms\tremaining: 8.96s\n",
      "500:\tlearn: 0.9964747\ttotal: 2.8s\tremaining: 2.79s\n",
      "999:\tlearn: 0.9997729\ttotal: 5.7s\tremaining: 0us\n",
      "[CV] END border_count=254, depth=3, grow_policy=Lossguide, l2_leaf_reg=0.5, learning_rate=0.1, min_data_in_leaf=30; total time=   7.5s\n"
     ]
    },
    {
     "name": "stderr",
     "output_type": "stream",
     "text": [
      "Warning: less than 75% gpu memory available for training. Free: 5595.4375 Total: 7971.4375\n"
     ]
    },
    {
     "name": "stdout",
     "output_type": "stream",
     "text": [
      "0:\tlearn: 0.9807825\ttotal: 4.77ms\tremaining: 4.76s\n",
      "500:\tlearn: 0.9948130\ttotal: 1.63s\tremaining: 1.62s\n",
      "999:\tlearn: 0.9969862\ttotal: 3.46s\tremaining: 0us\n",
      "[CV] END border_count=32, depth=3, grow_policy=Depthwise, l2_leaf_reg=5, learning_rate=0.1, min_data_in_leaf=30; total time=   5.0s\n"
     ]
    },
    {
     "name": "stderr",
     "output_type": "stream",
     "text": [
      "Warning: less than 75% gpu memory available for training. Free: 5516.0625 Total: 7971.4375\n"
     ]
    },
    {
     "name": "stdout",
     "output_type": "stream",
     "text": [
      "0:\tlearn: 0.9800754\ttotal: 4.75ms\tremaining: 4.75s\n",
      "500:\tlearn: 0.9949682\ttotal: 1.79s\tremaining: 1.79s\n",
      "999:\tlearn: 0.9967692\ttotal: 3.58s\tremaining: 0us\n",
      "[CV] END border_count=32, depth=3, grow_policy=Depthwise, l2_leaf_reg=5, learning_rate=0.1, min_data_in_leaf=30; total time=   5.2s\n"
     ]
    },
    {
     "name": "stderr",
     "output_type": "stream",
     "text": [
      "Warning: less than 75% gpu memory available for training. Free: 5553.5 Total: 7971.4375\n"
     ]
    },
    {
     "name": "stdout",
     "output_type": "stream",
     "text": [
      "0:\tlearn: 0.9826993\ttotal: 4.73ms\tremaining: 4.72s\n",
      "500:\tlearn: 0.9951678\ttotal: 1.75s\tremaining: 1.74s\n",
      "999:\tlearn: 0.9970644\ttotal: 3.41s\tremaining: 0us\n",
      "[CV] END border_count=32, depth=3, grow_policy=Depthwise, l2_leaf_reg=5, learning_rate=0.1, min_data_in_leaf=30; total time=   5.0s\n"
     ]
    },
    {
     "name": "stderr",
     "output_type": "stream",
     "text": [
      "Warning: less than 75% gpu memory available for training. Free: 5566.3125 Total: 7971.4375\n"
     ]
    },
    {
     "name": "stdout",
     "output_type": "stream",
     "text": [
      "0:\tlearn: 0.9830573\ttotal: 4.89ms\tremaining: 4.88s\n",
      "500:\tlearn: 0.9954189\ttotal: 1.66s\tremaining: 1.65s\n",
      "999:\tlearn: 0.9972994\ttotal: 3.27s\tremaining: 0us\n",
      "[CV] END border_count=32, depth=3, grow_policy=Depthwise, l2_leaf_reg=5, learning_rate=0.1, min_data_in_leaf=30; total time=   4.9s\n"
     ]
    },
    {
     "name": "stderr",
     "output_type": "stream",
     "text": [
      "Warning: less than 75% gpu memory available for training. Free: 5566.3125 Total: 7971.4375\n"
     ]
    },
    {
     "name": "stdout",
     "output_type": "stream",
     "text": [
      "0:\tlearn: 0.9821325\ttotal: 4.46ms\tremaining: 4.46s\n",
      "500:\tlearn: 0.9951432\ttotal: 1.71s\tremaining: 1.7s\n",
      "999:\tlearn: 0.9971864\ttotal: 3.36s\tremaining: 0us\n",
      "[CV] END border_count=32, depth=3, grow_policy=Depthwise, l2_leaf_reg=5, learning_rate=0.1, min_data_in_leaf=30; total time=   5.0s\n"
     ]
    },
    {
     "name": "stderr",
     "output_type": "stream",
     "text": [
      "Warning: less than 75% gpu memory available for training. Free: 5566.3125 Total: 7971.4375\n"
     ]
    },
    {
     "name": "stdout",
     "output_type": "stream",
     "text": [
      "0:\tlearn: 0.9816201\ttotal: 9.71ms\tremaining: 9.7s\n",
      "500:\tlearn: 0.9844249\ttotal: 3.03s\tremaining: 3.02s\n",
      "999:\tlearn: 0.9853650\ttotal: 6.06s\tremaining: 0us\n",
      "[CV] END border_count=254, depth=3, grow_policy=Lossguide, l2_leaf_reg=5, learning_rate=0.005, min_data_in_leaf=1; total time=   7.9s\n"
     ]
    },
    {
     "name": "stderr",
     "output_type": "stream",
     "text": [
      "Warning: less than 75% gpu memory available for training. Free: 5566.3125 Total: 7971.4375\n"
     ]
    },
    {
     "name": "stdout",
     "output_type": "stream",
     "text": [
      "0:\tlearn: 0.9812504\ttotal: 9.01ms\tremaining: 9s\n",
      "500:\tlearn: 0.9848139\ttotal: 3.02s\tremaining: 3s\n",
      "999:\tlearn: 0.9857548\ttotal: 6.05s\tremaining: 0us\n",
      "[CV] END border_count=254, depth=3, grow_policy=Lossguide, l2_leaf_reg=5, learning_rate=0.005, min_data_in_leaf=1; total time=   7.9s\n"
     ]
    },
    {
     "name": "stderr",
     "output_type": "stream",
     "text": [
      "Warning: less than 75% gpu memory available for training. Free: 5566.3125 Total: 7971.4375\n"
     ]
    },
    {
     "name": "stdout",
     "output_type": "stream",
     "text": [
      "0:\tlearn: 0.9824883\ttotal: 8.96ms\tremaining: 8.95s\n",
      "500:\tlearn: 0.9858104\ttotal: 3s\tremaining: 2.99s\n",
      "999:\tlearn: 0.9866205\ttotal: 6.01s\tremaining: 0us\n",
      "[CV] END border_count=254, depth=3, grow_policy=Lossguide, l2_leaf_reg=5, learning_rate=0.005, min_data_in_leaf=1; total time=   7.9s\n"
     ]
    },
    {
     "name": "stderr",
     "output_type": "stream",
     "text": [
      "Warning: less than 75% gpu memory available for training. Free: 5566.3125 Total: 7971.4375\n"
     ]
    },
    {
     "name": "stdout",
     "output_type": "stream",
     "text": [
      "0:\tlearn: 0.9818600\ttotal: 10ms\tremaining: 10s\n",
      "500:\tlearn: 0.9856094\ttotal: 3.04s\tremaining: 3.03s\n",
      "999:\tlearn: 0.9873549\ttotal: 6.02s\tremaining: 0us\n",
      "[CV] END border_count=254, depth=3, grow_policy=Lossguide, l2_leaf_reg=5, learning_rate=0.005, min_data_in_leaf=1; total time=   7.9s\n"
     ]
    },
    {
     "name": "stderr",
     "output_type": "stream",
     "text": [
      "Warning: less than 75% gpu memory available for training. Free: 5566.3125 Total: 7971.4375\n"
     ]
    },
    {
     "name": "stdout",
     "output_type": "stream",
     "text": [
      "0:\tlearn: 0.9827720\ttotal: 11.8ms\tremaining: 11.8s\n",
      "500:\tlearn: 0.9845902\ttotal: 3.08s\tremaining: 3.06s\n",
      "999:\tlearn: 0.9856781\ttotal: 6.13s\tremaining: 0us\n",
      "[CV] END border_count=254, depth=3, grow_policy=Lossguide, l2_leaf_reg=5, learning_rate=0.005, min_data_in_leaf=1; total time=   8.0s\n"
     ]
    },
    {
     "name": "stderr",
     "output_type": "stream",
     "text": [
      "Warning: less than 75% gpu memory available for training. Free: 5566.3125 Total: 7971.4375\n"
     ]
    },
    {
     "name": "stdout",
     "output_type": "stream",
     "text": [
      "0:\tlearn: 0.9856159\ttotal: 23.4ms\tremaining: 23.3s\n",
      "500:\tlearn: 0.9908834\ttotal: 7.59s\tremaining: 7.56s\n",
      "999:\tlearn: 0.9948465\ttotal: 15.4s\tremaining: 0us\n",
      "[CV] END border_count=254, depth=7, grow_policy=Lossguide, l2_leaf_reg=0.5, learning_rate=0.005, min_data_in_leaf=1; total time=  17.4s\n"
     ]
    },
    {
     "name": "stderr",
     "output_type": "stream",
     "text": [
      "Warning: less than 75% gpu memory available for training. Free: 5571.0625 Total: 7971.4375\n"
     ]
    },
    {
     "name": "stdout",
     "output_type": "stream",
     "text": [
      "0:\tlearn: 0.9862636\ttotal: 18.5ms\tremaining: 18.5s\n",
      "500:\tlearn: 0.9909696\ttotal: 7.35s\tremaining: 7.32s\n",
      "999:\tlearn: 0.9947081\ttotal: 14.9s\tremaining: 0us\n",
      "[CV] END border_count=254, depth=7, grow_policy=Lossguide, l2_leaf_reg=0.5, learning_rate=0.005, min_data_in_leaf=1; total time=  17.0s\n"
     ]
    },
    {
     "name": "stderr",
     "output_type": "stream",
     "text": [
      "Warning: less than 75% gpu memory available for training. Free: 5571.0625 Total: 7971.4375\n"
     ]
    },
    {
     "name": "stdout",
     "output_type": "stream",
     "text": [
      "0:\tlearn: 0.9863377\ttotal: 20.2ms\tremaining: 20.1s\n",
      "500:\tlearn: 0.9914783\ttotal: 7.38s\tremaining: 7.35s\n",
      "999:\tlearn: 0.9950621\ttotal: 14.9s\tremaining: 0us\n",
      "[CV] END border_count=254, depth=7, grow_policy=Lossguide, l2_leaf_reg=0.5, learning_rate=0.005, min_data_in_leaf=1; total time=  17.0s\n"
     ]
    },
    {
     "name": "stderr",
     "output_type": "stream",
     "text": [
      "Warning: less than 75% gpu memory available for training. Free: 5571.0625 Total: 7971.4375\n"
     ]
    },
    {
     "name": "stdout",
     "output_type": "stream",
     "text": [
      "0:\tlearn: 0.9865083\ttotal: 18.2ms\tremaining: 18.2s\n",
      "500:\tlearn: 0.9921435\ttotal: 7.35s\tremaining: 7.32s\n",
      "999:\tlearn: 0.9950468\ttotal: 14.9s\tremaining: 0us\n",
      "[CV] END border_count=254, depth=7, grow_policy=Lossguide, l2_leaf_reg=0.5, learning_rate=0.005, min_data_in_leaf=1; total time=  16.9s\n"
     ]
    },
    {
     "name": "stderr",
     "output_type": "stream",
     "text": [
      "Warning: less than 75% gpu memory available for training. Free: 5570.3125 Total: 7971.4375\n"
     ]
    },
    {
     "name": "stdout",
     "output_type": "stream",
     "text": [
      "0:\tlearn: 0.9853876\ttotal: 34.8ms\tremaining: 34.7s\n",
      "500:\tlearn: 0.9906173\ttotal: 8.37s\tremaining: 8.33s\n",
      "999:\tlearn: 0.9948824\ttotal: 16.7s\tremaining: 0us\n",
      "[CV] END border_count=254, depth=7, grow_policy=Lossguide, l2_leaf_reg=0.5, learning_rate=0.005, min_data_in_leaf=1; total time=  19.0s\n"
     ]
    },
    {
     "name": "stderr",
     "output_type": "stream",
     "text": [
      "Warning: less than 75% gpu memory available for training. Free: 5478.625 Total: 7971.4375\n"
     ]
    },
    {
     "name": "stdout",
     "output_type": "stream",
     "text": [
      "0:\tlearn: 0.9807825\ttotal: 4.93ms\tremaining: 4.92s\n",
      "500:\tlearn: 0.9840615\ttotal: 1.92s\tremaining: 1.91s\n",
      "999:\tlearn: 0.9851716\ttotal: 3.9s\tremaining: 0us\n",
      "[CV] END border_count=32, depth=3, grow_policy=Depthwise, l2_leaf_reg=0.5, learning_rate=0.005, min_data_in_leaf=30; total time=   5.6s\n"
     ]
    },
    {
     "name": "stderr",
     "output_type": "stream",
     "text": [
      "Warning: less than 75% gpu memory available for training. Free: 5461.3125 Total: 7971.4375\n"
     ]
    },
    {
     "name": "stdout",
     "output_type": "stream",
     "text": [
      "0:\tlearn: 0.9800754\ttotal: 5.19ms\tremaining: 5.19s\n",
      "500:\tlearn: 0.9847891\ttotal: 2s\tremaining: 1.99s\n",
      "999:\tlearn: 0.9857017\ttotal: 3.89s\tremaining: 0us\n",
      "[CV] END border_count=32, depth=3, grow_policy=Depthwise, l2_leaf_reg=0.5, learning_rate=0.005, min_data_in_leaf=30; total time=   5.7s\n"
     ]
    },
    {
     "name": "stderr",
     "output_type": "stream",
     "text": [
      "Warning: less than 75% gpu memory available for training. Free: 5459 Total: 7971.4375\n"
     ]
    },
    {
     "name": "stdout",
     "output_type": "stream",
     "text": [
      "0:\tlearn: 0.9826993\ttotal: 8.73ms\tremaining: 8.73s\n",
      "500:\tlearn: 0.9854381\ttotal: 2.07s\tremaining: 2.06s\n",
      "999:\tlearn: 0.9862375\ttotal: 4.09s\tremaining: 0us\n",
      "[CV] END border_count=32, depth=3, grow_policy=Depthwise, l2_leaf_reg=0.5, learning_rate=0.005, min_data_in_leaf=30; total time=   6.0s\n"
     ]
    },
    {
     "name": "stderr",
     "output_type": "stream",
     "text": [
      "Warning: less than 75% gpu memory available for training. Free: 5391.9375 Total: 7971.4375\n"
     ]
    },
    {
     "name": "stdout",
     "output_type": "stream",
     "text": [
      "0:\tlearn: 0.9830573\ttotal: 6.89ms\tremaining: 6.88s\n",
      "500:\tlearn: 0.9855579\ttotal: 2.05s\tremaining: 2.04s\n",
      "999:\tlearn: 0.9866866\ttotal: 3.77s\tremaining: 0us\n",
      "[CV] END border_count=32, depth=3, grow_policy=Depthwise, l2_leaf_reg=0.5, learning_rate=0.005, min_data_in_leaf=30; total time=   5.4s\n"
     ]
    },
    {
     "name": "stderr",
     "output_type": "stream",
     "text": [
      "Warning: less than 75% gpu memory available for training. Free: 5470.4375 Total: 7971.4375\n"
     ]
    },
    {
     "name": "stdout",
     "output_type": "stream",
     "text": [
      "0:\tlearn: 0.9821325\ttotal: 4.83ms\tremaining: 4.83s\n",
      "500:\tlearn: 0.9844787\ttotal: 1.76s\tremaining: 1.76s\n",
      "999:\tlearn: 0.9852349\ttotal: 3.56s\tremaining: 0us\n",
      "[CV] END border_count=32, depth=3, grow_policy=Depthwise, l2_leaf_reg=0.5, learning_rate=0.005, min_data_in_leaf=30; total time=   5.2s\n"
     ]
    },
    {
     "name": "stderr",
     "output_type": "stream",
     "text": [
      "Warning: less than 75% gpu memory available for training. Free: 5478.3125 Total: 7971.4375\n"
     ]
    },
    {
     "name": "stdout",
     "output_type": "stream",
     "text": [
      "0:\tlearn: 0.9870718\ttotal: 9.83ms\tremaining: 9.82s\n",
      "500:\tlearn: 0.9999563\ttotal: 3.45s\tremaining: 3.43s\n",
      "999:\tlearn: 0.9999825\ttotal: 6.82s\tremaining: 0us\n",
      "[CV] END border_count=32, depth=7, grow_policy=Depthwise, l2_leaf_reg=5, learning_rate=0.1, min_data_in_leaf=30; total time=   8.6s\n"
     ]
    },
    {
     "name": "stderr",
     "output_type": "stream",
     "text": [
      "Warning: less than 75% gpu memory available for training. Free: 5478.3125 Total: 7971.4375\n"
     ]
    },
    {
     "name": "stdout",
     "output_type": "stream",
     "text": [
      "0:\tlearn: 0.9873730\ttotal: 9.06ms\tremaining: 9.05s\n",
      "500:\tlearn: 0.9999563\ttotal: 3.41s\tremaining: 3.39s\n",
      "999:\tlearn: 0.9999738\ttotal: 6.74s\tremaining: 0us\n",
      "[CV] END border_count=32, depth=7, grow_policy=Depthwise, l2_leaf_reg=5, learning_rate=0.1, min_data_in_leaf=30; total time=   8.5s\n"
     ]
    },
    {
     "name": "stderr",
     "output_type": "stream",
     "text": [
      "Warning: less than 75% gpu memory available for training. Free: 5478.3125 Total: 7971.4375\n"
     ]
    },
    {
     "name": "stdout",
     "output_type": "stream",
     "text": [
      "0:\tlearn: 0.9885922\ttotal: 9.38ms\tremaining: 9.38s\n",
      "500:\tlearn: 0.9999301\ttotal: 3.37s\tremaining: 3.36s\n",
      "999:\tlearn: 0.9999651\ttotal: 6.64s\tremaining: 0us\n",
      "[CV] END border_count=32, depth=7, grow_policy=Depthwise, l2_leaf_reg=5, learning_rate=0.1, min_data_in_leaf=30; total time=   8.4s\n"
     ]
    },
    {
     "name": "stderr",
     "output_type": "stream",
     "text": [
      "Warning: less than 75% gpu memory available for training. Free: 5482.3125 Total: 7971.4375\n"
     ]
    },
    {
     "name": "stdout",
     "output_type": "stream",
     "text": [
      "0:\tlearn: 0.9891103\ttotal: 10.3ms\tremaining: 10.3s\n",
      "500:\tlearn: 0.9999651\ttotal: 3.39s\tremaining: 3.38s\n",
      "999:\tlearn: 0.9999738\ttotal: 6.75s\tremaining: 0us\n",
      "[CV] END border_count=32, depth=7, grow_policy=Depthwise, l2_leaf_reg=5, learning_rate=0.1, min_data_in_leaf=30; total time=   8.5s\n"
     ]
    },
    {
     "name": "stderr",
     "output_type": "stream",
     "text": [
      "Warning: less than 75% gpu memory available for training. Free: 5482.3125 Total: 7971.4375\n"
     ]
    },
    {
     "name": "stdout",
     "output_type": "stream",
     "text": [
      "0:\tlearn: 0.9876005\ttotal: 10.3ms\tremaining: 10.3s\n",
      "500:\tlearn: 0.9999651\ttotal: 3.41s\tremaining: 3.4s\n",
      "999:\tlearn: 0.9999825\ttotal: 6.75s\tremaining: 0us\n",
      "[CV] END border_count=32, depth=7, grow_policy=Depthwise, l2_leaf_reg=5, learning_rate=0.1, min_data_in_leaf=30; total time=   8.5s\n"
     ]
    },
    {
     "name": "stderr",
     "output_type": "stream",
     "text": [
      "Warning: less than 75% gpu memory available for training. Free: 5494.3125 Total: 7971.4375\n"
     ]
    },
    {
     "name": "stdout",
     "output_type": "stream",
     "text": [
      "0:\tlearn: 0.9807825\ttotal: 4.67ms\tremaining: 4.67s\n",
      "500:\tlearn: 0.9951851\ttotal: 1.74s\tremaining: 1.73s\n",
      "999:\tlearn: 0.9976640\ttotal: 3.47s\tremaining: 0us\n",
      "[CV] END border_count=32, depth=3, grow_policy=Depthwise, l2_leaf_reg=0.5, learning_rate=0.1, min_data_in_leaf=30; total time=   5.1s\n"
     ]
    },
    {
     "name": "stderr",
     "output_type": "stream",
     "text": [
      "Warning: less than 75% gpu memory available for training. Free: 5494.3125 Total: 7971.4375\n"
     ]
    },
    {
     "name": "stdout",
     "output_type": "stream",
     "text": [
      "0:\tlearn: 0.9800754\ttotal: 4.7ms\tremaining: 4.7s\n",
      "500:\tlearn: 0.9951592\ttotal: 1.68s\tremaining: 1.67s\n",
      "999:\tlearn: 0.9974641\ttotal: 3.36s\tremaining: 0us\n",
      "[CV] END border_count=32, depth=3, grow_policy=Depthwise, l2_leaf_reg=0.5, learning_rate=0.1, min_data_in_leaf=30; total time=   5.0s\n"
     ]
    },
    {
     "name": "stderr",
     "output_type": "stream",
     "text": [
      "Warning: less than 75% gpu memory available for training. Free: 5494.3125 Total: 7971.4375\n"
     ]
    },
    {
     "name": "stdout",
     "output_type": "stream",
     "text": [
      "0:\tlearn: 0.9826993\ttotal: 5.82ms\tremaining: 5.82s\n",
      "500:\tlearn: 0.9953923\ttotal: 1.74s\tremaining: 1.73s\n",
      "999:\tlearn: 0.9976814\ttotal: 3.47s\tremaining: 0us\n",
      "[CV] END border_count=32, depth=3, grow_policy=Depthwise, l2_leaf_reg=0.5, learning_rate=0.1, min_data_in_leaf=30; total time=   5.1s\n"
     ]
    },
    {
     "name": "stderr",
     "output_type": "stream",
     "text": [
      "Warning: less than 75% gpu memory available for training. Free: 5494.3125 Total: 7971.4375\n"
     ]
    },
    {
     "name": "stdout",
     "output_type": "stream",
     "text": [
      "0:\tlearn: 0.9830573\ttotal: 4.55ms\tremaining: 4.55s\n",
      "500:\tlearn: 0.9957914\ttotal: 1.94s\tremaining: 1.93s\n",
      "999:\tlearn: 0.9978905\ttotal: 3.68s\tremaining: 0us\n",
      "[CV] END border_count=32, depth=3, grow_policy=Depthwise, l2_leaf_reg=0.5, learning_rate=0.1, min_data_in_leaf=30; total time=   5.3s\n"
     ]
    },
    {
     "name": "stderr",
     "output_type": "stream",
     "text": [
      "Warning: less than 75% gpu memory available for training. Free: 5494.3125 Total: 7971.4375\n"
     ]
    },
    {
     "name": "stdout",
     "output_type": "stream",
     "text": [
      "0:\tlearn: 0.9821325\ttotal: 5.47ms\tremaining: 5.46s\n",
      "500:\tlearn: 0.9953330\ttotal: 1.75s\tremaining: 1.74s\n",
      "999:\tlearn: 0.9977340\ttotal: 3.52s\tremaining: 0us\n",
      "[CV] END border_count=32, depth=3, grow_policy=Depthwise, l2_leaf_reg=0.5, learning_rate=0.1, min_data_in_leaf=30; total time=   5.1s\n"
     ]
    },
    {
     "name": "stderr",
     "output_type": "stream",
     "text": [
      "Warning: less than 75% gpu memory available for training. Free: 5494.3125 Total: 7971.4375\n"
     ]
    },
    {
     "name": "stdout",
     "output_type": "stream",
     "text": [
      "0:\tlearn: 0.9839617\ttotal: 9.08ms\tremaining: 9.07s\n",
      "500:\tlearn: 0.9900639\ttotal: 4.02s\tremaining: 4s\n",
      "999:\tlearn: 0.9945876\ttotal: 8.18s\tremaining: 0us\n",
      "[CV] END border_count=32, depth=7, grow_policy=Lossguide, l2_leaf_reg=5, learning_rate=0.005, min_data_in_leaf=30; total time=   9.9s\n"
     ]
    },
    {
     "name": "stderr",
     "output_type": "stream",
     "text": [
      "Warning: less than 75% gpu memory available for training. Free: 5494.3125 Total: 7971.4375\n"
     ]
    },
    {
     "name": "stdout",
     "output_type": "stream",
     "text": [
      "0:\tlearn: 0.9855659\ttotal: 11.8ms\tremaining: 11.8s\n",
      "500:\tlearn: 0.9905039\ttotal: 4.05s\tremaining: 4.04s\n",
      "999:\tlearn: 0.9943807\ttotal: 8.25s\tremaining: 0us\n",
      "[CV] END border_count=32, depth=7, grow_policy=Lossguide, l2_leaf_reg=5, learning_rate=0.005, min_data_in_leaf=30; total time=  10.0s\n"
     ]
    },
    {
     "name": "stderr",
     "output_type": "stream",
     "text": [
      "Warning: less than 75% gpu memory available for training. Free: 5494.3125 Total: 7971.4375\n"
     ]
    },
    {
     "name": "stdout",
     "output_type": "stream",
     "text": [
      "0:\tlearn: 0.9858179\ttotal: 9.87ms\tremaining: 9.86s\n",
      "500:\tlearn: 0.9912628\ttotal: 4.09s\tremaining: 4.07s\n",
      "999:\tlearn: 0.9945282\ttotal: 8.25s\tremaining: 0us\n",
      "[CV] END border_count=32, depth=7, grow_policy=Lossguide, l2_leaf_reg=5, learning_rate=0.005, min_data_in_leaf=30; total time=   9.9s\n"
     ]
    },
    {
     "name": "stderr",
     "output_type": "stream",
     "text": [
      "Warning: less than 75% gpu memory available for training. Free: 5494.3125 Total: 7971.4375\n"
     ]
    },
    {
     "name": "stdout",
     "output_type": "stream",
     "text": [
      "0:\tlearn: 0.9862968\ttotal: 10.3ms\tremaining: 10.3s\n",
      "500:\tlearn: 0.9914711\ttotal: 3.95s\tremaining: 3.93s\n",
      "999:\tlearn: 0.9948744\ttotal: 8.08s\tremaining: 0us\n",
      "[CV] END border_count=32, depth=7, grow_policy=Lossguide, l2_leaf_reg=5, learning_rate=0.005, min_data_in_leaf=30; total time=   9.8s\n"
     ]
    },
    {
     "name": "stderr",
     "output_type": "stream",
     "text": [
      "Warning: less than 75% gpu memory available for training. Free: 5482.3125 Total: 7971.4375\n"
     ]
    },
    {
     "name": "stdout",
     "output_type": "stream",
     "text": [
      "0:\tlearn: 0.9853803\ttotal: 8.76ms\tremaining: 8.75s\n",
      "500:\tlearn: 0.9903500\ttotal: 3.97s\tremaining: 3.95s\n",
      "999:\tlearn: 0.9945717\ttotal: 8.11s\tremaining: 0us\n",
      "[CV] END border_count=32, depth=7, grow_policy=Lossguide, l2_leaf_reg=5, learning_rate=0.005, min_data_in_leaf=30; total time=   9.8s\n"
     ]
    },
    {
     "name": "stderr",
     "output_type": "stream",
     "text": [
      "Warning: less than 75% gpu memory available for training. Free: 5482.3125 Total: 7971.4375\n"
     ]
    },
    {
     "name": "stdout",
     "output_type": "stream",
     "text": [
      "0:\tlearn: 0.9801029\ttotal: 8.02ms\tremaining: 8.01s\n",
      "500:\tlearn: 0.9936918\ttotal: 3.18s\tremaining: 3.17s\n",
      "999:\tlearn: 0.9960760\ttotal: 6.39s\tremaining: 0us\n",
      "[CV] END border_count=254, depth=3, grow_policy=SymmetricTree, l2_leaf_reg=5, learning_rate=0.1, min_data_in_leaf=30; total time=   8.2s\n"
     ]
    },
    {
     "name": "stderr",
     "output_type": "stream",
     "text": [
      "Warning: less than 75% gpu memory available for training. Free: 5482.3125 Total: 7971.4375\n"
     ]
    },
    {
     "name": "stdout",
     "output_type": "stream",
     "text": [
      "0:\tlearn: 0.9814867\ttotal: 8.64ms\tremaining: 8.63s\n",
      "500:\tlearn: 0.9936651\ttotal: 3.25s\tremaining: 3.24s\n",
      "999:\tlearn: 0.9959034\ttotal: 6.46s\tremaining: 0us\n",
      "[CV] END border_count=254, depth=3, grow_policy=SymmetricTree, l2_leaf_reg=5, learning_rate=0.1, min_data_in_leaf=30; total time=   8.3s\n"
     ]
    },
    {
     "name": "stderr",
     "output_type": "stream",
     "text": [
      "Warning: less than 75% gpu memory available for training. Free: 5482.3125 Total: 7971.4375\n"
     ]
    },
    {
     "name": "stdout",
     "output_type": "stream",
     "text": [
      "0:\tlearn: 0.9817372\ttotal: 7.1ms\tremaining: 7.09s\n",
      "500:\tlearn: 0.9940452\ttotal: 3.23s\tremaining: 3.22s\n",
      "999:\tlearn: 0.9963874\ttotal: 6.45s\tremaining: 0us\n",
      "[CV] END border_count=254, depth=3, grow_policy=SymmetricTree, l2_leaf_reg=5, learning_rate=0.1, min_data_in_leaf=30; total time=   8.3s\n"
     ]
    },
    {
     "name": "stderr",
     "output_type": "stream",
     "text": [
      "Warning: less than 75% gpu memory available for training. Free: 5482.3125 Total: 7971.4375\n"
     ]
    },
    {
     "name": "stdout",
     "output_type": "stream",
     "text": [
      "0:\tlearn: 0.9813424\ttotal: 8.11ms\tremaining: 8.1s\n",
      "500:\tlearn: 0.9943394\ttotal: 3.24s\tremaining: 3.23s\n",
      "999:\tlearn: 0.9962934\ttotal: 6.44s\tremaining: 0us\n",
      "[CV] END border_count=254, depth=3, grow_policy=SymmetricTree, l2_leaf_reg=5, learning_rate=0.1, min_data_in_leaf=30; total time=   8.3s\n"
     ]
    },
    {
     "name": "stderr",
     "output_type": "stream",
     "text": [
      "Warning: less than 75% gpu memory available for training. Free: 5482.3125 Total: 7971.4375\n"
     ]
    },
    {
     "name": "stdout",
     "output_type": "stream",
     "text": [
      "0:\tlearn: 0.9808356\ttotal: 7.69ms\tremaining: 7.68s\n",
      "500:\tlearn: 0.9936414\ttotal: 3.23s\tremaining: 3.21s\n",
      "999:\tlearn: 0.9961286\ttotal: 6.43s\tremaining: 0us\n",
      "[CV] END border_count=254, depth=3, grow_policy=SymmetricTree, l2_leaf_reg=5, learning_rate=0.1, min_data_in_leaf=30; total time=   8.3s\n"
     ]
    },
    {
     "name": "stderr",
     "output_type": "stream",
     "text": [
      "Warning: less than 75% gpu memory available for training. Free: 5482.3125 Total: 7971.4375\n"
     ]
    },
    {
     "name": "stdout",
     "output_type": "stream",
     "text": [
      "0:\tlearn: 0.9829290\ttotal: 8.48ms\tremaining: 8.47s\n",
      "500:\tlearn: 0.9867250\ttotal: 3.83s\tremaining: 3.82s\n",
      "999:\tlearn: 0.9906422\ttotal: 7.6s\tremaining: 0us\n",
      "[CV] END border_count=32, depth=7, grow_policy=SymmetricTree, l2_leaf_reg=5, learning_rate=0.005, min_data_in_leaf=1; total time=   9.2s\n"
     ]
    },
    {
     "name": "stderr",
     "output_type": "stream",
     "text": [
      "Warning: less than 75% gpu memory available for training. Free: 5494.3125 Total: 7971.4375\n"
     ]
    },
    {
     "name": "stdout",
     "output_type": "stream",
     "text": [
      "0:\tlearn: 0.9834614\ttotal: 8.08ms\tremaining: 8.07s\n",
      "500:\tlearn: 0.9873301\ttotal: 3.79s\tremaining: 3.78s\n",
      "999:\tlearn: 0.9909697\ttotal: 7.55s\tremaining: 0us\n",
      "[CV] END border_count=32, depth=7, grow_policy=SymmetricTree, l2_leaf_reg=5, learning_rate=0.005, min_data_in_leaf=1; total time=   9.1s\n"
     ]
    },
    {
     "name": "stderr",
     "output_type": "stream",
     "text": [
      "Warning: less than 75% gpu memory available for training. Free: 5494.3125 Total: 7971.4375\n"
     ]
    },
    {
     "name": "stdout",
     "output_type": "stream",
     "text": [
      "0:\tlearn: 0.9838297\ttotal: 8.18ms\tremaining: 8.17s\n",
      "500:\tlearn: 0.9882194\ttotal: 3.8s\tremaining: 3.79s\n",
      "999:\tlearn: 0.9912454\ttotal: 7.57s\tremaining: 0us\n",
      "[CV] END border_count=32, depth=7, grow_policy=SymmetricTree, l2_leaf_reg=5, learning_rate=0.005, min_data_in_leaf=1; total time=   9.2s\n"
     ]
    },
    {
     "name": "stderr",
     "output_type": "stream",
     "text": [
      "Warning: less than 75% gpu memory available for training. Free: 5514.6875 Total: 7971.4375\n"
     ]
    },
    {
     "name": "stdout",
     "output_type": "stream",
     "text": [
      "0:\tlearn: 0.9832663\ttotal: 9.8ms\tremaining: 9.79s\n",
      "500:\tlearn: 0.9882027\ttotal: 3.81s\tremaining: 3.8s\n",
      "999:\tlearn: 0.9915395\ttotal: 7.57s\tremaining: 0us\n",
      "[CV] END border_count=32, depth=7, grow_policy=SymmetricTree, l2_leaf_reg=5, learning_rate=0.005, min_data_in_leaf=1; total time=   9.2s\n"
     ]
    },
    {
     "name": "stderr",
     "output_type": "stream",
     "text": [
      "Warning: less than 75% gpu memory available for training. Free: 5514.6875 Total: 7971.4375\n"
     ]
    },
    {
     "name": "stdout",
     "output_type": "stream",
     "text": [
      "0:\tlearn: 0.9826429\ttotal: 8.55ms\tremaining: 8.54s\n",
      "500:\tlearn: 0.9872959\ttotal: 3.82s\tremaining: 3.81s\n",
      "999:\tlearn: 0.9906953\ttotal: 7.6s\tremaining: 0us\n",
      "[CV] END border_count=32, depth=7, grow_policy=SymmetricTree, l2_leaf_reg=5, learning_rate=0.005, min_data_in_leaf=1; total time=   9.2s\n"
     ]
    },
    {
     "name": "stderr",
     "output_type": "stream",
     "text": [
      "Warning: less than 75% gpu memory available for training. Free: 5500.875 Total: 7971.4375\n"
     ]
    },
    {
     "name": "stdout",
     "output_type": "stream",
     "text": [
      "0:\tlearn: 0.9824592\ttotal: 24.5ms\tremaining: 24.5s\n",
      "500:\tlearn: 0.9879931\ttotal: 11s\tremaining: 11s\n",
      "999:\tlearn: 0.9918657\ttotal: 21.6s\tremaining: 0us\n",
      "[CV] END border_count=254, depth=7, grow_policy=SymmetricTree, l2_leaf_reg=0.5, learning_rate=0.005, min_data_in_leaf=1; total time=  23.6s\n"
     ]
    },
    {
     "name": "stderr",
     "output_type": "stream",
     "text": [
      "Warning: less than 75% gpu memory available for training. Free: 5481 Total: 7971.4375\n"
     ]
    },
    {
     "name": "stdout",
     "output_type": "stream",
     "text": [
      "0:\tlearn: 0.9831804\ttotal: 26.2ms\tremaining: 26.2s\n",
      "500:\tlearn: 0.9881660\ttotal: 11.2s\tremaining: 11.1s\n",
      "999:\tlearn: 0.9916848\ttotal: 22.1s\tremaining: 0us\n",
      "[CV] END border_count=254, depth=7, grow_policy=SymmetricTree, l2_leaf_reg=0.5, learning_rate=0.005, min_data_in_leaf=1; total time=  24.2s\n"
     ]
    },
    {
     "name": "stderr",
     "output_type": "stream",
     "text": [
      "Warning: less than 75% gpu memory available for training. Free: 5580.4375 Total: 7971.4375\n"
     ]
    },
    {
     "name": "stdout",
     "output_type": "stream",
     "text": [
      "0:\tlearn: 0.9844252\ttotal: 25ms\tremaining: 25s\n",
      "500:\tlearn: 0.9889089\ttotal: 11.2s\tremaining: 11.1s\n",
      "999:\tlearn: 0.9921328\ttotal: 22.1s\tremaining: 0us\n",
      "[CV] END border_count=254, depth=7, grow_policy=SymmetricTree, l2_leaf_reg=0.5, learning_rate=0.005, min_data_in_leaf=1; total time=  24.0s\n"
     ]
    },
    {
     "name": "stderr",
     "output_type": "stream",
     "text": [
      "Warning: less than 75% gpu memory available for training. Free: 5583.875 Total: 7971.4375\n"
     ]
    },
    {
     "name": "stdout",
     "output_type": "stream",
     "text": [
      "0:\tlearn: 0.9842764\ttotal: 24.4ms\tremaining: 24.4s\n",
      "500:\tlearn: 0.9893584\ttotal: 11.2s\tremaining: 11.2s\n",
      "999:\tlearn: 0.9925215\ttotal: 22s\tremaining: 0us\n",
      "[CV] END border_count=254, depth=7, grow_policy=SymmetricTree, l2_leaf_reg=0.5, learning_rate=0.005, min_data_in_leaf=1; total time=  23.9s\n"
     ]
    },
    {
     "name": "stderr",
     "output_type": "stream",
     "text": [
      "Warning: less than 75% gpu memory available for training. Free: 5596.9375 Total: 7971.4375\n"
     ]
    },
    {
     "name": "stdout",
     "output_type": "stream",
     "text": [
      "0:\tlearn: 0.9835499\ttotal: 23.4ms\tremaining: 23.4s\n",
      "500:\tlearn: 0.9886254\ttotal: 10.7s\tremaining: 10.7s\n",
      "999:\tlearn: 0.9918412\ttotal: 21.1s\tremaining: 0us\n",
      "[CV] END border_count=254, depth=7, grow_policy=SymmetricTree, l2_leaf_reg=0.5, learning_rate=0.005, min_data_in_leaf=1; total time=  23.0s\n"
     ]
    },
    {
     "name": "stderr",
     "output_type": "stream",
     "text": [
      "Warning: less than 75% gpu memory available for training. Free: 5597.8125 Total: 7971.4375\n"
     ]
    },
    {
     "name": "stdout",
     "output_type": "stream",
     "text": [
      "0:\tlearn: 0.9816201\ttotal: 8.98ms\tremaining: 8.97s\n",
      "500:\tlearn: 0.9968560\ttotal: 3.03s\tremaining: 3.02s\n",
      "999:\tlearn: 0.9994237\ttotal: 6.02s\tremaining: 0us\n",
      "[CV] END border_count=254, depth=3, grow_policy=Lossguide, l2_leaf_reg=5, learning_rate=0.1, min_data_in_leaf=1; total time=   7.9s\n"
     ]
    },
    {
     "name": "stderr",
     "output_type": "stream",
     "text": [
      "Warning: less than 75% gpu memory available for training. Free: 5597.8125 Total: 7971.4375\n"
     ]
    },
    {
     "name": "stdout",
     "output_type": "stream",
     "text": [
      "0:\tlearn: 0.9812504\ttotal: 9.22ms\tremaining: 9.21s\n",
      "500:\tlearn: 0.9967344\ttotal: 2.99s\tremaining: 2.98s\n",
      "999:\tlearn: 0.9993626\ttotal: 6.04s\tremaining: 0us\n",
      "[CV] END border_count=254, depth=3, grow_policy=Lossguide, l2_leaf_reg=5, learning_rate=0.1, min_data_in_leaf=1; total time=   7.9s\n"
     ]
    },
    {
     "name": "stderr",
     "output_type": "stream",
     "text": [
      "Warning: less than 75% gpu memory available for training. Free: 5597.8125 Total: 7971.4375\n"
     ]
    },
    {
     "name": "stdout",
     "output_type": "stream",
     "text": [
      "0:\tlearn: 0.9824883\ttotal: 9.87ms\tremaining: 9.86s\n",
      "500:\tlearn: 0.9970123\ttotal: 3.02s\tremaining: 3.01s\n",
      "999:\tlearn: 0.9994848\ttotal: 6.03s\tremaining: 0us\n",
      "[CV] END border_count=254, depth=3, grow_policy=Lossguide, l2_leaf_reg=5, learning_rate=0.1, min_data_in_leaf=1; total time=   7.9s\n"
     ]
    },
    {
     "name": "stderr",
     "output_type": "stream",
     "text": [
      "Warning: less than 75% gpu memory available for training. Free: 5594.6875 Total: 7971.4375\n"
     ]
    },
    {
     "name": "stdout",
     "output_type": "stream",
     "text": [
      "0:\tlearn: 0.9818600\ttotal: 9.8ms\tremaining: 9.79s\n",
      "500:\tlearn: 0.9971343\ttotal: 3.01s\tremaining: 3s\n",
      "999:\tlearn: 0.9996071\ttotal: 6.02s\tremaining: 0us\n",
      "[CV] END border_count=254, depth=3, grow_policy=Lossguide, l2_leaf_reg=5, learning_rate=0.1, min_data_in_leaf=1; total time=   7.9s\n"
     ]
    },
    {
     "name": "stderr",
     "output_type": "stream",
     "text": [
      "Warning: less than 75% gpu memory available for training. Free: 5603.6875 Total: 7971.4375\n"
     ]
    },
    {
     "name": "stdout",
     "output_type": "stream",
     "text": [
      "0:\tlearn: 0.9827720\ttotal: 9.54ms\tremaining: 9.53s\n",
      "500:\tlearn: 0.9969520\ttotal: 3.02s\tremaining: 3s\n",
      "999:\tlearn: 0.9994936\ttotal: 6.03s\tremaining: 0us\n",
      "[CV] END border_count=254, depth=3, grow_policy=Lossguide, l2_leaf_reg=5, learning_rate=0.1, min_data_in_leaf=1; total time=   7.9s\n"
     ]
    },
    {
     "name": "stderr",
     "output_type": "stream",
     "text": [
      "Warning: less than 75% gpu memory available for training. Free: 5603.6875 Total: 7971.4375\n"
     ]
    },
    {
     "name": "stdout",
     "output_type": "stream",
     "text": [
      "0:\tlearn: 0.9809394\ttotal: 5.05ms\tremaining: 5.05s\n",
      "500:\tlearn: 0.9827180\ttotal: 1.62s\tremaining: 1.61s\n",
      "999:\tlearn: 0.9835976\ttotal: 3.25s\tremaining: 0us\n",
      "[CV] END border_count=32, depth=3, grow_policy=SymmetricTree, l2_leaf_reg=5, learning_rate=0.005, min_data_in_leaf=30; total time=   4.7s\n"
     ]
    },
    {
     "name": "stderr",
     "output_type": "stream",
     "text": [
      "Warning: less than 75% gpu memory available for training. Free: 5603.6875 Total: 7971.4375\n"
     ]
    },
    {
     "name": "stdout",
     "output_type": "stream",
     "text": [
      "0:\tlearn: 0.9810876\ttotal: 4.03ms\tremaining: 4.02s\n",
      "500:\tlearn: 0.9831033\ttotal: 1.62s\tremaining: 1.62s\n",
      "999:\tlearn: 0.9839147\ttotal: 3.24s\tremaining: 0us\n",
      "[CV] END border_count=32, depth=3, grow_policy=SymmetricTree, l2_leaf_reg=5, learning_rate=0.005, min_data_in_leaf=30; total time=   4.8s\n"
     ]
    },
    {
     "name": "stderr",
     "output_type": "stream",
     "text": [
      "Warning: less than 75% gpu memory available for training. Free: 5603.6875 Total: 7971.4375\n"
     ]
    },
    {
     "name": "stdout",
     "output_type": "stream",
     "text": [
      "0:\tlearn: 0.9816187\ttotal: 4.35ms\tremaining: 4.34s\n",
      "500:\tlearn: 0.9843272\ttotal: 1.63s\tremaining: 1.62s\n",
      "999:\tlearn: 0.9850940\ttotal: 3.25s\tremaining: 0us\n",
      "[CV] END border_count=32, depth=3, grow_policy=SymmetricTree, l2_leaf_reg=5, learning_rate=0.005, min_data_in_leaf=30; total time=   4.8s\n"
     ]
    },
    {
     "name": "stderr",
     "output_type": "stream",
     "text": [
      "Warning: less than 75% gpu memory available for training. Free: 5603.6875 Total: 7971.4375\n"
     ]
    },
    {
     "name": "stdout",
     "output_type": "stream",
     "text": [
      "0:\tlearn: 0.9818171\ttotal: 4.4ms\tremaining: 4.39s\n",
      "500:\tlearn: 0.9843179\ttotal: 1.65s\tremaining: 1.64s\n",
      "999:\tlearn: 0.9846846\ttotal: 3.27s\tremaining: 0us\n",
      "[CV] END border_count=32, depth=3, grow_policy=SymmetricTree, l2_leaf_reg=5, learning_rate=0.005, min_data_in_leaf=30; total time=   4.8s\n"
     ]
    },
    {
     "name": "stderr",
     "output_type": "stream",
     "text": [
      "Warning: less than 75% gpu memory available for training. Free: 5603.6875 Total: 7971.4375\n"
     ]
    },
    {
     "name": "stdout",
     "output_type": "stream",
     "text": [
      "0:\tlearn: 0.9806297\ttotal: 5.21ms\tremaining: 5.21s\n",
      "500:\tlearn: 0.9831488\ttotal: 1.58s\tremaining: 1.57s\n",
      "999:\tlearn: 0.9836138\ttotal: 3.18s\tremaining: 0us\n",
      "[CV] END border_count=32, depth=3, grow_policy=SymmetricTree, l2_leaf_reg=5, learning_rate=0.005, min_data_in_leaf=30; total time=   4.7s\n"
     ]
    },
    {
     "name": "stderr",
     "output_type": "stream",
     "text": [
      "Warning: less than 75% gpu memory available for training. Free: 5603.6875 Total: 7971.4375\n"
     ]
    },
    {
     "name": "stdout",
     "output_type": "stream",
     "text": [
      "0:\tlearn: 0.9839617\ttotal: 9.23ms\tremaining: 9.22s\n",
      "500:\tlearn: 0.9902798\ttotal: 4.01s\tremaining: 3.99s\n",
      "999:\tlearn: 0.9946136\ttotal: 8.15s\tremaining: 0us\n",
      "[CV] END border_count=32, depth=7, grow_policy=Lossguide, l2_leaf_reg=5, learning_rate=0.005, min_data_in_leaf=1; total time=   9.9s\n"
     ]
    },
    {
     "name": "stderr",
     "output_type": "stream",
     "text": [
      "Warning: less than 75% gpu memory available for training. Free: 5603.6875 Total: 7971.4375\n"
     ]
    },
    {
     "name": "stdout",
     "output_type": "stream",
     "text": [
      "0:\tlearn: 0.9855659\ttotal: 9.93ms\tremaining: 9.92s\n",
      "500:\tlearn: 0.9904608\ttotal: 4.02s\tremaining: 4s\n",
      "999:\tlearn: 0.9943980\ttotal: 8.14s\tremaining: 0us\n",
      "[CV] END border_count=32, depth=7, grow_policy=Lossguide, l2_leaf_reg=5, learning_rate=0.005, min_data_in_leaf=1; total time=   9.9s\n"
     ]
    },
    {
     "name": "stderr",
     "output_type": "stream",
     "text": [
      "Warning: less than 75% gpu memory available for training. Free: 5615.6875 Total: 7971.4375\n"
     ]
    },
    {
     "name": "stdout",
     "output_type": "stream",
     "text": [
      "0:\tlearn: 0.9860102\ttotal: 9.76ms\tremaining: 9.75s\n",
      "500:\tlearn: 0.9911335\ttotal: 4.21s\tremaining: 4.2s\n",
      "999:\tlearn: 0.9947346\ttotal: 8.42s\tremaining: 0us\n",
      "[CV] END border_count=32, depth=7, grow_policy=Lossguide, l2_leaf_reg=5, learning_rate=0.005, min_data_in_leaf=1; total time=  10.1s\n"
     ]
    },
    {
     "name": "stderr",
     "output_type": "stream",
     "text": [
      "Warning: less than 75% gpu memory available for training. Free: 5557 Total: 7971.4375\n"
     ]
    },
    {
     "name": "stdout",
     "output_type": "stream",
     "text": [
      "0:\tlearn: 0.9862968\ttotal: 9.34ms\tremaining: 9.33s\n",
      "500:\tlearn: 0.9914194\ttotal: 4.07s\tremaining: 4.05s\n",
      "999:\tlearn: 0.9948657\ttotal: 8.41s\tremaining: 0us\n",
      "[CV] END border_count=32, depth=7, grow_policy=Lossguide, l2_leaf_reg=5, learning_rate=0.005, min_data_in_leaf=1; total time=  10.1s\n"
     ]
    },
    {
     "name": "stderr",
     "output_type": "stream",
     "text": [
      "Warning: less than 75% gpu memory available for training. Free: 5543.625 Total: 7971.4375\n"
     ]
    },
    {
     "name": "stdout",
     "output_type": "stream",
     "text": [
      "0:\tlearn: 0.9853803\ttotal: 10ms\tremaining: 10s\n",
      "500:\tlearn: 0.9902464\ttotal: 4.17s\tremaining: 4.15s\n",
      "999:\tlearn: 0.9946063\ttotal: 8.37s\tremaining: 0us\n",
      "[CV] END border_count=32, depth=7, grow_policy=Lossguide, l2_leaf_reg=5, learning_rate=0.005, min_data_in_leaf=1; total time=  10.1s\n"
     ]
    },
    {
     "name": "stderr",
     "output_type": "stream",
     "text": [
      "Warning: less than 75% gpu memory available for training. Free: 5560.125 Total: 7971.4375\n"
     ]
    },
    {
     "name": "stdout",
     "output_type": "stream",
     "text": [
      "0:\tlearn: 0.9801029\ttotal: 6.96ms\tremaining: 6.95s\n",
      "500:\tlearn: 0.9829222\ttotal: 3.2s\tremaining: 3.19s\n",
      "999:\tlearn: 0.9836907\ttotal: 6.43s\tremaining: 0us\n",
      "[CV] END border_count=254, depth=3, grow_policy=SymmetricTree, l2_leaf_reg=0.5, learning_rate=0.005, min_data_in_leaf=30; total time=   8.3s\n"
     ]
    },
    {
     "name": "stderr",
     "output_type": "stream",
     "text": [
      "Warning: less than 75% gpu memory available for training. Free: 5559.875 Total: 7971.4375\n"
     ]
    },
    {
     "name": "stdout",
     "output_type": "stream",
     "text": [
      "0:\tlearn: 0.9814867\ttotal: 6.84ms\tremaining: 6.83s\n",
      "500:\tlearn: 0.9833359\ttotal: 3.16s\tremaining: 3.15s\n",
      "999:\tlearn: 0.9842695\ttotal: 6.31s\tremaining: 0us\n",
      "[CV] END border_count=254, depth=3, grow_policy=SymmetricTree, l2_leaf_reg=0.5, learning_rate=0.005, min_data_in_leaf=30; total time=   8.2s\n"
     ]
    },
    {
     "name": "stderr",
     "output_type": "stream",
     "text": [
      "Warning: less than 75% gpu memory available for training. Free: 5572.3125 Total: 7971.4375\n"
     ]
    },
    {
     "name": "stdout",
     "output_type": "stream",
     "text": [
      "0:\tlearn: 0.9817372\ttotal: 8.22ms\tremaining: 8.21s\n",
      "500:\tlearn: 0.9841601\ttotal: 3.19s\tremaining: 3.17s\n",
      "999:\tlearn: 0.9853437\ttotal: 6.42s\tremaining: 0us\n",
      "[CV] END border_count=254, depth=3, grow_policy=SymmetricTree, l2_leaf_reg=0.5, learning_rate=0.005, min_data_in_leaf=30; total time=   8.3s\n"
     ]
    },
    {
     "name": "stderr",
     "output_type": "stream",
     "text": [
      "Warning: less than 75% gpu memory available for training. Free: 5572.3125 Total: 7971.4375\n"
     ]
    },
    {
     "name": "stdout",
     "output_type": "stream",
     "text": [
      "0:\tlearn: 0.9813424\ttotal: 7.34ms\tremaining: 7.34s\n",
      "500:\tlearn: 0.9842729\ttotal: 3.26s\tremaining: 3.25s\n",
      "999:\tlearn: 0.9849440\ttotal: 6.47s\tremaining: 0us\n",
      "[CV] END border_count=254, depth=3, grow_policy=SymmetricTree, l2_leaf_reg=0.5, learning_rate=0.005, min_data_in_leaf=30; total time=   8.3s\n"
     ]
    },
    {
     "name": "stderr",
     "output_type": "stream",
     "text": [
      "Warning: less than 75% gpu memory available for training. Free: 5572.3125 Total: 7971.4375\n"
     ]
    },
    {
     "name": "stdout",
     "output_type": "stream",
     "text": [
      "0:\tlearn: 0.9808356\ttotal: 7.84ms\tremaining: 7.84s\n",
      "500:\tlearn: 0.9832259\ttotal: 3.21s\tremaining: 3.2s\n",
      "999:\tlearn: 0.9838035\ttotal: 6.41s\tremaining: 0us\n",
      "[CV] END border_count=254, depth=3, grow_policy=SymmetricTree, l2_leaf_reg=0.5, learning_rate=0.005, min_data_in_leaf=30; total time=   8.2s\n"
     ]
    },
    {
     "name": "stderr",
     "output_type": "stream",
     "text": [
      "Warning: less than 75% gpu memory available for training. Free: 5572.3125 Total: 7971.4375\n"
     ]
    },
    {
     "name": "stdout",
     "output_type": "stream",
     "text": [
      "0:\tlearn: 0.9870975\ttotal: 9.99ms\tremaining: 9.98s\n",
      "500:\tlearn: 0.9999825\ttotal: 3.4s\tremaining: 3.38s\n",
      "999:\tlearn: 0.9999825\ttotal: 6.69s\tremaining: 0us\n",
      "[CV] END border_count=32, depth=7, grow_policy=Depthwise, l2_leaf_reg=0.5, learning_rate=0.1, min_data_in_leaf=30; total time=   8.4s\n"
     ]
    },
    {
     "name": "stderr",
     "output_type": "stream",
     "text": [
      "Warning: less than 75% gpu memory available for training. Free: 5575 Total: 7971.4375\n"
     ]
    },
    {
     "name": "stdout",
     "output_type": "stream",
     "text": [
      "0:\tlearn: 0.9873730\ttotal: 8.58ms\tremaining: 8.57s\n",
      "500:\tlearn: 0.9999738\ttotal: 3.42s\tremaining: 3.41s\n",
      "999:\tlearn: 0.9999738\ttotal: 6.7s\tremaining: 0us\n",
      "[CV] END border_count=32, depth=7, grow_policy=Depthwise, l2_leaf_reg=0.5, learning_rate=0.1, min_data_in_leaf=30; total time=   8.5s\n"
     ]
    },
    {
     "name": "stderr",
     "output_type": "stream",
     "text": [
      "Warning: less than 75% gpu memory available for training. Free: 5575 Total: 7971.4375\n"
     ]
    },
    {
     "name": "stdout",
     "output_type": "stream",
     "text": [
      "0:\tlearn: 0.9886688\ttotal: 9.22ms\tremaining: 9.21s\n",
      "500:\tlearn: 0.9999651\ttotal: 3.39s\tremaining: 3.38s\n",
      "999:\tlearn: 0.9999651\ttotal: 6.64s\tremaining: 0us\n",
      "[CV] END border_count=32, depth=7, grow_policy=Depthwise, l2_leaf_reg=0.5, learning_rate=0.1, min_data_in_leaf=30; total time=   8.4s\n"
     ]
    },
    {
     "name": "stderr",
     "output_type": "stream",
     "text": [
      "Warning: less than 75% gpu memory available for training. Free: 5575 Total: 7971.4375\n"
     ]
    },
    {
     "name": "stdout",
     "output_type": "stream",
     "text": [
      "0:\tlearn: 0.9891103\ttotal: 10.6ms\tremaining: 10.6s\n",
      "500:\tlearn: 0.9999738\ttotal: 3.33s\tremaining: 3.32s\n",
      "999:\tlearn: 0.9999738\ttotal: 6.58s\tremaining: 0us\n",
      "[CV] END border_count=32, depth=7, grow_policy=Depthwise, l2_leaf_reg=0.5, learning_rate=0.1, min_data_in_leaf=30; total time=   8.3s\n"
     ]
    },
    {
     "name": "stderr",
     "output_type": "stream",
     "text": [
      "Warning: less than 75% gpu memory available for training. Free: 5575 Total: 7971.4375\n"
     ]
    },
    {
     "name": "stdout",
     "output_type": "stream",
     "text": [
      "0:\tlearn: 0.9876005\ttotal: 9.34ms\tremaining: 9.33s\n",
      "500:\tlearn: 0.9999825\ttotal: 3.37s\tremaining: 3.35s\n",
      "999:\tlearn: 0.9999825\ttotal: 6.67s\tremaining: 0us\n",
      "[CV] END border_count=32, depth=7, grow_policy=Depthwise, l2_leaf_reg=0.5, learning_rate=0.1, min_data_in_leaf=30; total time=   8.4s\n"
     ]
    },
    {
     "name": "stderr",
     "output_type": "stream",
     "text": [
      "Warning: less than 75% gpu memory available for training. Free: 5575 Total: 7971.4375\n"
     ]
    },
    {
     "name": "stdout",
     "output_type": "stream",
     "text": [
      "0:\tlearn: 0.9807825\ttotal: 5.37ms\tremaining: 5.36s\n",
      "500:\tlearn: 0.9841666\ttotal: 1.81s\tremaining: 1.8s\n",
      "999:\tlearn: 0.9849512\ttotal: 3.59s\tremaining: 0us\n",
      "[CV] END border_count=32, depth=3, grow_policy=Lossguide, l2_leaf_reg=0.5, learning_rate=0.005, min_data_in_leaf=1; total time=   5.2s\n"
     ]
    },
    {
     "name": "stderr",
     "output_type": "stream",
     "text": [
      "Warning: less than 75% gpu memory available for training. Free: 5575 Total: 7971.4375\n"
     ]
    },
    {
     "name": "stdout",
     "output_type": "stream",
     "text": [
      "0:\tlearn: 0.9800754\ttotal: 6.23ms\tremaining: 6.22s\n",
      "500:\tlearn: 0.9846327\ttotal: 1.79s\tremaining: 1.78s\n",
      "999:\tlearn: 0.9854870\ttotal: 3.57s\tremaining: 0us\n",
      "[CV] END border_count=32, depth=3, grow_policy=Lossguide, l2_leaf_reg=0.5, learning_rate=0.005, min_data_in_leaf=1; total time=   5.1s\n"
     ]
    },
    {
     "name": "stderr",
     "output_type": "stream",
     "text": [
      "Warning: less than 75% gpu memory available for training. Free: 5575 Total: 7971.4375\n"
     ]
    },
    {
     "name": "stdout",
     "output_type": "stream",
     "text": [
      "0:\tlearn: 0.9827027\ttotal: 4.7ms\tremaining: 4.69s\n",
      "500:\tlearn: 0.9855599\ttotal: 1.8s\tremaining: 1.8s\n",
      "999:\tlearn: 0.9860242\ttotal: 3.63s\tremaining: 0us\n",
      "[CV] END border_count=32, depth=3, grow_policy=Lossguide, l2_leaf_reg=0.5, learning_rate=0.005, min_data_in_leaf=1; total time=   5.2s\n"
     ]
    },
    {
     "name": "stderr",
     "output_type": "stream",
     "text": [
      "Warning: less than 75% gpu memory available for training. Free: 5575 Total: 7971.4375\n"
     ]
    },
    {
     "name": "stdout",
     "output_type": "stream",
     "text": [
      "0:\tlearn: 0.9830573\ttotal: 4.92ms\tremaining: 4.92s\n",
      "500:\tlearn: 0.9856798\ttotal: 1.77s\tremaining: 1.77s\n",
      "999:\tlearn: 0.9865769\ttotal: 3.57s\tremaining: 0us\n",
      "[CV] END border_count=32, depth=3, grow_policy=Lossguide, l2_leaf_reg=0.5, learning_rate=0.005, min_data_in_leaf=1; total time=   5.1s\n"
     ]
    },
    {
     "name": "stderr",
     "output_type": "stream",
     "text": [
      "Warning: less than 75% gpu memory available for training. Free: 5575 Total: 7971.4375\n"
     ]
    },
    {
     "name": "stdout",
     "output_type": "stream",
     "text": [
      "0:\tlearn: 0.9821325\ttotal: 4.55ms\tremaining: 4.55s\n",
      "500:\tlearn: 0.9845751\ttotal: 1.81s\tremaining: 1.8s\n",
      "999:\tlearn: 0.9851165\ttotal: 3.61s\tremaining: 0us\n",
      "[CV] END border_count=32, depth=3, grow_policy=Lossguide, l2_leaf_reg=0.5, learning_rate=0.005, min_data_in_leaf=1; total time=   5.2s\n"
     ]
    },
    {
     "name": "stderr",
     "output_type": "stream",
     "text": [
      "Warning: less than 75% gpu memory available for training. Free: 5575 Total: 7971.4375\n"
     ]
    },
    {
     "name": "stdout",
     "output_type": "stream",
     "text": [
      "0:\tlearn: 0.9839617\ttotal: 10.7ms\tremaining: 10.7s\n",
      "500:\tlearn: 0.9999825\ttotal: 4.18s\tremaining: 4.17s\n",
      "999:\tlearn: 0.9999825\ttotal: 8.39s\tremaining: 0us\n",
      "[CV] END border_count=32, depth=7, grow_policy=Lossguide, l2_leaf_reg=5, learning_rate=0.1, min_data_in_leaf=30; total time=  10.1s\n"
     ]
    },
    {
     "name": "stderr",
     "output_type": "stream",
     "text": [
      "Warning: less than 75% gpu memory available for training. Free: 5575 Total: 7971.4375\n"
     ]
    },
    {
     "name": "stdout",
     "output_type": "stream",
     "text": [
      "0:\tlearn: 0.9855659\ttotal: 9.47ms\tremaining: 9.46s\n",
      "500:\tlearn: 0.9999738\ttotal: 4.19s\tremaining: 4.17s\n",
      "999:\tlearn: 0.9999738\ttotal: 8.41s\tremaining: 0us\n",
      "[CV] END border_count=32, depth=7, grow_policy=Lossguide, l2_leaf_reg=5, learning_rate=0.1, min_data_in_leaf=30; total time=  10.2s\n"
     ]
    },
    {
     "name": "stderr",
     "output_type": "stream",
     "text": [
      "Warning: less than 75% gpu memory available for training. Free: 5560.0625 Total: 7971.4375\n"
     ]
    },
    {
     "name": "stdout",
     "output_type": "stream",
     "text": [
      "0:\tlearn: 0.9858179\ttotal: 12.9ms\tremaining: 12.9s\n",
      "500:\tlearn: 0.9999651\ttotal: 3.99s\tremaining: 3.97s\n",
      "999:\tlearn: 0.9999651\ttotal: 7.9s\tremaining: 0us\n",
      "[CV] END border_count=32, depth=7, grow_policy=Lossguide, l2_leaf_reg=5, learning_rate=0.1, min_data_in_leaf=30; total time=   9.7s\n"
     ]
    },
    {
     "name": "stderr",
     "output_type": "stream",
     "text": [
      "Warning: less than 75% gpu memory available for training. Free: 5565.375 Total: 7971.4375\n"
     ]
    },
    {
     "name": "stdout",
     "output_type": "stream",
     "text": [
      "0:\tlearn: 0.9862968\ttotal: 8.64ms\tremaining: 8.63s\n",
      "500:\tlearn: 0.9999738\ttotal: 3.94s\tremaining: 3.92s\n",
      "999:\tlearn: 0.9999738\ttotal: 7.85s\tremaining: 0us\n",
      "[CV] END border_count=32, depth=7, grow_policy=Lossguide, l2_leaf_reg=5, learning_rate=0.1, min_data_in_leaf=30; total time=   9.5s\n"
     ]
    },
    {
     "name": "stderr",
     "output_type": "stream",
     "text": [
      "Warning: less than 75% gpu memory available for training. Free: 5565.375 Total: 7971.4375\n"
     ]
    },
    {
     "name": "stdout",
     "output_type": "stream",
     "text": [
      "0:\tlearn: 0.9853803\ttotal: 9.31ms\tremaining: 9.3s\n",
      "500:\tlearn: 0.9999825\ttotal: 3.87s\tremaining: 3.85s\n",
      "999:\tlearn: 0.9999825\ttotal: 7.74s\tremaining: 0us\n",
      "[CV] END border_count=32, depth=7, grow_policy=Lossguide, l2_leaf_reg=5, learning_rate=0.1, min_data_in_leaf=30; total time=   9.4s\n"
     ]
    },
    {
     "name": "stderr",
     "output_type": "stream",
     "text": [
      "Warning: less than 75% gpu memory available for training. Free: 5565.375 Total: 7971.4375\n"
     ]
    },
    {
     "name": "stdout",
     "output_type": "stream",
     "text": [
      "0:\tlearn: 0.9882348\ttotal: 12.3ms\tremaining: 12.3s\n",
      "500:\tlearn: 0.9999825\ttotal: 3.73s\tremaining: 3.72s\n",
      "999:\tlearn: 0.9999825\ttotal: 7.33s\tremaining: 0us\n",
      "[CV] END border_count=32, depth=7, grow_policy=Depthwise, l2_leaf_reg=0.5, learning_rate=0.1, min_data_in_leaf=1; total time=   9.1s\n"
     ]
    },
    {
     "name": "stderr",
     "output_type": "stream",
     "text": [
      "Warning: less than 75% gpu memory available for training. Free: 5565.375 Total: 7971.4375\n"
     ]
    },
    {
     "name": "stdout",
     "output_type": "stream",
     "text": [
      "0:\tlearn: 0.9887218\ttotal: 10.3ms\tremaining: 10.3s\n",
      "500:\tlearn: 0.9999738\ttotal: 3.82s\tremaining: 3.8s\n",
      "999:\tlearn: 0.9999738\ttotal: 7.47s\tremaining: 0us\n",
      "[CV] END border_count=32, depth=7, grow_policy=Depthwise, l2_leaf_reg=0.5, learning_rate=0.1, min_data_in_leaf=1; total time=   9.2s\n"
     ]
    },
    {
     "name": "stderr",
     "output_type": "stream",
     "text": [
      "Warning: less than 75% gpu memory available for training. Free: 5565.375 Total: 7971.4375\n"
     ]
    },
    {
     "name": "stdout",
     "output_type": "stream",
     "text": [
      "0:\tlearn: 0.9896585\ttotal: 10.4ms\tremaining: 10.4s\n",
      "500:\tlearn: 0.9999651\ttotal: 3.77s\tremaining: 3.76s\n",
      "999:\tlearn: 0.9999651\ttotal: 7.4s\tremaining: 0us\n",
      "[CV] END border_count=32, depth=7, grow_policy=Depthwise, l2_leaf_reg=0.5, learning_rate=0.1, min_data_in_leaf=1; total time=   9.2s\n"
     ]
    },
    {
     "name": "stderr",
     "output_type": "stream",
     "text": [
      "Warning: less than 75% gpu memory available for training. Free: 5565.375 Total: 7971.4375\n"
     ]
    },
    {
     "name": "stdout",
     "output_type": "stream",
     "text": [
      "0:\tlearn: 0.9903935\ttotal: 11.3ms\tremaining: 11.3s\n",
      "500:\tlearn: 0.9999738\ttotal: 3.79s\tremaining: 3.77s\n",
      "999:\tlearn: 0.9999738\ttotal: 7.55s\tremaining: 0us\n",
      "[CV] END border_count=32, depth=7, grow_policy=Depthwise, l2_leaf_reg=0.5, learning_rate=0.1, min_data_in_leaf=1; total time=   9.3s\n"
     ]
    },
    {
     "name": "stderr",
     "output_type": "stream",
     "text": [
      "Warning: less than 75% gpu memory available for training. Free: 5565.375 Total: 7971.4375\n"
     ]
    },
    {
     "name": "stdout",
     "output_type": "stream",
     "text": [
      "0:\tlearn: 0.9887275\ttotal: 12.7ms\tremaining: 12.7s\n",
      "500:\tlearn: 0.9999825\ttotal: 3.74s\tremaining: 3.73s\n",
      "999:\tlearn: 0.9999825\ttotal: 7.28s\tremaining: 0us\n",
      "[CV] END border_count=32, depth=7, grow_policy=Depthwise, l2_leaf_reg=0.5, learning_rate=0.1, min_data_in_leaf=1; total time=   9.0s\n"
     ]
    },
    {
     "name": "stderr",
     "output_type": "stream",
     "text": [
      "Warning: less than 75% gpu memory available for training. Free: 5565.375 Total: 7971.4375\n"
     ]
    },
    {
     "name": "stdout",
     "output_type": "stream",
     "text": [
      "0:\tlearn: 0.9809394\ttotal: 3.4ms\tremaining: 3.4s\n",
      "500:\tlearn: 0.9929409\ttotal: 1.45s\tremaining: 1.45s\n",
      "999:\tlearn: 0.9955128\ttotal: 2.91s\tremaining: 0us\n",
      "[CV] END border_count=32, depth=3, grow_policy=SymmetricTree, l2_leaf_reg=5, learning_rate=0.1, min_data_in_leaf=30; total time=   4.3s\n"
     ]
    },
    {
     "name": "stderr",
     "output_type": "stream",
     "text": [
      "Warning: less than 75% gpu memory available for training. Free: 5565.375 Total: 7971.4375\n"
     ]
    },
    {
     "name": "stdout",
     "output_type": "stream",
     "text": [
      "0:\tlearn: 0.9810876\ttotal: 3.63ms\tremaining: 3.63s\n",
      "500:\tlearn: 0.9930959\ttotal: 1.47s\tremaining: 1.46s\n",
      "999:\tlearn: 0.9952964\ttotal: 2.95s\tremaining: 0us\n",
      "[CV] END border_count=32, depth=3, grow_policy=SymmetricTree, l2_leaf_reg=5, learning_rate=0.1, min_data_in_leaf=30; total time=   4.4s\n"
     ]
    },
    {
     "name": "stderr",
     "output_type": "stream",
     "text": [
      "Warning: less than 75% gpu memory available for training. Free: 5565.375 Total: 7971.4375\n"
     ]
    },
    {
     "name": "stdout",
     "output_type": "stream",
     "text": [
      "0:\tlearn: 0.9816187\ttotal: 4.97ms\tremaining: 4.97s\n",
      "500:\tlearn: 0.9931994\ttotal: 1.5s\tremaining: 1.49s\n",
      "999:\tlearn: 0.9956680\ttotal: 2.96s\tremaining: 0us\n",
      "[CV] END border_count=32, depth=3, grow_policy=SymmetricTree, l2_leaf_reg=5, learning_rate=0.1, min_data_in_leaf=30; total time=   4.4s\n"
     ]
    },
    {
     "name": "stderr",
     "output_type": "stream",
     "text": [
      "Warning: less than 75% gpu memory available for training. Free: 5565.375 Total: 7971.4375\n"
     ]
    },
    {
     "name": "stdout",
     "output_type": "stream",
     "text": [
      "0:\tlearn: 0.9818171\ttotal: 3.63ms\tremaining: 3.63s\n",
      "500:\tlearn: 0.9938552\ttotal: 1.48s\tremaining: 1.47s\n",
      "999:\tlearn: 0.9957820\ttotal: 2.9s\tremaining: 0us\n",
      "[CV] END border_count=32, depth=3, grow_policy=SymmetricTree, l2_leaf_reg=5, learning_rate=0.1, min_data_in_leaf=30; total time=   4.3s\n"
     ]
    },
    {
     "name": "stderr",
     "output_type": "stream",
     "text": [
      "Warning: less than 75% gpu memory available for training. Free: 5565.375 Total: 7971.4375\n"
     ]
    },
    {
     "name": "stdout",
     "output_type": "stream",
     "text": [
      "0:\tlearn: 0.9806297\ttotal: 5.06ms\tremaining: 5.06s\n",
      "500:\tlearn: 0.9929682\ttotal: 1.44s\tremaining: 1.43s\n",
      "999:\tlearn: 0.9954529\ttotal: 2.91s\tremaining: 0us\n",
      "[CV] END border_count=32, depth=3, grow_policy=SymmetricTree, l2_leaf_reg=5, learning_rate=0.1, min_data_in_leaf=30; total time=   4.3s\n"
     ]
    },
    {
     "name": "stderr",
     "output_type": "stream",
     "text": [
      "Warning: less than 75% gpu memory available for training. Free: 5565.375 Total: 7971.4375\n"
     ]
    },
    {
     "name": "stdout",
     "output_type": "stream",
     "text": [
      "0:\tlearn: 0.9855377\ttotal: 20.8ms\tremaining: 20.8s\n",
      "500:\tlearn: 0.9999825\ttotal: 7.16s\tremaining: 7.13s\n",
      "999:\tlearn: 0.9999825\ttotal: 14.4s\tremaining: 0us\n",
      "[CV] END border_count=254, depth=7, grow_policy=Lossguide, l2_leaf_reg=0.5, learning_rate=0.1, min_data_in_leaf=30; total time=  16.3s\n"
     ]
    },
    {
     "name": "stderr",
     "output_type": "stream",
     "text": [
      "Warning: less than 75% gpu memory available for training. Free: 5565.375 Total: 7971.4375\n"
     ]
    },
    {
     "name": "stdout",
     "output_type": "stream",
     "text": [
      "0:\tlearn: 0.9862636\ttotal: 21ms\tremaining: 21s\n",
      "500:\tlearn: 0.9999738\ttotal: 7.16s\tremaining: 7.13s\n",
      "999:\tlearn: 0.9999738\ttotal: 14.3s\tremaining: 0us\n",
      "[CV] END border_count=254, depth=7, grow_policy=Lossguide, l2_leaf_reg=0.5, learning_rate=0.1, min_data_in_leaf=30; total time=  16.3s\n"
     ]
    },
    {
     "name": "stderr",
     "output_type": "stream",
     "text": [
      "Warning: less than 75% gpu memory available for training. Free: 5565.375 Total: 7971.4375\n"
     ]
    },
    {
     "name": "stdout",
     "output_type": "stream",
     "text": [
      "0:\tlearn: 0.9862853\ttotal: 21ms\tremaining: 21s\n",
      "500:\tlearn: 0.9999651\ttotal: 7.25s\tremaining: 7.22s\n",
      "999:\tlearn: 0.9999651\ttotal: 14.3s\tremaining: 0us\n",
      "[CV] END border_count=254, depth=7, grow_policy=Lossguide, l2_leaf_reg=0.5, learning_rate=0.1, min_data_in_leaf=30; total time=  16.3s\n"
     ]
    },
    {
     "name": "stderr",
     "output_type": "stream",
     "text": [
      "Warning: less than 75% gpu memory available for training. Free: 5565.375 Total: 7971.4375\n"
     ]
    },
    {
     "name": "stdout",
     "output_type": "stream",
     "text": [
      "0:\tlearn: 0.9867316\ttotal: 21ms\tremaining: 21s\n",
      "500:\tlearn: 0.9999738\ttotal: 7.14s\tremaining: 7.12s\n",
      "999:\tlearn: 0.9999738\ttotal: 14.3s\tremaining: 0us\n",
      "[CV] END border_count=254, depth=7, grow_policy=Lossguide, l2_leaf_reg=0.5, learning_rate=0.1, min_data_in_leaf=30; total time=  16.1s\n"
     ]
    },
    {
     "name": "stderr",
     "output_type": "stream",
     "text": [
      "Warning: less than 75% gpu memory available for training. Free: 5565.375 Total: 7971.4375\n"
     ]
    },
    {
     "name": "stdout",
     "output_type": "stream",
     "text": [
      "0:\tlearn: 0.9853721\ttotal: 17.4ms\tremaining: 17.4s\n",
      "500:\tlearn: 0.9999825\ttotal: 7.16s\tremaining: 7.13s\n",
      "999:\tlearn: 0.9999825\ttotal: 14.5s\tremaining: 0us\n",
      "[CV] END border_count=254, depth=7, grow_policy=Lossguide, l2_leaf_reg=0.5, learning_rate=0.1, min_data_in_leaf=30; total time=  16.4s\n"
     ]
    },
    {
     "name": "stderr",
     "output_type": "stream",
     "text": [
      "Warning: less than 75% gpu memory available for training. Free: 5565.375 Total: 7971.4375\n"
     ]
    },
    {
     "name": "stdout",
     "output_type": "stream",
     "text": [
      "0:\tlearn: 0.9829290\ttotal: 8.03ms\tremaining: 8.02s\n",
      "500:\tlearn: 0.9999039\ttotal: 3.54s\tremaining: 3.52s\n",
      "999:\tlearn: 0.9999825\ttotal: 7.05s\tremaining: 0us\n",
      "[CV] END border_count=32, depth=7, grow_policy=SymmetricTree, l2_leaf_reg=0.5, learning_rate=0.1, min_data_in_leaf=30; total time=   8.5s\n"
     ]
    },
    {
     "name": "stderr",
     "output_type": "stream",
     "text": [
      "Warning: less than 75% gpu memory available for training. Free: 5565.375 Total: 7971.4375\n"
     ]
    },
    {
     "name": "stdout",
     "output_type": "stream",
     "text": [
      "0:\tlearn: 0.9834614\ttotal: 7.8ms\tremaining: 7.79s\n",
      "500:\tlearn: 0.9999214\ttotal: 3.51s\tremaining: 3.5s\n",
      "999:\tlearn: 0.9999738\ttotal: 6.96s\tremaining: 0us\n",
      "[CV] END border_count=32, depth=7, grow_policy=SymmetricTree, l2_leaf_reg=0.5, learning_rate=0.1, min_data_in_leaf=30; total time=   8.5s\n"
     ]
    },
    {
     "name": "stderr",
     "output_type": "stream",
     "text": [
      "Warning: less than 75% gpu memory available for training. Free: 5565.375 Total: 7971.4375\n"
     ]
    },
    {
     "name": "stdout",
     "output_type": "stream",
     "text": [
      "0:\tlearn: 0.9838297\ttotal: 9.42ms\tremaining: 9.41s\n",
      "500:\tlearn: 0.9998952\ttotal: 3.46s\tremaining: 3.45s\n",
      "999:\tlearn: 0.9999651\ttotal: 6.86s\tremaining: 0us\n",
      "[CV] END border_count=32, depth=7, grow_policy=SymmetricTree, l2_leaf_reg=0.5, learning_rate=0.1, min_data_in_leaf=30; total time=   8.3s\n"
     ]
    },
    {
     "name": "stderr",
     "output_type": "stream",
     "text": [
      "Warning: less than 75% gpu memory available for training. Free: 5565.375 Total: 7971.4375\n"
     ]
    },
    {
     "name": "stdout",
     "output_type": "stream",
     "text": [
      "0:\tlearn: 0.9832663\ttotal: 8.08ms\tremaining: 8.07s\n",
      "500:\tlearn: 0.9999651\ttotal: 3.52s\tremaining: 3.51s\n",
      "999:\tlearn: 0.9999738\ttotal: 6.97s\tremaining: 0us\n",
      "[CV] END border_count=32, depth=7, grow_policy=SymmetricTree, l2_leaf_reg=0.5, learning_rate=0.1, min_data_in_leaf=30; total time=   8.5s\n"
     ]
    },
    {
     "name": "stderr",
     "output_type": "stream",
     "text": [
      "Warning: less than 75% gpu memory available for training. Free: 5565.375 Total: 7971.4375\n"
     ]
    },
    {
     "name": "stdout",
     "output_type": "stream",
     "text": [
      "0:\tlearn: 0.9826429\ttotal: 8.96ms\tremaining: 8.95s\n",
      "500:\tlearn: 0.9999127\ttotal: 3.46s\tremaining: 3.44s\n",
      "999:\tlearn: 0.9999825\ttotal: 6.88s\tremaining: 0us\n",
      "[CV] END border_count=32, depth=7, grow_policy=SymmetricTree, l2_leaf_reg=0.5, learning_rate=0.1, min_data_in_leaf=30; total time=   8.4s\n"
     ]
    },
    {
     "name": "stderr",
     "output_type": "stream",
     "text": [
      "Warning: less than 75% gpu memory available for training. Free: 5565.375 Total: 7971.4375\n"
     ]
    },
    {
     "name": "stdout",
     "output_type": "stream",
     "text": [
      "0:\tlearn: 0.9807825\ttotal: 4.44ms\tremaining: 4.44s\n",
      "500:\tlearn: 0.9961532\ttotal: 1.66s\tremaining: 1.65s\n",
      "999:\tlearn: 0.9988394\ttotal: 3.37s\tremaining: 0us\n",
      "[CV] END border_count=32, depth=3, grow_policy=Lossguide, l2_leaf_reg=0.5, learning_rate=0.1, min_data_in_leaf=30; total time=   4.9s\n"
     ]
    },
    {
     "name": "stderr",
     "output_type": "stream",
     "text": [
      "Warning: less than 75% gpu memory available for training. Free: 5565.375 Total: 7971.4375\n"
     ]
    },
    {
     "name": "stdout",
     "output_type": "stream",
     "text": [
      "0:\tlearn: 0.9800754\ttotal: 5.04ms\tremaining: 5.04s\n",
      "500:\tlearn: 0.9960146\ttotal: 1.8s\tremaining: 1.79s\n",
      "999:\tlearn: 0.9986389\ttotal: 3.42s\tremaining: 0us\n",
      "[CV] END border_count=32, depth=3, grow_policy=Lossguide, l2_leaf_reg=0.5, learning_rate=0.1, min_data_in_leaf=30; total time=   4.9s\n"
     ]
    },
    {
     "name": "stderr",
     "output_type": "stream",
     "text": [
      "Warning: less than 75% gpu memory available for training. Free: 5565.375 Total: 7971.4375\n"
     ]
    },
    {
     "name": "stdout",
     "output_type": "stream",
     "text": [
      "0:\tlearn: 0.9827027\ttotal: 4.52ms\tremaining: 4.52s\n",
      "500:\tlearn: 0.9963007\ttotal: 1.64s\tremaining: 1.64s\n",
      "999:\tlearn: 0.9989614\ttotal: 3.36s\tremaining: 0us\n",
      "[CV] END border_count=32, depth=3, grow_policy=Lossguide, l2_leaf_reg=0.5, learning_rate=0.1, min_data_in_leaf=30; total time=   4.9s\n"
     ]
    },
    {
     "name": "stderr",
     "output_type": "stream",
     "text": [
      "Warning: less than 75% gpu memory available for training. Free: 5565.375 Total: 7971.4375\n"
     ]
    },
    {
     "name": "stdout",
     "output_type": "stream",
     "text": [
      "0:\tlearn: 0.9830573\ttotal: 4.73ms\tremaining: 4.73s\n",
      "500:\tlearn: 0.9965180\ttotal: 1.67s\tremaining: 1.67s\n",
      "999:\tlearn: 0.9991011\ttotal: 3.33s\tremaining: 0us\n",
      "[CV] END border_count=32, depth=3, grow_policy=Lossguide, l2_leaf_reg=0.5, learning_rate=0.1, min_data_in_leaf=30; total time=   4.9s\n"
     ]
    },
    {
     "name": "stderr",
     "output_type": "stream",
     "text": [
      "Warning: less than 75% gpu memory available for training. Free: 5565.375 Total: 7971.4375\n"
     ]
    },
    {
     "name": "stdout",
     "output_type": "stream",
     "text": [
      "0:\tlearn: 0.9821325\ttotal: 5.21ms\tremaining: 5.21s\n",
      "500:\tlearn: 0.9961538\ttotal: 1.63s\tremaining: 1.63s\n",
      "999:\tlearn: 0.9989093\ttotal: 3.27s\tremaining: 0us\n",
      "[CV] END border_count=32, depth=3, grow_policy=Lossguide, l2_leaf_reg=0.5, learning_rate=0.1, min_data_in_leaf=30; total time=   4.8s\n"
     ]
    },
    {
     "name": "stderr",
     "output_type": "stream",
     "text": [
      "Warning: less than 75% gpu memory available for training. Free: 5565.375 Total: 7971.4375\n"
     ]
    },
    {
     "name": "stdout",
     "output_type": "stream",
     "text": [
      "0:\tlearn: 0.9824592\ttotal: 22.2ms\tremaining: 22.2s\n",
      "500:\tlearn: 0.9987261\ttotal: 9.56s\tremaining: 9.52s\n",
      "999:\tlearn: 0.9999126\ttotal: 19.1s\tremaining: 0us\n",
      "[CV] END border_count=254, depth=7, grow_policy=SymmetricTree, l2_leaf_reg=5, learning_rate=0.1, min_data_in_leaf=1; total time=  20.8s\n"
     ]
    },
    {
     "name": "stderr",
     "output_type": "stream",
     "text": [
      "Warning: less than 75% gpu memory available for training. Free: 5565.375 Total: 7971.4375\n"
     ]
    },
    {
     "name": "stdout",
     "output_type": "stream",
     "text": [
      "0:\tlearn: 0.9831804\ttotal: 21.7ms\tremaining: 21.7s\n",
      "500:\tlearn: 0.9986215\ttotal: 9.64s\tremaining: 9.6s\n",
      "999:\tlearn: 0.9999039\ttotal: 19.1s\tremaining: 0us\n",
      "[CV] END border_count=254, depth=7, grow_policy=SymmetricTree, l2_leaf_reg=5, learning_rate=0.1, min_data_in_leaf=1; total time=  20.9s\n"
     ]
    },
    {
     "name": "stderr",
     "output_type": "stream",
     "text": [
      "Warning: less than 75% gpu memory available for training. Free: 5565.375 Total: 7971.4375\n"
     ]
    },
    {
     "name": "stdout",
     "output_type": "stream",
     "text": [
      "0:\tlearn: 0.9844252\ttotal: 21.7ms\tremaining: 21.7s\n",
      "500:\tlearn: 0.9985779\ttotal: 9.52s\tremaining: 9.49s\n",
      "999:\tlearn: 0.9998777\ttotal: 18.9s\tremaining: 0us\n",
      "[CV] END border_count=254, depth=7, grow_policy=SymmetricTree, l2_leaf_reg=5, learning_rate=0.1, min_data_in_leaf=1; total time=  20.7s\n"
     ]
    },
    {
     "name": "stderr",
     "output_type": "stream",
     "text": [
      "Warning: less than 75% gpu memory available for training. Free: 5565.375 Total: 7971.4375\n"
     ]
    },
    {
     "name": "stdout",
     "output_type": "stream",
     "text": [
      "0:\tlearn: 0.9842764\ttotal: 22ms\tremaining: 22s\n",
      "500:\tlearn: 0.9988483\ttotal: 9.58s\tremaining: 9.55s\n",
      "999:\tlearn: 0.9999389\ttotal: 19s\tremaining: 0us\n",
      "[CV] END border_count=254, depth=7, grow_policy=SymmetricTree, l2_leaf_reg=5, learning_rate=0.1, min_data_in_leaf=1; total time=  20.8s\n"
     ]
    },
    {
     "name": "stderr",
     "output_type": "stream",
     "text": [
      "Warning: less than 75% gpu memory available for training. Free: 5565.375 Total: 7971.4375\n"
     ]
    },
    {
     "name": "stdout",
     "output_type": "stream",
     "text": [
      "0:\tlearn: 0.9835499\ttotal: 21.6ms\tremaining: 21.6s\n",
      "500:\tlearn: 0.9987785\ttotal: 9.66s\tremaining: 9.62s\n",
      "999:\tlearn: 0.9999301\ttotal: 19.1s\tremaining: 0us\n",
      "[CV] END border_count=254, depth=7, grow_policy=SymmetricTree, l2_leaf_reg=5, learning_rate=0.1, min_data_in_leaf=1; total time=  20.9s\n"
     ]
    },
    {
     "name": "stderr",
     "output_type": "stream",
     "text": [
      "Warning: less than 75% gpu memory available for training. Free: 5565.375 Total: 7971.4375\n"
     ]
    },
    {
     "name": "stdout",
     "output_type": "stream",
     "text": [
      "0:\tlearn: 0.9829290\ttotal: 8.19ms\tremaining: 8.19s\n",
      "500:\tlearn: 0.9878646\ttotal: 3.62s\tremaining: 3.61s\n",
      "999:\tlearn: 0.9914607\ttotal: 7.23s\tremaining: 0us\n",
      "[CV] END border_count=32, depth=7, grow_policy=SymmetricTree, l2_leaf_reg=0.5, learning_rate=0.005, min_data_in_leaf=30; total time=   8.7s\n"
     ]
    },
    {
     "name": "stderr",
     "output_type": "stream",
     "text": [
      "Warning: less than 75% gpu memory available for training. Free: 5565.375 Total: 7971.4375\n"
     ]
    },
    {
     "name": "stdout",
     "output_type": "stream",
     "text": [
      "0:\tlearn: 0.9834614\ttotal: 8.23ms\tremaining: 8.22s\n",
      "500:\tlearn: 0.9882796\ttotal: 3.56s\tremaining: 3.54s\n",
      "999:\tlearn: 0.9919000\ttotal: 7.05s\tremaining: 0us\n",
      "[CV] END border_count=32, depth=7, grow_policy=SymmetricTree, l2_leaf_reg=0.5, learning_rate=0.005, min_data_in_leaf=30; total time=   8.6s\n"
     ]
    },
    {
     "name": "stderr",
     "output_type": "stream",
     "text": [
      "Warning: less than 75% gpu memory available for training. Free: 5565.375 Total: 7971.4375\n"
     ]
    },
    {
     "name": "stdout",
     "output_type": "stream",
     "text": [
      "0:\tlearn: 0.9838297\ttotal: 7.56ms\tremaining: 7.55s\n",
      "500:\tlearn: 0.9886674\ttotal: 3.58s\tremaining: 3.57s\n",
      "999:\tlearn: 0.9923563\ttotal: 7.12s\tremaining: 0us\n",
      "[CV] END border_count=32, depth=7, grow_policy=SymmetricTree, l2_leaf_reg=0.5, learning_rate=0.005, min_data_in_leaf=30; total time=   8.6s\n"
     ]
    },
    {
     "name": "stderr",
     "output_type": "stream",
     "text": [
      "Warning: less than 75% gpu memory available for training. Free: 5565.375 Total: 7971.4375\n"
     ]
    },
    {
     "name": "stdout",
     "output_type": "stream",
     "text": [
      "0:\tlearn: 0.9832663\ttotal: 8.56ms\tremaining: 8.55s\n",
      "500:\tlearn: 0.9892121\ttotal: 3.63s\tremaining: 3.62s\n",
      "999:\tlearn: 0.9925987\ttotal: 7.23s\tremaining: 0us\n",
      "[CV] END border_count=32, depth=7, grow_policy=SymmetricTree, l2_leaf_reg=0.5, learning_rate=0.005, min_data_in_leaf=30; total time=   8.7s\n"
     ]
    },
    {
     "name": "stderr",
     "output_type": "stream",
     "text": [
      "Warning: less than 75% gpu memory available for training. Free: 5565.375 Total: 7971.4375\n"
     ]
    },
    {
     "name": "stdout",
     "output_type": "stream",
     "text": [
      "0:\tlearn: 0.9826429\ttotal: 7.76ms\tremaining: 7.75s\n",
      "500:\tlearn: 0.9879433\ttotal: 3.58s\tremaining: 3.57s\n",
      "999:\tlearn: 0.9915397\ttotal: 7.1s\tremaining: 0us\n",
      "[CV] END border_count=32, depth=7, grow_policy=SymmetricTree, l2_leaf_reg=0.5, learning_rate=0.005, min_data_in_leaf=30; total time=   8.6s\n"
     ]
    },
    {
     "name": "stderr",
     "output_type": "stream",
     "text": [
      "Warning: less than 75% gpu memory available for training. Free: 5636 Total: 7971.4375\n"
     ]
    },
    {
     "name": "stdout",
     "output_type": "stream",
     "text": [
      "0:\tlearn: 0.9855377\ttotal: 20.9ms\tremaining: 20.8s\n",
      "500:\tlearn: 0.9907799\ttotal: 6.86s\tremaining: 6.83s\n",
      "999:\tlearn: 0.9949416\ttotal: 14s\tremaining: 0us\n",
      "[CV] END border_count=254, depth=7, grow_policy=Lossguide, l2_leaf_reg=0.5, learning_rate=0.005, min_data_in_leaf=30; total time=  15.9s\n"
     ]
    },
    {
     "name": "stderr",
     "output_type": "stream",
     "text": [
      "Warning: less than 75% gpu memory available for training. Free: 5637.375 Total: 7971.4375\n"
     ]
    },
    {
     "name": "stdout",
     "output_type": "stream",
     "text": [
      "0:\tlearn: 0.9862636\ttotal: 20.7ms\tremaining: 20.6s\n",
      "500:\tlearn: 0.9912628\ttotal: 6.82s\tremaining: 6.8s\n",
      "999:\tlearn: 0.9947946\ttotal: 13.9s\tremaining: 0us\n",
      "[CV] END border_count=254, depth=7, grow_policy=Lossguide, l2_leaf_reg=0.5, learning_rate=0.005, min_data_in_leaf=30; total time=  15.7s\n"
     ]
    },
    {
     "name": "stderr",
     "output_type": "stream",
     "text": [
      "Warning: less than 75% gpu memory available for training. Free: 5637.375 Total: 7971.4375\n"
     ]
    },
    {
     "name": "stdout",
     "output_type": "stream",
     "text": [
      "0:\tlearn: 0.9862853\ttotal: 17.2ms\tremaining: 17.1s\n",
      "500:\tlearn: 0.9915560\ttotal: 6.74s\tremaining: 6.71s\n",
      "999:\tlearn: 0.9950794\ttotal: 13.7s\tremaining: 0us\n",
      "[CV] END border_count=254, depth=7, grow_policy=Lossguide, l2_leaf_reg=0.5, learning_rate=0.005, min_data_in_leaf=30; total time=  15.6s\n"
     ]
    },
    {
     "name": "stderr",
     "output_type": "stream",
     "text": [
      "Warning: less than 75% gpu memory available for training. Free: 5637.375 Total: 7971.4375\n"
     ]
    },
    {
     "name": "stdout",
     "output_type": "stream",
     "text": [
      "0:\tlearn: 0.9867316\ttotal: 17.5ms\tremaining: 17.5s\n",
      "500:\tlearn: 0.9922814\ttotal: 6.8s\tremaining: 6.77s\n",
      "999:\tlearn: 0.9950808\ttotal: 13.8s\tremaining: 0us\n",
      "[CV] END border_count=254, depth=7, grow_policy=Lossguide, l2_leaf_reg=0.5, learning_rate=0.005, min_data_in_leaf=30; total time=  15.7s\n"
     ]
    },
    {
     "name": "stderr",
     "output_type": "stream",
     "text": [
      "Warning: less than 75% gpu memory available for training. Free: 5637.375 Total: 7971.4375\n"
     ]
    },
    {
     "name": "stdout",
     "output_type": "stream",
     "text": [
      "0:\tlearn: 0.9853721\ttotal: 16.7ms\tremaining: 16.7s\n",
      "500:\tlearn: 0.9907295\ttotal: 6.73s\tremaining: 6.7s\n",
      "999:\tlearn: 0.9948738\ttotal: 13.7s\tremaining: 0us\n",
      "[CV] END border_count=254, depth=7, grow_policy=Lossguide, l2_leaf_reg=0.5, learning_rate=0.005, min_data_in_leaf=30; total time=  15.6s\n"
     ]
    },
    {
     "name": "stderr",
     "output_type": "stream",
     "text": [
      "Warning: less than 75% gpu memory available for training. Free: 5637.375 Total: 7971.4375\n"
     ]
    },
    {
     "name": "stdout",
     "output_type": "stream",
     "text": [
      "0:\tlearn: 0.9807825\ttotal: 4.51ms\tremaining: 4.5s\n",
      "500:\tlearn: 0.9840444\ttotal: 1.57s\tremaining: 1.56s\n",
      "999:\tlearn: 0.9851029\ttotal: 3.2s\tremaining: 0us\n",
      "[CV] END border_count=32, depth=3, grow_policy=Depthwise, l2_leaf_reg=5, learning_rate=0.005, min_data_in_leaf=30; total time=   4.7s\n"
     ]
    },
    {
     "name": "stderr",
     "output_type": "stream",
     "text": [
      "Warning: less than 75% gpu memory available for training. Free: 5637.375 Total: 7971.4375\n"
     ]
    },
    {
     "name": "stdout",
     "output_type": "stream",
     "text": [
      "0:\tlearn: 0.9800754\ttotal: 5.98ms\tremaining: 5.97s\n",
      "500:\tlearn: 0.9846509\ttotal: 1.55s\tremaining: 1.54s\n",
      "999:\tlearn: 0.9855892\ttotal: 3.15s\tremaining: 0us\n",
      "[CV] END border_count=32, depth=3, grow_policy=Depthwise, l2_leaf_reg=5, learning_rate=0.005, min_data_in_leaf=30; total time=   4.7s\n"
     ]
    },
    {
     "name": "stderr",
     "output_type": "stream",
     "text": [
      "Warning: less than 75% gpu memory available for training. Free: 5637.375 Total: 7971.4375\n"
     ]
    },
    {
     "name": "stdout",
     "output_type": "stream",
     "text": [
      "0:\tlearn: 0.9826993\ttotal: 4.58ms\tremaining: 4.57s\n",
      "500:\tlearn: 0.9854123\ttotal: 1.59s\tremaining: 1.58s\n",
      "999:\tlearn: 0.9860906\ttotal: 3.13s\tremaining: 0us\n",
      "[CV] END border_count=32, depth=3, grow_policy=Depthwise, l2_leaf_reg=5, learning_rate=0.005, min_data_in_leaf=30; total time=   4.6s\n"
     ]
    },
    {
     "name": "stderr",
     "output_type": "stream",
     "text": [
      "Warning: less than 75% gpu memory available for training. Free: 5637.375 Total: 7971.4375\n"
     ]
    },
    {
     "name": "stdout",
     "output_type": "stream",
     "text": [
      "0:\tlearn: 0.9830573\ttotal: 4.56ms\tremaining: 4.55s\n",
      "500:\tlearn: 0.9853501\ttotal: 1.61s\tremaining: 1.6s\n",
      "999:\tlearn: 0.9866436\ttotal: 3.21s\tremaining: 0us\n",
      "[CV] END border_count=32, depth=3, grow_policy=Depthwise, l2_leaf_reg=5, learning_rate=0.005, min_data_in_leaf=30; total time=   4.7s\n"
     ]
    },
    {
     "name": "stderr",
     "output_type": "stream",
     "text": [
      "Warning: less than 75% gpu memory available for training. Free: 5637.375 Total: 7971.4375\n"
     ]
    },
    {
     "name": "stdout",
     "output_type": "stream",
     "text": [
      "0:\tlearn: 0.9821325\ttotal: 4.58ms\tremaining: 4.57s\n",
      "500:\tlearn: 0.9844787\ttotal: 1.62s\tremaining: 1.61s\n",
      "999:\tlearn: 0.9851834\ttotal: 3.22s\tremaining: 0us\n",
      "[CV] END border_count=32, depth=3, grow_policy=Depthwise, l2_leaf_reg=5, learning_rate=0.005, min_data_in_leaf=30; total time=   4.7s\n"
     ]
    },
    {
     "name": "stderr",
     "output_type": "stream",
     "text": [
      "Warning: less than 75% gpu memory available for training. Free: 5637.375 Total: 7971.4375\n"
     ]
    },
    {
     "name": "stdout",
     "output_type": "stream",
     "text": [
      "0:\tlearn: 0.9829290\ttotal: 8.63ms\tremaining: 8.62s\n",
      "500:\tlearn: 0.9878646\ttotal: 3.62s\tremaining: 3.6s\n",
      "999:\tlearn: 0.9914607\ttotal: 7.22s\tremaining: 0us\n",
      "[CV] END border_count=32, depth=7, grow_policy=SymmetricTree, l2_leaf_reg=0.5, learning_rate=0.005, min_data_in_leaf=1; total time=   8.7s\n"
     ]
    },
    {
     "name": "stderr",
     "output_type": "stream",
     "text": [
      "Warning: less than 75% gpu memory available for training. Free: 5637.375 Total: 7971.4375\n"
     ]
    },
    {
     "name": "stdout",
     "output_type": "stream",
     "text": [
      "0:\tlearn: 0.9834614\ttotal: 9.5ms\tremaining: 9.49s\n",
      "500:\tlearn: 0.9882796\ttotal: 3.74s\tremaining: 3.73s\n",
      "999:\tlearn: 0.9919000\ttotal: 7.33s\tremaining: 0us\n",
      "[CV] END border_count=32, depth=7, grow_policy=SymmetricTree, l2_leaf_reg=0.5, learning_rate=0.005, min_data_in_leaf=1; total time=   8.8s\n"
     ]
    },
    {
     "name": "stderr",
     "output_type": "stream",
     "text": [
      "Warning: less than 75% gpu memory available for training. Free: 5637.375 Total: 7971.4375\n"
     ]
    },
    {
     "name": "stdout",
     "output_type": "stream",
     "text": [
      "0:\tlearn: 0.9838297\ttotal: 9.23ms\tremaining: 9.22s\n",
      "500:\tlearn: 0.9886674\ttotal: 3.64s\tremaining: 3.62s\n",
      "999:\tlearn: 0.9923563\ttotal: 7.21s\tremaining: 0us\n",
      "[CV] END border_count=32, depth=7, grow_policy=SymmetricTree, l2_leaf_reg=0.5, learning_rate=0.005, min_data_in_leaf=1; total time=   8.7s\n"
     ]
    },
    {
     "name": "stderr",
     "output_type": "stream",
     "text": [
      "Warning: less than 75% gpu memory available for training. Free: 5637.375 Total: 7971.4375\n"
     ]
    },
    {
     "name": "stdout",
     "output_type": "stream",
     "text": [
      "0:\tlearn: 0.9832663\ttotal: 7.76ms\tremaining: 7.75s\n",
      "500:\tlearn: 0.9892121\ttotal: 3.62s\tremaining: 3.61s\n",
      "999:\tlearn: 0.9925987\ttotal: 7.19s\tremaining: 0us\n",
      "[CV] END border_count=32, depth=7, grow_policy=SymmetricTree, l2_leaf_reg=0.5, learning_rate=0.005, min_data_in_leaf=1; total time=   8.7s\n"
     ]
    },
    {
     "name": "stderr",
     "output_type": "stream",
     "text": [
      "Warning: less than 75% gpu memory available for training. Free: 5637.375 Total: 7971.4375\n"
     ]
    },
    {
     "name": "stdout",
     "output_type": "stream",
     "text": [
      "0:\tlearn: 0.9826429\ttotal: 7.93ms\tremaining: 7.92s\n",
      "500:\tlearn: 0.9879433\ttotal: 3.62s\tremaining: 3.6s\n",
      "999:\tlearn: 0.9915397\ttotal: 7.19s\tremaining: 0us\n",
      "[CV] END border_count=32, depth=7, grow_policy=SymmetricTree, l2_leaf_reg=0.5, learning_rate=0.005, min_data_in_leaf=1; total time=   8.7s\n"
     ]
    },
    {
     "name": "stderr",
     "output_type": "stream",
     "text": [
      "Warning: less than 75% gpu memory available for training. Free: 5637.375 Total: 7971.4375\n"
     ]
    },
    {
     "name": "stdout",
     "output_type": "stream",
     "text": [
      "0:\tlearn: 0.9809394\ttotal: 3.95ms\tremaining: 3.95s\n",
      "500:\tlearn: 0.9935693\ttotal: 1.6s\tremaining: 1.6s\n",
      "999:\tlearn: 0.9959980\ttotal: 3.12s\tremaining: 0us\n",
      "[CV] END border_count=32, depth=3, grow_policy=SymmetricTree, l2_leaf_reg=0.5, learning_rate=0.1, min_data_in_leaf=30; total time=   4.6s\n"
     ]
    },
    {
     "name": "stderr",
     "output_type": "stream",
     "text": [
      "Warning: less than 75% gpu memory available for training. Free: 5637.375 Total: 7971.4375\n"
     ]
    },
    {
     "name": "stdout",
     "output_type": "stream",
     "text": [
      "0:\tlearn: 0.9810876\ttotal: 3.79ms\tremaining: 3.79s\n",
      "500:\tlearn: 0.9932419\ttotal: 1.53s\tremaining: 1.52s\n",
      "999:\tlearn: 0.9958412\ttotal: 3.04s\tremaining: 0us\n",
      "[CV] END border_count=32, depth=3, grow_policy=SymmetricTree, l2_leaf_reg=0.5, learning_rate=0.1, min_data_in_leaf=30; total time=   4.5s\n"
     ]
    },
    {
     "name": "stderr",
     "output_type": "stream",
     "text": [
      "Warning: less than 75% gpu memory available for training. Free: 5637.375 Total: 7971.4375\n"
     ]
    },
    {
     "name": "stdout",
     "output_type": "stream",
     "text": [
      "0:\tlearn: 0.9816187\ttotal: 3.81ms\tremaining: 3.81s\n",
      "500:\tlearn: 0.9939147\ttotal: 1.43s\tremaining: 1.42s\n",
      "999:\tlearn: 0.9962573\ttotal: 2.87s\tremaining: 0us\n",
      "[CV] END border_count=32, depth=3, grow_policy=SymmetricTree, l2_leaf_reg=0.5, learning_rate=0.1, min_data_in_leaf=30; total time=   4.3s\n"
     ]
    },
    {
     "name": "stderr",
     "output_type": "stream",
     "text": [
      "Warning: less than 75% gpu memory available for training. Free: 5637.375 Total: 7971.4375\n"
     ]
    },
    {
     "name": "stdout",
     "output_type": "stream",
     "text": [
      "0:\tlearn: 0.9818171\ttotal: 3.57ms\tremaining: 3.57s\n",
      "500:\tlearn: 0.9941920\ttotal: 1.49s\tremaining: 1.49s\n",
      "999:\tlearn: 0.9962319\ttotal: 2.96s\tremaining: 0us\n",
      "[CV] END border_count=32, depth=3, grow_policy=SymmetricTree, l2_leaf_reg=0.5, learning_rate=0.1, min_data_in_leaf=30; total time=   4.4s\n"
     ]
    },
    {
     "name": "stderr",
     "output_type": "stream",
     "text": [
      "Warning: less than 75% gpu memory available for training. Free: 5637.375 Total: 7971.4375\n"
     ]
    },
    {
     "name": "stdout",
     "output_type": "stream",
     "text": [
      "0:\tlearn: 0.9806297\ttotal: 3.71ms\tremaining: 3.71s\n",
      "500:\tlearn: 0.9934762\ttotal: 1.47s\tremaining: 1.46s\n",
      "999:\tlearn: 0.9958513\ttotal: 2.94s\tremaining: 0us\n",
      "[CV] END border_count=32, depth=3, grow_policy=SymmetricTree, l2_leaf_reg=0.5, learning_rate=0.1, min_data_in_leaf=30; total time=   4.4s\n"
     ]
    },
    {
     "name": "stderr",
     "output_type": "stream",
     "text": [
      "Warning: less than 75% gpu memory available for training. Free: 5637.375 Total: 7971.4375\n"
     ]
    },
    {
     "name": "stdout",
     "output_type": "stream",
     "text": [
      "0:\tlearn: 0.9855538\ttotal: 23.3ms\tremaining: 23.3s\n",
      "500:\tlearn: 0.9999720\ttotal: 7.78s\tremaining: 7.75s\n",
      "999:\tlearn: 0.9999720\ttotal: 15.7s\tremaining: 0us\n"
     ]
    },
    {
     "data": {
      "text/html": [
       "<style>#sk-container-id-2 {\n",
       "  /* Definition of color scheme common for light and dark mode */\n",
       "  --sklearn-color-text: #000;\n",
       "  --sklearn-color-text-muted: #666;\n",
       "  --sklearn-color-line: gray;\n",
       "  /* Definition of color scheme for unfitted estimators */\n",
       "  --sklearn-color-unfitted-level-0: #fff5e6;\n",
       "  --sklearn-color-unfitted-level-1: #f6e4d2;\n",
       "  --sklearn-color-unfitted-level-2: #ffe0b3;\n",
       "  --sklearn-color-unfitted-level-3: chocolate;\n",
       "  /* Definition of color scheme for fitted estimators */\n",
       "  --sklearn-color-fitted-level-0: #f0f8ff;\n",
       "  --sklearn-color-fitted-level-1: #d4ebff;\n",
       "  --sklearn-color-fitted-level-2: #b3dbfd;\n",
       "  --sklearn-color-fitted-level-3: cornflowerblue;\n",
       "\n",
       "  /* Specific color for light theme */\n",
       "  --sklearn-color-text-on-default-background: var(--sg-text-color, var(--theme-code-foreground, var(--jp-content-font-color1, black)));\n",
       "  --sklearn-color-background: var(--sg-background-color, var(--theme-background, var(--jp-layout-color0, white)));\n",
       "  --sklearn-color-border-box: var(--sg-text-color, var(--theme-code-foreground, var(--jp-content-font-color1, black)));\n",
       "  --sklearn-color-icon: #696969;\n",
       "\n",
       "  @media (prefers-color-scheme: dark) {\n",
       "    /* Redefinition of color scheme for dark theme */\n",
       "    --sklearn-color-text-on-default-background: var(--sg-text-color, var(--theme-code-foreground, var(--jp-content-font-color1, white)));\n",
       "    --sklearn-color-background: var(--sg-background-color, var(--theme-background, var(--jp-layout-color0, #111)));\n",
       "    --sklearn-color-border-box: var(--sg-text-color, var(--theme-code-foreground, var(--jp-content-font-color1, white)));\n",
       "    --sklearn-color-icon: #878787;\n",
       "  }\n",
       "}\n",
       "\n",
       "#sk-container-id-2 {\n",
       "  color: var(--sklearn-color-text);\n",
       "}\n",
       "\n",
       "#sk-container-id-2 pre {\n",
       "  padding: 0;\n",
       "}\n",
       "\n",
       "#sk-container-id-2 input.sk-hidden--visually {\n",
       "  border: 0;\n",
       "  clip: rect(1px 1px 1px 1px);\n",
       "  clip: rect(1px, 1px, 1px, 1px);\n",
       "  height: 1px;\n",
       "  margin: -1px;\n",
       "  overflow: hidden;\n",
       "  padding: 0;\n",
       "  position: absolute;\n",
       "  width: 1px;\n",
       "}\n",
       "\n",
       "#sk-container-id-2 div.sk-dashed-wrapped {\n",
       "  border: 1px dashed var(--sklearn-color-line);\n",
       "  margin: 0 0.4em 0.5em 0.4em;\n",
       "  box-sizing: border-box;\n",
       "  padding-bottom: 0.4em;\n",
       "  background-color: var(--sklearn-color-background);\n",
       "}\n",
       "\n",
       "#sk-container-id-2 div.sk-container {\n",
       "  /* jupyter's `normalize.less` sets `[hidden] { display: none; }`\n",
       "     but bootstrap.min.css set `[hidden] { display: none !important; }`\n",
       "     so we also need the `!important` here to be able to override the\n",
       "     default hidden behavior on the sphinx rendered scikit-learn.org.\n",
       "     See: https://github.com/scikit-learn/scikit-learn/issues/21755 */\n",
       "  display: inline-block !important;\n",
       "  position: relative;\n",
       "}\n",
       "\n",
       "#sk-container-id-2 div.sk-text-repr-fallback {\n",
       "  display: none;\n",
       "}\n",
       "\n",
       "div.sk-parallel-item,\n",
       "div.sk-serial,\n",
       "div.sk-item {\n",
       "  /* draw centered vertical line to link estimators */\n",
       "  background-image: linear-gradient(var(--sklearn-color-text-on-default-background), var(--sklearn-color-text-on-default-background));\n",
       "  background-size: 2px 100%;\n",
       "  background-repeat: no-repeat;\n",
       "  background-position: center center;\n",
       "}\n",
       "\n",
       "/* Parallel-specific style estimator block */\n",
       "\n",
       "#sk-container-id-2 div.sk-parallel-item::after {\n",
       "  content: \"\";\n",
       "  width: 100%;\n",
       "  border-bottom: 2px solid var(--sklearn-color-text-on-default-background);\n",
       "  flex-grow: 1;\n",
       "}\n",
       "\n",
       "#sk-container-id-2 div.sk-parallel {\n",
       "  display: flex;\n",
       "  align-items: stretch;\n",
       "  justify-content: center;\n",
       "  background-color: var(--sklearn-color-background);\n",
       "  position: relative;\n",
       "}\n",
       "\n",
       "#sk-container-id-2 div.sk-parallel-item {\n",
       "  display: flex;\n",
       "  flex-direction: column;\n",
       "}\n",
       "\n",
       "#sk-container-id-2 div.sk-parallel-item:first-child::after {\n",
       "  align-self: flex-end;\n",
       "  width: 50%;\n",
       "}\n",
       "\n",
       "#sk-container-id-2 div.sk-parallel-item:last-child::after {\n",
       "  align-self: flex-start;\n",
       "  width: 50%;\n",
       "}\n",
       "\n",
       "#sk-container-id-2 div.sk-parallel-item:only-child::after {\n",
       "  width: 0;\n",
       "}\n",
       "\n",
       "/* Serial-specific style estimator block */\n",
       "\n",
       "#sk-container-id-2 div.sk-serial {\n",
       "  display: flex;\n",
       "  flex-direction: column;\n",
       "  align-items: center;\n",
       "  background-color: var(--sklearn-color-background);\n",
       "  padding-right: 1em;\n",
       "  padding-left: 1em;\n",
       "}\n",
       "\n",
       "\n",
       "/* Toggleable style: style used for estimator/Pipeline/ColumnTransformer box that is\n",
       "clickable and can be expanded/collapsed.\n",
       "- Pipeline and ColumnTransformer use this feature and define the default style\n",
       "- Estimators will overwrite some part of the style using the `sk-estimator` class\n",
       "*/\n",
       "\n",
       "/* Pipeline and ColumnTransformer style (default) */\n",
       "\n",
       "#sk-container-id-2 div.sk-toggleable {\n",
       "  /* Default theme specific background. It is overwritten whether we have a\n",
       "  specific estimator or a Pipeline/ColumnTransformer */\n",
       "  background-color: var(--sklearn-color-background);\n",
       "}\n",
       "\n",
       "/* Toggleable label */\n",
       "#sk-container-id-2 label.sk-toggleable__label {\n",
       "  cursor: pointer;\n",
       "  display: flex;\n",
       "  width: 100%;\n",
       "  margin-bottom: 0;\n",
       "  padding: 0.5em;\n",
       "  box-sizing: border-box;\n",
       "  text-align: center;\n",
       "  align-items: start;\n",
       "  justify-content: space-between;\n",
       "  gap: 0.5em;\n",
       "}\n",
       "\n",
       "#sk-container-id-2 label.sk-toggleable__label .caption {\n",
       "  font-size: 0.6rem;\n",
       "  font-weight: lighter;\n",
       "  color: var(--sklearn-color-text-muted);\n",
       "}\n",
       "\n",
       "#sk-container-id-2 label.sk-toggleable__label-arrow:before {\n",
       "  /* Arrow on the left of the label */\n",
       "  content: \"▸\";\n",
       "  float: left;\n",
       "  margin-right: 0.25em;\n",
       "  color: var(--sklearn-color-icon);\n",
       "}\n",
       "\n",
       "#sk-container-id-2 label.sk-toggleable__label-arrow:hover:before {\n",
       "  color: var(--sklearn-color-text);\n",
       "}\n",
       "\n",
       "/* Toggleable content - dropdown */\n",
       "\n",
       "#sk-container-id-2 div.sk-toggleable__content {\n",
       "  display: none;\n",
       "  text-align: left;\n",
       "  /* unfitted */\n",
       "  background-color: var(--sklearn-color-unfitted-level-0);\n",
       "}\n",
       "\n",
       "#sk-container-id-2 div.sk-toggleable__content.fitted {\n",
       "  /* fitted */\n",
       "  background-color: var(--sklearn-color-fitted-level-0);\n",
       "}\n",
       "\n",
       "#sk-container-id-2 div.sk-toggleable__content pre {\n",
       "  margin: 0.2em;\n",
       "  border-radius: 0.25em;\n",
       "  color: var(--sklearn-color-text);\n",
       "  /* unfitted */\n",
       "  background-color: var(--sklearn-color-unfitted-level-0);\n",
       "}\n",
       "\n",
       "#sk-container-id-2 div.sk-toggleable__content.fitted pre {\n",
       "  /* unfitted */\n",
       "  background-color: var(--sklearn-color-fitted-level-0);\n",
       "}\n",
       "\n",
       "#sk-container-id-2 input.sk-toggleable__control:checked~div.sk-toggleable__content {\n",
       "  /* Expand drop-down */\n",
       "  display: block;\n",
       "  width: 100%;\n",
       "  overflow: visible;\n",
       "}\n",
       "\n",
       "#sk-container-id-2 input.sk-toggleable__control:checked~label.sk-toggleable__label-arrow:before {\n",
       "  content: \"▾\";\n",
       "}\n",
       "\n",
       "/* Pipeline/ColumnTransformer-specific style */\n",
       "\n",
       "#sk-container-id-2 div.sk-label input.sk-toggleable__control:checked~label.sk-toggleable__label {\n",
       "  color: var(--sklearn-color-text);\n",
       "  background-color: var(--sklearn-color-unfitted-level-2);\n",
       "}\n",
       "\n",
       "#sk-container-id-2 div.sk-label.fitted input.sk-toggleable__control:checked~label.sk-toggleable__label {\n",
       "  background-color: var(--sklearn-color-fitted-level-2);\n",
       "}\n",
       "\n",
       "/* Estimator-specific style */\n",
       "\n",
       "/* Colorize estimator box */\n",
       "#sk-container-id-2 div.sk-estimator input.sk-toggleable__control:checked~label.sk-toggleable__label {\n",
       "  /* unfitted */\n",
       "  background-color: var(--sklearn-color-unfitted-level-2);\n",
       "}\n",
       "\n",
       "#sk-container-id-2 div.sk-estimator.fitted input.sk-toggleable__control:checked~label.sk-toggleable__label {\n",
       "  /* fitted */\n",
       "  background-color: var(--sklearn-color-fitted-level-2);\n",
       "}\n",
       "\n",
       "#sk-container-id-2 div.sk-label label.sk-toggleable__label,\n",
       "#sk-container-id-2 div.sk-label label {\n",
       "  /* The background is the default theme color */\n",
       "  color: var(--sklearn-color-text-on-default-background);\n",
       "}\n",
       "\n",
       "/* On hover, darken the color of the background */\n",
       "#sk-container-id-2 div.sk-label:hover label.sk-toggleable__label {\n",
       "  color: var(--sklearn-color-text);\n",
       "  background-color: var(--sklearn-color-unfitted-level-2);\n",
       "}\n",
       "\n",
       "/* Label box, darken color on hover, fitted */\n",
       "#sk-container-id-2 div.sk-label.fitted:hover label.sk-toggleable__label.fitted {\n",
       "  color: var(--sklearn-color-text);\n",
       "  background-color: var(--sklearn-color-fitted-level-2);\n",
       "}\n",
       "\n",
       "/* Estimator label */\n",
       "\n",
       "#sk-container-id-2 div.sk-label label {\n",
       "  font-family: monospace;\n",
       "  font-weight: bold;\n",
       "  display: inline-block;\n",
       "  line-height: 1.2em;\n",
       "}\n",
       "\n",
       "#sk-container-id-2 div.sk-label-container {\n",
       "  text-align: center;\n",
       "}\n",
       "\n",
       "/* Estimator-specific */\n",
       "#sk-container-id-2 div.sk-estimator {\n",
       "  font-family: monospace;\n",
       "  border: 1px dotted var(--sklearn-color-border-box);\n",
       "  border-radius: 0.25em;\n",
       "  box-sizing: border-box;\n",
       "  margin-bottom: 0.5em;\n",
       "  /* unfitted */\n",
       "  background-color: var(--sklearn-color-unfitted-level-0);\n",
       "}\n",
       "\n",
       "#sk-container-id-2 div.sk-estimator.fitted {\n",
       "  /* fitted */\n",
       "  background-color: var(--sklearn-color-fitted-level-0);\n",
       "}\n",
       "\n",
       "/* on hover */\n",
       "#sk-container-id-2 div.sk-estimator:hover {\n",
       "  /* unfitted */\n",
       "  background-color: var(--sklearn-color-unfitted-level-2);\n",
       "}\n",
       "\n",
       "#sk-container-id-2 div.sk-estimator.fitted:hover {\n",
       "  /* fitted */\n",
       "  background-color: var(--sklearn-color-fitted-level-2);\n",
       "}\n",
       "\n",
       "/* Specification for estimator info (e.g. \"i\" and \"?\") */\n",
       "\n",
       "/* Common style for \"i\" and \"?\" */\n",
       "\n",
       ".sk-estimator-doc-link,\n",
       "a:link.sk-estimator-doc-link,\n",
       "a:visited.sk-estimator-doc-link {\n",
       "  float: right;\n",
       "  font-size: smaller;\n",
       "  line-height: 1em;\n",
       "  font-family: monospace;\n",
       "  background-color: var(--sklearn-color-background);\n",
       "  border-radius: 1em;\n",
       "  height: 1em;\n",
       "  width: 1em;\n",
       "  text-decoration: none !important;\n",
       "  margin-left: 0.5em;\n",
       "  text-align: center;\n",
       "  /* unfitted */\n",
       "  border: var(--sklearn-color-unfitted-level-1) 1pt solid;\n",
       "  color: var(--sklearn-color-unfitted-level-1);\n",
       "}\n",
       "\n",
       ".sk-estimator-doc-link.fitted,\n",
       "a:link.sk-estimator-doc-link.fitted,\n",
       "a:visited.sk-estimator-doc-link.fitted {\n",
       "  /* fitted */\n",
       "  border: var(--sklearn-color-fitted-level-1) 1pt solid;\n",
       "  color: var(--sklearn-color-fitted-level-1);\n",
       "}\n",
       "\n",
       "/* On hover */\n",
       "div.sk-estimator:hover .sk-estimator-doc-link:hover,\n",
       ".sk-estimator-doc-link:hover,\n",
       "div.sk-label-container:hover .sk-estimator-doc-link:hover,\n",
       ".sk-estimator-doc-link:hover {\n",
       "  /* unfitted */\n",
       "  background-color: var(--sklearn-color-unfitted-level-3);\n",
       "  color: var(--sklearn-color-background);\n",
       "  text-decoration: none;\n",
       "}\n",
       "\n",
       "div.sk-estimator.fitted:hover .sk-estimator-doc-link.fitted:hover,\n",
       ".sk-estimator-doc-link.fitted:hover,\n",
       "div.sk-label-container:hover .sk-estimator-doc-link.fitted:hover,\n",
       ".sk-estimator-doc-link.fitted:hover {\n",
       "  /* fitted */\n",
       "  background-color: var(--sklearn-color-fitted-level-3);\n",
       "  color: var(--sklearn-color-background);\n",
       "  text-decoration: none;\n",
       "}\n",
       "\n",
       "/* Span, style for the box shown on hovering the info icon */\n",
       ".sk-estimator-doc-link span {\n",
       "  display: none;\n",
       "  z-index: 9999;\n",
       "  position: relative;\n",
       "  font-weight: normal;\n",
       "  right: .2ex;\n",
       "  padding: .5ex;\n",
       "  margin: .5ex;\n",
       "  width: min-content;\n",
       "  min-width: 20ex;\n",
       "  max-width: 50ex;\n",
       "  color: var(--sklearn-color-text);\n",
       "  box-shadow: 2pt 2pt 4pt #999;\n",
       "  /* unfitted */\n",
       "  background: var(--sklearn-color-unfitted-level-0);\n",
       "  border: .5pt solid var(--sklearn-color-unfitted-level-3);\n",
       "}\n",
       "\n",
       ".sk-estimator-doc-link.fitted span {\n",
       "  /* fitted */\n",
       "  background: var(--sklearn-color-fitted-level-0);\n",
       "  border: var(--sklearn-color-fitted-level-3);\n",
       "}\n",
       "\n",
       ".sk-estimator-doc-link:hover span {\n",
       "  display: block;\n",
       "}\n",
       "\n",
       "/* \"?\"-specific style due to the `<a>` HTML tag */\n",
       "\n",
       "#sk-container-id-2 a.estimator_doc_link {\n",
       "  float: right;\n",
       "  font-size: 1rem;\n",
       "  line-height: 1em;\n",
       "  font-family: monospace;\n",
       "  background-color: var(--sklearn-color-background);\n",
       "  border-radius: 1rem;\n",
       "  height: 1rem;\n",
       "  width: 1rem;\n",
       "  text-decoration: none;\n",
       "  /* unfitted */\n",
       "  color: var(--sklearn-color-unfitted-level-1);\n",
       "  border: var(--sklearn-color-unfitted-level-1) 1pt solid;\n",
       "}\n",
       "\n",
       "#sk-container-id-2 a.estimator_doc_link.fitted {\n",
       "  /* fitted */\n",
       "  border: var(--sklearn-color-fitted-level-1) 1pt solid;\n",
       "  color: var(--sklearn-color-fitted-level-1);\n",
       "}\n",
       "\n",
       "/* On hover */\n",
       "#sk-container-id-2 a.estimator_doc_link:hover {\n",
       "  /* unfitted */\n",
       "  background-color: var(--sklearn-color-unfitted-level-3);\n",
       "  color: var(--sklearn-color-background);\n",
       "  text-decoration: none;\n",
       "}\n",
       "\n",
       "#sk-container-id-2 a.estimator_doc_link.fitted:hover {\n",
       "  /* fitted */\n",
       "  background-color: var(--sklearn-color-fitted-level-3);\n",
       "}\n",
       "\n",
       ".estimator-table summary {\n",
       "    padding: .5rem;\n",
       "    font-family: monospace;\n",
       "    cursor: pointer;\n",
       "}\n",
       "\n",
       ".estimator-table details[open] {\n",
       "    padding-left: 0.1rem;\n",
       "    padding-right: 0.1rem;\n",
       "    padding-bottom: 0.3rem;\n",
       "}\n",
       "\n",
       ".estimator-table .parameters-table {\n",
       "    margin-left: auto !important;\n",
       "    margin-right: auto !important;\n",
       "}\n",
       "\n",
       ".estimator-table .parameters-table tr:nth-child(odd) {\n",
       "    background-color: #fff;\n",
       "}\n",
       "\n",
       ".estimator-table .parameters-table tr:nth-child(even) {\n",
       "    background-color: #f6f6f6;\n",
       "}\n",
       "\n",
       ".estimator-table .parameters-table tr:hover {\n",
       "    background-color: #e0e0e0;\n",
       "}\n",
       "\n",
       ".estimator-table table td {\n",
       "    border: 1px solid rgba(106, 105, 104, 0.232);\n",
       "}\n",
       "\n",
       ".user-set td {\n",
       "    color:rgb(255, 94, 0);\n",
       "    text-align: left;\n",
       "}\n",
       "\n",
       ".user-set td.value pre {\n",
       "    color:rgb(255, 94, 0) !important;\n",
       "    background-color: transparent !important;\n",
       "}\n",
       "\n",
       ".default td {\n",
       "    color: black;\n",
       "    text-align: left;\n",
       "}\n",
       "\n",
       ".user-set td i,\n",
       ".default td i {\n",
       "    color: black;\n",
       "}\n",
       "\n",
       ".copy-paste-icon {\n",
       "    background-image: url(data:image/svg+xml;base64,PHN2ZyB4bWxucz0iaHR0cDovL3d3dy53My5vcmcvMjAwMC9zdmciIHZpZXdCb3g9IjAgMCA0NDggNTEyIj48IS0tIUZvbnQgQXdlc29tZSBGcmVlIDYuNy4yIGJ5IEBmb250YXdlc29tZSAtIGh0dHBzOi8vZm9udGF3ZXNvbWUuY29tIExpY2Vuc2UgLSBodHRwczovL2ZvbnRhd2Vzb21lLmNvbS9saWNlbnNlL2ZyZWUgQ29weXJpZ2h0IDIwMjUgRm9udGljb25zLCBJbmMuLS0+PHBhdGggZD0iTTIwOCAwTDMzMi4xIDBjMTIuNyAwIDI0LjkgNS4xIDMzLjkgMTQuMWw2Ny45IDY3LjljOSA5IDE0LjEgMjEuMiAxNC4xIDMzLjlMNDQ4IDMzNmMwIDI2LjUtMjEuNSA0OC00OCA0OGwtMTkyIDBjLTI2LjUgMC00OC0yMS41LTQ4LTQ4bDAtMjg4YzAtMjYuNSAyMS41LTQ4IDQ4LTQ4ek00OCAxMjhsODAgMCAwIDY0LTY0IDAgMCAyNTYgMTkyIDAgMC0zMiA2NCAwIDAgNDhjMCAyNi41LTIxLjUgNDgtNDggNDhMNDggNTEyYy0yNi41IDAtNDgtMjEuNS00OC00OEwwIDE3NmMwLTI2LjUgMjEuNS00OCA0OC00OHoiLz48L3N2Zz4=);\n",
       "    background-repeat: no-repeat;\n",
       "    background-size: 14px 14px;\n",
       "    background-position: 0;\n",
       "    display: inline-block;\n",
       "    width: 14px;\n",
       "    height: 14px;\n",
       "    cursor: pointer;\n",
       "}\n",
       "</style><body><div id=\"sk-container-id-2\" class=\"sk-top-container\"><div class=\"sk-text-repr-fallback\"><pre>RandomizedSearchCV(cv=StratifiedKFold(n_splits=5, random_state=42, shuffle=True),\n",
       "                   estimator=&lt;catboost.core.CatBoostClassifier object at 0x7fec85d5f260&gt;,\n",
       "                   n_iter=50, n_jobs=1,\n",
       "                   param_distributions={&#x27;border_count&#x27;: [32, 254],\n",
       "                                        &#x27;depth&#x27;: [3, 7],\n",
       "                                        &#x27;grow_policy&#x27;: [&#x27;SymmetricTree&#x27;,\n",
       "                                                        &#x27;Depthwise&#x27;,\n",
       "                                                        &#x27;Lossguide&#x27;],\n",
       "                                        &#x27;l2_leaf_reg&#x27;: [0.5, 5],\n",
       "                                        &#x27;learning_rate&#x27;: [0.005, 0.1],\n",
       "                                        &#x27;min_data_in_leaf&#x27;: [1, 30]},\n",
       "                   random_state=42, scoring=&#x27;f1&#x27;, verbose=2)</pre><b>In a Jupyter environment, please rerun this cell to show the HTML representation or trust the notebook. <br />On GitHub, the HTML representation is unable to render, please try loading this page with nbviewer.org.</b></div><div class=\"sk-container\" hidden><div class=\"sk-item sk-dashed-wrapped\"><div class=\"sk-label-container\"><div class=\"sk-label fitted sk-toggleable\"><input class=\"sk-toggleable__control sk-hidden--visually\" id=\"sk-estimator-id-2\" type=\"checkbox\" ><label for=\"sk-estimator-id-2\" class=\"sk-toggleable__label fitted sk-toggleable__label-arrow\"><div><div>RandomizedSearchCV</div></div><div><a class=\"sk-estimator-doc-link fitted\" rel=\"noreferrer\" target=\"_blank\" href=\"https://scikit-learn.org/1.7/modules/generated/sklearn.model_selection.RandomizedSearchCV.html\">?<span>Documentation for RandomizedSearchCV</span></a><span class=\"sk-estimator-doc-link fitted\">i<span>Fitted</span></span></div></label><div class=\"sk-toggleable__content fitted\" data-param-prefix=\"\">\n",
       "        <div class=\"estimator-table\">\n",
       "            <details>\n",
       "                <summary>Parameters</summary>\n",
       "                <table class=\"parameters-table\">\n",
       "                  <tbody>\n",
       "                    \n",
       "        <tr class=\"user-set\">\n",
       "            <td><i class=\"copy-paste-icon\"\n",
       "                 onclick=\"copyToClipboard('estimator',\n",
       "                          this.parentElement.nextElementSibling)\"\n",
       "            ></i></td>\n",
       "            <td class=\"param\">estimator&nbsp;</td>\n",
       "            <td class=\"value\">&lt;catboost.cor...x7fec85d5f260&gt;</td>\n",
       "        </tr>\n",
       "    \n",
       "\n",
       "        <tr class=\"user-set\">\n",
       "            <td><i class=\"copy-paste-icon\"\n",
       "                 onclick=\"copyToClipboard('param_distributions',\n",
       "                          this.parentElement.nextElementSibling)\"\n",
       "            ></i></td>\n",
       "            <td class=\"param\">param_distributions&nbsp;</td>\n",
       "            <td class=\"value\">{&#x27;border_count&#x27;: [32, 254], &#x27;depth&#x27;: [3, 7], &#x27;grow_policy&#x27;: [&#x27;SymmetricTree&#x27;, &#x27;Depthwise&#x27;, ...], &#x27;l2_leaf_reg&#x27;: [0.5, 5], ...}</td>\n",
       "        </tr>\n",
       "    \n",
       "\n",
       "        <tr class=\"user-set\">\n",
       "            <td><i class=\"copy-paste-icon\"\n",
       "                 onclick=\"copyToClipboard('n_iter',\n",
       "                          this.parentElement.nextElementSibling)\"\n",
       "            ></i></td>\n",
       "            <td class=\"param\">n_iter&nbsp;</td>\n",
       "            <td class=\"value\">50</td>\n",
       "        </tr>\n",
       "    \n",
       "\n",
       "        <tr class=\"user-set\">\n",
       "            <td><i class=\"copy-paste-icon\"\n",
       "                 onclick=\"copyToClipboard('scoring',\n",
       "                          this.parentElement.nextElementSibling)\"\n",
       "            ></i></td>\n",
       "            <td class=\"param\">scoring&nbsp;</td>\n",
       "            <td class=\"value\">&#x27;f1&#x27;</td>\n",
       "        </tr>\n",
       "    \n",
       "\n",
       "        <tr class=\"user-set\">\n",
       "            <td><i class=\"copy-paste-icon\"\n",
       "                 onclick=\"copyToClipboard('n_jobs',\n",
       "                          this.parentElement.nextElementSibling)\"\n",
       "            ></i></td>\n",
       "            <td class=\"param\">n_jobs&nbsp;</td>\n",
       "            <td class=\"value\">1</td>\n",
       "        </tr>\n",
       "    \n",
       "\n",
       "        <tr class=\"default\">\n",
       "            <td><i class=\"copy-paste-icon\"\n",
       "                 onclick=\"copyToClipboard('refit',\n",
       "                          this.parentElement.nextElementSibling)\"\n",
       "            ></i></td>\n",
       "            <td class=\"param\">refit&nbsp;</td>\n",
       "            <td class=\"value\">True</td>\n",
       "        </tr>\n",
       "    \n",
       "\n",
       "        <tr class=\"user-set\">\n",
       "            <td><i class=\"copy-paste-icon\"\n",
       "                 onclick=\"copyToClipboard('cv',\n",
       "                          this.parentElement.nextElementSibling)\"\n",
       "            ></i></td>\n",
       "            <td class=\"param\">cv&nbsp;</td>\n",
       "            <td class=\"value\">StratifiedKFo... shuffle=True)</td>\n",
       "        </tr>\n",
       "    \n",
       "\n",
       "        <tr class=\"user-set\">\n",
       "            <td><i class=\"copy-paste-icon\"\n",
       "                 onclick=\"copyToClipboard('verbose',\n",
       "                          this.parentElement.nextElementSibling)\"\n",
       "            ></i></td>\n",
       "            <td class=\"param\">verbose&nbsp;</td>\n",
       "            <td class=\"value\">2</td>\n",
       "        </tr>\n",
       "    \n",
       "\n",
       "        <tr class=\"default\">\n",
       "            <td><i class=\"copy-paste-icon\"\n",
       "                 onclick=\"copyToClipboard('pre_dispatch',\n",
       "                          this.parentElement.nextElementSibling)\"\n",
       "            ></i></td>\n",
       "            <td class=\"param\">pre_dispatch&nbsp;</td>\n",
       "            <td class=\"value\">&#x27;2*n_jobs&#x27;</td>\n",
       "        </tr>\n",
       "    \n",
       "\n",
       "        <tr class=\"user-set\">\n",
       "            <td><i class=\"copy-paste-icon\"\n",
       "                 onclick=\"copyToClipboard('random_state',\n",
       "                          this.parentElement.nextElementSibling)\"\n",
       "            ></i></td>\n",
       "            <td class=\"param\">random_state&nbsp;</td>\n",
       "            <td class=\"value\">42</td>\n",
       "        </tr>\n",
       "    \n",
       "\n",
       "        <tr class=\"default\">\n",
       "            <td><i class=\"copy-paste-icon\"\n",
       "                 onclick=\"copyToClipboard('error_score',\n",
       "                          this.parentElement.nextElementSibling)\"\n",
       "            ></i></td>\n",
       "            <td class=\"param\">error_score&nbsp;</td>\n",
       "            <td class=\"value\">nan</td>\n",
       "        </tr>\n",
       "    \n",
       "\n",
       "        <tr class=\"default\">\n",
       "            <td><i class=\"copy-paste-icon\"\n",
       "                 onclick=\"copyToClipboard('return_train_score',\n",
       "                          this.parentElement.nextElementSibling)\"\n",
       "            ></i></td>\n",
       "            <td class=\"param\">return_train_score&nbsp;</td>\n",
       "            <td class=\"value\">False</td>\n",
       "        </tr>\n",
       "    \n",
       "                  </tbody>\n",
       "                </table>\n",
       "            </details>\n",
       "        </div>\n",
       "    </div></div></div><div class=\"sk-parallel\"><div class=\"sk-parallel-item\"><div class=\"sk-item\"><div class=\"sk-label-container\"><div class=\"sk-label fitted sk-toggleable\"><input class=\"sk-toggleable__control sk-hidden--visually\" id=\"sk-estimator-id-3\" type=\"checkbox\" ><label for=\"sk-estimator-id-3\" class=\"sk-toggleable__label fitted sk-toggleable__label-arrow\"><div><div>best_estimator_: CatBoostClassifier</div></div></label><div class=\"sk-toggleable__content fitted\" data-param-prefix=\"best_estimator___\"><pre>&lt;catboost.core.CatBoostClassifier object at 0x7fec85d39d90&gt;</pre></div></div></div><div class=\"sk-serial\"><div class=\"sk-item\"><div class=\"sk-estimator fitted sk-toggleable\"><input class=\"sk-toggleable__control sk-hidden--visually\" id=\"sk-estimator-id-4\" type=\"checkbox\" ><label for=\"sk-estimator-id-4\" class=\"sk-toggleable__label fitted sk-toggleable__label-arrow\"><div><div>CatBoostClassifier</div></div></label><div class=\"sk-toggleable__content fitted\" data-param-prefix=\"best_estimator___\"><pre>&lt;catboost.core.CatBoostClassifier object at 0x7fec85d39d90&gt;</pre></div></div></div></div></div></div></div></div></div></div><script>function copyToClipboard(text, element) {\n",
       "    // Get the parameter prefix from the closest toggleable content\n",
       "    const toggleableContent = element.closest('.sk-toggleable__content');\n",
       "    const paramPrefix = toggleableContent ? toggleableContent.dataset.paramPrefix : '';\n",
       "    const fullParamName = paramPrefix ? `${paramPrefix}${text}` : text;\n",
       "\n",
       "    const originalStyle = element.style;\n",
       "    const computedStyle = window.getComputedStyle(element);\n",
       "    const originalWidth = computedStyle.width;\n",
       "    const originalHTML = element.innerHTML.replace('Copied!', '');\n",
       "\n",
       "    navigator.clipboard.writeText(fullParamName)\n",
       "        .then(() => {\n",
       "            element.style.width = originalWidth;\n",
       "            element.style.color = 'green';\n",
       "            element.innerHTML = \"Copied!\";\n",
       "\n",
       "            setTimeout(() => {\n",
       "                element.innerHTML = originalHTML;\n",
       "                element.style = originalStyle;\n",
       "            }, 2000);\n",
       "        })\n",
       "        .catch(err => {\n",
       "            console.error('Failed to copy:', err);\n",
       "            element.style.color = 'red';\n",
       "            element.innerHTML = \"Failed!\";\n",
       "            setTimeout(() => {\n",
       "                element.innerHTML = originalHTML;\n",
       "                element.style = originalStyle;\n",
       "            }, 2000);\n",
       "        });\n",
       "    return false;\n",
       "}\n",
       "\n",
       "document.querySelectorAll('.fa-regular.fa-copy').forEach(function(element) {\n",
       "    const toggleableContent = element.closest('.sk-toggleable__content');\n",
       "    const paramPrefix = toggleableContent ? toggleableContent.dataset.paramPrefix : '';\n",
       "    const paramName = element.parentElement.nextElementSibling.textContent.trim();\n",
       "    const fullParamName = paramPrefix ? `${paramPrefix}${paramName}` : paramName;\n",
       "\n",
       "    element.setAttribute('title', fullParamName);\n",
       "});\n",
       "</script></body>"
      ],
      "text/plain": [
       "RandomizedSearchCV(cv=StratifiedKFold(n_splits=5, random_state=42, shuffle=True),\n",
       "                   estimator=<catboost.core.CatBoostClassifier object at 0x7fec85d5f260>,\n",
       "                   n_iter=50, n_jobs=1,\n",
       "                   param_distributions={'border_count': [32, 254],\n",
       "                                        'depth': [3, 7],\n",
       "                                        'grow_policy': ['SymmetricTree',\n",
       "                                                        'Depthwise',\n",
       "                                                        'Lossguide'],\n",
       "                                        'l2_leaf_reg': [0.5, 5],\n",
       "                                        'learning_rate': [0.005, 0.1],\n",
       "                                        'min_data_in_leaf': [1, 30]},\n",
       "                   random_state=42, scoring='f1', verbose=2)"
      ]
     },
     "execution_count": 67,
     "metadata": {},
     "output_type": "execute_result"
    }
   ],
   "source": [
    "\n",
    "params = {\n",
    "    \"depth\": [3,7],  \n",
    "    \"learning_rate\": [0.005, 0.1], \n",
    "    \"l2_leaf_reg\": [0.5, 5], \n",
    "    \"min_data_in_leaf\": [1, 30],\n",
    "    \"grow_policy\": [\"SymmetricTree\", \"Depthwise\", \"Lossguide\"],\n",
    "    \"border_count\": [32, 254]\n",
    "}\n",
    "\n",
    "\n",
    "model = CatBoostClassifier(\n",
    "    iterations=1000,\n",
    "    early_stopping_rounds=50,\n",
    "    scale_pos_weight=scale_pos_weight, \n",
    "    eval_metric=\"F1\",  \n",
    "    task_type=\"GPU\",\n",
    "    devices='0:1',\n",
    "    verbose=500, \n",
    ")\n",
    "\n",
    "cv = StratifiedKFold(n_splits=5, shuffle=True, random_state=RANDOM_STATE)\n",
    "\n",
    "random_search_cat = RandomizedSearchCV(\n",
    "    estimator=model,\n",
    "    param_distributions=params,\n",
    "    n_iter=50,\n",
    "    cv=cv,\n",
    "    scoring=\"f1\",\n",
    "    n_jobs=1,  \n",
    "    random_state=RANDOM_STATE,\n",
    "    verbose=2,\n",
    ")\n",
    "\n",
    "random_search_cat.fit(X_train, y_train)"
   ]
  },
  {
   "cell_type": "code",
   "execution_count": 68,
   "id": "91562421-c23d-47e3-b494-a8ab2183d799",
   "metadata": {},
   "outputs": [
    {
     "name": "stdout",
     "output_type": "stream",
     "text": [
      "F1 для CatBoost: 0.949\n",
      "Параметры CatBoost: {'min_data_in_leaf': 1, 'learning_rate': 0.1, 'l2_leaf_reg': 5, 'grow_policy': 'Lossguide', 'depth': 7, 'border_count': 254}\n"
     ]
    }
   ],
   "source": [
    "\n",
    "print(f\"F1 для CatBoost: {random_search_cat.best_score_:.3f}\")\n",
    "print(f\"Параметры CatBoost: {random_search_cat.best_params_}\")\n",
    "df.loc[2] = ['CatBoost', random_search_cat.best_params_, round(random_search_cat.best_score_,3)]\n",
    "\n",
    "best_model = random_search_cat.best_estimator_\n",
    "best_model.save_model('best_catboost_model.cbm')"
   ]
  },
  {
   "cell_type": "markdown",
   "id": "efb81c38-680e-4791-b6c7-5784a5c3117e",
   "metadata": {},
   "source": [
    "### DistilBERT"
   ]
  },
  {
   "cell_type": "code",
   "execution_count": 70,
   "id": "19602100-2f07-4725-8d1c-426c0641b924",
   "metadata": {},
   "outputs": [
    {
     "name": "stdout",
     "output_type": "stream",
     "text": [
      "Using device: cuda\n",
      "Number of GPUs available: 1\n"
     ]
    }
   ],
   "source": [
    "# Проверяем доступность GPU\n",
    "device = torch.device(\"cuda\" if torch.cuda.is_available() else \"cpu\")\n",
    "print(f\"Using device: {device}\")\n",
    "print(f\"Number of GPUs available: {torch.cuda.device_count()}\")"
   ]
  },
  {
   "cell_type": "code",
   "execution_count": 71,
   "id": "32b5ee57-634b-4684-97b7-b17f843c346f",
   "metadata": {},
   "outputs": [],
   "source": [
    "k=40000\n",
    "\n",
    "embeddings = features[:k]\n",
    "\n",
    "labels = query_1['toxic'].head(k).values  # Предполагаем бинарную классификацию (0 - нетоксично, 1 - токсично)\n",
    "\n",
    "# Проверяем размерности\n",
    "assert len(embeddings) == len(labels), \"Количество эмбеддингов и меток должно совпадать\"\n",
    "\n"
   ]
  },
  {
   "cell_type": "code",
   "execution_count": 72,
   "id": "cf9cfc25-31b2-48ce-b177-e5d95b7fa311",
   "metadata": {},
   "outputs": [],
   "source": [
    "# Создаем Dataset\n",
    "class ToxicityDataset(Dataset):\n",
    "    def __init__(self, embeddings, labels):\n",
    "        self.embeddings = embeddings\n",
    "        self.labels = labels\n",
    "        \n",
    "    def __len__(self):\n",
    "        return len(self.labels)\n",
    "    \n",
    "    def __getitem__(self, idx):\n",
    "        embedding = torch.tensor(self.embeddings[idx], dtype=torch.float32)\n",
    "        label = torch.tensor(self.labels[idx], dtype=torch.long)\n",
    "        return embedding, label\n",
    "\n"
   ]
  },
  {
   "cell_type": "code",
   "execution_count": 73,
   "id": "b1491035-7fb2-45d8-9980-b53d68880f37",
   "metadata": {},
   "outputs": [],
   "source": [
    "# Определяем модель классификатора\n",
    "class ToxicityClassifier(nn.Module):\n",
    "    def __init__(self, input_size, hidden_size=256, num_classes=2):\n",
    "        super(ToxicityClassifier, self).__init__()\n",
    "        self.fc1 = nn.Linear(input_size, hidden_size)\n",
    "        self.relu = nn.ReLU()\n",
    "        self.dropout = nn.Dropout(0.3)\n",
    "        self.fc2 = nn.Linear(hidden_size, num_classes)\n",
    "        \n",
    "    def forward(self, x):\n",
    "        x = self.fc1(x)\n",
    "        x = self.relu(x)\n",
    "        x = self.dropout(x)\n",
    "        x = self.fc2(x)\n",
    "        return x"
   ]
  },
  {
   "cell_type": "code",
   "execution_count": 74,
   "id": "9a22bd8c-242f-4487-9ecd-4b801b3855d3",
   "metadata": {},
   "outputs": [],
   "source": [
    "# Функция для обучения одной эпохи\n",
    "def train_epoch(model, dataloader, criterion, optimizer, device):\n",
    "    model.train()\n",
    "    total_loss = 0\n",
    "    all_preds = []\n",
    "    all_labels = []\n",
    "    \n",
    "    for embeddings, labels in tqdm(dataloader, desc=\"Training\"):\n",
    "        embeddings = embeddings.to(device)\n",
    "        labels = labels.to(device)\n",
    "        \n",
    "        optimizer.zero_grad()\n",
    "        outputs = model(embeddings)\n",
    "        loss = criterion(outputs, labels)\n",
    "        loss.backward()\n",
    "        optimizer.step()\n",
    "        \n",
    "        total_loss += loss.item()\n",
    "        _, preds = torch.max(outputs, 1)\n",
    "        all_preds.extend(preds.cpu().numpy())\n",
    "        all_labels.extend(labels.cpu().numpy())\n",
    "    \n",
    "    avg_loss = total_loss / len(dataloader)\n",
    "    f1 = f1_score(all_labels, all_preds)\n",
    "    \n",
    "    return avg_loss, f1"
   ]
  },
  {
   "cell_type": "code",
   "execution_count": 76,
   "id": "6ed8e6c6-3d31-49ac-9512-d660651333f2",
   "metadata": {},
   "outputs": [],
   "source": [
    "# Настройки обучения\n",
    "BATCH_SIZE = 128\n",
    "EPOCHS = 10\n",
    "LEARNING_RATE = 1e-4\n",
    "K_FOLDS = 5\n",
    "EMBEDDING_SIZE = embeddings.shape[1]  # Размерность эмбеддингов"
   ]
  },
  {
   "cell_type": "code",
   "execution_count": 84,
   "id": "6453c52b-0085-4546-b37e-275812a5e4b6",
   "metadata": {
    "scrolled": true
   },
   "outputs": [
    {
     "name": "stdout",
     "output_type": "stream",
     "text": [
      "\n",
      "Fold 1/5\n"
     ]
    },
    {
     "name": "stderr",
     "output_type": "stream",
     "text": [
      "Training: 100%|██████████| 250/250 [00:01<00:00, 156.60it/s]\n",
      "Training: 100%|██████████| 250/250 [00:01<00:00, 175.02it/s]\n",
      "Training: 100%|██████████| 250/250 [00:01<00:00, 172.28it/s]\n",
      "Training: 100%|██████████| 250/250 [00:01<00:00, 166.09it/s]\n",
      "Training: 100%|██████████| 250/250 [00:01<00:00, 175.93it/s]\n",
      "Training: 100%|██████████| 250/250 [00:01<00:00, 166.56it/s]\n",
      "Training: 100%|██████████| 250/250 [00:01<00:00, 175.17it/s]\n",
      "Training: 100%|██████████| 250/250 [00:01<00:00, 177.46it/s]\n",
      "Training: 100%|██████████| 250/250 [00:01<00:00, 176.88it/s]\n",
      "Training: 100%|██████████| 250/250 [00:01<00:00, 177.01it/s]\n"
     ]
    },
    {
     "name": "stdout",
     "output_type": "stream",
     "text": [
      "F1-score для фолда 1: 0.9532\n",
      "\n",
      "Fold 2/5\n"
     ]
    },
    {
     "name": "stderr",
     "output_type": "stream",
     "text": [
      "Training: 100%|██████████| 250/250 [00:01<00:00, 176.86it/s]\n",
      "Training: 100%|██████████| 250/250 [00:01<00:00, 177.16it/s]\n",
      "Training: 100%|██████████| 250/250 [00:01<00:00, 166.90it/s]\n",
      "Training: 100%|██████████| 250/250 [00:01<00:00, 161.17it/s]\n",
      "Training: 100%|██████████| 250/250 [00:01<00:00, 167.95it/s]\n",
      "Training: 100%|██████████| 250/250 [00:01<00:00, 170.85it/s]\n",
      "Training: 100%|██████████| 250/250 [00:01<00:00, 173.35it/s]\n",
      "Training: 100%|██████████| 250/250 [00:01<00:00, 173.55it/s]\n",
      "Training: 100%|██████████| 250/250 [00:01<00:00, 172.12it/s]\n",
      "Training: 100%|██████████| 250/250 [00:01<00:00, 167.59it/s]\n"
     ]
    },
    {
     "name": "stdout",
     "output_type": "stream",
     "text": [
      "F1-score для фолда 2: 0.9400\n",
      "\n",
      "Fold 3/5\n"
     ]
    },
    {
     "name": "stderr",
     "output_type": "stream",
     "text": [
      "Training: 100%|██████████| 250/250 [00:01<00:00, 162.53it/s]\n",
      "Training: 100%|██████████| 250/250 [00:01<00:00, 159.76it/s]\n",
      "Training: 100%|██████████| 250/250 [00:01<00:00, 164.33it/s]\n",
      "Training: 100%|██████████| 250/250 [00:01<00:00, 170.50it/s]\n",
      "Training: 100%|██████████| 250/250 [00:01<00:00, 173.99it/s]\n",
      "Training: 100%|██████████| 250/250 [00:01<00:00, 173.60it/s]\n",
      "Training: 100%|██████████| 250/250 [00:01<00:00, 174.06it/s]\n",
      "Training: 100%|██████████| 250/250 [00:01<00:00, 168.61it/s]\n",
      "Training: 100%|██████████| 250/250 [00:01<00:00, 165.50it/s]\n",
      "Training: 100%|██████████| 250/250 [00:01<00:00, 174.20it/s]\n"
     ]
    },
    {
     "name": "stdout",
     "output_type": "stream",
     "text": [
      "F1-score для фолда 3: 0.9459\n",
      "\n",
      "Fold 4/5\n"
     ]
    },
    {
     "name": "stderr",
     "output_type": "stream",
     "text": [
      "Training: 100%|██████████| 250/250 [00:01<00:00, 178.95it/s]\n",
      "Training: 100%|██████████| 250/250 [00:01<00:00, 169.97it/s]\n",
      "Training: 100%|██████████| 250/250 [00:01<00:00, 157.34it/s]\n",
      "Training: 100%|██████████| 250/250 [00:01<00:00, 161.11it/s]\n",
      "Training: 100%|██████████| 250/250 [00:01<00:00, 166.48it/s]\n",
      "Training: 100%|██████████| 250/250 [00:01<00:00, 173.36it/s]\n",
      "Training: 100%|██████████| 250/250 [00:01<00:00, 168.81it/s]\n",
      "Training: 100%|██████████| 250/250 [00:01<00:00, 173.16it/s]\n",
      "Training: 100%|██████████| 250/250 [00:01<00:00, 174.31it/s]\n",
      "Training: 100%|██████████| 250/250 [00:01<00:00, 173.63it/s]\n"
     ]
    },
    {
     "name": "stdout",
     "output_type": "stream",
     "text": [
      "F1-score для фолда 4: 0.9429\n",
      "\n",
      "Fold 5/5\n"
     ]
    },
    {
     "name": "stderr",
     "output_type": "stream",
     "text": [
      "Training: 100%|██████████| 250/250 [00:01<00:00, 165.35it/s]\n",
      "Training: 100%|██████████| 250/250 [00:01<00:00, 175.18it/s]\n",
      "Training: 100%|██████████| 250/250 [00:01<00:00, 175.91it/s]\n",
      "Training: 100%|██████████| 250/250 [00:01<00:00, 177.36it/s]\n",
      "Training: 100%|██████████| 250/250 [00:01<00:00, 178.32it/s]\n",
      "Training: 100%|██████████| 250/250 [00:01<00:00, 181.67it/s]\n",
      "Training: 100%|██████████| 250/250 [00:01<00:00, 176.21it/s]\n",
      "Training: 100%|██████████| 250/250 [00:01<00:00, 165.32it/s]\n",
      "Training: 100%|██████████| 250/250 [00:01<00:00, 171.59it/s]\n",
      "Training: 100%|██████████| 250/250 [00:01<00:00, 170.13it/s]\n"
     ]
    },
    {
     "name": "stdout",
     "output_type": "stream",
     "text": [
      "F1-score для фолда 5: 0.9512\n",
      "\n",
      "Итоговый F1 после кросс-валидации: 0.947\n"
     ]
    }
   ],
   "source": [
    "kf = KFold(n_splits=K_FOLDS, shuffle=True, random_state=RANDOM_STATE)\n",
    "\n",
    "# Инициализируем массивы для хранения OOF-предсказаний\n",
    "oof_predictions = np.zeros(len(embeddings))\n",
    "oof_probs = np.zeros(len(embeddings))\n",
    "\n",
    "# Модифицированный цикл кросс-валидации\n",
    "for fold, (train_idx, val_idx) in enumerate(kf.split(embeddings)):\n",
    "    print(f\"\\nFold {fold + 1}/{K_FOLDS}\")\n",
    "    \n",
    "    # Создаем датасеты\n",
    "    train_dataset = ToxicityDataset(embeddings[train_idx], labels[train_idx])\n",
    "    val_dataset = ToxicityDataset(embeddings[val_idx], labels[val_idx])\n",
    "    \n",
    "    train_loader = DataLoader(train_dataset, batch_size=BATCH_SIZE, shuffle=True)\n",
    "    val_loader = DataLoader(val_dataset, batch_size=BATCH_SIZE, shuffle=False)\n",
    "    \n",
    "    # Инициализация и обучение модели\n",
    "    model = ToxicityClassifier(EMBEDDING_SIZE)\n",
    "    if torch.cuda.device_count() > 1:\n",
    "        model = nn.DataParallel(model)\n",
    "    model.to(device)\n",
    "    \n",
    "    criterion = nn.CrossEntropyLoss()\n",
    "    optimizer = torch.optim.Adam(model.parameters(), lr=LEARNING_RATE)\n",
    "    \n",
    "    # Обучение (как в предыдущем примере)\n",
    "    for epoch in range(EPOCHS):\n",
    "        train_epoch(model, train_loader, criterion, optimizer, device)\n",
    "    \n",
    "    # Делаем предсказания на валидационном наборе текущего фолда\n",
    "    model.eval()\n",
    "    val_preds = []\n",
    "    val_probs = []\n",
    "    val_labels = []\n",
    "    \n",
    "    with torch.no_grad():\n",
    "        for embeddings_batch, labels_batch in val_loader:\n",
    "            embeddings_batch = embeddings_batch.to(device)\n",
    "            outputs = model(embeddings_batch)\n",
    "            probs = torch.softmax(outputs, dim=1)\n",
    "            _, preds = torch.max(outputs, 1)\n",
    "            \n",
    "            val_preds.extend(preds.cpu().numpy())\n",
    "            val_probs.extend(probs[:, 1].cpu().numpy())  # Вероятность класса 1\n",
    "            val_labels.extend(labels_batch.cpu().numpy())\n",
    "    \n",
    "    # Сохраняем предсказания для текущего фолда\n",
    "    oof_predictions[val_idx] = val_preds\n",
    "    oof_probs[val_idx] = val_probs\n",
    "    \n",
    "    # Вычисляем F1 для текущего фолда\n",
    "    fold_f1 = f1_score(val_labels, val_preds)\n",
    "    print(f\"F1-score для фолда {fold + 1}: {fold_f1:.4f}\")\n",
    "\n",
    "# Вычисляем итоговый F1 по всем OOF-предсказаниям\n",
    "final_f1 = f1_score(labels, oof_predictions)\n",
    "print(f\"\\nИтоговый F1 после кросс-валидации: {final_f1:.3f}\")\n",
    "\n",
    "df.loc[3] = ['DistilBERT', 'BATCH_SIZE = 128, EPOCHS = 10, LEARNING_RATE = 1e-4', round(final_f1,3)]"
   ]
  },
  {
   "cell_type": "markdown",
   "id": "5caa88df-a360-468c-a868-e7bc3c6d0d9b",
   "metadata": {},
   "source": [
    "\n"
   ]
  },
  {
   "cell_type": "markdown",
   "id": "09718822-329b-45cc-a279-dc1c9986e52c",
   "metadata": {},
   "source": [
    "### Сравнительная таблица"
   ]
  },
  {
   "cell_type": "code",
   "execution_count": 86,
   "id": "fd403480-48f8-4f07-8ce9-af7b14ba56a3",
   "metadata": {},
   "outputs": [
    {
     "data": {
      "text/html": [
       "<div>\n",
       "<style scoped>\n",
       "    .dataframe tbody tr th:only-of-type {\n",
       "        vertical-align: middle;\n",
       "    }\n",
       "\n",
       "    .dataframe tbody tr th {\n",
       "        vertical-align: top;\n",
       "    }\n",
       "\n",
       "    .dataframe thead th {\n",
       "        text-align: right;\n",
       "    }\n",
       "</style>\n",
       "<table border=\"1\" class=\"dataframe\">\n",
       "  <thead>\n",
       "    <tr style=\"text-align: right;\">\n",
       "      <th></th>\n",
       "      <th>Модель</th>\n",
       "      <th>Параметры</th>\n",
       "      <th>F1 на кросс-валидации</th>\n",
       "    </tr>\n",
       "  </thead>\n",
       "  <tbody>\n",
       "    <tr>\n",
       "      <th>0</th>\n",
       "      <td>DummyClassifier</td>\n",
       "      <td>-</td>\n",
       "      <td>0.184481</td>\n",
       "    </tr>\n",
       "    <tr>\n",
       "      <th>1</th>\n",
       "      <td>LogisticRegression</td>\n",
       "      <td>{'C': 1.0, 'class_weight': 'balanced', 'dual': False, 'fit_intercept': True, 'intercept_scaling': 1, 'l1_ratio': None, 'max_iter': 1000, 'multi_class': 'deprecated', 'n_jobs': None, 'penalty': 'l2', 'random_state': None, 'solver': 'lbfgs', 'tol': 0.0001, 'verbose': 0, 'warm_start': False}</td>\n",
       "      <td>0.930000</td>\n",
       "    </tr>\n",
       "    <tr>\n",
       "      <th>2</th>\n",
       "      <td>CatBoost</td>\n",
       "      <td>{'min_data_in_leaf': 1, 'learning_rate': 0.1, 'l2_leaf_reg': 5, 'grow_policy': 'Lossguide', 'depth': 7, 'border_count': 254}</td>\n",
       "      <td>0.949000</td>\n",
       "    </tr>\n",
       "    <tr>\n",
       "      <th>3</th>\n",
       "      <td>DistilBERT</td>\n",
       "      <td>BATCH_SIZE = 128, EPOCHS = 10, LEARNING_RATE = 1e-4</td>\n",
       "      <td>0.947000</td>\n",
       "    </tr>\n",
       "  </tbody>\n",
       "</table>\n",
       "</div>"
      ],
      "text/plain": [
       "               Модель  \\\n",
       "0     DummyClassifier   \n",
       "1  LogisticRegression   \n",
       "2            CatBoost   \n",
       "3          DistilBERT   \n",
       "\n",
       "                                                                                                                                                                                                                                                                                           Параметры  \\\n",
       "0                                                                                                                                                                                                                                                                                                  -   \n",
       "1  {'C': 1.0, 'class_weight': 'balanced', 'dual': False, 'fit_intercept': True, 'intercept_scaling': 1, 'l1_ratio': None, 'max_iter': 1000, 'multi_class': 'deprecated', 'n_jobs': None, 'penalty': 'l2', 'random_state': None, 'solver': 'lbfgs', 'tol': 0.0001, 'verbose': 0, 'warm_start': False}   \n",
       "2                                                                                                                                                                       {'min_data_in_leaf': 1, 'learning_rate': 0.1, 'l2_leaf_reg': 5, 'grow_policy': 'Lossguide', 'depth': 7, 'border_count': 254}   \n",
       "3                                                                                                                                                                                                                                                BATCH_SIZE = 128, EPOCHS = 10, LEARNING_RATE = 1e-4   \n",
       "\n",
       "   F1 на кросс-валидации  \n",
       "0               0.184481  \n",
       "1               0.930000  \n",
       "2               0.949000  \n",
       "3               0.947000  "
      ]
     },
     "execution_count": 86,
     "metadata": {},
     "output_type": "execute_result"
    }
   ],
   "source": [
    "pd.set_option('display.max_colwidth', None)\n",
    "df"
   ]
  },
  {
   "cell_type": "markdown",
   "id": "02f56c67-11e6-4712-a792-f18e265430c5",
   "metadata": {},
   "source": [
    "*Таким образом, лучше всего показала себя классичекая модель CatBoost {'min_data_in_leaf': 1, 'learning_rate': 0.1, 'l2_leaf_reg': 5, 'grow_policy': 'Lossguide', 'depth': 7, 'border_count': 254} с метрикой F1 = 0,95 на эмбеддингах, подготовленных моделью toxic-bert.*"
   ]
  },
  {
   "cell_type": "markdown",
   "id": "30871069-c351-43b4-9b93-8c368d311fcb",
   "metadata": {},
   "source": [
    "### На тестовых данных"
   ]
  },
  {
   "cell_type": "code",
   "execution_count": 88,
   "id": "1524c1ec-32ed-4ab8-83ea-5fd358c96f07",
   "metadata": {},
   "outputs": [
    {
     "name": "stdout",
     "output_type": "stream",
     "text": [
      "F1-weighted на тесте: 0.945\n"
     ]
    }
   ],
   "source": [
    "y_pred_test = random_search_cat.predict(X_test)\n",
    "f1_test = f1_score(y_test, y_pred_test)#, average='weighted')\n",
    "print(f\"F1-weighted на тесте: {f1_test:.3f}\")"
   ]
  },
  {
   "cell_type": "markdown",
   "id": "73650f24-e9ae-4108-97b7-570936253e5c",
   "metadata": {},
   "source": [
    "Итак, на тестовых данных качество модели F1 = 0,945."
   ]
  },
  {
   "cell_type": "markdown",
   "id": "f9fd6102-bd46-4e37-84e7-db4524eaee3d",
   "metadata": {},
   "source": [
    "### Матрица ошибок и предсказание"
   ]
  },
  {
   "cell_type": "code",
   "execution_count": 92,
   "id": "1408a837-0548-4148-8f25-eeba10307369",
   "metadata": {},
   "outputs": [
    {
     "data": {
      "image/png": "[encoded data removed]",
      "text/plain": [
       "<Figure size 800x600 with 2 Axes>"
      ]
     },
     "metadata": {},
     "output_type": "display_data"
    }
   ],
   "source": [
    "cm = confusion_matrix(y_test, y_pred_test)\n",
    "precision = precision_score(y_test, y_pred_test)\n",
    "recall = recall_score(y_test, y_pred_test)\n",
    "\n",
    "plt.figure(figsize=(8, 6))\n",
    "sns.heatmap(cm, annot=True, fmt='d', cmap='Blues',\n",
    "            xticklabels=['Predicted 0', 'Predicted 1'],\n",
    "            yticklabels=['Actual 0', 'Actual 1'])\n",
    "plt.title(f'Confusion Matrix\\nPrecision = {precision:.2f}, Recall = {recall:.2f}')\n",
    "plt.xlabel('Predicted')\n",
    "plt.ylabel('Actual')\n",
    "plt.show()"
   ]
  },
  {
   "cell_type": "markdown",
   "id": "d9be9eae-40be-425d-8828-caba515ee537",
   "metadata": {},
   "source": [
    "*Матрица ошибок говорит о том, что:*\n",
    "1. *Из 79635 значений, модель правильно предсказала 70997 отрицательных классов (True Negative), т. е. правильно определила нетоксичные комментарии.*\n",
    "2. *Модель правильно предсказала 7740 положительных класса (True Positiv), т. е. правильно определила токсичные комментарии.*\n",
    "3. *Сравнительно небольшое число ошибок False Positive, ошибок первого рода, то есть нетоксичных комментария, которых модель определила токсичными, 546.*\n",
    "4. *Ошибок второго рода, False Negative, мало, 359.*\n",
    "\n",
    "Найденная модель показала высокое качество и по метрикам полноты (precision=0,93) и точности (recall=0,96). Ошибок почти нет. "
   ]
  },
  {
   "cell_type": "markdown",
   "id": "a2286a2f-8435-4fc4-94df-93849adc7c45",
   "metadata": {},
   "source": [
    "Взглянем на таблицу истинных значений и предсказаний."
   ]
  },
  {
   "cell_type": "code",
   "execution_count": 95,
   "id": "4823fe5a-fd3f-49d4-be40-13a8536cac3e",
   "metadata": {},
   "outputs": [
    {
     "data": {
      "text/html": [
       "<div>\n",
       "<style scoped>\n",
       "    .dataframe tbody tr th:only-of-type {\n",
       "        vertical-align: middle;\n",
       "    }\n",
       "\n",
       "    .dataframe tbody tr th {\n",
       "        vertical-align: top;\n",
       "    }\n",
       "\n",
       "    .dataframe thead th {\n",
       "        text-align: right;\n",
       "    }\n",
       "</style>\n",
       "<table border=\"1\" class=\"dataframe\">\n",
       "  <thead>\n",
       "    <tr style=\"text-align: right;\">\n",
       "      <th></th>\n",
       "      <th>test</th>\n",
       "      <th>prediction</th>\n",
       "    </tr>\n",
       "  </thead>\n",
       "  <tbody>\n",
       "    <tr>\n",
       "      <th>0</th>\n",
       "      <td>0</td>\n",
       "      <td>0</td>\n",
       "    </tr>\n",
       "    <tr>\n",
       "      <th>1</th>\n",
       "      <td>1</td>\n",
       "      <td>1</td>\n",
       "    </tr>\n",
       "    <tr>\n",
       "      <th>2</th>\n",
       "      <td>0</td>\n",
       "      <td>0</td>\n",
       "    </tr>\n",
       "    <tr>\n",
       "      <th>3</th>\n",
       "      <td>0</td>\n",
       "      <td>0</td>\n",
       "    </tr>\n",
       "    <tr>\n",
       "      <th>4</th>\n",
       "      <td>1</td>\n",
       "      <td>1</td>\n",
       "    </tr>\n",
       "    <tr>\n",
       "      <th>5</th>\n",
       "      <td>0</td>\n",
       "      <td>0</td>\n",
       "    </tr>\n",
       "    <tr>\n",
       "      <th>6</th>\n",
       "      <td>0</td>\n",
       "      <td>0</td>\n",
       "    </tr>\n",
       "  </tbody>\n",
       "</table>\n",
       "</div>"
      ],
      "text/plain": [
       "   test  prediction\n",
       "0     0           0\n",
       "1     1           1\n",
       "2     0           0\n",
       "3     0           0\n",
       "4     1           1\n",
       "5     0           0\n",
       "6     0           0"
      ]
     },
     "execution_count": 95,
     "metadata": {},
     "output_type": "execute_result"
    }
   ],
   "source": [
    "pd.DataFrame(zip(y_test, y_pred_test), columns=['test', 'prediction']).head(7)\n"
   ]
  },
  {
   "cell_type": "markdown",
   "id": "91b2de2f-2c2e-4990-a5ae-a9f955d0cfb1",
   "metadata": {},
   "source": [
    "## Выводы"
   ]
  },
  {
   "cell_type": "markdown",
   "id": "ca434c17-cdd0-4a0e-b556-455c61ebe57b",
   "metadata": {},
   "source": [
    "*Таким образом, данные загружены и изучены, проведен частотный анализ слов. Датафрэйм с комментариями преобразованы в эмбеддинги с помощью модели toxic-bert. Эмбеддинги собраны в матрицу размером 159270 х 512. Часть эмбеддингов потеряна при токенизации батчами, два процента эмбеддингов обрезаны до 512 токенов.*\n",
    "\n",
    "*На этой матрице обучены четыре модели: DummyClassifier, LogisticRegression, CatBoost, DistilBERT (нейронная сеть). \"Тупая\" модель c предсказаниями наименьшего класса показала метрику F1=0,184.*\n",
    "\n",
    "*Лучшее качество показала модель CatBoost {'min_data_in_leaf': 1, 'learning_rate': 0.1, 'l2_leaf_reg': 5, 'grow_policy': 'Lossguide', 'depth': 7, 'border_count': 254} с метрикой F1 = 0,95.*\n",
    "\n",
    "*Модель полностью и точно определяет практически все токсичные комментарии. Именно создание эмбеддингов на toxic-bert привело к хорошему качеству модели.*\n",
    "\n",
    "*По итогу проекта выведена часть таблицы с истинными и предсказанными метками токсичности.*"
   ]
  },
  {
   "cell_type": "markdown",
   "id": "f7391a54-9ba2-43a1-99a9-944b11c43442",
   "metadata": {},
   "source": [
    "## Чек-лист проверки"
   ]
  },
  {
   "cell_type": "markdown",
   "id": "77fa3cb9-0d17-4d14-94f2-2e0874bf75e9",
   "metadata": {},
   "source": [
    "- [x]  Jupyter Notebook открыт\n",
    "- [x]  Весь код выполняется без ошибок\n",
    "- [ ]  Ячейки с кодом расположены в порядке исполнения\n",
    "- [ ]  Данные загружены и подготовлены\n",
    "- [ ]  Модели обучены\n",
    "- [ ]  Значение метрики *F1* не меньше 0.75\n",
    "- [ ]  Выводы написаны"
   ]
  },
  {
   "cell_type": "code",
   "execution_count": 97,
   "id": "910191d3-2d6a-40bf-adbf-d24bd80b6e77",
   "metadata": {},
   "outputs": [
    {
     "name": "stdout",
     "output_type": "stream",
     "text": [
      "Время выполнения кода 124.47 минут\n"
     ]
    }
   ],
   "source": [
    "print('Время выполнения кода',round((time.time() - start_1)/60,2), 'минут')"
   ]
  },
  {
   "cell_type": "code",
   "execution_count": null,
   "id": "80b9ea7c-b86f-4fb1-8bc9-274506bb1720",
   "metadata": {},
   "outputs": [],
   "source": []
  }
 ],
 "metadata": {
  "kernelspec": {
   "display_name": "Python 3 (ipykernel)",
   "language": "python",
   "name": "python3"
  },
  "language_info": {
   "codemirror_mode": {
    "name": "ipython",
    "version": 3
   },
   "file_extension": ".py",
   "mimetype": "text/x-python",
   "name": "python",
   "nbconvert_exporter": "python",
   "pygments_lexer": "ipython3",
   "version": "3.11.2"
  },
  "toc": {
   "base_numbering": 1,
   "nav_menu": {},
   "number_sections": true,
   "sideBar": true,
   "skip_h1_title": true,
   "title_cell": "Table of Contents",
   "title_sidebar": "Contents",
   "toc_cell": false,
   "toc_position": {},
   "toc_section_display": true,
   "toc_window_display": false
  }
 },
 "nbformat": 4,
 "nbformat_minor": 5
}
